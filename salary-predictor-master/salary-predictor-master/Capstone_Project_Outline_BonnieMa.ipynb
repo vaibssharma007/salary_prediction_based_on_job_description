{
 "cells": [
  {
   "cell_type": "markdown",
   "metadata": {},
   "source": [
    "# Job Salary Prediction for Analytics Professionals"
   ]
  },
  {
   "cell_type": "markdown",
   "metadata": {},
   "source": [
    "**Bonnie Ma**\n",
    "\n"
   ]
  },
  {
   "cell_type": "markdown",
   "metadata": {},
   "source": [
    "## Overview"
   ]
  },
  {
   "cell_type": "markdown",
   "metadata": {},
   "source": [
    "One of the most important things in Job Search is knowing where you are right now and where you want to go next. The mindset of a job seeker or a career switcher is very much like a product manager, trying to find the best product and market fit. Smart product managers know what their customers (HR/Hiring Managers) want. So they carefully find out their needs which are expressed through top qualifications, \"what you must have\", in the job descriptions. After identifying what is commonly needed in the market they try to customize their products aka resumes, cover letters, online profiles, portfolios to demonstrate these characteristics and traits as much as possible. This project is to help you to be that smart product manager and tell you what qualities and top skills the market desires and a step further, help you navigate the salary negotiation and make the best choice! \n",
    "\n",
    "How? This project will scrap 1000+ jobs in data/analytics fields in major U.S. cities and information such as job title, company, company review, city, job description, salary range will be used to generate insights about certain job category. And then combining with other factors such as employment/unemployment rate, Cost of living index, median salary by occupation, a predictive model will be built to predict the salary, and give job seeker more information on location choices.  "
   ]
  },
  {
   "cell_type": "markdown",
   "metadata": {},
   "source": [
    "## Data Sources"
   ]
  },
  {
   "cell_type": "markdown",
   "metadata": {},
   "source": [
    "- Indeed.com, 10,000+ jobs were scrapped from Indeed.com \n",
    "- Cost of Living Indexes by City"
   ]
  },
  {
   "cell_type": "markdown",
   "metadata": {},
   "source": [
    "## Question answered"
   ]
  },
  {
   "cell_type": "markdown",
   "metadata": {},
   "source": [
    "- Most common keywords indicated in the job description (Data Analyst, Data Scientist, Data Engineers, Business Intelligence, Machine Learning, Business Analyst)\n",
    "- Salary prediction using JUST job description text"
   ]
  },
  {
   "cell_type": "markdown",
   "metadata": {},
   "source": [
    "## Data Science Process  (CRISP-DM)"
   ]
  },
  {
   "cell_type": "markdown",
   "metadata": {},
   "source": [
    "### Business Understanding\n",
    "This project aims to predict salary for specific fields - data related positions. Therefore, the training and test data is better to be limited within data/analytics related job positions to get more valuable features. When scrapping the data, we make sure one of these keywords exist in the whole job description: 'data analytics','data science','analysis'.\n",
    "\n",
    "### Data Understanding\n",
    "Among 10,000+ jobs scrapped from Indeed.com, only 8% of them have an explicit salary tag attached to the position. We decided to only use the 963 entries for the modeling process. \n",
    "\n",
    "We explored the data by using word cloud to understand the common keywords appeared in the job description, and create visualization on salary and location to understand the distribution. The full data preparation and EDA notebook is here. \n",
    "\n",
    "### Data Preparation\n",
    "Several steps are envolved in the data preparation step:\n",
    "* Clean salary data and make sure they are all converted to a yearly rate. If salary is a range, use the average. Then create salary bins for modeling purpose. \n",
    "* Clean location data so that all jobs are in city/DMA level, not zipcode, or county\n",
    "* Initial cleaning on job description text: remove stopwords and special characters, tokenize sentences into words\n",
    "\n",
    "### Modeling\n",
    "\n",
    "7 models were built and tuned to get the best performing classification model. These 7 models are basically the  combination of vectorization/embedding techniques + machine learning/deep learning models. You can find the detailed explanation and code in the Modeling notebook. \n",
    "\n",
    "* Model 1: Count Vectorizer + TF-IDF Transformation + Classification Models (Random Forest/SGD/SVM)\n",
    "* Model 2: Word2Vec Embedding + Classification Models (Random Forest/SGD)\n",
    "* Model 3: Pre-trained GloVe Embedding + Classification Models (Random Forest/SGD)\n",
    "* Model 4: Word Embeddings + Simple Neural Network Model\n",
    "* Model 5: Pre-trained GloVe Embedding + Deep Neural Network Model\n",
    "* Model 6: Mixed Input Network Model with City, Rate Type, and Cost of Living Indexes\n",
    "* Model 7: Just use Job Title, City, Cost of Living Indexes + Classification\n",
    "\n",
    "### Evaluation\n",
    "\n",
    "Train/Test Accuracy is the primarily metrics to evaluate the classification models. We also take processing time, reusability of the model into consideration. Our best performing model is surprising Model 1 with the highest accuracy (0.71) and shortest processing time. \n",
    "\n",
    "### Deployment\n",
    "\n",
    "To make this tool accessible to non-technical users, I created a flask app and deployed to heroku here: https://data-job-salary-predictor.herokuapp.com/predict. Users can just copy a full job description in data related fields and paste here to get the salary range. "
   ]
  },
  {
   "cell_type": "markdown",
   "metadata": {},
   "source": [
    "### Limitation and Future Consideration\n",
    "\n",
    "1. Job salary range can change from time to time depends on economic situation and job market. Therefore the model needs to be constantly trained with refreshed data to produce up to date results. Most of the positions were pulled in late May 2020 when COVID19 impacted North America so the salary range during this period of time may not reflect the \"normal\". \n",
    "\n",
    "2. We scrapped the full job description from Indeed as there is no standard way to parse out company detail, skills requirements and benefits so there are noises within the job description text to extract features. \n",
    "\n",
    "3. The size of the salary labeled data is small. In the future, scrape more data with salary to enhance the model."
   ]
  },
  {
   "cell_type": "markdown",
   "metadata": {},
   "source": [
    "### Resources"
   ]
  },
  {
   "cell_type": "markdown",
   "metadata": {},
   "source": [
    "- Cost of Living Calculation: https://www.investopedia.com/ask/answers/100214/how-cost-living-index-calculated.asp\n",
    "\n",
    "- Highest Paying Cities for Data Scientist Jobs: https://www.ziprecruiter.com/Salaries/Highest-Paying-Data-Scientist-Salary-by-City\n",
    "\n",
    "- Top 10 cities hiring data scientist: https://medium.com/@ODSC/top-10-cities-hiring-data-scientists-in-the-u-s-64078f747826\n",
    "- Mixed inputs in NN: https://www.pyimagesearch.com/2019/02/04/keras-multiple-inputs-and-mixed-data/\n",
    "- https://arxiv.org/pdf/1912.12214.pdf\n",
    "- Similar projects(predict whether salary is above or under median) https://medium.com/@msalmon00/analysis-of-web-scraped-job-data-to-predict-relative-salaries-c7237954184a\n",
    "- Similar projects: http://fastml.com/predicting-advertised-salaries/\n",
    "- https://medium.com/digitalfineprint/how-to-predict-a-salary-using-a-job-ad-description-4d029f780a5c\n",
    "- Kaggle Competition: https://www.kaggle.com/c/job-salary-prediction/data\n",
    "- Kaggle Salary prediction: https://github.com/Newmu/Salary-Prediction\n",
    "- Make Predictions with Keras: https://machinelearningmastery.com/how-to-make-classification-and-regression-predictions-for-deep-learning-models-in-keras/\n",
    "- Deloy to Heroku: https://github.com/zachwill/flask_heroku\n",
    "- Save network model: https://machinelearningmastery.com/save-load-keras-deep-learning-models/\n",
    "- Save machine learning model: https://machinelearningmastery.com/save-load-machine-learning-models-python-scikit-learn/\n",
    "\n"
   ]
  }
 ],
 "metadata": {
  "kernelspec": {
   "display_name": "Python 3",
   "language": "python",
   "name": "python3"
  },
  "language_info": {
   "codemirror_mode": {
    "name": "ipython",
    "version": 3
   },
   "file_extension": ".py",
   "mimetype": "text/x-python",
   "name": "python",
   "nbconvert_exporter": "python",
   "pygments_lexer": "ipython3",
   "version": "3.7.1"
  },
  "toc": {
   "base_numbering": "",
   "nav_menu": {},
   "number_sections": false,
   "sideBar": true,
   "skip_h1_title": false,
   "title_cell": "Table of Contents",
   "title_sidebar": "Contents",
   "toc_cell": false,
   "toc_position": {},
   "toc_section_display": true,
   "toc_window_display": true
  },
  "varInspector": {
   "cols": {
    "lenName": "20",
    "lenType": 16,
    "lenVar": 40
   },
   "kernels_config": {
    "python": {
     "delete_cmd_postfix": "",
     "delete_cmd_prefix": "del ",
     "library": "var_list.py",
     "varRefreshCmd": "print(var_dic_list())"
    },
    "r": {
     "delete_cmd_postfix": ") ",
     "delete_cmd_prefix": "rm(",
     "library": "var_list.r",
     "varRefreshCmd": "cat(var_dic_list()) "
    }
   },
   "types_to_exclude": [
    "module",
    "function",
    "builtin_function_or_method",
    "instance",
    "_Feature"
   ],
   "window_display": true
  }
 },
 "nbformat": 4,
 "nbformat_minor": 2
}
