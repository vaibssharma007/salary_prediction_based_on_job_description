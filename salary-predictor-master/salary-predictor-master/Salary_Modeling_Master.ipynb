{
 "cells": [
  {
   "cell_type": "markdown",
   "metadata": {
    "toc": true
   },
   "source": [
    "<h1>Table of Contents<span class=\"tocSkip\"></span></h1>\n",
    "<div class=\"toc\"><ul class=\"toc-item\"><li><span><a href=\"#Modeling\" data-toc-modified-id=\"Modeling-1\"><span class=\"toc-item-num\">1&nbsp;&nbsp;</span>Modeling</a></span><ul class=\"toc-item\"><li><span><a href=\"#Import-Libraries-and-the-final-salary-data-set\" data-toc-modified-id=\"Import-Libraries-and-the-final-salary-data-set-1.1\"><span class=\"toc-item-num\">1.1&nbsp;&nbsp;</span>Import Libraries and the final salary data set</a></span><ul class=\"toc-item\"><li><span><a href=\"#Set-up-data-and-target\" data-toc-modified-id=\"Set-up-data-and-target-1.1.1\"><span class=\"toc-item-num\">1.1.1&nbsp;&nbsp;</span>Set up data and target</a></span><ul class=\"toc-item\"><li><span><a href=\"#Train-Test-Split\" data-toc-modified-id=\"Train-Test-Split-1.1.1.1\"><span class=\"toc-item-num\">1.1.1.1&nbsp;&nbsp;</span>Train-Test Split</a></span></li></ul></li></ul></li><li><span><a href=\"#Model-1:--Use-Word2Vec-Embedding-in-Classification-Models\" data-toc-modified-id=\"Model-1:--Use-Word2Vec-Embedding-in-Classification-Models-1.2\"><span class=\"toc-item-num\">1.2&nbsp;&nbsp;</span>Model 1:  Use Word2Vec Embedding in Classification Models</a></span><ul class=\"toc-item\"><li><span><a href=\"#Word2Vec-Model-from-scratch\" data-toc-modified-id=\"Word2Vec-Model-from-scratch-1.2.1\"><span class=\"toc-item-num\">1.2.1&nbsp;&nbsp;</span>Word2Vec Model from scratch</a></span></li><li><span><a href=\"#Use-Word2Vec-in-the-pipeline\" data-toc-modified-id=\"Use-Word2Vec-in-the-pipeline-1.2.2\"><span class=\"toc-item-num\">1.2.2&nbsp;&nbsp;</span>Use Word2Vec in the pipeline</a></span></li><li><span><a href=\"#Prediction-Probability-of-each-bin\" data-toc-modified-id=\"Prediction-Probability-of-each-bin-1.2.3\"><span class=\"toc-item-num\">1.2.3&nbsp;&nbsp;</span>Prediction Probability of each bin</a></span></li><li><span><a href=\"#Random-Forest-with-Grid-Search\" data-toc-modified-id=\"Random-Forest-with-Grid-Search-1.2.4\"><span class=\"toc-item-num\">1.2.4&nbsp;&nbsp;</span>Random Forest with Grid Search</a></span></li><li><span><a href=\"#SGD-with-Grid-Search\" data-toc-modified-id=\"SGD-with-Grid-Search-1.2.5\"><span class=\"toc-item-num\">1.2.5&nbsp;&nbsp;</span>SGD with Grid Search</a></span></li></ul></li><li><span><a href=\"#Model-2:-Count-vectorizer-+-TF-IDF-with-GridSearch\" data-toc-modified-id=\"Model-2:-Count-vectorizer-+-TF-IDF-with-GridSearch-1.3\"><span class=\"toc-item-num\">1.3&nbsp;&nbsp;</span>Model 2: Count vectorizer + TF-IDF with GridSearch</a></span><ul class=\"toc-item\"><li><span><a href=\"#Train-Test-Split\" data-toc-modified-id=\"Train-Test-Split-1.3.1\"><span class=\"toc-item-num\">1.3.1&nbsp;&nbsp;</span>Train-Test Split</a></span></li><li><span><a href=\"#SGD-Classifier-with-Grid-Search\" data-toc-modified-id=\"SGD-Classifier-with-Grid-Search-1.3.2\"><span class=\"toc-item-num\">1.3.2&nbsp;&nbsp;</span>SGD Classifier with Grid Search</a></span><ul class=\"toc-item\"><li><span><a href=\"#Confusion-Matrix\" data-toc-modified-id=\"Confusion-Matrix-1.3.2.1\"><span class=\"toc-item-num\">1.3.2.1&nbsp;&nbsp;</span>Confusion Matrix</a></span></li></ul></li><li><span><a href=\"#Random-Forest-Classifier-with-Grid-Search\" data-toc-modified-id=\"Random-Forest-Classifier-with-Grid-Search-1.3.3\"><span class=\"toc-item-num\">1.3.3&nbsp;&nbsp;</span>Random Forest Classifier with Grid Search</a></span></li></ul></li><li><span><a href=\"#Model-3:-Use-Pretrained-GloVe-Model\" data-toc-modified-id=\"Model-3:-Use-Pretrained-GloVe-Model-1.4\"><span class=\"toc-item-num\">1.4&nbsp;&nbsp;</span>Model 3: Use Pretrained GloVe Model</a></span><ul class=\"toc-item\"><li><ul class=\"toc-item\"><li><span><a href=\"#Getting-the-Total-Vocabulary\" data-toc-modified-id=\"Getting-the-Total-Vocabulary-1.4.0.1\"><span class=\"toc-item-num\">1.4.0.1&nbsp;&nbsp;</span>Getting the Total Vocabulary</a></span></li></ul></li><li><span><a href=\"#Random-Forest-with-Grid-Search\" data-toc-modified-id=\"Random-Forest-with-Grid-Search-1.4.1\"><span class=\"toc-item-num\">1.4.1&nbsp;&nbsp;</span>Random Forest with Grid Search</a></span></li><li><span><a href=\"#SGD-Classifier-in-the-pipeline\" data-toc-modified-id=\"SGD-Classifier-in-the-pipeline-1.4.2\"><span class=\"toc-item-num\">1.4.2&nbsp;&nbsp;</span>SGD Classifier in the pipeline</a></span></li></ul></li><li><span><a href=\"#Model-4:-Deep-Learning-Models-with-Word-Embeddings\" data-toc-modified-id=\"Model-4:-Deep-Learning-Models-with-Word-Embeddings-1.5\"><span class=\"toc-item-num\">1.5&nbsp;&nbsp;</span>Model 4: Deep Learning Models with Word Embeddings</a></span><ul class=\"toc-item\"><li><span><a href=\"#Word-Embedding\" data-toc-modified-id=\"Word-Embedding-1.5.1\"><span class=\"toc-item-num\">1.5.1&nbsp;&nbsp;</span>Word Embedding</a></span><ul class=\"toc-item\"><li><span><a href=\"#Train-Test-Split\" data-toc-modified-id=\"Train-Test-Split-1.5.1.1\"><span class=\"toc-item-num\">1.5.1.1&nbsp;&nbsp;</span>Train-Test Split</a></span></li></ul></li><li><span><a href=\"#Create-a-base-model\" data-toc-modified-id=\"Create-a-base-model-1.5.2\"><span class=\"toc-item-num\">1.5.2&nbsp;&nbsp;</span>Create a base model</a></span></li><li><span><a href=\"#Hyperparameter-tuning-on-a-regular-embedding-layer\" data-toc-modified-id=\"Hyperparameter-tuning-on-a-regular-embedding-layer-1.5.3\"><span class=\"toc-item-num\">1.5.3&nbsp;&nbsp;</span>Hyperparameter tuning on a regular embedding layer</a></span></li></ul></li><li><span><a href=\"#Model-5:-Use-pre-trained-Word2Vec-as-the-embedding-layer\" data-toc-modified-id=\"Model-5:-Use-pre-trained-Word2Vec-as-the-embedding-layer-1.6\"><span class=\"toc-item-num\">1.6&nbsp;&nbsp;</span>Model 5: Use pre-trained Word2Vec as the embedding layer</a></span><ul class=\"toc-item\"><li><ul class=\"toc-item\"><li><span><a href=\"#Tuning-the-model\" data-toc-modified-id=\"Tuning-the-model-1.6.0.1\"><span class=\"toc-item-num\">1.6.0.1&nbsp;&nbsp;</span>Tuning the model</a></span></li><li><span><a href=\"#Grid-Search\" data-toc-modified-id=\"Grid-Search-1.6.0.2\"><span class=\"toc-item-num\">1.6.0.2&nbsp;&nbsp;</span>Grid Search</a></span></li></ul></li><li><span><a href=\"#Try-Count-Vectorizer-and-TFIDF-in-Deep-Learning-Models-with-Grid-Search\" data-toc-modified-id=\"Try-Count-Vectorizer-and-TFIDF-in-Deep-Learning-Models-with-Grid-Search-1.6.1\"><span class=\"toc-item-num\">1.6.1&nbsp;&nbsp;</span>Try Count Vectorizer and TFIDF in Deep Learning Models with Grid Search</a></span><ul class=\"toc-item\"><li><span><a href=\"#Grid-Search\" data-toc-modified-id=\"Grid-Search-1.6.1.1\"><span class=\"toc-item-num\">1.6.1.1&nbsp;&nbsp;</span>Grid Search</a></span></li></ul></li></ul></li><li><span><a href=\"#Model-6:-Mixed-Input-Model-with-City,-Rate-Type-and-Cost-of-Living-Indexes\" data-toc-modified-id=\"Model-6:-Mixed-Input-Model-with-City,-Rate-Type-and-Cost-of-Living-Indexes-1.7\"><span class=\"toc-item-num\">1.7&nbsp;&nbsp;</span>Model 6: Mixed Input Model with City, Rate Type and Cost of Living Indexes</a></span><ul class=\"toc-item\"><li><ul class=\"toc-item\"><li><span><a href=\"#Explore-continuous-variables-and-categorical-variables\" data-toc-modified-id=\"Explore-continuous-variables-and-categorical-variables-1.7.0.1\"><span class=\"toc-item-num\">1.7.0.1&nbsp;&nbsp;</span>Explore continuous variables and categorical variables</a></span></li></ul></li><li><span><a href=\"#Put-them-together\" data-toc-modified-id=\"Put-them-together-1.7.1\"><span class=\"toc-item-num\">1.7.1&nbsp;&nbsp;</span>Put them together</a></span></li><li><span><a href=\"#Try-Word2Vec-Embedding-in-Mixed-Input-Model\" data-toc-modified-id=\"Try-Word2Vec-Embedding-in-Mixed-Input-Model-1.7.2\"><span class=\"toc-item-num\">1.7.2&nbsp;&nbsp;</span>Try Word2Vec Embedding in Mixed Input Model</a></span></li></ul></li><li><span><a href=\"#Model-7:-Use-Job-Title-along-with-City,-Cost-of-Living-Index-in-Classification-Models\" data-toc-modified-id=\"Model-7:-Use-Job-Title-along-with-City,-Cost-of-Living-Index-in-Classification-Models-1.8\"><span class=\"toc-item-num\">1.8&nbsp;&nbsp;</span>Model 7: Use Job Title along with City, Cost of Living Index in Classification Models</a></span><ul class=\"toc-item\"><li><span><a href=\"#Explore-Title\" data-toc-modified-id=\"Explore-Title-1.8.1\"><span class=\"toc-item-num\">1.8.1&nbsp;&nbsp;</span>Explore Title</a></span></li><li><span><a href=\"#Random-Forest-as-base-model\" data-toc-modified-id=\"Random-Forest-as-base-model-1.8.2\"><span class=\"toc-item-num\">1.8.2&nbsp;&nbsp;</span>Random Forest as base model</a></span></li><li><span><a href=\"#XGBoost\" data-toc-modified-id=\"XGBoost-1.8.3\"><span class=\"toc-item-num\">1.8.3&nbsp;&nbsp;</span>XGBoost</a></span></li></ul></li></ul></li><li><span><a href=\"#Conclusion\" data-toc-modified-id=\"Conclusion-2\"><span class=\"toc-item-num\">2&nbsp;&nbsp;</span>Conclusion</a></span></li></ul></div>"
   ]
  },
  {
   "cell_type": "markdown",
   "metadata": {
    "colab_type": "text",
    "id": "LPrg-wLJde1r"
   },
   "source": [
    "# Modeling"
   ]
  },
  {
   "cell_type": "markdown",
   "metadata": {
    "colab_type": "text",
    "id": "dkTX4ZxFde1s"
   },
   "source": [
    "## Import Libraries and the final salary data set"
   ]
  },
  {
   "cell_type": "code",
   "execution_count": 1,
   "metadata": {
    "colab": {},
    "colab_type": "code",
    "id": "KgjYcXBGde1t"
   },
   "outputs": [
    {
     "name": "stderr",
     "output_type": "stream",
     "text": [
      "Using TensorFlow backend.\n",
      "/Applications/anaconda3/lib/python3.7/site-packages/tensorflow/python/framework/dtypes.py:526: FutureWarning: Passing (type, 1) or '1type' as a synonym of type is deprecated; in a future version of numpy, it will be understood as (type, (1,)) / '(1,)type'.\n",
      "  _np_qint8 = np.dtype([(\"qint8\", np.int8, 1)])\n",
      "/Applications/anaconda3/lib/python3.7/site-packages/tensorflow/python/framework/dtypes.py:527: FutureWarning: Passing (type, 1) or '1type' as a synonym of type is deprecated; in a future version of numpy, it will be understood as (type, (1,)) / '(1,)type'.\n",
      "  _np_quint8 = np.dtype([(\"quint8\", np.uint8, 1)])\n",
      "/Applications/anaconda3/lib/python3.7/site-packages/tensorflow/python/framework/dtypes.py:528: FutureWarning: Passing (type, 1) or '1type' as a synonym of type is deprecated; in a future version of numpy, it will be understood as (type, (1,)) / '(1,)type'.\n",
      "  _np_qint16 = np.dtype([(\"qint16\", np.int16, 1)])\n",
      "/Applications/anaconda3/lib/python3.7/site-packages/tensorflow/python/framework/dtypes.py:529: FutureWarning: Passing (type, 1) or '1type' as a synonym of type is deprecated; in a future version of numpy, it will be understood as (type, (1,)) / '(1,)type'.\n",
      "  _np_quint16 = np.dtype([(\"quint16\", np.uint16, 1)])\n",
      "/Applications/anaconda3/lib/python3.7/site-packages/tensorflow/python/framework/dtypes.py:530: FutureWarning: Passing (type, 1) or '1type' as a synonym of type is deprecated; in a future version of numpy, it will be understood as (type, (1,)) / '(1,)type'.\n",
      "  _np_qint32 = np.dtype([(\"qint32\", np.int32, 1)])\n",
      "/Applications/anaconda3/lib/python3.7/site-packages/tensorflow/python/framework/dtypes.py:535: FutureWarning: Passing (type, 1) or '1type' as a synonym of type is deprecated; in a future version of numpy, it will be understood as (type, (1,)) / '(1,)type'.\n",
      "  np_resource = np.dtype([(\"resource\", np.ubyte, 1)])\n"
     ]
    }
   ],
   "source": [
    "import time\n",
    "import nltk\n",
    "from nltk.corpus import stopwords\n",
    "\n",
    "#NLP\n",
    "from nltk import word_tokenize, FreqDist\n",
    "from nltk.corpus import stopwords\n",
    "from nltk.collocations import *\n",
    "import string, re\n",
    "from gensim.models import Word2Vec\n",
    "from sklearn.manifold import TSNE\n",
    "from sklearn.feature_extraction.text import TfidfVectorizer\n",
    "\n",
    "#Model Data Prep\n",
    "from sklearn.model_selection import train_test_split\n",
    "from sklearn.preprocessing import StandardScaler, OneHotEncoder\n",
    "from sklearn.impute import SimpleImputer\n",
    "\n",
    "#Machine Learning\n",
    "from sklearn.metrics import accuracy_score, f1_score, mean_squared_error, r2_score\n",
    "from sklearn.ensemble import RandomForestRegressor, RandomForestClassifier\n",
    "from sklearn.ensemble import GradientBoostingClassifier\n",
    "from sklearn.decomposition import PCA\n",
    "from sklearn.svm import SVC\n",
    "from sklearn.svm import SVR\n",
    "from sklearn.linear_model import LinearRegression, SGDClassifier\n",
    "from sklearn.pipeline import Pipeline\n",
    "from sklearn.model_selection import cross_val_score\n",
    "from sklearn.model_selection import GridSearchCV\n",
    "from sklearn.metrics import confusion_matrix\n",
    "\n",
    "#Deep learning\n",
    "from keras.preprocessing.sequence import pad_sequences\n",
    "from keras.layers import Input, Dense, LSTM, Embedding\n",
    "from keras.layers import Dropout, Activation, Bidirectional, GlobalMaxPool1D\n",
    "from keras.layers.convolutional import Conv1D, Conv2D\n",
    "from keras.layers.convolutional import MaxPooling1D, MaxPooling2D\n",
    "from keras.models import Sequential\n",
    "from keras import initializers, regularizers, constraints, optimizers, layers\n",
    "from keras.preprocessing import text, sequence\n",
    "from keras.layers import Flatten\n",
    "from keras.utils import to_categorical\n",
    "from keras.callbacks import EarlyStopping\n",
    "from keras import regularizers\n",
    "from keras.wrappers.scikit_learn import KerasClassifier #to use Keras in sklearn\n",
    "\n",
    "#Deep Learning - Mixed inputs\n",
    "from keras.layers.normalization import BatchNormalization\n",
    "from keras.layers.core import Activation\n",
    "from keras.layers.core import Dropout\n",
    "from keras.layers.core import Dense\n",
    "from keras.layers import Flatten\n",
    "from keras.layers import Input\n",
    "from keras.models import Model\n",
    "from keras.layers import concatenate\n",
    "from keras.optimizers import Adam, RMSprop\n",
    "\n",
    "#Save Model\n",
    "import pickle\n",
    "\n",
    "import matplotlib.pyplot as plt\n",
    "\n",
    "from pprint import pprint\n",
    "from time import time\n",
    "import logging\n",
    "\n",
    "import pandas as pd\n",
    "import numpy as np\n",
    "import seaborn as sns\n",
    "import matplotlib.pyplot as plt\n",
    "\n",
    "%matplotlib inline\n",
    "np.random.seed(0)"
   ]
  },
  {
   "cell_type": "code",
   "execution_count": 2,
   "metadata": {
    "colab": {
     "base_uri": "https://localhost:8080/",
     "height": 74,
     "resources": {
      "http://localhost:8080/nbextensions/google.colab/files.js": {
       "data": "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",
       "headers": [
        [
         "content-type",
         "application/javascript"
        ]
       ],
       "ok": true,
       "status": 200,
       "status_text": ""
      }
     }
    },
    "colab_type": "code",
    "executionInfo": {
     "elapsed": 59741,
     "status": "ok",
     "timestamp": 1590874287738,
     "user": {
      "displayName": "Bonnie Ma",
      "photoUrl": "https://lh3.googleusercontent.com/a-/AOh14Gj0duL5aTKrqBP362PgHUpwQ_3yTA5e2b6MsV-F=s64",
      "userId": "16062141668243618164"
     },
     "user_tz": 240
    },
    "id": "-RDL6eIhde1z",
    "outputId": "2a0b36ca-82b0-49c9-8be4-f873db17024f"
   },
   "outputs": [],
   "source": [
    "salary_df = pd.read_csv(\"salary_final.csv\")"
   ]
  },
  {
   "cell_type": "code",
   "execution_count": 3,
   "metadata": {},
   "outputs": [
    {
     "name": "stdout",
     "output_type": "stream",
     "text": [
      "<class 'pandas.core.frame.DataFrame'>\n",
      "RangeIndex: 1008 entries, 0 to 1007\n",
      "Data columns (total 25 columns):\n",
      "Unnamed: 0                        1008 non-null int64\n",
      "Unnamed: 0.1                      1008 non-null int64\n",
      "Title                             1008 non-null object\n",
      "Company                           1008 non-null object\n",
      "Link                              1008 non-null object\n",
      "Review                            1008 non-null object\n",
      "Salary                            1008 non-null object\n",
      "Description                       1008 non-null object\n",
      "Location2                         1003 non-null object\n",
      "Rate_by                           1008 non-null object\n",
      "low                               1008 non-null object\n",
      "high                              798 non-null object\n",
      "min                               1008 non-null float64\n",
      "max                               1008 non-null float64\n",
      "adjusted_salary                   1008 non-null float64\n",
      "adjusted_yearly_salary            1008 non-null float64\n",
      "Rank                              938 non-null float64\n",
      "City                              938 non-null object\n",
      "Cost of Living Index              938 non-null float64\n",
      "Rent Index                        938 non-null float64\n",
      "Cost of Living Plus Rent Index    938 non-null float64\n",
      "Groceries Index                   938 non-null float64\n",
      "Restaurant Price Index            938 non-null float64\n",
      "Local Purchasing Power Index      938 non-null float64\n",
      "combined_text                     1008 non-null object\n",
      "dtypes: float64(11), int64(2), object(12)\n",
      "memory usage: 197.0+ KB\n"
     ]
    }
   ],
   "source": [
    "salary_df.info()"
   ]
  },
  {
   "cell_type": "code",
   "execution_count": 4,
   "metadata": {
    "colab": {
     "base_uri": "https://localhost:8080/",
     "height": 164
    },
    "colab_type": "code",
    "executionInfo": {
     "elapsed": 516,
     "status": "error",
     "timestamp": 1590873846701,
     "user": {
      "displayName": "Bonnie Ma",
      "photoUrl": "https://lh3.googleusercontent.com/a-/AOh14Gj0duL5aTKrqBP362PgHUpwQ_3yTA5e2b6MsV-F=s64",
      "userId": "16062141668243618164"
     },
     "user_tz": 240
    },
    "id": "f1wMqzFmde12",
    "outputId": "b7f2da49-6002-4e28-df06-e7968d5057ad"
   },
   "outputs": [],
   "source": [
    "salary_df = salary_df.drop_duplicates(subset=\"Link\", keep='first')"
   ]
  },
  {
   "cell_type": "code",
   "execution_count": 5,
   "metadata": {
    "colab": {},
    "colab_type": "code",
    "id": "EDxA_PQ7de17",
    "outputId": "73bd1b11-06c0-4c18-a2f1-a7548002b7b3"
   },
   "outputs": [
    {
     "data": {
      "text/plain": [
       "array([[<matplotlib.axes._subplots.AxesSubplot object at 0x110ce7be0>]],\n",
       "      dtype=object)"
      ]
     },
     "execution_count": 5,
     "metadata": {},
     "output_type": "execute_result"
    },
    {
     "data": {
      "image/png": "[encoded data removed]",
      "text/plain": [
       "<Figure size 432x288 with 1 Axes>"
      ]
     },
     "metadata": {
      "needs_background": "light"
     },
     "output_type": "display_data"
    }
   ],
   "source": [
    "salary_df.hist('adjusted_yearly_salary')"
   ]
  },
  {
   "cell_type": "code",
   "execution_count": 6,
   "metadata": {
    "colab": {},
    "colab_type": "code",
    "id": "m5sKPx_Ide1_",
    "outputId": "611794c0-0337-4cd6-bdde-c977c4909b18"
   },
   "outputs": [
    {
     "data": {
      "text/plain": [
       "352500.0"
      ]
     },
     "execution_count": 6,
     "metadata": {},
     "output_type": "execute_result"
    }
   ],
   "source": [
    "salary_df['adjusted_yearly_salary'].max() - salary_df['adjusted_yearly_salary'].min()"
   ]
  },
  {
   "cell_type": "markdown",
   "metadata": {
    "colab_type": "text",
    "id": "JZbWB7hbde2C"
   },
   "source": [
    "Salary bins: [< 50,000, 50,000-75,000, 75,000-100,000, 100,000-125,000, 125,000-150,000, 150,000-175,000, 175,000-200,000, 200,000-225,000, 225,000-250,000, >250,000]"
   ]
  },
  {
   "cell_type": "code",
   "execution_count": 7,
   "metadata": {
    "colab": {},
    "colab_type": "code",
    "id": "Hd-3IVznde2D",
    "outputId": "1b484a63-d4fb-43d0-baa5-c06f4456e0ed"
   },
   "outputs": [
    {
     "data": {
      "text/plain": [
       "0.000000     10000.000000\n",
       "0.166667     54026.666667\n",
       "0.333333     70000.000000\n",
       "0.500000     90000.000000\n",
       "0.666667    114400.000000\n",
       "0.833333    145600.000000\n",
       "1.000000    362500.000000\n",
       "Name: adjusted_yearly_salary, dtype: float64"
      ]
     },
     "execution_count": 7,
     "metadata": {},
     "output_type": "execute_result"
    }
   ],
   "source": [
    "salary_df['adjusted_yearly_salary'].quantile(list(np.linspace(0,1,7)))"
   ]
  },
  {
   "cell_type": "code",
   "execution_count": 8,
   "metadata": {
    "colab": {},
    "colab_type": "code",
    "id": "aVZgrcgvde2G"
   },
   "outputs": [],
   "source": [
    "#Create Bins\n",
    "BINS = [0,50000,70000,90000,120000,150000,400000]"
   ]
  },
  {
   "cell_type": "code",
   "execution_count": 9,
   "metadata": {
    "colab": {},
    "colab_type": "code",
    "id": "G5DgQQK_de2J"
   },
   "outputs": [],
   "source": [
    "salary_df['Salary_Bins'] = pd.cut(x=salary_df['adjusted_yearly_salary'], bins=BINS, labels=False)"
   ]
  },
  {
   "cell_type": "code",
   "execution_count": 10,
   "metadata": {
    "colab": {},
    "colab_type": "code",
    "id": "R3nP4LoVde2M",
    "outputId": "51fbccda-f6c1-4745-9215-7612f2d783ac"
   },
   "outputs": [
    {
     "data": {
      "text/plain": [
       "0       5\n",
       "2       1\n",
       "4       0\n",
       "6       2\n",
       "8       3\n",
       "       ..\n",
       "1003    3\n",
       "1004    3\n",
       "1005    3\n",
       "1006    2\n",
       "1007    2\n",
       "Name: Salary_Bins, Length: 963, dtype: int64"
      ]
     },
     "execution_count": 10,
     "metadata": {},
     "output_type": "execute_result"
    }
   ],
   "source": [
    "salary_df['Salary_Bins']"
   ]
  },
  {
   "cell_type": "code",
   "execution_count": 11,
   "metadata": {},
   "outputs": [],
   "source": [
    "salary_df.to_csv(\"salary_final_2.csv\")"
   ]
  },
  {
   "cell_type": "code",
   "execution_count": 12,
   "metadata": {
    "colab": {},
    "colab_type": "code",
    "id": "rXB4mFKPde2P",
    "outputId": "171cbcc6-7848-486f-ff92-65ee4c2d162a"
   },
   "outputs": [
    {
     "data": {
      "text/plain": [
       "<matplotlib.axes._subplots.AxesSubplot at 0x13f28a320>"
      ]
     },
     "execution_count": 12,
     "metadata": {},
     "output_type": "execute_result"
    },
    {
     "data": {
      "image/png": "[encoded data removed]",
      "text/plain": [
       "<Figure size 432x288 with 1 Axes>"
      ]
     },
     "metadata": {
      "needs_background": "light"
     },
     "output_type": "display_data"
    }
   ],
   "source": [
    "salary_df.groupby('Salary_Bins')['Location2'].count().plot.bar()"
   ]
  },
  {
   "cell_type": "code",
   "execution_count": 13,
   "metadata": {
    "colab": {},
    "colab_type": "code",
    "id": "8mQWqLklde2R"
   },
   "outputs": [],
   "source": [
    "#Categorical target\n",
    "target_class = salary_df['Salary_Bins'].astype('category')"
   ]
  },
  {
   "cell_type": "code",
   "execution_count": 14,
   "metadata": {},
   "outputs": [],
   "source": [
    "def clean_word(job_descriptions):\n",
    "    jd_data=[]\n",
    "    pattern = \"([a-zA-Z]+(?:'[a-z]+)?)\"\n",
    "    stopwords_list = stopwords.words('english')\n",
    "    stopwords_list += list(string.punctuation)\n",
    "    stopwords_list += ['0', '1', '2', '3', '4', '5', '6', '7', '8', '9']\n",
    "    stopwords_list += ['www','http','com','llc','covid','non','pm','am','eg','e','g','ie','i']\n",
    "    \n",
    "    for jd in job_descriptions:\n",
    "        jd_tokens_raw = nltk.regexp_tokenize(jd, pattern)\n",
    "        jd_tokens=[word.lower() for word in jd_tokens_raw]\n",
    "        jd_words_stopped = [word for word in jd_tokens if word not in stopwords_list]\n",
    "        jd_data.append(jd_words_stopped)\n",
    "\n",
    "    return pd.Series(jd_data) # Turn list of lists to series of lists to use in Word2Vec"
   ]
  },
  {
   "cell_type": "code",
   "execution_count": 15,
   "metadata": {},
   "outputs": [],
   "source": [
    "data = clean_word(salary_df['combined_text'])"
   ]
  },
  {
   "cell_type": "code",
   "execution_count": 16,
   "metadata": {},
   "outputs": [
    {
     "data": {
      "text/plain": [
       "['data',\n",
       " 'scientist',\n",
       " 'job',\n",
       " 'summary',\n",
       " 'nsa',\n",
       " 'search',\n",
       " 'computer',\n",
       " 'science',\n",
       " 'professionals',\n",
       " 'solve',\n",
       " 'complex',\n",
       " 'problems',\n",
       " 'test',\n",
       " 'innovative',\n",
       " 'approaches',\n",
       " 'research',\n",
       " 'new',\n",
       " 'solutions',\n",
       " 'storing',\n",
       " 'manipulating',\n",
       " 'presenting',\n",
       " 'information',\n",
       " 'looking',\n",
       " 'apply',\n",
       " 'computer',\n",
       " 'science',\n",
       " 'expertise',\n",
       " 'projects',\n",
       " 'seek',\n",
       " 'create',\n",
       " 'new',\n",
       " 'standards',\n",
       " 'transformation',\n",
       " 'information',\n",
       " 'want',\n",
       " 'develop',\n",
       " 'technologies',\n",
       " 'tools',\n",
       " 'part',\n",
       " 'cutting',\n",
       " 'edge',\n",
       " 'innovations',\n",
       " 'join',\n",
       " 'team',\n",
       " 'experts',\n",
       " 'help',\n",
       " 'protect',\n",
       " 'national',\n",
       " 'security',\n",
       " 'interests',\n",
       " 'part',\n",
       " \"world's\",\n",
       " 'advanced',\n",
       " 'team',\n",
       " 'computer',\n",
       " 'science',\n",
       " 'professionals',\n",
       " 'qualifications',\n",
       " 'candidates',\n",
       " \"nsa's\",\n",
       " 'data',\n",
       " 'scientist',\n",
       " 'roles',\n",
       " 'asked',\n",
       " 'complete',\n",
       " 'data',\n",
       " 'science',\n",
       " 'examination',\n",
       " 'evaluating',\n",
       " 'knowledge',\n",
       " 'statistics',\n",
       " 'mathematics',\n",
       " 'computer',\n",
       " 'science',\n",
       " 'topics',\n",
       " 'pertain',\n",
       " 'data',\n",
       " 'science',\n",
       " 'work',\n",
       " 'passing',\n",
       " 'examination',\n",
       " 'requirement',\n",
       " 'order',\n",
       " 'considered',\n",
       " 'selection',\n",
       " 'data',\n",
       " 'scientist',\n",
       " 'position',\n",
       " 'salary',\n",
       " 'range',\n",
       " 'entry',\n",
       " 'developmental',\n",
       " 'qualifications',\n",
       " 'listed',\n",
       " 'minimum',\n",
       " 'acceptable',\n",
       " 'considered',\n",
       " 'position',\n",
       " 'salary',\n",
       " 'offers',\n",
       " 'based',\n",
       " 'candidates',\n",
       " 'education',\n",
       " 'level',\n",
       " 'years',\n",
       " 'experience',\n",
       " 'relevant',\n",
       " 'position',\n",
       " 'also',\n",
       " 'take',\n",
       " 'account',\n",
       " 'information',\n",
       " 'provided',\n",
       " 'hiring',\n",
       " 'manager',\n",
       " 'organization',\n",
       " 'regarding',\n",
       " 'work',\n",
       " 'level',\n",
       " 'position',\n",
       " 'entry',\n",
       " \"bachelor's\",\n",
       " 'degree',\n",
       " 'experience',\n",
       " \"associate's\",\n",
       " 'degree',\n",
       " 'plus',\n",
       " 'years',\n",
       " 'relevant',\n",
       " 'experience',\n",
       " 'may',\n",
       " 'considered',\n",
       " 'individuals',\n",
       " 'depth',\n",
       " 'experience',\n",
       " 'clearly',\n",
       " 'related',\n",
       " 'position',\n",
       " 'degree',\n",
       " 'must',\n",
       " 'mathematics',\n",
       " 'applied',\n",
       " 'mathematics',\n",
       " 'statistics',\n",
       " 'applied',\n",
       " 'statistics',\n",
       " 'machine',\n",
       " 'learning',\n",
       " 'data',\n",
       " 'science',\n",
       " 'operations',\n",
       " 'research',\n",
       " 'computer',\n",
       " 'science',\n",
       " 'degree',\n",
       " 'related',\n",
       " 'field',\n",
       " 'computer',\n",
       " 'information',\n",
       " 'systems',\n",
       " 'engineering',\n",
       " 'degree',\n",
       " 'physical',\n",
       " 'hard',\n",
       " 'sciences',\n",
       " 'physics',\n",
       " 'chemistry',\n",
       " 'biology',\n",
       " 'astronomy',\n",
       " 'science',\n",
       " 'disciplines',\n",
       " 'behavioral',\n",
       " 'social',\n",
       " 'life',\n",
       " 'may',\n",
       " 'considered',\n",
       " 'includes',\n",
       " 'concentration',\n",
       " 'coursework',\n",
       " 'typically',\n",
       " 'courses',\n",
       " 'advanced',\n",
       " 'mathematics',\n",
       " 'typically',\n",
       " 'level',\n",
       " 'higher',\n",
       " 'calculus',\n",
       " 'differential',\n",
       " 'equations',\n",
       " 'discrete',\n",
       " 'mathematics',\n",
       " 'computer',\n",
       " 'science',\n",
       " 'algorithms',\n",
       " 'programming',\n",
       " 'data',\n",
       " 'structures',\n",
       " 'data',\n",
       " 'mining',\n",
       " 'artificial',\n",
       " 'intelligence',\n",
       " 'college',\n",
       " 'level',\n",
       " 'algebra',\n",
       " 'math',\n",
       " 'courses',\n",
       " 'intended',\n",
       " 'meet',\n",
       " 'basic',\n",
       " 'college',\n",
       " 'level',\n",
       " 'requirement',\n",
       " 'upper',\n",
       " 'level',\n",
       " 'math',\n",
       " 'courses',\n",
       " 'designated',\n",
       " 'elementary',\n",
       " 'basic',\n",
       " 'count',\n",
       " 'note',\n",
       " 'broader',\n",
       " 'range',\n",
       " 'degrees',\n",
       " 'considered',\n",
       " 'accompanied',\n",
       " 'certificate',\n",
       " 'data',\n",
       " 'science',\n",
       " 'accredited',\n",
       " 'college',\n",
       " 'university',\n",
       " 'relevant',\n",
       " 'experience',\n",
       " 'must',\n",
       " 'designing',\n",
       " 'implementing',\n",
       " 'machine',\n",
       " 'learning',\n",
       " 'data',\n",
       " 'mining',\n",
       " 'advanced',\n",
       " 'analytical',\n",
       " 'algorithms',\n",
       " 'programming',\n",
       " 'data',\n",
       " 'science',\n",
       " 'advanced',\n",
       " 'statistical',\n",
       " 'analysis',\n",
       " 'artificial',\n",
       " 'intelligence',\n",
       " 'software',\n",
       " 'engineering',\n",
       " 'experience',\n",
       " 'one',\n",
       " 'area',\n",
       " 'strongly',\n",
       " 'preferred',\n",
       " 'salary',\n",
       " 'range',\n",
       " 'full',\n",
       " 'performance',\n",
       " 'qualifications',\n",
       " 'listed',\n",
       " 'minimum',\n",
       " 'acceptable',\n",
       " 'considered',\n",
       " 'position',\n",
       " 'salary',\n",
       " 'offers',\n",
       " 'based',\n",
       " 'candidates',\n",
       " 'education',\n",
       " 'level',\n",
       " 'years',\n",
       " 'experience',\n",
       " 'relevant',\n",
       " 'position',\n",
       " 'also',\n",
       " 'take',\n",
       " 'account',\n",
       " 'information',\n",
       " 'provided',\n",
       " 'hiring',\n",
       " 'manager',\n",
       " 'organization',\n",
       " 'regarding',\n",
       " 'work',\n",
       " 'level',\n",
       " 'position',\n",
       " 'entry',\n",
       " \"bachelor's\",\n",
       " 'degree',\n",
       " 'plus',\n",
       " 'years',\n",
       " 'relevant',\n",
       " 'experience',\n",
       " \"master's\",\n",
       " 'degree',\n",
       " 'plus',\n",
       " 'year',\n",
       " 'relevant',\n",
       " 'experience',\n",
       " 'doctoral',\n",
       " 'degree',\n",
       " 'experience',\n",
       " \"associate's\",\n",
       " 'degree',\n",
       " 'plus',\n",
       " 'years',\n",
       " 'relevant',\n",
       " 'experience',\n",
       " 'may',\n",
       " 'considered',\n",
       " 'individuals',\n",
       " 'depth',\n",
       " 'experience',\n",
       " 'clearly',\n",
       " 'related',\n",
       " 'position',\n",
       " 'degree',\n",
       " 'must',\n",
       " 'mathematics',\n",
       " 'applied',\n",
       " 'mathematics',\n",
       " 'statistics',\n",
       " 'applied',\n",
       " 'statistics',\n",
       " 'machine',\n",
       " 'learning',\n",
       " 'data',\n",
       " 'science',\n",
       " 'operations',\n",
       " 'research',\n",
       " 'computer',\n",
       " 'science',\n",
       " 'degree',\n",
       " 'related',\n",
       " 'field',\n",
       " 'computer',\n",
       " 'information',\n",
       " 'systems',\n",
       " 'engineering',\n",
       " 'degree',\n",
       " 'physical',\n",
       " 'hard',\n",
       " 'sciences',\n",
       " 'physics',\n",
       " 'chemistry',\n",
       " 'biology',\n",
       " 'astronomy',\n",
       " 'science',\n",
       " 'disciplines',\n",
       " 'behavioral',\n",
       " 'social',\n",
       " 'life',\n",
       " 'may',\n",
       " 'considered',\n",
       " 'includes',\n",
       " 'concentration',\n",
       " 'coursework',\n",
       " 'typically',\n",
       " 'courses',\n",
       " 'advanced',\n",
       " 'mathematics',\n",
       " 'typically',\n",
       " 'level',\n",
       " 'higher',\n",
       " 'calculus',\n",
       " 'differential',\n",
       " 'equations',\n",
       " 'discrete',\n",
       " 'mathematics',\n",
       " 'computer',\n",
       " 'science',\n",
       " 'algorithms',\n",
       " 'programming',\n",
       " 'data',\n",
       " 'structures',\n",
       " 'data',\n",
       " 'mining',\n",
       " 'artificial',\n",
       " 'intelligence',\n",
       " 'college',\n",
       " 'level',\n",
       " 'algebra',\n",
       " 'math',\n",
       " 'courses',\n",
       " 'intended',\n",
       " 'meet',\n",
       " 'basic',\n",
       " 'college',\n",
       " 'level',\n",
       " 'requirement',\n",
       " 'upper',\n",
       " 'level',\n",
       " 'math',\n",
       " 'courses',\n",
       " 'designated',\n",
       " 'elementary',\n",
       " 'basic',\n",
       " 'count',\n",
       " 'note',\n",
       " 'broader',\n",
       " 'range',\n",
       " 'degrees',\n",
       " 'considered',\n",
       " 'accompanied',\n",
       " 'certificate',\n",
       " 'data',\n",
       " 'science',\n",
       " 'accredited',\n",
       " 'college',\n",
       " 'university',\n",
       " 'relevant',\n",
       " 'experience',\n",
       " 'must',\n",
       " 'two',\n",
       " 'following',\n",
       " 'designing',\n",
       " 'implementing',\n",
       " 'machine',\n",
       " 'learning',\n",
       " 'data',\n",
       " 'mining',\n",
       " 'advanced',\n",
       " 'analytical',\n",
       " 'algorithms',\n",
       " 'programming',\n",
       " 'data',\n",
       " 'science',\n",
       " 'advanced',\n",
       " 'statistical',\n",
       " 'analysis',\n",
       " 'artificial',\n",
       " 'intelligence',\n",
       " 'software',\n",
       " 'engineering',\n",
       " 'salary',\n",
       " 'range',\n",
       " 'senior',\n",
       " 'qualifications',\n",
       " 'listed',\n",
       " 'minimum',\n",
       " 'acceptable',\n",
       " 'considered',\n",
       " 'position',\n",
       " 'salary',\n",
       " 'offers',\n",
       " 'based',\n",
       " 'candidates',\n",
       " 'education',\n",
       " 'level',\n",
       " 'years',\n",
       " 'experience',\n",
       " 'relevant',\n",
       " 'position',\n",
       " 'also',\n",
       " 'take',\n",
       " 'account',\n",
       " 'information',\n",
       " 'provided',\n",
       " 'hiring',\n",
       " 'manager',\n",
       " 'organization',\n",
       " 'regarding',\n",
       " 'work',\n",
       " 'level',\n",
       " 'position',\n",
       " 'entry',\n",
       " \"bachelor's\",\n",
       " 'degree',\n",
       " 'plus',\n",
       " 'years',\n",
       " 'relevant',\n",
       " 'experience',\n",
       " \"master's\",\n",
       " 'degree',\n",
       " 'plus',\n",
       " 'years',\n",
       " 'relevant',\n",
       " 'experience',\n",
       " 'doctoral',\n",
       " 'degree',\n",
       " 'plus',\n",
       " 'years',\n",
       " 'relevant',\n",
       " 'experience',\n",
       " \"associate's\",\n",
       " 'degree',\n",
       " 'plus',\n",
       " 'years',\n",
       " 'relevant',\n",
       " 'experience',\n",
       " 'may',\n",
       " 'considered',\n",
       " 'individuals',\n",
       " 'depth',\n",
       " 'experience',\n",
       " 'clearly',\n",
       " 'related',\n",
       " 'position',\n",
       " 'degree',\n",
       " 'must',\n",
       " 'mathematics',\n",
       " 'applied',\n",
       " 'mathematics',\n",
       " 'statistics',\n",
       " 'applied',\n",
       " 'statistics',\n",
       " 'machine',\n",
       " 'learning',\n",
       " 'data',\n",
       " 'science',\n",
       " 'operations',\n",
       " 'research',\n",
       " 'computer',\n",
       " 'science',\n",
       " 'degree',\n",
       " 'related',\n",
       " 'field',\n",
       " 'computer',\n",
       " 'information',\n",
       " 'systems',\n",
       " 'engineering',\n",
       " 'degree',\n",
       " 'physical',\n",
       " 'hard',\n",
       " 'sciences',\n",
       " 'physics',\n",
       " 'chemistry',\n",
       " 'biology',\n",
       " 'astronomy',\n",
       " 'science',\n",
       " 'disciplines',\n",
       " 'behavioral',\n",
       " 'social',\n",
       " 'life',\n",
       " 'may',\n",
       " 'considered',\n",
       " 'includes',\n",
       " 'concentration',\n",
       " 'coursework',\n",
       " 'typically',\n",
       " 'courses',\n",
       " 'advanced',\n",
       " 'mathematics',\n",
       " 'typically',\n",
       " 'level',\n",
       " 'higher',\n",
       " 'calculus',\n",
       " 'differential',\n",
       " 'equations',\n",
       " 'discrete',\n",
       " 'mathematics',\n",
       " 'computer',\n",
       " 'science',\n",
       " 'algorithms',\n",
       " 'programming',\n",
       " 'data',\n",
       " 'structures',\n",
       " 'data',\n",
       " 'mining',\n",
       " 'artificial',\n",
       " 'intelligence',\n",
       " 'college',\n",
       " 'level',\n",
       " 'algebra',\n",
       " 'math',\n",
       " 'courses',\n",
       " 'intended',\n",
       " 'meet',\n",
       " 'basic',\n",
       " 'college',\n",
       " 'level',\n",
       " 'requirement',\n",
       " 'upper',\n",
       " 'level',\n",
       " 'math',\n",
       " 'courses',\n",
       " 'designated',\n",
       " 'elementary',\n",
       " 'basic',\n",
       " 'count',\n",
       " 'note',\n",
       " 'broader',\n",
       " 'range',\n",
       " 'degrees',\n",
       " 'considered',\n",
       " 'accompanied',\n",
       " 'certificate',\n",
       " 'data',\n",
       " 'science',\n",
       " 'accredited',\n",
       " 'college',\n",
       " 'university',\n",
       " 'relevant',\n",
       " 'experience',\n",
       " 'must',\n",
       " 'two',\n",
       " 'following',\n",
       " 'designing',\n",
       " 'implementing',\n",
       " 'machine',\n",
       " 'learning',\n",
       " 'data',\n",
       " 'mining',\n",
       " 'advanced',\n",
       " 'analytical',\n",
       " 'algorithms',\n",
       " 'programming',\n",
       " 'data',\n",
       " 'science',\n",
       " 'advanced',\n",
       " 'statistical',\n",
       " 'analysis',\n",
       " 'artificial',\n",
       " 'intelligence',\n",
       " 'software',\n",
       " 'engineering',\n",
       " 'salary',\n",
       " 'range',\n",
       " 'expert',\n",
       " 'qualifications',\n",
       " 'listed',\n",
       " 'minimum',\n",
       " 'acceptable',\n",
       " 'considered',\n",
       " 'position',\n",
       " 'salary',\n",
       " 'offers',\n",
       " 'based',\n",
       " 'candidates',\n",
       " 'education',\n",
       " 'level',\n",
       " 'years',\n",
       " 'experience',\n",
       " 'relevant',\n",
       " 'position',\n",
       " 'also',\n",
       " 'take',\n",
       " 'account',\n",
       " 'information',\n",
       " 'provided',\n",
       " 'hiring',\n",
       " 'manager',\n",
       " 'organization',\n",
       " 'regarding',\n",
       " 'work',\n",
       " 'level',\n",
       " 'position',\n",
       " 'entry',\n",
       " \"bachelor's\",\n",
       " 'degree',\n",
       " 'plus',\n",
       " 'years',\n",
       " 'relevant',\n",
       " 'experience',\n",
       " \"master's\",\n",
       " 'degree',\n",
       " 'plus',\n",
       " 'years',\n",
       " 'relevant',\n",
       " 'experience',\n",
       " 'doctoral',\n",
       " 'degree',\n",
       " 'plus',\n",
       " 'years',\n",
       " 'relevant',\n",
       " 'experience',\n",
       " \"associate's\",\n",
       " 'degree',\n",
       " 'plus',\n",
       " 'years',\n",
       " 'relevant',\n",
       " 'experience',\n",
       " 'may',\n",
       " 'considered',\n",
       " 'individuals',\n",
       " 'depth',\n",
       " 'experience',\n",
       " 'clearly',\n",
       " 'related',\n",
       " 'position',\n",
       " 'degree',\n",
       " 'must',\n",
       " 'mathematics',\n",
       " 'applied',\n",
       " 'mathematics',\n",
       " 'statistics',\n",
       " 'applied',\n",
       " 'statistics',\n",
       " 'machine',\n",
       " 'learning',\n",
       " 'data',\n",
       " 'science',\n",
       " 'operations',\n",
       " 'research',\n",
       " 'computer',\n",
       " 'science',\n",
       " 'degree',\n",
       " 'related',\n",
       " 'field',\n",
       " 'computer',\n",
       " 'information',\n",
       " 'systems',\n",
       " 'engineering',\n",
       " 'degree',\n",
       " 'physical',\n",
       " 'hard',\n",
       " 'sciences',\n",
       " 'physics',\n",
       " 'chemistry',\n",
       " 'biology',\n",
       " 'astronomy',\n",
       " 'science',\n",
       " 'disciplines',\n",
       " 'behavioral',\n",
       " 'social',\n",
       " 'life',\n",
       " 'may',\n",
       " 'considered',\n",
       " 'includes',\n",
       " 'concentration',\n",
       " 'coursework',\n",
       " 'typically',\n",
       " 'courses',\n",
       " 'advanced',\n",
       " 'mathematics',\n",
       " 'typically',\n",
       " 'level',\n",
       " 'higher',\n",
       " 'calculus',\n",
       " 'differential',\n",
       " 'equations',\n",
       " 'discrete',\n",
       " 'mathematics',\n",
       " 'computer',\n",
       " 'science',\n",
       " 'algorithms',\n",
       " 'programming',\n",
       " 'data',\n",
       " 'structures',\n",
       " 'data',\n",
       " 'mining',\n",
       " 'artificial',\n",
       " 'intelligence',\n",
       " 'college',\n",
       " 'level',\n",
       " 'algebra',\n",
       " 'math',\n",
       " 'courses',\n",
       " 'intended',\n",
       " 'meet',\n",
       " 'basic',\n",
       " 'college',\n",
       " 'level',\n",
       " 'requirement',\n",
       " 'upper',\n",
       " 'level',\n",
       " 'math',\n",
       " 'courses',\n",
       " 'designated',\n",
       " 'elementary',\n",
       " 'basic',\n",
       " 'count',\n",
       " 'note',\n",
       " 'broader',\n",
       " 'range',\n",
       " 'degrees',\n",
       " 'considered',\n",
       " 'accompanied',\n",
       " 'certificate',\n",
       " 'data',\n",
       " 'science',\n",
       " 'accredited',\n",
       " 'college',\n",
       " 'university',\n",
       " 'relevant',\n",
       " 'experience',\n",
       " 'must',\n",
       " 'two',\n",
       " 'following',\n",
       " 'designing',\n",
       " 'implementing',\n",
       " 'machine',\n",
       " 'learning',\n",
       " 'data',\n",
       " 'mining',\n",
       " 'advanced',\n",
       " 'analytical',\n",
       " 'algorithms',\n",
       " 'programming',\n",
       " 'data',\n",
       " 'science',\n",
       " 'advanced',\n",
       " 'statistical',\n",
       " 'analysis',\n",
       " 'artificial',\n",
       " 'intelligence',\n",
       " 'software',\n",
       " 'engineering',\n",
       " 'competencies',\n",
       " 'ideal',\n",
       " 'candidate',\n",
       " 'someone',\n",
       " 'desire',\n",
       " 'continual',\n",
       " 'learning',\n",
       " 'strong',\n",
       " 'problem',\n",
       " 'solving',\n",
       " 'analytic',\n",
       " 'interpersonal',\n",
       " 'skills',\n",
       " 'might',\n",
       " 'great',\n",
       " 'fit',\n",
       " 'team',\n",
       " 'following',\n",
       " 'describe',\n",
       " 'completed',\n",
       " 'degree',\n",
       " 'program',\n",
       " 'fields',\n",
       " 'mathematics',\n",
       " 'statistics',\n",
       " 'computer',\n",
       " 'science',\n",
       " 'computational',\n",
       " 'sciences',\n",
       " 'passion',\n",
       " 'rigorous',\n",
       " 'analysis',\n",
       " 'data',\n",
       " 'tenacity',\n",
       " 'integrity',\n",
       " 'persistence',\n",
       " 'willingness',\n",
       " 'learn',\n",
       " 'ability',\n",
       " 'solve',\n",
       " 'complex',\n",
       " 'problems',\n",
       " 'use',\n",
       " 'critical',\n",
       " 'thinking',\n",
       " 'reasoning',\n",
       " 'make',\n",
       " 'analytic',\n",
       " 'determinations',\n",
       " 'works',\n",
       " 'effectively',\n",
       " 'collaborative',\n",
       " 'environment',\n",
       " 'strong',\n",
       " 'communications',\n",
       " 'skills',\n",
       " 'technical',\n",
       " 'technical',\n",
       " 'audiences',\n",
       " 'desire',\n",
       " 'serve',\n",
       " 'million',\n",
       " 'fellow',\n",
       " 'americans',\n",
       " 'make',\n",
       " 'difference',\n",
       " 'world',\n",
       " 'events',\n",
       " 'pay',\n",
       " 'benefits',\n",
       " 'work',\n",
       " 'schedule',\n",
       " 'job',\n",
       " 'training',\n",
       " 'internal',\n",
       " 'nsa',\n",
       " 'courses',\n",
       " 'external',\n",
       " 'training',\n",
       " 'made',\n",
       " 'available',\n",
       " 'based',\n",
       " 'need',\n",
       " 'experience',\n",
       " 'selectee',\n",
       " 'monday',\n",
       " 'friday',\n",
       " 'basic',\n",
       " 'hr',\n",
       " 'day',\n",
       " 'requirements',\n",
       " 'flexible',\n",
       " 'apply',\n",
       " 'apply',\n",
       " 'position',\n",
       " 'please',\n",
       " 'click',\n",
       " 'apply',\n",
       " 'button',\n",
       " 'located',\n",
       " 'top',\n",
       " 'right',\n",
       " 'posting',\n",
       " 'completing',\n",
       " 'application',\n",
       " 'first',\n",
       " 'time',\n",
       " 'reviewing',\n",
       " 'previously',\n",
       " 'entered',\n",
       " 'information',\n",
       " 'clicking',\n",
       " 'submit',\n",
       " 'button',\n",
       " 'receive',\n",
       " 'confirmation',\n",
       " 'email',\n",
       " 'please',\n",
       " 'ensure',\n",
       " 'spam',\n",
       " 'filters',\n",
       " 'configured',\n",
       " 'accept',\n",
       " 'emails',\n",
       " 'noreply',\n",
       " 'intelligencecareers',\n",
       " 'gov',\n",
       " 'please',\n",
       " 'note',\n",
       " 'u',\n",
       " 'citizenship',\n",
       " 'required',\n",
       " 'applicants',\n",
       " 'reasonable',\n",
       " 'accommodations',\n",
       " 'provided',\n",
       " 'applicants',\n",
       " 'disabilities',\n",
       " 'application',\n",
       " 'hiring',\n",
       " 'process',\n",
       " 'appropriate',\n",
       " 'nsa',\n",
       " 'equal',\n",
       " 'opportunity',\n",
       " 'employer',\n",
       " 'abides',\n",
       " 'applicable',\n",
       " 'employment',\n",
       " 'laws',\n",
       " 'regulations',\n",
       " 'applicants',\n",
       " 'employees',\n",
       " 'subject',\n",
       " 'random',\n",
       " 'drug',\n",
       " 'testing',\n",
       " 'accordance',\n",
       " 'executive',\n",
       " 'order',\n",
       " 'employment',\n",
       " 'contingent',\n",
       " 'upon',\n",
       " 'successful',\n",
       " 'completion',\n",
       " 'security',\n",
       " 'background',\n",
       " 'investigation',\n",
       " 'polygraph',\n",
       " 'position',\n",
       " 'defense',\n",
       " 'civilian',\n",
       " 'intelligence',\n",
       " 'personnel',\n",
       " 'system',\n",
       " 'dcips',\n",
       " 'position',\n",
       " 'excepted',\n",
       " 'service',\n",
       " 'u',\n",
       " 'c',\n",
       " 'dod',\n",
       " 'components',\n",
       " 'dcips',\n",
       " 'positions',\n",
       " 'apply',\n",
       " 'veterans',\n",
       " 'preference',\n",
       " 'eligible',\n",
       " 'candidates',\n",
       " 'defined',\n",
       " 'section',\n",
       " 'title',\n",
       " 'usc',\n",
       " 'accordance',\n",
       " 'procedures',\n",
       " 'provided',\n",
       " ...]"
      ]
     },
     "execution_count": 16,
     "metadata": {},
     "output_type": "execute_result"
    }
   ],
   "source": [
    "data[5]"
   ]
  },
  {
   "cell_type": "markdown",
   "metadata": {},
   "source": [
    "### Set up data and target"
   ]
  },
  {
   "cell_type": "code",
   "execution_count": 17,
   "metadata": {
    "colab": {},
    "colab_type": "code",
    "id": "d3CTDfDQde2W"
   },
   "outputs": [],
   "source": [
    "data = clean_word(salary_df['combined_text'])\n",
    "#target = salary_df['adjusted_yearly_salary'] #continuous target\n",
    "target_class = salary_df['Salary_Bins'].astype('category') #categorical target"
   ]
  },
  {
   "cell_type": "markdown",
   "metadata": {},
   "source": [
    "#### Train-Test Split\n",
    "\n",
    "data is tokenized job description, target_class is salary classes. "
   ]
  },
  {
   "cell_type": "code",
   "execution_count": 53,
   "metadata": {},
   "outputs": [],
   "source": [
    "X_train, X_test, y_train, y_test = train_test_split(data, target_class, test_size=0.1, random_state=4)"
   ]
  },
  {
   "cell_type": "markdown",
   "metadata": {
    "colab_type": "text",
    "id": "ulhtwoNAde2Z"
   },
   "source": [
    "## Model 1:  Use Word2Vec Embedding in Classification Models"
   ]
  },
  {
   "cell_type": "markdown",
   "metadata": {
    "colab_type": "text",
    "id": "FxXpOkfxde2Z"
   },
   "source": [
    "We are going to use Word2Vec model in this section. Word2vec is a group of related models that are used to produce word embeddings. These models are shallow, two-layer neural networks that are trained to reconstruct linguistic contexts of words. Word2vec takes as its input a large corpus of text and produces a vector space, typically of several hundred dimensions, with each unique word in the corpus being assigned a corresponding vector in the space. Word vectors are positioned in the vector space such that words that share common contexts in the corpus are located close to one another in the space.\n",
    "\n",
    "We need to specify following parameter to the model:\n",
    "* the `size` of the word vectors we want to learn \n",
    "* the `window` size to use when training the model\n",
    "* `min_count`, which corresponds to the minimum number of times a word must be used in the corpus in order to be included in the training (for instance, `min_count=5` would only learn word embeddings for words that appear 5 or more times throughout the entire training set)\n",
    "* `workers`, the number of threads to use for training, which can speed up processing (`4` is typically used, since most processors nowadays have at least 4 cores)"
   ]
  },
  {
   "cell_type": "code",
   "execution_count": 19,
   "metadata": {
    "colab": {},
    "colab_type": "code",
    "id": "lNyuoEtbde2a",
    "outputId": "9345c09a-c451-4c32-a380-fc5ed50dafed"
   },
   "outputs": [
    {
     "data": {
      "text/plain": [
       "['data',\n",
       " 'scientist',\n",
       " 'position',\n",
       " 'requires',\n",
       " 'top',\n",
       " 'secret',\n",
       " 'ts',\n",
       " 'sci',\n",
       " 'clearance',\n",
       " 'polygraph',\n",
       " 'estimated',\n",
       " 'salary',\n",
       " 'position',\n",
       " 'level',\n",
       " 'level',\n",
       " 'subject',\n",
       " 'matter',\n",
       " 'expert',\n",
       " 'salary',\n",
       " 'range',\n",
       " 'per',\n",
       " 'year',\n",
       " 'b',\n",
       " 'corp',\n",
       " 'estimated',\n",
       " 'salary',\n",
       " 'ranges',\n",
       " 'position',\n",
       " 'level',\n",
       " 'min',\n",
       " 'salary',\n",
       " 'max',\n",
       " 'salary',\n",
       " 'level',\n",
       " 'subject',\n",
       " 'matter',\n",
       " 'expert',\n",
       " 'level',\n",
       " 'expert',\n",
       " 'level',\n",
       " 'senior',\n",
       " 'level',\n",
       " 'full',\n",
       " 'performance',\n",
       " 'mandatory',\n",
       " 'requirements',\n",
       " 'java',\n",
       " 'development',\n",
       " 'experience',\n",
       " 'production',\n",
       " 'environment',\n",
       " 'required',\n",
       " 'software',\n",
       " 'developer',\n",
       " 'list',\n",
       " 'years',\n",
       " 'experience',\n",
       " 'demonstrated',\n",
       " 'job',\n",
       " 'experience',\n",
       " 'troubleshooting',\n",
       " 'user',\n",
       " 'issues',\n",
       " 'list',\n",
       " 'years',\n",
       " 'experience',\n",
       " 'demonstrated',\n",
       " 'job',\n",
       " 'experience',\n",
       " 'writing',\n",
       " 'system',\n",
       " 'automation',\n",
       " 'scripts',\n",
       " 'linux',\n",
       " 'environment',\n",
       " 'using',\n",
       " 'tools',\n",
       " 'bash',\n",
       " 'sh',\n",
       " 'python',\n",
       " 'ruby',\n",
       " 'perl',\n",
       " 'list',\n",
       " 'years',\n",
       " 'experience',\n",
       " 'demonstrated',\n",
       " 'job',\n",
       " 'experience',\n",
       " 'installing',\n",
       " 'configuring',\n",
       " 'patching',\n",
       " 'troubleshooting',\n",
       " 'rhel',\n",
       " 'based',\n",
       " 'sl',\n",
       " 'redhat',\n",
       " 'centos',\n",
       " 'linux',\n",
       " 'os',\n",
       " 'list',\n",
       " 'years',\n",
       " 'experience',\n",
       " 'demonstrated',\n",
       " 'job',\n",
       " 'experience',\n",
       " 'installing',\n",
       " 'configuring',\n",
       " 'patching',\n",
       " 'troubleshooting',\n",
       " 'middleware',\n",
       " 'components',\n",
       " 'linux',\n",
       " 'environment',\n",
       " 'mysql',\n",
       " 'tomcat',\n",
       " 'apache',\n",
       " 'etc',\n",
       " 'list',\n",
       " 'years',\n",
       " 'experience',\n",
       " 'strong',\n",
       " 'writing',\n",
       " 'speaking',\n",
       " 'editing',\n",
       " 'skills',\n",
       " 'along',\n",
       " 'ability',\n",
       " 'utilize',\n",
       " 'internal',\n",
       " 'social',\n",
       " 'media',\n",
       " 'tools',\n",
       " 'help',\n",
       " 'messaging',\n",
       " 'promotion',\n",
       " 'marketing',\n",
       " 'list',\n",
       " 'years',\n",
       " 'experience',\n",
       " 'ability',\n",
       " 'organize',\n",
       " 'prioritize',\n",
       " 'tight',\n",
       " 'deadlines',\n",
       " 'list',\n",
       " 'years',\n",
       " 'experience',\n",
       " 'system',\n",
       " 'engineering',\n",
       " 'experience',\n",
       " 'production',\n",
       " 'environment',\n",
       " 'required',\n",
       " 'system',\n",
       " 'engineer',\n",
       " 'list',\n",
       " 'years',\n",
       " 'experience',\n",
       " 'system',\n",
       " 'administration',\n",
       " 'experience',\n",
       " 'production',\n",
       " 'environment',\n",
       " 'required',\n",
       " 'system',\n",
       " 'engineer',\n",
       " 'list',\n",
       " 'years',\n",
       " 'experience',\n",
       " 'development',\n",
       " 'skills',\n",
       " 'experience',\n",
       " 'production',\n",
       " 'environment',\n",
       " 'required',\n",
       " 'system',\n",
       " 'engineer',\n",
       " 'list',\n",
       " 'years',\n",
       " 'experience',\n",
       " 'amazon',\n",
       " 'cloud',\n",
       " 'services',\n",
       " 'list',\n",
       " 'years',\n",
       " 'experience',\n",
       " 'devops',\n",
       " 'practices',\n",
       " 'list',\n",
       " 'years',\n",
       " 'experience',\n",
       " 'server',\n",
       " 'automation',\n",
       " 'tools',\n",
       " 'docker',\n",
       " 'jenkins',\n",
       " 'puppet',\n",
       " 'list',\n",
       " 'years',\n",
       " 'experience',\n",
       " 'docker',\n",
       " 'list',\n",
       " 'years',\n",
       " 'experience',\n",
       " 'kubernettes',\n",
       " 'list',\n",
       " 'years',\n",
       " 'experience',\n",
       " 'optional',\n",
       " 'requirements',\n",
       " 'b',\n",
       " 'corp',\n",
       " 'company',\n",
       " 'information',\n",
       " 'b',\n",
       " 'corp',\n",
       " 'small',\n",
       " 'defense',\n",
       " 'contracting',\n",
       " 'company',\n",
       " 'focuses',\n",
       " 'providing',\n",
       " 'optimum',\n",
       " 'environment',\n",
       " 'mission',\n",
       " 'focused',\n",
       " 'highly',\n",
       " 'skilled',\n",
       " 'consultants',\n",
       " 'support',\n",
       " 'united',\n",
       " 'states',\n",
       " 'america',\n",
       " 'intelligence',\n",
       " 'community',\n",
       " 'defense',\n",
       " 'organizations',\n",
       " 'b',\n",
       " 'corp',\n",
       " 'provides',\n",
       " 'low',\n",
       " 'overhead',\n",
       " 'highly',\n",
       " 'efficient',\n",
       " 'high',\n",
       " 'salary',\n",
       " 'environment',\n",
       " 'allows',\n",
       " 'employees',\n",
       " 'excel',\n",
       " 'meeting',\n",
       " 'client',\n",
       " 'needs',\n",
       " 'b',\n",
       " 'corp',\n",
       " 'looking',\n",
       " 'information',\n",
       " 'technology',\n",
       " 'professionals',\n",
       " 'high',\n",
       " 'sense',\n",
       " 'personal',\n",
       " 'responsibility',\n",
       " 'self',\n",
       " 'motivation',\n",
       " 'mission',\n",
       " 'drive',\n",
       " 'b',\n",
       " 'corp',\n",
       " 'dedication',\n",
       " 'care',\n",
       " 'employees',\n",
       " 'reflected',\n",
       " 'outstanding',\n",
       " 'compensation',\n",
       " 'benefits',\n",
       " 'b',\n",
       " 'corp',\n",
       " 'provides',\n",
       " 'salaries',\n",
       " 'second',\n",
       " 'none',\n",
       " 'b',\n",
       " 'corp',\n",
       " 'benefits',\n",
       " 'reflect',\n",
       " 'company',\n",
       " 'policy',\n",
       " 'putting',\n",
       " 'employees',\n",
       " 'first',\n",
       " 'health',\n",
       " 'insurance',\n",
       " 'demonstrates',\n",
       " 'employer',\n",
       " 'coverage',\n",
       " 'providing',\n",
       " 'employees',\n",
       " 'plan',\n",
       " 'copay',\n",
       " 'coinsurance',\n",
       " 'hsa',\n",
       " 'allow',\n",
       " 'employees',\n",
       " 'accrue',\n",
       " 'health',\n",
       " 'savings',\n",
       " 'future',\n",
       " 'b',\n",
       " 'corp',\n",
       " 'maximum',\n",
       " 'flexibility',\n",
       " 'comp',\n",
       " 'makeup',\n",
       " 'time',\n",
       " 'policy',\n",
       " 'along',\n",
       " 'company',\n",
       " 'cafeteria',\n",
       " 'style',\n",
       " 'benefit',\n",
       " 'plan',\n",
       " 'allows',\n",
       " 'employees',\n",
       " 'maximize',\n",
       " 'benefit',\n",
       " 'dollars',\n",
       " 'reflects',\n",
       " 'b',\n",
       " 'corp',\n",
       " 'commitment',\n",
       " 'employees',\n",
       " 'compensation',\n",
       " 'outstanding',\n",
       " 'salaries',\n",
       " 'retirement',\n",
       " 'full',\n",
       " 'vanguard',\n",
       " 'k',\n",
       " 'plan',\n",
       " 'featuring',\n",
       " 'full',\n",
       " 'scope',\n",
       " 'investment',\n",
       " 'options',\n",
       " 'employer',\n",
       " 'matched',\n",
       " 'contribution',\n",
       " 'employee',\n",
       " 'salary',\n",
       " 'ability',\n",
       " 'max',\n",
       " 'k',\n",
       " 'savings',\n",
       " 'k',\n",
       " 'k',\n",
       " 'employees',\n",
       " 'receive',\n",
       " 'b',\n",
       " 'corp',\n",
       " 'phantom',\n",
       " 'stock',\n",
       " 'year',\n",
       " 'year',\n",
       " 'vesting',\n",
       " 'period',\n",
       " 'insurance',\n",
       " 'employer',\n",
       " 'paid',\n",
       " 'premiums',\n",
       " 'united',\n",
       " 'health',\n",
       " 'care',\n",
       " 'choice',\n",
       " 'plus',\n",
       " 'hsa',\n",
       " 'pos',\n",
       " 'gold',\n",
       " 'w',\n",
       " 'hsa',\n",
       " 'employer',\n",
       " 'funded',\n",
       " 'hsa',\n",
       " 'cover',\n",
       " 'health',\n",
       " 'care',\n",
       " 'deductible',\n",
       " 'health',\n",
       " 'insurance',\n",
       " 'copay',\n",
       " 'co',\n",
       " 'insurance',\n",
       " 'full',\n",
       " 'scope',\n",
       " 'protection',\n",
       " 'family',\n",
       " 'employer',\n",
       " 'premium',\n",
       " 'coverage',\n",
       " 'single',\n",
       " 'family',\n",
       " 'health',\n",
       " 'equity',\n",
       " 'hsa',\n",
       " 'b',\n",
       " 'corp',\n",
       " 'contributes',\n",
       " 'single',\n",
       " 'family',\n",
       " 'health',\n",
       " 'equity',\n",
       " 'hsa',\n",
       " 'cover',\n",
       " 'health',\n",
       " 'care',\n",
       " 'deductible',\n",
       " 'mutual',\n",
       " 'omaha',\n",
       " 'dental',\n",
       " 'vsp',\n",
       " 'vision',\n",
       " 'insurance',\n",
       " 'mutual',\n",
       " 'omaha',\n",
       " 'short',\n",
       " 'term',\n",
       " 'disability',\n",
       " 'salary',\n",
       " 'week',\n",
       " 'mutual',\n",
       " 'omaha',\n",
       " 'long',\n",
       " 'term',\n",
       " 'disability',\n",
       " 'salary',\n",
       " 'month',\n",
       " 'mutual',\n",
       " 'omaha',\n",
       " 'life',\n",
       " 'insurance',\n",
       " 'employee',\n",
       " 'referral',\n",
       " 'bonus',\n",
       " 'refer',\n",
       " 'friend',\n",
       " 'coworker',\n",
       " 'receive',\n",
       " 'per',\n",
       " 'year',\n",
       " 'every',\n",
       " 'year',\n",
       " 'person',\n",
       " 'works',\n",
       " 'b',\n",
       " 'corp',\n",
       " 'paid',\n",
       " 'time',\n",
       " 'pto',\n",
       " 'seven',\n",
       " 'weeks',\n",
       " 'leave',\n",
       " 'per',\n",
       " 'year',\n",
       " 'including',\n",
       " 'ten',\n",
       " 'federal',\n",
       " 'holidays',\n",
       " 'ability',\n",
       " 'purchase',\n",
       " 'additional',\n",
       " 'weeks',\n",
       " 'vacation',\n",
       " 'flexible',\n",
       " 'work',\n",
       " 'schedule',\n",
       " 'comp',\n",
       " 'time',\n",
       " 'customer',\n",
       " 'approval',\n",
       " 'tuition',\n",
       " 'training',\n",
       " 'free',\n",
       " 'cbtnuggets',\n",
       " 'online',\n",
       " 'training',\n",
       " 'account',\n",
       " 'online',\n",
       " 'courses',\n",
       " 'large',\n",
       " 'variety',\n",
       " 'topics',\n",
       " 'including',\n",
       " 'networking',\n",
       " 'security',\n",
       " 'virtualization',\n",
       " 'cloud',\n",
       " 'trusted',\n",
       " 'vendors',\n",
       " 'cisco',\n",
       " 'microsoft',\n",
       " 'google',\n",
       " 'train',\n",
       " 'anytime',\n",
       " 'anywhere',\n",
       " 'variety',\n",
       " 'devices',\n",
       " 'even',\n",
       " 'offline',\n",
       " 'transcender',\n",
       " 'practice',\n",
       " 'exams',\n",
       " 'virtual',\n",
       " 'labs',\n",
       " 'free',\n",
       " 'l',\n",
       " 'inux',\n",
       " 'academy',\n",
       " 'online',\n",
       " 'training',\n",
       " 'account',\n",
       " 'internal',\n",
       " 'tracking',\n",
       " 'j']"
      ]
     },
     "execution_count": 19,
     "metadata": {},
     "output_type": "execute_result"
    }
   ],
   "source": [
    "data[0]"
   ]
  },
  {
   "cell_type": "markdown",
   "metadata": {
    "colab_type": "text",
    "id": "3IHAm2Bode2d"
   },
   "source": [
    "http://nadbordrozd.github.io/blog/2016/05/20/text-classification-with-word2vec/\n",
    "TF-IDF embedding, focus on important words.\n",
    "<br>https://scikit-learn.org/stable/modules/classes.html<br>\n",
    "\n",
    "#module-sklearn.feature_extraction.text\n",
    "<br>https://scikit-learn.org/stable/auto_examples/model_selection/grid_search_text_feature_extraction.html<br>"
   ]
  },
  {
   "cell_type": "markdown",
   "metadata": {
    "colab_type": "text",
    "id": "cqMsrOjGde2d"
   },
   "source": [
    "### Word2Vec Model from scratch"
   ]
  },
  {
   "cell_type": "markdown",
   "metadata": {},
   "source": [
    "Create a Word2Vec model with 100 dimensions."
   ]
  },
  {
   "cell_type": "code",
   "execution_count": 20,
   "metadata": {
    "colab": {},
    "colab_type": "code",
    "id": "nw7rYGqdde2e"
   },
   "outputs": [],
   "source": [
    "w2v_model1 = Word2Vec(data,\n",
    "                size=64, #size is the number of dimensions of the N-dimensional space and Word2Vec maps the words into\n",
    "                window=10,\n",
    "                min_count=10, #min frequency appeared in the corpus\n",
    "                workers=4)"
   ]
  },
  {
   "cell_type": "code",
   "execution_count": 21,
   "metadata": {
    "colab": {},
    "colab_type": "code",
    "id": "UZ0XpKJkde2h",
    "outputId": "06eb2c99-3434-4668-d890-e61ea841fbb3"
   },
   "outputs": [
    {
     "data": {
      "text/plain": [
       "(2994179, 3460040)"
      ]
     },
     "execution_count": 21,
     "metadata": {},
     "output_type": "execute_result"
    }
   ],
   "source": [
    "w2v_model1.train(data,total_examples=w2v_model1.corpus_count, epochs=10)"
   ]
  },
  {
   "cell_type": "code",
   "execution_count": 22,
   "metadata": {
    "colab": {},
    "colab_type": "code",
    "id": "60ZVS0yRde2o"
   },
   "outputs": [],
   "source": [
    "wv = w2v_model1.wv"
   ]
  },
  {
   "cell_type": "code",
   "execution_count": 23,
   "metadata": {
    "colab": {},
    "colab_type": "code",
    "id": "5qIEslLmde2r",
    "outputId": "7f6a50ea-bf60-4759-ab32-053e6572bfed"
   },
   "outputs": [
    {
     "name": "stdout",
     "output_type": "stream",
     "text": [
      "Vocabulary size:3717\n"
     ]
    }
   ],
   "source": [
    "#After filtering for min frequency, there are 5514 words in the corpus\n",
    "words = list(wv.vocab)\n",
    "print('Vocabulary size:%d' % len(words))"
   ]
  },
  {
   "cell_type": "code",
   "execution_count": 24,
   "metadata": {
    "colab": {},
    "colab_type": "code",
    "id": "71xJIPOqde2t",
    "outputId": "71cd73e4-5d2f-410c-bcca-3a4ff093e87c",
    "scrolled": false
   },
   "outputs": [
    {
     "data": {
      "text/plain": [
       "[('structured', 0.6605768203735352),\n",
       " ('unstructured', 0.6462306380271912),\n",
       " ('extract', 0.6209700107574463),\n",
       " ('raw', 0.6112159490585327),\n",
       " ('manipulate', 0.6002713441848755),\n",
       " ('sets', 0.591453492641449),\n",
       " ('etl', 0.5882083177566528),\n",
       " ('extraction', 0.5832967162132263),\n",
       " ('visualization', 0.5795661211013794),\n",
       " ('datasets', 0.5696102380752563)]"
      ]
     },
     "execution_count": 24,
     "metadata": {},
     "output_type": "execute_result"
    }
   ],
   "source": [
    "wv.most_similar('data')"
   ]
  },
  {
   "cell_type": "markdown",
   "metadata": {
    "colab_type": "text",
    "id": "aTdsdQNxde2v"
   },
   "source": [
    "To be able to use in a pipeline, need fit and transform"
   ]
  },
  {
   "cell_type": "code",
   "execution_count": 25,
   "metadata": {
    "colab": {},
    "colab_type": "code",
    "id": "QBpVqOQnde2v",
    "outputId": "a0718a80-fc40-4838-b0fe-b953f590cd63"
   },
   "outputs": [],
   "source": [
    "#wrap into a dictionary to use in the pipeline\n",
    "w2v = dict(zip(w2v_model1.wv.index2word, w2v_model1.wv.vectors))"
   ]
  },
  {
   "cell_type": "code",
   "execution_count": 26,
   "metadata": {
    "colab": {},
    "colab_type": "code",
    "id": "BGgMRpmxde2y",
    "outputId": "393b5dc6-2d7a-445a-a966-61ff23fd6301",
    "scrolled": true
   },
   "outputs": [
    {
     "data": {
      "text/plain": [
       "3717"
      ]
     },
     "execution_count": 26,
     "metadata": {},
     "output_type": "execute_result"
    }
   ],
   "source": [
    "len(w2v.values())"
   ]
  },
  {
   "cell_type": "markdown",
   "metadata": {
    "colab_type": "text",
    "id": "SbWOxcOade20"
   },
   "source": [
    "Averaging word vectors for all words in a text."
   ]
  },
  {
   "cell_type": "code",
   "execution_count": 27,
   "metadata": {
    "colab": {},
    "colab_type": "code",
    "id": "DULSNPEFde21"
   },
   "outputs": [],
   "source": [
    "#Averaging word vectors for all words in a text.\n",
    "\n",
    "class MeanEmbeddingVectorizer(object):\n",
    "    def __init__(self, word2vec):\n",
    "        self.word2vec = word2vec\n",
    "        # if a text is empty we should return a vector of zeros\n",
    "        # with the same dimensionality as all the other vectors\n",
    "        self.dim = len(word2vec.values())\n",
    "\n",
    "    def fit(self, X, y):\n",
    "        return self\n",
    "\n",
    "    def transform(self, X):\n",
    "        return np.array([\n",
    "            np.mean([self.word2vec[w] for w in words if w in self.word2vec]\n",
    "                    or [np.zeros(self.dim)], axis=0)\n",
    "            for words in X\n",
    "        ])"
   ]
  },
  {
   "cell_type": "markdown",
   "metadata": {},
   "source": [
    "### Use Word2Vec in the pipeline"
   ]
  },
  {
   "cell_type": "code",
   "execution_count": 28,
   "metadata": {},
   "outputs": [],
   "source": [
    "#Import libraries\n",
    "from sklearn.ensemble import RandomForestRegressor, RandomForestClassifier\n",
    "from sklearn.svm import SVC\n",
    "from sklearn.linear_model import SGDClassifier\n",
    "from sklearn.pipeline import Pipeline\n",
    "from sklearn.model_selection import cross_val_score\n",
    "from sklearn.model_selection import GridSearchCV\n",
    "from sklearn.metrics import confusion_matrix\n",
    "\n",
    "from pprint import pprint\n",
    "from time import time\n",
    "import logging\n"
   ]
  },
  {
   "cell_type": "code",
   "execution_count": 29,
   "metadata": {
    "colab": {},
    "colab_type": "code",
    "id": "a8e477ezde23"
   },
   "outputs": [],
   "source": [
    "#Use pipeline \n",
    "\n",
    "rf =  Pipeline([('Word2Vec Vectorizer', MeanEmbeddingVectorizer(w2v)),\n",
    "              ('Random Forest', RandomForestClassifier(n_estimators=50, criterion='entropy', verbose=True, n_jobs=3))])\n",
    "\n",
    "svc = Pipeline([('Word2Vec Vectorizer', MeanEmbeddingVectorizer(w2v)),\n",
    "              ('Support Vector Machine', SVC(kernel='rbf', C=0.5))])\n",
    "\n",
    "sgd = Pipeline([('Word2Vec Vectorizer', MeanEmbeddingVectorizer(w2v)),\n",
    "               ('Stochastic Gradient Descent', SGDClassifier(alpha=0.001, n_jobs=3))])\n",
    "\n",
    "#svr = Pipeline([('Word2Vec Vectorizer', MeanEmbeddingVectorizer(w2v)),\n",
    "              #('SVR-lin', SVR(kernel='rbf', C=0.5))])\n",
    "                \n",
    "#lr = Pipeline([('Word2Vec Vectorizer', MeanEmbeddingVectorizer(w2v)),\n",
    "              #('Linear Regression', LinearRegression(n_jobs=3))])"
   ]
  },
  {
   "cell_type": "markdown",
   "metadata": {},
   "source": []
  },
  {
   "cell_type": "code",
   "execution_count": 30,
   "metadata": {
    "colab": {},
    "colab_type": "code",
    "id": "1oM8V_MRde3A"
   },
   "outputs": [],
   "source": [
    "models = [('Random Forest', rf),\n",
    "          ('Support Vector Machine', svc),\n",
    "          ('Stochastic Gradient Descent', sgd)]\n",
    "          #('Linear Regression', lr)]"
   ]
  },
  {
   "cell_type": "code",
   "execution_count": 54,
   "metadata": {
    "colab": {},
    "colab_type": "code",
    "id": "bqilR_tLde3C",
    "outputId": "28c64516-689b-4e27-8444-e208a04b41ff"
   },
   "outputs": [
    {
     "name": "stderr",
     "output_type": "stream",
     "text": [
      "[Parallel(n_jobs=3)]: Using backend LokyBackend with 3 concurrent workers.\n",
      "[Parallel(n_jobs=3)]: Done  50 out of  50 | elapsed:    0.1s finished\n",
      "[Parallel(n_jobs=3)]: Using backend ThreadingBackend with 3 concurrent workers.\n",
      "[Parallel(n_jobs=3)]: Done  44 tasks      | elapsed:    0.0s\n",
      "[Parallel(n_jobs=3)]: Done  50 out of  50 | elapsed:    0.0s finished\n",
      "[Parallel(n_jobs=3)]: Using backend LokyBackend with 3 concurrent workers.\n",
      "[Parallel(n_jobs=3)]: Done  50 out of  50 | elapsed:    0.1s finished\n",
      "[Parallel(n_jobs=3)]: Using backend ThreadingBackend with 3 concurrent workers.\n",
      "[Parallel(n_jobs=3)]: Done  44 tasks      | elapsed:    0.0s\n",
      "[Parallel(n_jobs=3)]: Done  50 out of  50 | elapsed:    0.0s finished\n"
     ]
    }
   ],
   "source": [
    "scores = [(name, cross_val_score(model, X_train, y_train, cv=2).mean()) for name, model, in models]"
   ]
  },
  {
   "cell_type": "code",
   "execution_count": 55,
   "metadata": {
    "colab": {},
    "colab_type": "code",
    "id": "Y-FaU-O1de3E",
    "outputId": "3fec4d8f-517e-4460-f386-30f8592df0d2"
   },
   "outputs": [
    {
     "data": {
      "text/plain": [
       "[('Random Forest', 0.44110854503464203),\n",
       " ('Support Vector Machine', 0.384526558891455),\n",
       " ('Stochastic Gradient Descent', 0.3741339491916859)]"
      ]
     },
     "execution_count": 55,
     "metadata": {},
     "output_type": "execute_result"
    }
   ],
   "source": [
    "scores"
   ]
  },
  {
   "cell_type": "markdown",
   "metadata": {},
   "source": [
    "Random Forest performed the best among three models. Explore the prediction probability."
   ]
  },
  {
   "cell_type": "code",
   "execution_count": 56,
   "metadata": {
    "colab": {},
    "colab_type": "code",
    "id": "YbxuzGm8de25"
   },
   "outputs": [],
   "source": [
    "rf =  Pipeline([('Word2Vec Vectorizer', MeanEmbeddingVectorizer(w2v)),\n",
    "              ('Random Forest', RandomForestClassifier(n_estimators=100, criterion='entropy', min_samples_leaf=3, verbose=True, n_jobs=3))])\n"
   ]
  },
  {
   "cell_type": "code",
   "execution_count": 57,
   "metadata": {
    "colab": {},
    "colab_type": "code",
    "id": "I074RlvRde29",
    "outputId": "771787cc-a8e9-4dc6-ec85-dfa7051890a0"
   },
   "outputs": [
    {
     "name": "stderr",
     "output_type": "stream",
     "text": [
      "[Parallel(n_jobs=3)]: Using backend LokyBackend with 3 concurrent workers.\n",
      "[Parallel(n_jobs=3)]: Done 100 out of 100 | elapsed:    0.2s finished\n",
      "[Parallel(n_jobs=3)]: Using backend ThreadingBackend with 3 concurrent workers.\n",
      "[Parallel(n_jobs=3)]: Done  44 tasks      | elapsed:    0.0s\n",
      "[Parallel(n_jobs=3)]: Done 100 out of 100 | elapsed:    0.0s finished\n",
      "[Parallel(n_jobs=3)]: Using backend LokyBackend with 3 concurrent workers.\n",
      "[Parallel(n_jobs=3)]: Done 100 out of 100 | elapsed:    0.2s finished\n",
      "[Parallel(n_jobs=3)]: Using backend ThreadingBackend with 3 concurrent workers.\n",
      "[Parallel(n_jobs=3)]: Done  44 tasks      | elapsed:    0.0s\n",
      "[Parallel(n_jobs=3)]: Done 100 out of 100 | elapsed:    0.0s finished\n"
     ]
    },
    {
     "data": {
      "text/plain": [
       "0.4341801385681293"
      ]
     },
     "execution_count": 57,
     "metadata": {},
     "output_type": "execute_result"
    }
   ],
   "source": [
    "cross_val_score(rf, X_train, y_train, cv=2).mean()"
   ]
  },
  {
   "cell_type": "code",
   "execution_count": 58,
   "metadata": {},
   "outputs": [
    {
     "name": "stderr",
     "output_type": "stream",
     "text": [
      "[Parallel(n_jobs=3)]: Using backend ThreadingBackend with 3 concurrent workers.\n",
      "[Parallel(n_jobs=3)]: Done  44 tasks      | elapsed:    0.2s\n",
      "[Parallel(n_jobs=3)]: Done 100 out of 100 | elapsed:    0.4s finished\n"
     ]
    },
    {
     "data": {
      "text/plain": [
       "Pipeline(memory=None,\n",
       "         steps=[('Word2Vec Vectorizer',\n",
       "                 <__main__.MeanEmbeddingVectorizer object at 0x14088ffd0>),\n",
       "                ('Random Forest',\n",
       "                 RandomForestClassifier(bootstrap=True, ccp_alpha=0.0,\n",
       "                                        class_weight=None, criterion='entropy',\n",
       "                                        max_depth=None, max_features='auto',\n",
       "                                        max_leaf_nodes=None, max_samples=None,\n",
       "                                        min_impurity_decrease=0.0,\n",
       "                                        min_impurity_split=None,\n",
       "                                        min_samples_leaf=3, min_samples_split=2,\n",
       "                                        min_weight_fraction_leaf=0.0,\n",
       "                                        n_estimators=100, n_jobs=3,\n",
       "                                        oob_score=False, random_state=None,\n",
       "                                        verbose=True, warm_start=False))],\n",
       "         verbose=False)"
      ]
     },
     "execution_count": 58,
     "metadata": {},
     "output_type": "execute_result"
    }
   ],
   "source": [
    "rf.fit(X_train, y_train)"
   ]
  },
  {
   "cell_type": "code",
   "execution_count": 59,
   "metadata": {},
   "outputs": [
    {
     "name": "stderr",
     "output_type": "stream",
     "text": [
      "[Parallel(n_jobs=3)]: Using backend ThreadingBackend with 3 concurrent workers.\n",
      "[Parallel(n_jobs=3)]: Done  44 tasks      | elapsed:    0.0s\n",
      "[Parallel(n_jobs=3)]: Done 100 out of 100 | elapsed:    0.0s finished\n"
     ]
    }
   ],
   "source": [
    "y_pred = rf.predict(X_test)"
   ]
  },
  {
   "cell_type": "code",
   "execution_count": 60,
   "metadata": {},
   "outputs": [
    {
     "name": "stderr",
     "output_type": "stream",
     "text": [
      "[Parallel(n_jobs=3)]: Using backend ThreadingBackend with 3 concurrent workers.\n",
      "[Parallel(n_jobs=3)]: Done  44 tasks      | elapsed:    0.0s\n",
      "[Parallel(n_jobs=3)]: Done 100 out of 100 | elapsed:    0.0s finished\n"
     ]
    },
    {
     "data": {
      "text/plain": [
       "0.5463917525773195"
      ]
     },
     "execution_count": 60,
     "metadata": {},
     "output_type": "execute_result"
    }
   ],
   "source": [
    "rf.score(X_test, y_test)"
   ]
  },
  {
   "cell_type": "code",
   "execution_count": 61,
   "metadata": {},
   "outputs": [
    {
     "name": "stderr",
     "output_type": "stream",
     "text": [
      "[Parallel(n_jobs=3)]: Using backend ThreadingBackend with 3 concurrent workers.\n",
      "[Parallel(n_jobs=3)]: Done  44 tasks      | elapsed:    0.0s\n",
      "[Parallel(n_jobs=3)]: Done 100 out of 100 | elapsed:    0.0s finished\n"
     ]
    }
   ],
   "source": [
    "proba_matrix = rf.predict_proba(X_test)"
   ]
  },
  {
   "cell_type": "code",
   "execution_count": 62,
   "metadata": {},
   "outputs": [
    {
     "data": {
      "text/plain": [
       "(97, 6)"
      ]
     },
     "execution_count": 62,
     "metadata": {},
     "output_type": "execute_result"
    }
   ],
   "source": [
    "proba_matrix.shape"
   ]
  },
  {
   "cell_type": "markdown",
   "metadata": {},
   "source": [
    "### Prediction Probability of each bin"
   ]
  },
  {
   "cell_type": "markdown",
   "metadata": {},
   "source": [
    "https://scikit-learn.org/stable/modules/generated/sklearn.metrics.make_scorer.html"
   ]
  },
  {
   "cell_type": "code",
   "execution_count": 40,
   "metadata": {},
   "outputs": [],
   "source": [
    "df_proba = pd.DataFrame(data = proba_matrix)"
   ]
  },
  {
   "cell_type": "code",
   "execution_count": 41,
   "metadata": {},
   "outputs": [
    {
     "data": {
      "text/html": [
       "<div>\n",
       "<style scoped>\n",
       "    .dataframe tbody tr th:only-of-type {\n",
       "        vertical-align: middle;\n",
       "    }\n",
       "\n",
       "    .dataframe tbody tr th {\n",
       "        vertical-align: top;\n",
       "    }\n",
       "\n",
       "    .dataframe thead th {\n",
       "        text-align: right;\n",
       "    }\n",
       "</style>\n",
       "<table border=\"1\" class=\"dataframe\">\n",
       "  <thead>\n",
       "    <tr style=\"text-align: right;\">\n",
       "      <th></th>\n",
       "      <th>0</th>\n",
       "      <th>1</th>\n",
       "      <th>2</th>\n",
       "      <th>3</th>\n",
       "      <th>4</th>\n",
       "      <th>5</th>\n",
       "    </tr>\n",
       "  </thead>\n",
       "  <tbody>\n",
       "    <tr>\n",
       "      <th>0</th>\n",
       "      <td>0.091841</td>\n",
       "      <td>0.079220</td>\n",
       "      <td>0.113393</td>\n",
       "      <td>0.325758</td>\n",
       "      <td>0.192347</td>\n",
       "      <td>0.197440</td>\n",
       "    </tr>\n",
       "    <tr>\n",
       "      <th>1</th>\n",
       "      <td>0.032742</td>\n",
       "      <td>0.171451</td>\n",
       "      <td>0.260940</td>\n",
       "      <td>0.313378</td>\n",
       "      <td>0.147190</td>\n",
       "      <td>0.074298</td>\n",
       "    </tr>\n",
       "    <tr>\n",
       "      <th>2</th>\n",
       "      <td>0.062048</td>\n",
       "      <td>0.207405</td>\n",
       "      <td>0.161230</td>\n",
       "      <td>0.305325</td>\n",
       "      <td>0.142853</td>\n",
       "      <td>0.121139</td>\n",
       "    </tr>\n",
       "    <tr>\n",
       "      <th>3</th>\n",
       "      <td>0.034095</td>\n",
       "      <td>0.088317</td>\n",
       "      <td>0.279976</td>\n",
       "      <td>0.301020</td>\n",
       "      <td>0.180111</td>\n",
       "      <td>0.116480</td>\n",
       "    </tr>\n",
       "    <tr>\n",
       "      <th>4</th>\n",
       "      <td>0.005000</td>\n",
       "      <td>0.026865</td>\n",
       "      <td>0.003333</td>\n",
       "      <td>0.078917</td>\n",
       "      <td>0.028357</td>\n",
       "      <td>0.857528</td>\n",
       "    </tr>\n",
       "    <tr>\n",
       "      <th>...</th>\n",
       "      <td>...</td>\n",
       "      <td>...</td>\n",
       "      <td>...</td>\n",
       "      <td>...</td>\n",
       "      <td>...</td>\n",
       "      <td>...</td>\n",
       "    </tr>\n",
       "    <tr>\n",
       "      <th>92</th>\n",
       "      <td>0.207183</td>\n",
       "      <td>0.211310</td>\n",
       "      <td>0.295929</td>\n",
       "      <td>0.179917</td>\n",
       "      <td>0.079107</td>\n",
       "      <td>0.026556</td>\n",
       "    </tr>\n",
       "    <tr>\n",
       "      <th>93</th>\n",
       "      <td>0.224579</td>\n",
       "      <td>0.376417</td>\n",
       "      <td>0.131333</td>\n",
       "      <td>0.082972</td>\n",
       "      <td>0.077024</td>\n",
       "      <td>0.107675</td>\n",
       "    </tr>\n",
       "    <tr>\n",
       "      <th>94</th>\n",
       "      <td>0.096667</td>\n",
       "      <td>0.134798</td>\n",
       "      <td>0.194730</td>\n",
       "      <td>0.327996</td>\n",
       "      <td>0.186786</td>\n",
       "      <td>0.059024</td>\n",
       "    </tr>\n",
       "    <tr>\n",
       "      <th>95</th>\n",
       "      <td>0.111837</td>\n",
       "      <td>0.300563</td>\n",
       "      <td>0.230238</td>\n",
       "      <td>0.245897</td>\n",
       "      <td>0.111464</td>\n",
       "      <td>0.000000</td>\n",
       "    </tr>\n",
       "    <tr>\n",
       "      <th>96</th>\n",
       "      <td>0.061742</td>\n",
       "      <td>0.078512</td>\n",
       "      <td>0.084611</td>\n",
       "      <td>0.424520</td>\n",
       "      <td>0.281734</td>\n",
       "      <td>0.068881</td>\n",
       "    </tr>\n",
       "  </tbody>\n",
       "</table>\n",
       "<p>97 rows × 6 columns</p>\n",
       "</div>"
      ],
      "text/plain": [
       "           0         1         2         3         4         5\n",
       "0   0.091841  0.079220  0.113393  0.325758  0.192347  0.197440\n",
       "1   0.032742  0.171451  0.260940  0.313378  0.147190  0.074298\n",
       "2   0.062048  0.207405  0.161230  0.305325  0.142853  0.121139\n",
       "3   0.034095  0.088317  0.279976  0.301020  0.180111  0.116480\n",
       "4   0.005000  0.026865  0.003333  0.078917  0.028357  0.857528\n",
       "..       ...       ...       ...       ...       ...       ...\n",
       "92  0.207183  0.211310  0.295929  0.179917  0.079107  0.026556\n",
       "93  0.224579  0.376417  0.131333  0.082972  0.077024  0.107675\n",
       "94  0.096667  0.134798  0.194730  0.327996  0.186786  0.059024\n",
       "95  0.111837  0.300563  0.230238  0.245897  0.111464  0.000000\n",
       "96  0.061742  0.078512  0.084611  0.424520  0.281734  0.068881\n",
       "\n",
       "[97 rows x 6 columns]"
      ]
     },
     "execution_count": 41,
     "metadata": {},
     "output_type": "execute_result"
    }
   ],
   "source": [
    "df_proba"
   ]
  },
  {
   "cell_type": "code",
   "execution_count": 42,
   "metadata": {},
   "outputs": [
    {
     "data": {
      "text/html": [
       "<div>\n",
       "<style scoped>\n",
       "    .dataframe tbody tr th:only-of-type {\n",
       "        vertical-align: middle;\n",
       "    }\n",
       "\n",
       "    .dataframe tbody tr th {\n",
       "        vertical-align: top;\n",
       "    }\n",
       "\n",
       "    .dataframe thead th {\n",
       "        text-align: right;\n",
       "    }\n",
       "</style>\n",
       "<table border=\"1\" class=\"dataframe\">\n",
       "  <thead>\n",
       "    <tr style=\"text-align: right;\">\n",
       "      <th></th>\n",
       "      <th>0</th>\n",
       "      <th>1</th>\n",
       "      <th>2</th>\n",
       "      <th>3</th>\n",
       "      <th>4</th>\n",
       "      <th>5</th>\n",
       "    </tr>\n",
       "  </thead>\n",
       "  <tbody>\n",
       "    <tr>\n",
       "      <th>count</th>\n",
       "      <td>97.000000</td>\n",
       "      <td>97.000000</td>\n",
       "      <td>97.000000</td>\n",
       "      <td>97.000000</td>\n",
       "      <td>97.000000</td>\n",
       "      <td>97.000000</td>\n",
       "    </tr>\n",
       "    <tr>\n",
       "      <th>mean</th>\n",
       "      <td>0.132672</td>\n",
       "      <td>0.182064</td>\n",
       "      <td>0.151991</td>\n",
       "      <td>0.224048</td>\n",
       "      <td>0.150317</td>\n",
       "      <td>0.158908</td>\n",
       "    </tr>\n",
       "    <tr>\n",
       "      <th>std</th>\n",
       "      <td>0.159003</td>\n",
       "      <td>0.142848</td>\n",
       "      <td>0.103842</td>\n",
       "      <td>0.150178</td>\n",
       "      <td>0.131460</td>\n",
       "      <td>0.223469</td>\n",
       "    </tr>\n",
       "    <tr>\n",
       "      <th>min</th>\n",
       "      <td>0.000000</td>\n",
       "      <td>0.000000</td>\n",
       "      <td>0.003333</td>\n",
       "      <td>0.001667</td>\n",
       "      <td>0.002500</td>\n",
       "      <td>0.000000</td>\n",
       "    </tr>\n",
       "    <tr>\n",
       "      <th>25%</th>\n",
       "      <td>0.034095</td>\n",
       "      <td>0.078583</td>\n",
       "      <td>0.062421</td>\n",
       "      <td>0.107444</td>\n",
       "      <td>0.067258</td>\n",
       "      <td>0.028040</td>\n",
       "    </tr>\n",
       "    <tr>\n",
       "      <th>50%</th>\n",
       "      <td>0.079353</td>\n",
       "      <td>0.150063</td>\n",
       "      <td>0.134349</td>\n",
       "      <td>0.205524</td>\n",
       "      <td>0.130917</td>\n",
       "      <td>0.074298</td>\n",
       "    </tr>\n",
       "    <tr>\n",
       "      <th>75%</th>\n",
       "      <td>0.167679</td>\n",
       "      <td>0.270440</td>\n",
       "      <td>0.227440</td>\n",
       "      <td>0.310440</td>\n",
       "      <td>0.200540</td>\n",
       "      <td>0.162897</td>\n",
       "    </tr>\n",
       "    <tr>\n",
       "      <th>max</th>\n",
       "      <td>0.838083</td>\n",
       "      <td>0.887571</td>\n",
       "      <td>0.549690</td>\n",
       "      <td>0.727660</td>\n",
       "      <td>0.939310</td>\n",
       "      <td>0.967262</td>\n",
       "    </tr>\n",
       "  </tbody>\n",
       "</table>\n",
       "</div>"
      ],
      "text/plain": [
       "               0          1          2          3          4          5\n",
       "count  97.000000  97.000000  97.000000  97.000000  97.000000  97.000000\n",
       "mean    0.132672   0.182064   0.151991   0.224048   0.150317   0.158908\n",
       "std     0.159003   0.142848   0.103842   0.150178   0.131460   0.223469\n",
       "min     0.000000   0.000000   0.003333   0.001667   0.002500   0.000000\n",
       "25%     0.034095   0.078583   0.062421   0.107444   0.067258   0.028040\n",
       "50%     0.079353   0.150063   0.134349   0.205524   0.130917   0.074298\n",
       "75%     0.167679   0.270440   0.227440   0.310440   0.200540   0.162897\n",
       "max     0.838083   0.887571   0.549690   0.727660   0.939310   0.967262"
      ]
     },
     "execution_count": 42,
     "metadata": {},
     "output_type": "execute_result"
    }
   ],
   "source": [
    "df_proba.describe()"
   ]
  },
  {
   "cell_type": "markdown",
   "metadata": {
    "colab": {},
    "colab_type": "code",
    "id": "_IoNvOQ6de3G"
   },
   "source": [
    "We got a test accuracy of 0.48 with a simple RandomForest model. Worthy to do some grid search."
   ]
  },
  {
   "cell_type": "markdown",
   "metadata": {},
   "source": [
    "### Random Forest with Grid Search"
   ]
  },
  {
   "cell_type": "code",
   "execution_count": 53,
   "metadata": {
    "colab": {},
    "colab_type": "code",
    "id": "AQACO63Mde3I"
   },
   "outputs": [
    {
     "name": "stdout",
     "output_type": "stream",
     "text": [
      "Performing grid search...\n",
      "pipeline: ['Word2Vec Vectorizer', 'rf']\n",
      "parameters:\n",
      "{'rf__criterion': ('gini', 'entropy'),\n",
      " 'rf__max_features': ('auto', 'sqrt', 'log2'),\n",
      " 'rf__min_samples_split': (2, 6, 8),\n",
      " 'rf__n_estimators': (30, 40, 50)}\n",
      "Fitting 5 folds for each of 54 candidates, totalling 270 fits\n"
     ]
    },
    {
     "name": "stderr",
     "output_type": "stream",
     "text": [
      "[Parallel(n_jobs=-1)]: Using backend LokyBackend with 4 concurrent workers.\n",
      "[Parallel(n_jobs=-1)]: Done  42 tasks      | elapsed:   22.3s\n",
      "[Parallel(n_jobs=-1)]: Done 192 tasks      | elapsed:  1.7min\n",
      "[Parallel(n_jobs=-1)]: Done 270 out of 270 | elapsed:  2.4min finished\n"
     ]
    },
    {
     "name": "stdout",
     "output_type": "stream",
     "text": [
      "done in 143.505s\n",
      "\n",
      "Best score: 0.415\n",
      "Best parameters set:\n",
      "\trf__criterion: 'gini'\n",
      "\trf__max_features: 'sqrt'\n",
      "\trf__min_samples_split: 8\n",
      "\trf__n_estimators: 30\n"
     ]
    }
   ],
   "source": [
    "#Grid Search: Word2Vec with Random Forest Classifier\n",
    "pipeline =  Pipeline([('Word2Vec Vectorizer', MeanEmbeddingVectorizer(w2v)),\n",
    "              ('rf', RandomForestClassifier(n_jobs=3))])\n",
    "parameters = {\n",
    "    'rf__n_estimators':(30,40,50),\n",
    "    'rf__criterion':(\"gini\",\"entropy\"),\n",
    "    'rf__min_samples_split':(2,6,8),\n",
    "    'rf__max_features':(\"auto\",\"sqrt\",\"log2\")\n",
    "    \n",
    "}\n",
    "                \n",
    "if __name__ == \"__main__\":\n",
    "    # multiprocessing requires the fork to happen in a __main__ protected\n",
    "    # block\n",
    "\n",
    "    # find the best parameters for both the feature extraction and the\n",
    "    # classifier\n",
    "    grid_search = GridSearchCV(pipeline, parameters, n_jobs=-1, verbose=1)\n",
    "\n",
    "    print(\"Performing grid search...\")\n",
    "    print(\"pipeline:\", [name for name, _ in pipeline.steps])\n",
    "    print(\"parameters:\")\n",
    "    pprint(parameters)\n",
    "    t0 = time()\n",
    "    grid_search.fit(data, target_class)\n",
    "    print(\"done in %0.3fs\" % (time() - t0))\n",
    "    print()\n",
    "\n",
    "    print(\"Best score: %0.3f\" % grid_search.best_score_)\n",
    "    print(\"Best parameters set:\")\n",
    "    best_parameters = grid_search.best_estimator_.get_params()\n",
    "    for param_name in sorted(parameters.keys()):\n",
    "        print(\"\\t%s: %r\" % (param_name, best_parameters[param_name]))"
   ]
  },
  {
   "cell_type": "markdown",
   "metadata": {
    "colab": {},
    "colab_type": "code",
    "id": "_8woTy_5de3L"
   },
   "source": [
    "Model performance was improved a little bit. Try another grid search."
   ]
  },
  {
   "cell_type": "code",
   "execution_count": 54,
   "metadata": {
    "colab": {},
    "colab_type": "code",
    "id": "yFyq9_2Cde3N"
   },
   "outputs": [
    {
     "name": "stdout",
     "output_type": "stream",
     "text": [
      "Performing grid search...\n",
      "pipeline: ['Word2Vec Vectorizer', 'rf']\n",
      "parameters:\n",
      "{'rf__class_weight': ('balanced', None),\n",
      " 'rf__max_samples': (None, 0.5, 0.8, 1),\n",
      " 'rf__min_samples_split': (4, 6)}\n",
      "Fitting 5 folds for each of 16 candidates, totalling 80 fits\n"
     ]
    },
    {
     "name": "stderr",
     "output_type": "stream",
     "text": [
      "[Parallel(n_jobs=-1)]: Using backend LokyBackend with 4 concurrent workers.\n",
      "[Parallel(n_jobs=-1)]: Done  42 tasks      | elapsed:   20.6s\n",
      "[Parallel(n_jobs=-1)]: Done  80 out of  80 | elapsed:   35.7s finished\n"
     ]
    },
    {
     "name": "stdout",
     "output_type": "stream",
     "text": [
      "done in 36.116s\n",
      "\n",
      "Best score: 0.461\n",
      "Best parameters set:\n",
      "\trf__class_weight: 'balanced'\n",
      "\trf__max_samples: 0.8\n",
      "\trf__min_samples_split: 4\n"
     ]
    }
   ],
   "source": [
    "#Grid Search: Word2Vec with Random Forest Classifier\n",
    "pipeline =  Pipeline([('Word2Vec Vectorizer', MeanEmbeddingVectorizer(w2v)),\n",
    "              ('rf', RandomForestClassifier(n_estimators = 30, criterion='gini', n_jobs=3, max_features='sqrt'))])\n",
    "parameters = {\n",
    "    'rf__class_weight':(\"balanced\",None),\n",
    "    'rf__min_samples_split':(4,6),\n",
    "    'rf__max_samples':(None, 0.5,0.8,1)   \n",
    "}\n",
    "                \n",
    "if __name__ == \"__main__\":\n",
    "    # multiprocessing requires the fork to happen in a __main__ protected\n",
    "    # block\n",
    "\n",
    "    # find the best parameters for both the feature extraction and the\n",
    "    # classifier\n",
    "    grid_search = GridSearchCV(pipeline, parameters, n_jobs=-1, verbose=1)\n",
    "\n",
    "    print(\"Performing grid search...\")\n",
    "    print(\"pipeline:\", [name for name, _ in pipeline.steps])\n",
    "    print(\"parameters:\")\n",
    "    pprint(parameters)\n",
    "    t0 = time()\n",
    "    grid_search.fit(X_train, y_train)\n",
    "    print(\"done in %0.3fs\" % (time() - t0))\n",
    "    print()\n",
    "\n",
    "    print(\"Best score: %0.3f\" % grid_search.best_score_)\n",
    "    print(\"Best parameters set:\")\n",
    "    best_parameters = grid_search.best_estimator_.get_params()\n",
    "    for param_name in sorted(parameters.keys()):\n",
    "        print(\"\\t%s: %r\" % (param_name, best_parameters[param_name]))"
   ]
  },
  {
   "cell_type": "markdown",
   "metadata": {},
   "source": [
    "Results improved from 0.40 to 0.46. Best estimator set so far: \n",
    "Best parameters set:\n",
    "\n",
    "\t- rf__class_weight: None\n",
    "\t- rf__max_samples: 0.8\n",
    "\t- rf__min_samples_split: 4\n",
    "    - rf__criterion: 'gini'\n",
    "\t- rf__max_features: 'sqrt'\n",
    "\t- rf__n_estimators: 30\n",
    "    "
   ]
  },
  {
   "cell_type": "markdown",
   "metadata": {},
   "source": [
    "We used Word2Vec model to vectorize job descriptions and then use word vectors as inputs (100 dimensions) in the Random Forest model. Next we will try sklearn build in Count Vectorizer and then transform a count matrix to a normalized TF-IDF representation."
   ]
  },
  {
   "cell_type": "markdown",
   "metadata": {},
   "source": [
    "###  SGD with Grid Search"
   ]
  },
  {
   "cell_type": "code",
   "execution_count": 57,
   "metadata": {},
   "outputs": [
    {
     "name": "stdout",
     "output_type": "stream",
     "text": [
      "Performing grid search...\n",
      "pipeline: ['Word2Vec Vectorizer', 'clf']\n",
      "parameters:\n",
      "{'clf__alpha': (0.0001, 0.001, 0.01),\n",
      " 'clf__l1_ratio': (0.1, 0.3, 0.5),\n",
      " 'clf__max_iter': (30, 50, 80),\n",
      " 'clf__penalty': ('l2', 'elasticnet')}\n",
      "Fitting 5 folds for each of 54 candidates, totalling 270 fits\n"
     ]
    },
    {
     "name": "stderr",
     "output_type": "stream",
     "text": [
      "[Parallel(n_jobs=-1)]: Using backend LokyBackend with 4 concurrent workers.\n",
      "[Parallel(n_jobs=-1)]: Done  42 tasks      | elapsed:   19.4s\n",
      "[Parallel(n_jobs=-1)]: Done 192 tasks      | elapsed:  1.6min\n",
      "[Parallel(n_jobs=-1)]: Done 270 out of 270 | elapsed:  2.1min finished\n"
     ]
    },
    {
     "name": "stdout",
     "output_type": "stream",
     "text": [
      "done in 128.568s\n",
      "\n",
      "Best score: 0.354\n",
      "Best parameters set:\n",
      "\tclf__alpha: 0.01\n",
      "\tclf__l1_ratio: 0.1\n",
      "\tclf__max_iter: 30\n",
      "\tclf__penalty: 'l2'\n"
     ]
    }
   ],
   "source": [
    "#Try SGDClassifier \n",
    "pipeline = Pipeline([\n",
    "    ('Word2Vec Vectorizer', MeanEmbeddingVectorizer(w2v)),\n",
    "    ('clf', SGDClassifier(n_jobs=3, early_stopping=True, validation_fraction=0.2))\n",
    "])\n",
    "\n",
    "# uncommenting more parameters will give better exploring power but will\n",
    "# increase processing time in a combinatorial way\n",
    "parameters = {\n",
    "    \n",
    "    'clf__alpha': (0.0001, 0.001, 0.01),\n",
    "    'clf__penalty': ('l2', 'elasticnet'),\n",
    "    'clf__l1_ratio':(0, 0.1, 0.3, 0.5),\n",
    "    'clf__max_iter': (100,200,300)\n",
    "}\n",
    "\n",
    "if __name__ == \"__main__\":\n",
    "    # multiprocessing requires the fork to happen in a __main__ protected\n",
    "    # block\n",
    "\n",
    "    # find the best parameters for both the feature extraction and the\n",
    "    # classifier\n",
    "    grid_search = GridSearchCV(pipeline, parameters, n_jobs=-1, verbose=1)\n",
    "\n",
    "    print(\"Performing grid search...\")\n",
    "    print(\"pipeline:\", [name for name, _ in pipeline.steps])\n",
    "    print(\"parameters:\")\n",
    "    pprint(parameters)\n",
    "    t0 = time()\n",
    "    grid_search.fit(X_train, y_train)\n",
    "    print(\"done in %0.3fs\" % (time() - t0))\n",
    "    print()\n",
    "\n",
    "    print(\"Best score: %0.3f\" % grid_search.best_score_)\n",
    "    print(\"Best parameters set:\")\n",
    "    best_parameters = grid_search.best_estimator_.get_params()\n",
    "    for param_name in sorted(parameters.keys()):\n",
    "        print(\"\\t%s: %r\" % (param_name, best_parameters[param_name]))"
   ]
  },
  {
   "cell_type": "markdown",
   "metadata": {},
   "source": [
    "SGD did not perform very well even after Grid Search"
   ]
  },
  {
   "cell_type": "markdown",
   "metadata": {
    "colab_type": "text",
    "id": "FEKb-LvAde3b"
   },
   "source": [
    "## Model 2: Count vectorizer + TF-IDF with GridSearch\n",
    "\n",
    "Tf means term-frequency while tf-idf means term-frequency times inverse document-frequency. This is a common term weighting scheme in information retrieval. The goal of using tf-idf instead of the raw frequencies of occurence of a token in a given document is to scale down the impact of tokens that occur very frequently in a given corpus and are hence empirically less informative than features that occur in a small fraction of the training corpus. "
   ]
  },
  {
   "cell_type": "code",
   "execution_count": 63,
   "metadata": {
    "colab": {},
    "colab_type": "code",
    "id": "BQIAq8Wgde3b",
    "outputId": "c8c2550e-3fc2-4727-f4f8-932fe0620fb2"
   },
   "outputs": [
    {
     "name": "stdout",
     "output_type": "stream",
     "text": [
      "Requirement already satisfied: pprint in /Applications/anaconda3/lib/python3.7/site-packages (0.1)\r\n"
     ]
    }
   ],
   "source": [
    "!pip install pprint"
   ]
  },
  {
   "cell_type": "code",
   "execution_count": 64,
   "metadata": {
    "colab": {},
    "colab_type": "code",
    "id": "Dj0YIEjode3d"
   },
   "outputs": [],
   "source": [
    "from pprint import pprint\n",
    "from time import time\n",
    "import logging\n",
    "\n",
    "from sklearn.feature_extraction.text import CountVectorizer\n",
    "from sklearn.feature_extraction.text import TfidfTransformer\n",
    "from sklearn.linear_model import SGDClassifier\n",
    "from sklearn.ensemble import RandomForestClassifier\n",
    "from sklearn.model_selection import GridSearchCV\n",
    "from sklearn.pipeline import Pipeline\n"
   ]
  },
  {
   "cell_type": "code",
   "execution_count": 65,
   "metadata": {
    "colab": {},
    "colab_type": "code",
    "id": "We_u01BDde3f"
   },
   "outputs": [],
   "source": [
    "#The input needs to be raw text\n",
    "text = salary_df['combined_text']"
   ]
  },
  {
   "cell_type": "code",
   "execution_count": 66,
   "metadata": {},
   "outputs": [
    {
     "data": {
      "text/plain": [
       "0       5\n",
       "2       1\n",
       "4       0\n",
       "6       2\n",
       "8       3\n",
       "       ..\n",
       "1003    3\n",
       "1004    3\n",
       "1005    3\n",
       "1006    2\n",
       "1007    2\n",
       "Name: Salary_Bins, Length: 963, dtype: category\n",
       "Categories (6, int64): [0, 1, 2, 3, 4, 5]"
      ]
     },
     "execution_count": 66,
     "metadata": {},
     "output_type": "execute_result"
    }
   ],
   "source": [
    "target_class"
   ]
  },
  {
   "cell_type": "markdown",
   "metadata": {},
   "source": [
    "### Train-Test Split"
   ]
  },
  {
   "cell_type": "code",
   "execution_count": 96,
   "metadata": {},
   "outputs": [],
   "source": [
    "X_train, X_test, y_train, y_test = train_test_split(text, target_class, test_size=0.1, random_state=4)"
   ]
  },
  {
   "cell_type": "markdown",
   "metadata": {},
   "source": [
    "### SGD Classifier with Grid Search"
   ]
  },
  {
   "cell_type": "code",
   "execution_count": 68,
   "metadata": {
    "colab": {},
    "colab_type": "code",
    "id": "rC8dlEVGde3j",
    "outputId": "c32d049f-70f8-43d1-de90-8066b76faf6a"
   },
   "outputs": [
    {
     "name": "stdout",
     "output_type": "stream",
     "text": [
      "Performing grid search...\n",
      "pipeline: ['vect', 'tfidf', 'clf']\n",
      "parameters:\n",
      "{'clf__alpha': (0.0001, 0.001),\n",
      " 'clf__loss': ('hinge', 'log'),\n",
      " 'clf__max_iter': (100, 200, 500),\n",
      " 'vect__max_df': (0.2, 0.5),\n",
      " 'vect__min_df': (0.01, 0.05)}\n",
      "Fitting 5 folds for each of 48 candidates, totalling 240 fits\n"
     ]
    },
    {
     "name": "stderr",
     "output_type": "stream",
     "text": [
      "[Parallel(n_jobs=-1)]: Using backend LokyBackend with 4 concurrent workers.\n",
      "[Parallel(n_jobs=-1)]: Done  42 tasks      | elapsed:   24.4s\n",
      "[Parallel(n_jobs=-1)]: Done 192 tasks      | elapsed:  1.8min\n",
      "[Parallel(n_jobs=-1)]: Done 240 out of 240 | elapsed:  2.1min finished\n"
     ]
    },
    {
     "name": "stdout",
     "output_type": "stream",
     "text": [
      "done in 126.840s\n",
      "\n",
      "Best score: 0.553\n",
      "Best parameters set:\n",
      "\tclf__alpha: 0.0001\n",
      "\tclf__loss: 'log'\n",
      "\tclf__max_iter: 500\n",
      "\tvect__max_df: 0.5\n",
      "\tvect__min_df: 0.01\n"
     ]
    }
   ],
   "source": [
    "#Try SGDClassifier \n",
    "pipeline = Pipeline([\n",
    "    ('vect', CountVectorizer(max_df=0.5, min_df = 5, ngram_range=(1,2), stop_words='english')),\n",
    "    ('tfidf', TfidfTransformer()),\n",
    "    ('clf', SGDClassifier(n_jobs=3))\n",
    "])\n",
    "\n",
    "# uncommenting more parameters will give better exploring power but will\n",
    "# increase processing time in a combinatorial way\n",
    "parameters = {\n",
    "    'vect__max_df':(0.2,0.5),\n",
    "    'vect__min_df':(0.01,0.05),\n",
    "    #'tfidf__use_idf':(True, False),\n",
    "    #'tfidf__smooth_idf':(True, False),\n",
    "    'clf__alpha': (0.0001,0.001),\n",
    "    'clf__loss': ('hinge', 'log'), \n",
    "    #'clf__penalty': ('l2', 'elasticnet'),\n",
    "    'clf__max_iter': (100,200,500)\n",
    "}\n",
    "\n",
    "if __name__ == \"__main__\":\n",
    "    # multiprocessing requires the fork to happen in a __main__ protected\n",
    "    # block\n",
    "\n",
    "    # find the best parameters for both the feature extraction and the\n",
    "    # classifier\n",
    "    grid_search = GridSearchCV(pipeline, parameters, n_jobs=-1, verbose=1)\n",
    "\n",
    "    print(\"Performing grid search...\")\n",
    "    print(\"pipeline:\", [name for name, _ in pipeline.steps])\n",
    "    print(\"parameters:\")\n",
    "    pprint(parameters)\n",
    "    t0 = time()\n",
    "    grid_search.fit(X_train, y_train)\n",
    "    print(\"done in %0.3fs\" % (time() - t0))\n",
    "    print()\n",
    "\n",
    "    print(\"Best score: %0.3f\" % grid_search.best_score_)\n",
    "    print(\"Best parameters set:\")\n",
    "    best_parameters = grid_search.best_estimator_.get_params()\n",
    "    for param_name in sorted(parameters.keys()):\n",
    "        print(\"\\t%s: %r\" % (param_name, best_parameters[param_name]))"
   ]
  },
  {
   "cell_type": "code",
   "execution_count": 97,
   "metadata": {},
   "outputs": [],
   "source": [
    "SGD = Pipeline([\n",
    "    ('vect', CountVectorizer(max_df=0.5, min_df=0.01, ngram_range=(1,3), stop_words='english')),\n",
    "    ('tfidf', TfidfTransformer()),\n",
    "    ('clf', SGDClassifier(alpha=0.001, max_iter=500, n_jobs=3))\n",
    "])"
   ]
  },
  {
   "cell_type": "code",
   "execution_count": 98,
   "metadata": {},
   "outputs": [],
   "source": [
    "classifier = SGD.fit(X_train, y_train)"
   ]
  },
  {
   "cell_type": "code",
   "execution_count": 29,
   "metadata": {},
   "outputs": [],
   "source": [
    "y_pred = SGD.predict(X_test)"
   ]
  },
  {
   "cell_type": "markdown",
   "metadata": {},
   "source": [
    "#### Confusion Matrix"
   ]
  },
  {
   "cell_type": "code",
   "execution_count": 30,
   "metadata": {},
   "outputs": [
    {
     "data": {
      "text/plain": [
       "array([[11,  1,  0,  0,  0,  0],\n",
       "       [ 1, 13,  2,  1,  0,  0],\n",
       "       [ 1,  4,  7,  1,  0,  0],\n",
       "       [ 0,  2,  3, 16,  1,  0],\n",
       "       [ 0,  0,  0,  2,  9,  1],\n",
       "       [ 1,  2,  1,  1,  3, 13]])"
      ]
     },
     "execution_count": 30,
     "metadata": {},
     "output_type": "execute_result"
    }
   ],
   "source": [
    "confusion_matrix(y_test, y_pred)"
   ]
  },
  {
   "cell_type": "code",
   "execution_count": 109,
   "metadata": {},
   "outputs": [
    {
     "name": "stdout",
     "output_type": "stream",
     "text": [
      "Confusion matrix, without normalization\n",
      "[[11  1  0  0  0  0]\n",
      " [ 1 13  2  1  0  0]\n",
      " [ 1  4  7  1  0  0]\n",
      " [ 0  2  3 17  0  0]\n",
      " [ 0  0  0  2  9  1]\n",
      " [ 1  2  2  1  2 13]]\n",
      "Normalized confusion matrix\n",
      "[[0.92 0.08 0.   0.   0.   0.  ]\n",
      " [0.06 0.76 0.12 0.06 0.   0.  ]\n",
      " [0.08 0.31 0.54 0.08 0.   0.  ]\n",
      " [0.   0.09 0.14 0.77 0.   0.  ]\n",
      " [0.   0.   0.   0.17 0.75 0.08]\n",
      " [0.05 0.1  0.1  0.05 0.1  0.62]]\n"
     ]
    },
    {
     "data": {
      "image/png": "[encoded data removed]",
      "text/plain": [
       "<Figure size 432x288 with 2 Axes>"
      ]
     },
     "metadata": {
      "needs_background": "light"
     },
     "output_type": "display_data"
    },
    {
     "data": {
      "image/png": "[encoded data removed]",
      "text/plain": [
       "<Figure size 432x288 with 2 Axes>"
      ]
     },
     "metadata": {
      "needs_background": "light"
     },
     "output_type": "display_data"
    }
   ],
   "source": [
    "#Visualize Confusion Matrix\n",
    "from sklearn.metrics import plot_confusion_matrix\n",
    "np.set_printoptions(precision=2)\n",
    "\n",
    "class_names = [\"0-50K\",\"50K-70K\",\"70K-90K\",\"90K-120K\",'120K-150K','150K and above']\n",
    "# Plot non-normalized confusion matrix\n",
    "titles_options = [(\"Confusion matrix, without normalization\", None),\n",
    "                  (\"Normalized confusion matrix\", 'true')]\n",
    "\n",
    "\n",
    "for title, normalize in titles_options:\n",
    "    \n",
    "    disp = plot_confusion_matrix(classifier, X_test, y_test,\n",
    "                                 display_labels=class_names,\n",
    "                                 cmap=plt.cm.Blues,\n",
    "                                 normalize=normalize)\n",
    "    disp.ax_.set_title(title)\n",
    "    \n",
    "    print(title)\n",
    "    print(disp.confusion_matrix)\n",
    "\n",
    "\n",
    "plt.show()"
   ]
  },
  {
   "cell_type": "code",
   "execution_count": 26,
   "metadata": {},
   "outputs": [
    {
     "data": {
      "text/plain": [
       "0.711340206185567"
      ]
     },
     "execution_count": 26,
     "metadata": {},
     "output_type": "execute_result"
    }
   ],
   "source": [
    "#Mean accuracy on the given test data and labels\n",
    "SGD.score(X_test, y_test)"
   ]
  },
  {
   "cell_type": "code",
   "execution_count": 177,
   "metadata": {},
   "outputs": [],
   "source": [
    "#save the model to disk\n",
    "filename='finalized_model.sav'\n",
    "pickle.dump(SGD, open(filename, 'wb'))"
   ]
  },
  {
   "cell_type": "code",
   "execution_count": 179,
   "metadata": {},
   "outputs": [
    {
     "name": "stdout",
     "output_type": "stream",
     "text": [
      "0.6701030927835051\n"
     ]
    }
   ],
   "source": [
    "#load the model from disk\n",
    "loaded_model = pickle.load(open(filename, 'rb'))\n",
    "result = loaded_model.score(X_test, y_test)\n",
    "print(result)"
   ]
  },
  {
   "cell_type": "code",
   "execution_count": null,
   "metadata": {},
   "outputs": [],
   "source": []
  },
  {
   "cell_type": "code",
   "execution_count": null,
   "metadata": {},
   "outputs": [],
   "source": []
  },
  {
   "cell_type": "code",
   "execution_count": null,
   "metadata": {},
   "outputs": [],
   "source": []
  },
  {
   "cell_type": "markdown",
   "metadata": {},
   "source": [
    "Using Count vectorizer and TFIDF transformer with SGD did much better than previous Word2Vec and RandomForest. Looks  like TFIDF was able to retrieve valuable information. \n",
    "\n",
    "**Parameters**\n",
    "SGD = Pipeline([\n",
    "    ('vect', CountVectorizer(max_df=0.5, min_df=0.01, ngram_range=(1,3), stop_words='english')),\n",
    "    ('tfidf', TfidfTransformer()),\n",
    "    ('clf', SGDClassifier(alpha=0.0001, max_iter=500, n_jobs=3))\n",
    "])\n"
   ]
  },
  {
   "cell_type": "markdown",
   "metadata": {
    "colab_type": "text",
    "id": "3tiCnAPtde3l"
   },
   "source": [
    "### Random Forest Classifier with Grid Search"
   ]
  },
  {
   "cell_type": "code",
   "execution_count": 71,
   "metadata": {
    "colab": {},
    "colab_type": "code",
    "id": "NxQSFu9tde30"
   },
   "outputs": [
    {
     "name": "stdout",
     "output_type": "stream",
     "text": [
      "Performing grid search...\n",
      "pipeline: ['vect', 'tfidf', 'rf']\n",
      "parameters:\n",
      "{'rf__criterion': ('gini', 'entropy'),\n",
      " 'rf__max_features': ('auto', 'sqrt', 'log2'),\n",
      " 'rf__min_samples_split': (2, 6, 8),\n",
      " 'rf__n_estimators': (30, 40, 50),\n",
      " 'tfidf__smooth_idf': (True, False),\n",
      " 'tfidf__use_idf': (True, False)}\n",
      "Fitting 5 folds for each of 216 candidates, totalling 1080 fits\n"
     ]
    },
    {
     "name": "stderr",
     "output_type": "stream",
     "text": [
      "[Parallel(n_jobs=-1)]: Using backend LokyBackend with 4 concurrent workers.\n",
      "[Parallel(n_jobs=-1)]: Done  42 tasks      | elapsed:   23.2s\n",
      "[Parallel(n_jobs=-1)]: Done 192 tasks      | elapsed:  1.7min\n",
      "[Parallel(n_jobs=-1)]: Done 442 tasks      | elapsed:  3.7min\n",
      "[Parallel(n_jobs=-1)]: Done 792 tasks      | elapsed:  7.3min\n",
      "[Parallel(n_jobs=-1)]: Done 1080 out of 1080 | elapsed: 10.3min finished\n"
     ]
    },
    {
     "name": "stdout",
     "output_type": "stream",
     "text": [
      "done in 617.912s\n",
      "\n",
      "Best score: 0.546\n",
      "Best parameters set:\n",
      "\trf__criterion: 'gini'\n",
      "\trf__max_features: 'sqrt'\n",
      "\trf__min_samples_split: 8\n",
      "\trf__n_estimators: 40\n",
      "\ttfidf__smooth_idf: False\n",
      "\ttfidf__use_idf: False\n"
     ]
    }
   ],
   "source": [
    "pipeline = Pipeline([\n",
    "    ('vect', CountVectorizer(max_df=0.5, min_df=0.01, ngram_range=(1,2), stop_words='english')),\n",
    "    ('tfidf', TfidfTransformer()),\n",
    "    ('rf', RandomForestClassifier(n_jobs=3))\n",
    "])\n",
    "\n",
    "# uncommenting more parameters will give better exploring power but will\n",
    "# increase processing time in a combinatorial way\n",
    "parameters = {\n",
    "    \n",
    "    'tfidf__use_idf':(True, False),\n",
    "    'tfidf__smooth_idf':(True, False),\n",
    "    'rf__n_estimators':(30,40,50),\n",
    "    'rf__criterion':(\"gini\",\"entropy\"),\n",
    "    'rf__min_samples_split':(2,6,8),\n",
    "    'rf__max_features':(\"auto\",\"sqrt\",\"log2\")\n",
    "    \n",
    "}\n",
    "\n",
    "if __name__ == \"__main__\":\n",
    "    # multiprocessing requires the fork to happen in a __main__ protected\n",
    "    # block\n",
    "\n",
    "    # find the best parameters for both the feature extraction and the\n",
    "    # classifier\n",
    "    grid_search = GridSearchCV(pipeline, parameters, n_jobs=-1, verbose=1)\n",
    "\n",
    "    print(\"Performing grid search...\")\n",
    "    print(\"pipeline:\", [name for name, _ in pipeline.steps])\n",
    "    print(\"parameters:\")\n",
    "    pprint(parameters)\n",
    "    t0 = time()\n",
    "    grid_search.fit(X_train, y_train)\n",
    "    print(\"done in %0.3fs\" % (time() - t0))\n",
    "    print()\n",
    "\n",
    "    print(\"Best score: %0.3f\" % grid_search.best_score_)\n",
    "    print(\"Best parameters set:\")\n",
    "    best_parameters = grid_search.best_estimator_.get_params()\n",
    "    for param_name in sorted(parameters.keys()):\n",
    "        print(\"\\t%s: %r\" % (param_name, best_parameters[param_name]))"
   ]
  },
  {
   "cell_type": "markdown",
   "metadata": {},
   "source": [
    "Performance similar to SGD. "
   ]
  },
  {
   "cell_type": "code",
   "execution_count": 76,
   "metadata": {},
   "outputs": [],
   "source": [
    "rf = Pipeline([\n",
    "    ('vect', CountVectorizer(max_df=0.5, min_df=0.03, ngram_range=(1,3), stop_words='english')),\n",
    "    ('tfidf', TfidfTransformer()),\n",
    "    ('rf', RandomForestClassifier(max_features='sqrt', min_samples_split=8, n_estimators=50, n_jobs=3))\n",
    "])"
   ]
  },
  {
   "cell_type": "code",
   "execution_count": 77,
   "metadata": {},
   "outputs": [
    {
     "data": {
      "text/plain": [
       "Pipeline(memory=None,\n",
       "         steps=[('vect',\n",
       "                 CountVectorizer(analyzer='word', binary=False,\n",
       "                                 decode_error='strict',\n",
       "                                 dtype=<class 'numpy.int64'>, encoding='utf-8',\n",
       "                                 input='content', lowercase=True, max_df=0.5,\n",
       "                                 max_features=None, min_df=0.03,\n",
       "                                 ngram_range=(1, 3), preprocessor=None,\n",
       "                                 stop_words='english', strip_accents=None,\n",
       "                                 token_pattern='(?u)\\\\b\\\\w\\\\w+\\\\b',\n",
       "                                 tokenizer=None, vocabu...\n",
       "                 RandomForestClassifier(bootstrap=True, ccp_alpha=0.0,\n",
       "                                        class_weight=None, criterion='gini',\n",
       "                                        max_depth=None, max_features='sqrt',\n",
       "                                        max_leaf_nodes=None, max_samples=None,\n",
       "                                        min_impurity_decrease=0.0,\n",
       "                                        min_impurity_split=None,\n",
       "                                        min_samples_leaf=1, min_samples_split=8,\n",
       "                                        min_weight_fraction_leaf=0.0,\n",
       "                                        n_estimators=50, n_jobs=3,\n",
       "                                        oob_score=False, random_state=None,\n",
       "                                        verbose=0, warm_start=False))],\n",
       "         verbose=False)"
      ]
     },
     "execution_count": 77,
     "metadata": {},
     "output_type": "execute_result"
    }
   ],
   "source": [
    "rf.fit(X_train, y_train)"
   ]
  },
  {
   "cell_type": "code",
   "execution_count": 78,
   "metadata": {},
   "outputs": [],
   "source": [
    "y_pred = rf.predict(X_test)"
   ]
  },
  {
   "cell_type": "code",
   "execution_count": 79,
   "metadata": {},
   "outputs": [
    {
     "data": {
      "text/plain": [
       "0.6391752577319587"
      ]
     },
     "execution_count": 79,
     "metadata": {},
     "output_type": "execute_result"
    }
   ],
   "source": [
    "rf.score(X_test, y_test)"
   ]
  },
  {
   "cell_type": "markdown",
   "metadata": {},
   "source": [
    "SGD outperforms RandomForest in this case. "
   ]
  },
  {
   "cell_type": "markdown",
   "metadata": {
    "colab_type": "text",
    "id": "5lqFFadrde31"
   },
   "source": [
    "## Model 3: Use Pretrained GloVe Model"
   ]
  },
  {
   "cell_type": "markdown",
   "metadata": {
    "colab_type": "text",
    "id": "xQaSjclkde32"
   },
   "source": [
    "#### Getting the Total Vocabulary\n",
    "\n",
    "Sort vocab by frequency, take top 200, set that = sub set. Use that to get vectors."
   ]
  },
  {
   "cell_type": "code",
   "execution_count": 80,
   "metadata": {
    "colab": {},
    "colab_type": "code",
    "id": "vUF42ZNzde32"
   },
   "outputs": [],
   "source": [
    "total_vocabulary = set(word for jd in data for word in jd)\n",
    "\n",
    "#get glove for the limit_vocabulary "
   ]
  },
  {
   "cell_type": "code",
   "execution_count": 81,
   "metadata": {
    "colab": {},
    "colab_type": "code",
    "id": "YSDuTyA0de35",
    "outputId": "865fbce3-dc5d-4747-ebf3-e24bf182361b"
   },
   "outputs": [
    {
     "name": "stdout",
     "output_type": "stream",
     "text": [
      "There are 13272 unique tokens in the dataset.\n"
     ]
    }
   ],
   "source": [
    "max_length=len(total_vocabulary)\n",
    "print('There are {} unique tokens in the dataset.'.format(len(total_vocabulary)))"
   ]
  },
  {
   "cell_type": "code",
   "execution_count": 83,
   "metadata": {
    "colab": {},
    "colab_type": "code",
    "id": "okhX8DYAde37"
   },
   "outputs": [],
   "source": [
    "#Get the appropriate vectors out of the GloVe file\n",
    "glove = {}\n",
    "with open('glove_6B_50d.txt', 'rb') as f:\n",
    "    for line in f:\n",
    "        parts = line.split()\n",
    "        word = parts[0].decode('utf-8')\n",
    "        if word in total_vocabulary:   \n",
    "            vector = np.array(parts[1:], dtype=np.float32)\n",
    "            glove[word] = vector"
   ]
  },
  {
   "cell_type": "code",
   "execution_count": 84,
   "metadata": {
    "colab": {},
    "colab_type": "code",
    "id": "1wK-2uUdde3-",
    "outputId": "f816c5de-66d5-4527-eb6d-e5d7467ab3dd"
   },
   "outputs": [
    {
     "data": {
      "text/plain": [
       "array([ 5.3101e-01, -5.5869e-01,  1.7674e+00,  4.4824e-01,  2.2341e-01,\n",
       "       -3.4559e-01, -7.7679e-01, -9.6117e-01,  1.1669e+00,  7.4279e-02,\n",
       "        8.1470e-01, -5.9428e-02,  6.4599e-02,  1.5176e-03,  9.9179e-02,\n",
       "        3.6602e-01, -9.8724e-01, -8.3913e-01,  1.5917e-01, -7.7603e-01,\n",
       "        7.3474e-01, -6.4861e-01,  4.6174e-01,  8.8162e-03,  5.1738e-01,\n",
       "       -6.5976e-01, -7.4010e-01, -1.3928e-01,  8.1094e-02,  2.0657e-01,\n",
       "        3.5652e+00, -8.2264e-01,  5.7360e-01, -1.7268e+00,  6.2356e-03,\n",
       "        6.7672e-02, -2.3411e-01,  3.5163e-02,  2.6507e-01, -2.9966e-01,\n",
       "        7.4323e-01, -4.5027e-01,  1.9406e-01,  4.8611e-01, -4.3075e-01,\n",
       "       -2.5210e-01,  1.2774e+00,  1.5815e+00,  6.5838e-01, -2.0978e-01],\n",
       "      dtype=float32)"
      ]
     },
     "execution_count": 84,
     "metadata": {},
     "output_type": "execute_result"
    }
   ],
   "source": [
    "#Each word has a 50 dimension vector space\n",
    "glove['data']"
   ]
  },
  {
   "cell_type": "code",
   "execution_count": 85,
   "metadata": {
    "colab": {},
    "colab_type": "code",
    "id": "zpGfK25hde4B"
   },
   "outputs": [
    {
     "data": {
      "text/plain": [
       "4"
      ]
     },
     "execution_count": 85,
     "metadata": {},
     "output_type": "execute_result"
    }
   ],
   "source": [
    "len(next(iter(glove)))"
   ]
  },
  {
   "cell_type": "code",
   "execution_count": 86,
   "metadata": {
    "colab": {},
    "colab_type": "code",
    "id": "Oedt1e-Zde4G"
   },
   "outputs": [],
   "source": [
    "class W2vVectorizer(object):\n",
    "    \n",
    "    def __init__(self, w2v):\n",
    "        # Takes in a dictionary of words and vectors as input\n",
    "        self.w2v = w2v\n",
    "        if len(w2v) == 0:\n",
    "            self.dimensions = 0\n",
    "        else:\n",
    "            self.dimensions = len(w2v[next(iter(glove))])\n",
    "    \n",
    "    # Note: Even though it doesn't do anything, it's required that this object implement a fit method or else\n",
    "    # it can't be used in a scikit-learn pipeline  \n",
    "    def fit(self, X, y):\n",
    "        return self\n",
    "            \n",
    "    def transform(self, X):\n",
    "        return np.array([\n",
    "            np.mean([self.w2v[w] for w in words if w in self.w2v]\n",
    "                   or [np.zeros(self.dimensions)], axis=0) for words in X])"
   ]
  },
  {
   "cell_type": "markdown",
   "metadata": {
    "colab_type": "text",
    "id": "E0Ao18wWde4I"
   },
   "source": [
    "To be able to use in a pipeline, need fit and transform"
   ]
  },
  {
   "cell_type": "markdown",
   "metadata": {
    "colab_type": "text",
    "id": "NwerYehyde4J"
   },
   "source": [
    "### Random Forest with Grid Search"
   ]
  },
  {
   "cell_type": "markdown",
   "metadata": {
    "colab_type": "text",
    "id": "UEbKJIBkde4J"
   },
   "source": [
    "http://nadbordrozd.github.io/blog/2016/05/20/text-classification-with-word2vec/\n",
    "TF-IDF embedding, focus on important words."
   ]
  },
  {
   "cell_type": "code",
   "execution_count": 87,
   "metadata": {},
   "outputs": [],
   "source": [
    "X_train, X_test, y_train, y_test = train_test_split(data, target_class, test_size=0.1, random_state=4)"
   ]
  },
  {
   "cell_type": "code",
   "execution_count": 88,
   "metadata": {
    "colab": {},
    "colab_type": "code",
    "id": "qVfegx6Ode4K"
   },
   "outputs": [],
   "source": [
    "#Use pipeline\n",
    "from sklearn.ensemble import RandomForestRegressor, RandomForestClassifier\n",
    "from sklearn.svm import SVC\n",
    "from sklearn.svm import SVR\n",
    "from sklearn.linear_model import LinearRegression, SGDClassifier\n",
    "from sklearn.pipeline import Pipeline\n",
    "from sklearn.model_selection import cross_val_score"
   ]
  },
  {
   "cell_type": "code",
   "execution_count": 89,
   "metadata": {},
   "outputs": [
    {
     "name": "stdout",
     "output_type": "stream",
     "text": [
      "Performing grid search...\n",
      "pipeline: ['Word2Vec Vectorizer', 'rf']\n",
      "parameters:\n",
      "{'rf__criterion': ('gini', 'entropy'),\n",
      " 'rf__max_features': ('auto', 'sqrt', 'log2'),\n",
      " 'rf__min_samples_split': (4, 6, 8),\n",
      " 'rf__n_estimators': (30, 50, 80)}\n",
      "Fitting 5 folds for each of 54 candidates, totalling 270 fits\n"
     ]
    },
    {
     "name": "stderr",
     "output_type": "stream",
     "text": [
      "[Parallel(n_jobs=-1)]: Using backend LokyBackend with 4 concurrent workers.\n",
      "[Parallel(n_jobs=-1)]: Done  42 tasks      | elapsed:   41.2s\n",
      "[Parallel(n_jobs=-1)]: Done 192 tasks      | elapsed:  2.9min\n",
      "[Parallel(n_jobs=-1)]: Done 270 out of 270 | elapsed:  4.1min finished\n"
     ]
    },
    {
     "name": "stdout",
     "output_type": "stream",
     "text": [
      "done in 243.937s\n",
      "\n",
      "Best score: 0.467\n",
      "Best parameters set:\n",
      "\trf__criterion: 'gini'\n",
      "\trf__max_features: 'log2'\n",
      "\trf__min_samples_split: 8\n",
      "\trf__n_estimators: 80\n"
     ]
    }
   ],
   "source": [
    "pipeline =  Pipeline([('Word2Vec Vectorizer', W2vVectorizer(glove)),\n",
    "              ('rf', RandomForestClassifier(n_jobs=3))])\n",
    "\n",
    "parameters = {\n",
    "    'rf__n_estimators':(30,50,80),\n",
    "    'rf__criterion':(\"gini\",\"entropy\"),\n",
    "    'rf__min_samples_split':(4,6,8),\n",
    "    'rf__max_features':(\"auto\",\"sqrt\",\"log2\")\n",
    "    \n",
    "}\n",
    "                \n",
    "if __name__ == \"__main__\":\n",
    "    # multiprocessing requires the fork to happen in a __main__ protected\n",
    "    # block\n",
    "\n",
    "    # find the best parameters for both the feature extraction and the\n",
    "    # classifier\n",
    "    grid_search = GridSearchCV(pipeline, parameters, n_jobs=-1, verbose=1)\n",
    "\n",
    "    print(\"Performing grid search...\")\n",
    "    print(\"pipeline:\", [name for name, _ in pipeline.steps])\n",
    "    print(\"parameters:\")\n",
    "    pprint(parameters)\n",
    "    t0 = time()\n",
    "    grid_search.fit(X_train, y_train)\n",
    "    print(\"done in %0.3fs\" % (time() - t0))\n",
    "    print()\n",
    "\n",
    "    print(\"Best score: %0.3f\" % grid_search.best_score_)\n",
    "    print(\"Best parameters set:\")\n",
    "    best_parameters = grid_search.best_estimator_.get_params()\n",
    "    for param_name in sorted(parameters.keys()):\n",
    "        print(\"\\t%s: %r\" % (param_name, best_parameters[param_name]))\n"
   ]
  },
  {
   "cell_type": "code",
   "execution_count": null,
   "metadata": {},
   "outputs": [],
   "source": []
  },
  {
   "cell_type": "code",
   "execution_count": null,
   "metadata": {},
   "outputs": [],
   "source": []
  },
  {
   "cell_type": "code",
   "execution_count": 90,
   "metadata": {},
   "outputs": [],
   "source": [
    "rf = Pipeline([('Word2Vec Vectorizer', W2vVectorizer(glove)),\n",
    "              ('rf', RandomForestClassifier(n_jobs=3, criterion='gini',  max_features='log2', min_samples_split=4, n_estimators=150))])"
   ]
  },
  {
   "cell_type": "code",
   "execution_count": 91,
   "metadata": {},
   "outputs": [
    {
     "data": {
      "text/plain": [
       "Pipeline(memory=None,\n",
       "         steps=[('Word2Vec Vectorizer',\n",
       "                 <__main__.W2vVectorizer object at 0x144a3e7b8>),\n",
       "                ('rf',\n",
       "                 RandomForestClassifier(bootstrap=True, ccp_alpha=0.0,\n",
       "                                        class_weight=None, criterion='gini',\n",
       "                                        max_depth=None, max_features='log2',\n",
       "                                        max_leaf_nodes=None, max_samples=None,\n",
       "                                        min_impurity_decrease=0.0,\n",
       "                                        min_impurity_split=None,\n",
       "                                        min_samples_leaf=1, min_samples_split=4,\n",
       "                                        min_weight_fraction_leaf=0.0,\n",
       "                                        n_estimators=150, n_jobs=3,\n",
       "                                        oob_score=False, random_state=None,\n",
       "                                        verbose=0, warm_start=False))],\n",
       "         verbose=False)"
      ]
     },
     "execution_count": 91,
     "metadata": {},
     "output_type": "execute_result"
    }
   ],
   "source": [
    "rf.fit(X_train, y_train)"
   ]
  },
  {
   "cell_type": "code",
   "execution_count": 92,
   "metadata": {},
   "outputs": [
    {
     "data": {
      "text/plain": [
       "0.5360824742268041"
      ]
     },
     "execution_count": 92,
     "metadata": {},
     "output_type": "execute_result"
    }
   ],
   "source": [
    "rf.score(X_test, y_test)"
   ]
  },
  {
   "cell_type": "markdown",
   "metadata": {
    "colab_type": "text",
    "id": "ZpTsS1EWde4Z"
   },
   "source": [
    "The score is lower than the first Word2Vec model"
   ]
  },
  {
   "cell_type": "markdown",
   "metadata": {},
   "source": [
    "### SGD Classifier in the pipeline"
   ]
  },
  {
   "cell_type": "code",
   "execution_count": 84,
   "metadata": {
    "colab": {},
    "colab_type": "code",
    "id": "4FHOTQx4de4Z"
   },
   "outputs": [],
   "source": [
    "SGD =  Pipeline([('Word2Vec Vectorizer', W2vVectorizer(glove)),\n",
    "              ('SGD', SGDClassifier(alpha=0.0001, max_iter=80, n_jobs=3))])"
   ]
  },
  {
   "cell_type": "code",
   "execution_count": 85,
   "metadata": {
    "colab": {},
    "colab_type": "code",
    "id": "LErTi1sdde4c"
   },
   "outputs": [
    {
     "name": "stderr",
     "output_type": "stream",
     "text": [
      "/Applications/anaconda3/lib/python3.7/site-packages/sklearn/linear_model/_stochastic_gradient.py:557: ConvergenceWarning: Maximum number of iteration reached before convergence. Consider increasing max_iter to improve the fit.\n",
      "  ConvergenceWarning)\n"
     ]
    },
    {
     "data": {
      "text/plain": [
       "Pipeline(memory=None,\n",
       "         steps=[('Word2Vec Vectorizer',\n",
       "                 <__main__.W2vVectorizer object at 0x13c70d898>),\n",
       "                ('SGD',\n",
       "                 SGDClassifier(alpha=0.0001, average=False, class_weight=None,\n",
       "                               early_stopping=False, epsilon=0.1, eta0=0.0,\n",
       "                               fit_intercept=True, l1_ratio=0.15,\n",
       "                               learning_rate='optimal', loss='hinge',\n",
       "                               max_iter=80, n_iter_no_change=5, n_jobs=3,\n",
       "                               penalty='l2', power_t=0.5, random_state=None,\n",
       "                               shuffle=True, tol=0.001, validation_fraction=0.1,\n",
       "                               verbose=0, warm_start=False))],\n",
       "         verbose=False)"
      ]
     },
     "execution_count": 85,
     "metadata": {},
     "output_type": "execute_result"
    }
   ],
   "source": [
    "SGD.fit(X_train, y_train)"
   ]
  },
  {
   "cell_type": "code",
   "execution_count": 86,
   "metadata": {
    "colab": {},
    "colab_type": "code",
    "id": "i8qyNGZtde4e"
   },
   "outputs": [
    {
     "data": {
      "text/plain": [
       "0.21649484536082475"
      ]
     },
     "execution_count": 86,
     "metadata": {},
     "output_type": "execute_result"
    }
   ],
   "source": [
    "SGD.score(X_test, y_test)"
   ]
  },
  {
   "cell_type": "markdown",
   "metadata": {},
   "source": [
    "SGD performs worse than RandomForest in this case. "
   ]
  },
  {
   "cell_type": "markdown",
   "metadata": {
    "colab_type": "text",
    "id": "MfC_eg3pde4g"
   },
   "source": [
    "## Model 4: Deep Learning Models with Word Embeddings"
   ]
  },
  {
   "cell_type": "code",
   "execution_count": 78,
   "metadata": {
    "colab": {},
    "colab_type": "code",
    "id": "xPhRNfUHde4g",
    "outputId": "f061e79d-c2bd-4847-f5ff-a12378980948"
   },
   "outputs": [],
   "source": [
    "from keras.preprocessing.sequence import pad_sequences\n",
    "from keras.layers import Input, Dense, LSTM, Embedding\n",
    "from keras.layers import Dropout, Activation, Bidirectional, GlobalMaxPool1D\n",
    "from keras.layers.convolutional import Conv1D\n",
    "from keras.layers.convolutional import MaxPooling1D\n",
    "\n",
    "from keras.models import Sequential\n",
    "from keras import initializers, regularizers, constraints, optimizers, layers\n",
    "from keras.preprocessing import text, sequence\n",
    "from keras.layers import Flatten\n",
    "\n",
    "from keras.utils import to_categorical\n",
    "\n",
    "import matplotlib.pyplot as plt"
   ]
  },
  {
   "cell_type": "markdown",
   "metadata": {},
   "source": [
    "###  Word Embedding"
   ]
  },
  {
   "cell_type": "markdown",
   "metadata": {},
   "source": [
    "We will map each job description into a real vector domain, a popular technique when working with text called word embedding. This is a technique where words are encoded as real-valued vectors in a high dimensional space, where the similarity between words in terms of meaning translates to closeness in the vector space.\n",
    "\n",
    "Keras provides a convenient way to convert positive integer representations of words into a word embedding by an Embedding layer.\n",
    "\n",
    "We will map each word onto a 64 length real valued vector (embedding size). We will also limit the total number of words that we are interested in modeling to the 1000 most frequent words, and zero out the rest. Finally, the sequence length (number of words) in each review varies, so we will constrain each job description to be 500 words, truncating long reviews and pad the shorter reviews with zero values. "
   ]
  },
  {
   "cell_type": "code",
   "execution_count": 100,
   "metadata": {
    "colab": {},
    "colab_type": "code",
    "id": "MlfCJ3Sede4m"
   },
   "outputs": [],
   "source": [
    "tokenizer = text.Tokenizer() \n",
    "tokenizer.num_words = 1000  #limit the number of words to keep most common 1000 words\n",
    "tokenizer.fit_on_texts(list(salary_df['combined_text']))\n",
    "list_tokenized_jd = tokenizer.texts_to_sequences(salary_df['combined_text'])\n",
    "\n",
    "X_t = sequence.pad_sequences(list_tokenized_jd, maxlen=400, padding = 'post') "
   ]
  },
  {
   "cell_type": "code",
   "execution_count": 101,
   "metadata": {},
   "outputs": [
    {
     "data": {
      "text/plain": [
       "(963, 400)"
      ]
     },
     "execution_count": 101,
     "metadata": {},
     "output_type": "execute_result"
    }
   ],
   "source": [
    "X_t.shape"
   ]
  },
  {
   "cell_type": "code",
   "execution_count": 102,
   "metadata": {
    "colab": {},
    "colab_type": "code",
    "id": "0dKkpHICde4n",
    "outputId": "d58d6c38-af96-4a5b-a538-f554925fa067"
   },
   "outputs": [
    {
     "data": {
      "text/plain": [
       "963"
      ]
     },
     "execution_count": 102,
     "metadata": {},
     "output_type": "execute_result"
    }
   ],
   "source": [
    "len(list_tokenized_jd)"
   ]
  },
  {
   "cell_type": "code",
   "execution_count": 103,
   "metadata": {
    "colab": {},
    "colab_type": "code",
    "id": "mq_ZD2-Ede4j"
   },
   "outputs": [],
   "source": [
    "#Encoding to categorical classes\n",
    "y = to_categorical(target_class.values, num_classes=6, dtype=\"float32\")\n"
   ]
  },
  {
   "cell_type": "code",
   "execution_count": 104,
   "metadata": {
    "colab": {},
    "colab_type": "code",
    "id": "i8B6kWwTde4q",
    "outputId": "c09f418c-928a-43cc-c939-7aa53053697b"
   },
   "outputs": [
    {
     "data": {
      "text/plain": [
       "(963, 6)"
      ]
     },
     "execution_count": 104,
     "metadata": {},
     "output_type": "execute_result"
    }
   ],
   "source": [
    "y.shape"
   ]
  },
  {
   "cell_type": "markdown",
   "metadata": {
    "colab_type": "text",
    "id": "n-t9KkH9de4t"
   },
   "source": [
    "#### Train-Test Split"
   ]
  },
  {
   "cell_type": "code",
   "execution_count": 105,
   "metadata": {
    "colab": {},
    "colab_type": "code",
    "id": "h1Fkq34-de4u"
   },
   "outputs": [],
   "source": [
    "X_train, X_test, y_train, y_test = train_test_split(X_t, y, test_size=0.2, random_state=4)"
   ]
  },
  {
   "cell_type": "code",
   "execution_count": 106,
   "metadata": {
    "colab": {},
    "colab_type": "code",
    "id": "f_WUVyTLde4v",
    "outputId": "da10402f-f598-44e7-c926-1b3a3c489541",
    "scrolled": true
   },
   "outputs": [
    {
     "data": {
      "text/plain": [
       "(193, 400)"
      ]
     },
     "execution_count": 106,
     "metadata": {},
     "output_type": "execute_result"
    }
   ],
   "source": [
    "X_test.shape"
   ]
  },
  {
   "cell_type": "code",
   "execution_count": 107,
   "metadata": {
    "colab": {},
    "colab_type": "code",
    "id": "gu7pPgf5de4x",
    "outputId": "b5116b1f-3152-4a9f-d034-c0739f7c6734"
   },
   "outputs": [
    {
     "data": {
      "text/plain": [
       "(193, 6)"
      ]
     },
     "execution_count": 107,
     "metadata": {},
     "output_type": "execute_result"
    }
   ],
   "source": [
    "y_test.shape"
   ]
  },
  {
   "cell_type": "markdown",
   "metadata": {},
   "source": [
    "### Create a base model"
   ]
  },
  {
   "cell_type": "code",
   "execution_count": 108,
   "metadata": {
    "colab": {},
    "colab_type": "code",
    "id": "nwe00hXOde4_",
    "scrolled": true
   },
   "outputs": [],
   "source": [
    "model = Sequential()\n",
    "\n",
    "embedding_size = 64  #each word onto a 32 length real valued vector\n",
    "model.add(Embedding(input_dim = 1000, output_dim = embedding_size, input_length = 400)) #try 100, 200, single LSTM and single dense 100\n",
    "model.add(LSTM(100))\n",
    "#model.add(LSTM(64))\n",
    "#model.add(GlobalMaxPool1D())\n",
    "#model.add(Dropout(0.5))\n",
    "model.add(Dense(64, activation='relu'))\n",
    "model.add(Dropout(0.5))\n",
    "model.add(Dense(16, activation='relu'))\n",
    "#model.add(Flatten())   #add Flatten layer \n",
    "model.add(Dense(6, activation='softmax'))"
   ]
  },
  {
   "cell_type": "code",
   "execution_count": 109,
   "metadata": {
    "colab": {},
    "colab_type": "code",
    "id": "ROzc4IHWde5A",
    "outputId": "aa9d8204-8392-4f42-c7d9-ab1a4cd4b09d"
   },
   "outputs": [
    {
     "name": "stdout",
     "output_type": "stream",
     "text": [
      "Model: \"sequential_14\"\n",
      "_________________________________________________________________\n",
      "Layer (type)                 Output Shape              Param #   \n",
      "=================================================================\n",
      "embedding_3 (Embedding)      (None, 400, 64)           64000     \n",
      "_________________________________________________________________\n",
      "lstm_6 (LSTM)                (None, 100)               66000     \n",
      "_________________________________________________________________\n",
      "dense_30 (Dense)             (None, 64)                6464      \n",
      "_________________________________________________________________\n",
      "dropout_4 (Dropout)          (None, 64)                0         \n",
      "_________________________________________________________________\n",
      "dense_31 (Dense)             (None, 16)                1040      \n",
      "_________________________________________________________________\n",
      "dense_32 (Dense)             (None, 6)                 102       \n",
      "=================================================================\n",
      "Total params: 137,606\n",
      "Trainable params: 137,606\n",
      "Non-trainable params: 0\n",
      "_________________________________________________________________\n"
     ]
    }
   ],
   "source": [
    "model.summary()"
   ]
  },
  {
   "cell_type": "code",
   "execution_count": 110,
   "metadata": {
    "colab": {},
    "colab_type": "code",
    "id": "I8NdwrUTde5D"
   },
   "outputs": [],
   "source": [
    "model.compile(loss='categorical_crossentropy', optimizer='adam', metrics=['accuracy'])"
   ]
  },
  {
   "cell_type": "code",
   "execution_count": 111,
   "metadata": {
    "colab": {},
    "colab_type": "code",
    "id": "ZiBp9FQTde5E",
    "outputId": "7c34871d-05c2-4b20-89e1-1525fe42afc6",
    "scrolled": false
   },
   "outputs": [
    {
     "name": "stdout",
     "output_type": "stream",
     "text": [
      "Train on 770 samples, validate on 193 samples\n",
      "Epoch 1/20\n",
      "770/770 [==============================] - 6s 8ms/step - loss: 1.7918 - accuracy: 0.1636 - val_loss: 1.7894 - val_accuracy: 0.1762\n",
      "Epoch 2/20\n",
      "770/770 [==============================] - 5s 7ms/step - loss: 1.7891 - accuracy: 0.1857 - val_loss: 1.7890 - val_accuracy: 0.1606\n",
      "Epoch 3/20\n",
      "770/770 [==============================] - 5s 7ms/step - loss: 1.7886 - accuracy: 0.1896 - val_loss: 1.7889 - val_accuracy: 0.1554\n",
      "Epoch 4/20\n",
      "770/770 [==============================] - 5s 7ms/step - loss: 1.7841 - accuracy: 0.2104 - val_loss: 1.7863 - val_accuracy: 0.1710\n",
      "Epoch 5/20\n",
      "770/770 [==============================] - 5s 7ms/step - loss: 1.7794 - accuracy: 0.2104 - val_loss: 1.7836 - val_accuracy: 0.1969\n",
      "Epoch 6/20\n",
      "770/770 [==============================] - 5s 7ms/step - loss: 1.7662 - accuracy: 0.2234 - val_loss: 1.7784 - val_accuracy: 0.1917\n",
      "Epoch 7/20\n",
      "770/770 [==============================] - 5s 7ms/step - loss: 1.8039 - accuracy: 0.2468 - val_loss: 1.7740 - val_accuracy: 0.2176\n",
      "Epoch 8/20\n",
      "770/770 [==============================] - 6s 8ms/step - loss: 1.7502 - accuracy: 0.2688 - val_loss: 1.7701 - val_accuracy: 0.2021\n",
      "Epoch 9/20\n",
      "770/770 [==============================] - 5s 7ms/step - loss: 1.7267 - accuracy: 0.2299 - val_loss: 1.7568 - val_accuracy: 0.1813\n",
      "Epoch 10/20\n",
      "770/770 [==============================] - 5s 7ms/step - loss: 1.6990 - accuracy: 0.2455 - val_loss: 1.7560 - val_accuracy: 0.1865\n",
      "Epoch 11/20\n",
      "770/770 [==============================] - 5s 7ms/step - loss: 1.6644 - accuracy: 0.3052 - val_loss: 1.7348 - val_accuracy: 0.2228\n",
      "Epoch 12/20\n",
      "770/770 [==============================] - 5s 7ms/step - loss: 1.6235 - accuracy: 0.2922 - val_loss: 1.7664 - val_accuracy: 0.2228\n",
      "Epoch 13/20\n",
      "770/770 [==============================] - 6s 8ms/step - loss: 1.5767 - accuracy: 0.3247 - val_loss: 1.7688 - val_accuracy: 0.1813\n",
      "Epoch 14/20\n",
      "770/770 [==============================] - 6s 8ms/step - loss: 1.5613 - accuracy: 0.3247 - val_loss: 1.8453 - val_accuracy: 0.2176\n",
      "Epoch 15/20\n",
      "770/770 [==============================] - 6s 8ms/step - loss: 1.4938 - accuracy: 0.3429 - val_loss: 1.8100 - val_accuracy: 0.2124\n",
      "Epoch 16/20\n",
      "770/770 [==============================] - 6s 8ms/step - loss: 1.4998 - accuracy: 0.3442 - val_loss: 1.8899 - val_accuracy: 0.2539\n",
      "Epoch 17/20\n",
      "770/770 [==============================] - 5s 7ms/step - loss: 1.4692 - accuracy: 0.3610 - val_loss: 1.9637 - val_accuracy: 0.2539\n",
      "Epoch 18/20\n",
      "770/770 [==============================] - 6s 8ms/step - loss: 1.4687 - accuracy: 0.3494 - val_loss: 1.8398 - val_accuracy: 0.2539\n",
      "Epoch 19/20\n",
      "770/770 [==============================] - 6s 7ms/step - loss: 1.4636 - accuracy: 0.3610 - val_loss: 1.9818 - val_accuracy: 0.2280\n",
      "Epoch 20/20\n",
      "770/770 [==============================] - 5s 7ms/step - loss: 1.4253 - accuracy: 0.3922 - val_loss: 1.9809 - val_accuracy: 0.2591\n"
     ]
    }
   ],
   "source": [
    "history = model.fit(X_train, y_train, epochs=20, batch_size=50, validation_data=[X_test, y_test])"
   ]
  },
  {
   "cell_type": "markdown",
   "metadata": {
    "colab_type": "text",
    "id": "XDpePK3ude5H"
   },
   "source": [
    "Hyperparameter testing (layer size, learning rate) \n",
    "Grid Search: https://github.com/autonomio/talos\n",
    "https://machinelearningmastery.com/grid-search-hyperparameters-deep-learning-models-python-keras/\n",
    "Google Collab"
   ]
  },
  {
   "cell_type": "code",
   "execution_count": 112,
   "metadata": {
    "colab": {},
    "colab_type": "code",
    "id": "zb4F2jC3de5I",
    "outputId": "7b2298e2-4ba2-496a-f6af-114003a8e467"
   },
   "outputs": [
    {
     "name": "stdout",
     "output_type": "stream",
     "text": [
      "Train: 0.417, Test: 0.259\n"
     ]
    },
    {
     "data": {
      "image/png": "[encoded data removed]",
      "text/plain": [
       "<Figure size 432x288 with 1 Axes>"
      ]
     },
     "metadata": {
      "needs_background": "light"
     },
     "output_type": "display_data"
    }
   ],
   "source": [
    "# evaluate the model\n",
    "_, train_acc = model.evaluate(X_train, y_train, verbose=0)\n",
    "_, test_acc = model.evaluate(X_test, y_test, verbose=0)\n",
    "print('Train: %.3f, Test: %.3f' % (train_acc, test_acc))\n",
    "# plot training history\n",
    "plt.plot(history.history['loss'], label='train')\n",
    "plt.plot(history.history['val_loss'], label='test')\n",
    "plt.title('Training and test loss at each epoch', fontsize=14)\n",
    "plt.legend()\n",
    "plt.show()\n"
   ]
  },
  {
   "cell_type": "markdown",
   "metadata": {},
   "source": [
    "The Neural Network model with simple LSTM layer performed not much better than previous SGD or RF Classification models. We will perform some hyperparameter tuning in the following section."
   ]
  },
  {
   "cell_type": "markdown",
   "metadata": {},
   "source": [
    "Tuning the Network Model\n",
    "\n",
    "- Use Word2Vec/GloVe embedding:https://blog.keras.io/using-pre-trained-word-embeddings-in-a-keras-model.html\n",
    "\n",
    "- Optimizers\n",
    "- Learning Rate\n",
    "- Batch Size\n",
    "- Regularization: prevent overfitting\n",
    "- Dropout\n",
    "- Early Stopping"
   ]
  },
  {
   "cell_type": "markdown",
   "metadata": {},
   "source": [
    "### Hyperparameter tuning on a regular embedding layer "
   ]
  },
  {
   "cell_type": "code",
   "execution_count": 113,
   "metadata": {},
   "outputs": [],
   "source": [
    "X_train, X_test, y_train, y_test = train_test_split(X_t, y, test_size=0.1, random_state=4)"
   ]
  },
  {
   "cell_type": "code",
   "execution_count": 121,
   "metadata": {},
   "outputs": [],
   "source": [
    "#Add Convolutional Layer and MaxPooling Layer\n",
    "model = Sequential()\n",
    "\n",
    "embedding_size = 128  #each word onto a 128 length real valued vector\n",
    "model.add(Embedding(input_dim = 1000, output_dim = embedding_size, input_length = 400)) #try 100, 200, single LSTM and single dense 100\n",
    "model.add(Conv1D(filters=32, kernel_size = 3, padding='same', activation='relu'))\n",
    "model.add(MaxPooling1D(pool_size=2))\n",
    "model.add(LSTM(64))\n",
    "#model.add(LSTM(64))\n",
    "#model.add(GlobalMaxPool1D())\n",
    "#model.add(Dropout(0.5))\n",
    "model.add(Dense(32, activation='relu'))\n",
    "model.add(Dropout(0.5))\n",
    "#model.add(Dense(32, activation='relu'))\n",
    "#model.add(Flatten())   #add Flatten layer \n",
    "model.add(Dense(6, activation='softmax'))"
   ]
  },
  {
   "cell_type": "code",
   "execution_count": 122,
   "metadata": {},
   "outputs": [],
   "source": [
    "model.compile(loss='categorical_crossentropy', optimizer='adam', metrics=['accuracy'])"
   ]
  },
  {
   "cell_type": "code",
   "execution_count": 123,
   "metadata": {},
   "outputs": [
    {
     "name": "stdout",
     "output_type": "stream",
     "text": [
      "Model: \"sequential_18\"\n",
      "_________________________________________________________________\n",
      "Layer (type)                 Output Shape              Param #   \n",
      "=================================================================\n",
      "embedding_7 (Embedding)      (None, 400, 128)          128000    \n",
      "_________________________________________________________________\n",
      "conv1d_4 (Conv1D)            (None, 400, 32)           12320     \n",
      "_________________________________________________________________\n",
      "max_pooling1d_4 (MaxPooling1 (None, 200, 32)           0         \n",
      "_________________________________________________________________\n",
      "lstm_10 (LSTM)               (None, 64)                24832     \n",
      "_________________________________________________________________\n",
      "dense_38 (Dense)             (None, 32)                2080      \n",
      "_________________________________________________________________\n",
      "dropout_8 (Dropout)          (None, 32)                0         \n",
      "_________________________________________________________________\n",
      "dense_39 (Dense)             (None, 6)                 198       \n",
      "=================================================================\n",
      "Total params: 167,430\n",
      "Trainable params: 167,430\n",
      "Non-trainable params: 0\n",
      "_________________________________________________________________\n"
     ]
    }
   ],
   "source": [
    "model.summary()"
   ]
  },
  {
   "cell_type": "code",
   "execution_count": 124,
   "metadata": {
    "scrolled": true
   },
   "outputs": [
    {
     "name": "stdout",
     "output_type": "stream",
     "text": [
      "Train on 866 samples, validate on 97 samples\n",
      "Epoch 1/20\n",
      "866/866 [==============================] - 4s 5ms/step - loss: 1.7882 - accuracy: 0.1975 - val_loss: 1.7881 - val_accuracy: 0.2062\n",
      "Epoch 2/20\n",
      "866/866 [==============================] - 3s 4ms/step - loss: 1.7819 - accuracy: 0.1894 - val_loss: 1.7747 - val_accuracy: 0.2062\n",
      "Epoch 3/20\n",
      "866/866 [==============================] - 4s 4ms/step - loss: 1.7720 - accuracy: 0.2021 - val_loss: 1.7616 - val_accuracy: 0.2165\n",
      "Epoch 4/20\n",
      "866/866 [==============================] - 3s 4ms/step - loss: 1.7441 - accuracy: 0.2136 - val_loss: 1.7527 - val_accuracy: 0.1959\n",
      "Epoch 5/20\n",
      "866/866 [==============================] - 3s 4ms/step - loss: 1.7198 - accuracy: 0.2483 - val_loss: 1.7462 - val_accuracy: 0.2371\n",
      "Epoch 6/20\n",
      "866/866 [==============================] - 4s 4ms/step - loss: 1.6851 - accuracy: 0.2714 - val_loss: 1.8915 - val_accuracy: 0.2371\n",
      "Epoch 7/20\n",
      "866/866 [==============================] - 4s 4ms/step - loss: 1.6586 - accuracy: 0.2714 - val_loss: 1.8232 - val_accuracy: 0.2577\n",
      "Epoch 8/20\n",
      "866/866 [==============================] - 4s 4ms/step - loss: 1.6229 - accuracy: 0.2887 - val_loss: 1.7345 - val_accuracy: 0.2887\n",
      "Epoch 9/20\n",
      "866/866 [==============================] - 4s 4ms/step - loss: 1.5677 - accuracy: 0.3245 - val_loss: 1.7882 - val_accuracy: 0.2784\n",
      "Epoch 10/20\n",
      "866/866 [==============================] - 4s 5ms/step - loss: 1.4841 - accuracy: 0.3441 - val_loss: 1.8641 - val_accuracy: 0.2990\n",
      "Epoch 11/20\n",
      "866/866 [==============================] - 4s 4ms/step - loss: 1.4589 - accuracy: 0.3614 - val_loss: 1.7423 - val_accuracy: 0.2887\n",
      "Epoch 12/20\n",
      "866/866 [==============================] - 4s 4ms/step - loss: 1.4443 - accuracy: 0.3661 - val_loss: 1.7797 - val_accuracy: 0.2784\n",
      "Epoch 13/20\n",
      "866/866 [==============================] - 4s 4ms/step - loss: 1.3865 - accuracy: 0.3891 - val_loss: 1.8236 - val_accuracy: 0.2887\n",
      "Epoch 14/20\n",
      "866/866 [==============================] - 4s 5ms/step - loss: 1.4357 - accuracy: 0.3753 - val_loss: 1.8015 - val_accuracy: 0.2990\n",
      "Epoch 15/20\n",
      "866/866 [==============================] - 3s 4ms/step - loss: 1.4018 - accuracy: 0.3845 - val_loss: 1.8166 - val_accuracy: 0.2784\n",
      "Epoch 16/20\n",
      "866/866 [==============================] - 3s 4ms/step - loss: 1.3633 - accuracy: 0.3811 - val_loss: 1.9341 - val_accuracy: 0.2784\n",
      "Epoch 17/20\n",
      "866/866 [==============================] - 3s 4ms/step - loss: 1.3126 - accuracy: 0.4226 - val_loss: 2.1875 - val_accuracy: 0.2577\n",
      "Epoch 18/20\n",
      "866/866 [==============================] - 3s 4ms/step - loss: 1.2627 - accuracy: 0.4492 - val_loss: 2.1013 - val_accuracy: 0.2577\n",
      "Epoch 19/20\n",
      "866/866 [==============================] - 4s 5ms/step - loss: 1.2620 - accuracy: 0.4538 - val_loss: 2.2811 - val_accuracy: 0.2577\n",
      "Epoch 20/20\n",
      "866/866 [==============================] - 4s 5ms/step - loss: 1.3267 - accuracy: 0.4238 - val_loss: 2.1342 - val_accuracy: 0.3299\n"
     ]
    }
   ],
   "source": [
    "history = model.fit(X_train, y_train, epochs=20, batch_size=32, validation_data=[X_test, y_test])"
   ]
  },
  {
   "cell_type": "code",
   "execution_count": 115,
   "metadata": {},
   "outputs": [
    {
     "name": "stdout",
     "output_type": "stream",
     "text": [
      "Train Accuracy: 1.000, Test Accuracy: 0.515\n"
     ]
    },
    {
     "data": {
      "image/png": "[encoded data removed]",
      "text/plain": [
       "<Figure size 432x288 with 1 Axes>"
      ]
     },
     "metadata": {
      "needs_background": "light"
     },
     "output_type": "display_data"
    }
   ],
   "source": [
    "# evaluate the model\n",
    "_, train_acc = model.evaluate(X_train, y_train, verbose=0)\n",
    "_, test_acc = model.evaluate(X_test, y_test, verbose=0)\n",
    "print('Train Accuracy: %.3f, Test Accuracy: %.3f' % (train_acc, test_acc))\n",
    "\n",
    "plt.plot(history.history['loss'], label='train')\n",
    "plt.plot(history.history['val_loss'], label='test')\n",
    "plt.title(\"Train vs Test Loss at each epoch\")\n",
    "plt.legend()\n",
    "plt.show()"
   ]
  },
  {
   "cell_type": "markdown",
   "metadata": {},
   "source": [
    "Try fewer input dimension and input words, add Early Stop layer. "
   ]
  },
  {
   "cell_type": "code",
   "execution_count": 148,
   "metadata": {},
   "outputs": [],
   "source": [
    "#Add Early Stopping layer, L1 and L2 regularization\n",
    "from keras.callbacks import EarlyStopping\n",
    "from keras import regularizers\n",
    "\n",
    "\n",
    "model = Sequential()\n",
    "embedding_size = 64  \n",
    "model.add(Embedding(input_dim = 1000, output_dim = embedding_size, input_length = 200)) #try 100, 200, single LSTM and single dense 100\n",
    "#Take out conv1d and maxpooling\n",
    "model.add(Conv1D(filters=32, kernel_size = 3, padding='same', activation='relu'))\n",
    "model.add(MaxPooling1D(pool_size=2))\n",
    "model.add(LSTM(128, return_sequences=True)) #the last LSTM doesn't need  to return sequence\n",
    "#add LSTM\n",
    "\n",
    "#add dropout here\n",
    "model.add(Dense(100, activation='relu'))\n",
    "model.add(Dropout(0.5))\n",
    "model.add(Flatten())   #add Flatten layer \n",
    "model.add(Dense(6, activation='softmax'))\n",
    "\n",
    "model.compile(loss='categorical_crossentropy', optimizer='Adam', metrics=['accuracy'])\n"
   ]
  },
  {
   "cell_type": "code",
   "execution_count": 149,
   "metadata": {
    "scrolled": true
   },
   "outputs": [
    {
     "name": "stdout",
     "output_type": "stream",
     "text": [
      "Train on 907 samples, validate on 101 samples\n",
      "Epoch 1/30\n",
      "907/907 [==============================] - 8s 9ms/step - loss: 1.9354 - accuracy: 0.2194 - val_loss: 1.9799 - val_accuracy: 0.1386\n",
      "Epoch 2/30\n",
      "907/907 [==============================] - 7s 7ms/step - loss: 1.8568 - accuracy: 0.2404 - val_loss: 1.9903 - val_accuracy: 0.1782\n",
      "Epoch 3/30\n",
      "907/907 [==============================] - 7s 7ms/step - loss: 1.6685 - accuracy: 0.3197 - val_loss: 2.2110 - val_accuracy: 0.3168\n",
      "Epoch 4/30\n",
      "907/907 [==============================] - 7s 7ms/step - loss: 1.4865 - accuracy: 0.3936 - val_loss: 1.7135 - val_accuracy: 0.2871\n",
      "Epoch 5/30\n",
      "907/907 [==============================] - 7s 7ms/step - loss: 1.2415 - accuracy: 0.5281 - val_loss: 1.6493 - val_accuracy: 0.2970\n",
      "Epoch 6/30\n",
      "907/907 [==============================] - 7s 8ms/step - loss: 1.0580 - accuracy: 0.5910 - val_loss: 1.7719 - val_accuracy: 0.3168\n",
      "Epoch 7/30\n",
      "907/907 [==============================] - 7s 7ms/step - loss: 0.8364 - accuracy: 0.6858 - val_loss: 2.0349 - val_accuracy: 0.3762\n",
      "Epoch 8/30\n",
      "907/907 [==============================] - 7s 7ms/step - loss: 0.6496 - accuracy: 0.7685 - val_loss: 2.0146 - val_accuracy: 0.4356\n",
      "Epoch 9/30\n",
      "907/907 [==============================] - 7s 7ms/step - loss: 0.4700 - accuracy: 0.8390 - val_loss: 2.2638 - val_accuracy: 0.4455\n",
      "Epoch 10/30\n",
      "907/907 [==============================] - 7s 7ms/step - loss: 0.3477 - accuracy: 0.8743 - val_loss: 2.7191 - val_accuracy: 0.4554\n",
      "Epoch 00010: early stopping\n",
      "Train Accuracy: 0.931, Test Accuracy: 0.455\n"
     ]
    },
    {
     "data": {
      "image/png": "[encoded data removed]",
      "text/plain": [
       "<Figure size 432x288 with 1 Axes>"
      ]
     },
     "metadata": {
      "needs_background": "light"
     },
     "output_type": "display_data"
    }
   ],
   "source": [
    "es = EarlyStopping(monitor='val_loss', patience = 5, mode='min', verbose=1)\n",
    "\n",
    "history = model.fit(X_train, y_train, epochs=30, batch_size=32, validation_data=[X_test, y_test], callbacks=[es])\n",
    "# evaluate the model\n",
    "_, train_acc = model.evaluate(X_train, y_train, verbose=0)\n",
    "_, test_acc = model.evaluate(X_test, y_test, verbose=0)\n",
    "print('Train Accuracy: %.3f, Test Accuracy: %.3f' % (train_acc, test_acc))\n",
    "# plot training history\n",
    "plt.plot(history.history['loss'], label='train')\n",
    "plt.plot(history.history['val_loss'], label='test')\n",
    "plt.title(\"Train vs Test Loss at each epoch\")\n",
    "plt.legend()\n",
    "plt.show()"
   ]
  },
  {
   "cell_type": "markdown",
   "metadata": {},
   "source": [
    "## Model 5: Use pre-trained Word2Vec as the embedding layer"
   ]
  },
  {
   "cell_type": "code",
   "execution_count": 125,
   "metadata": {
    "colab": {},
    "colab_type": "code",
    "id": "nw7rYGqdde2e"
   },
   "outputs": [],
   "source": [
    "w2v_model2 = Word2Vec(data,\n",
    "                size=100, #size is the number of dimensions of the N-dimensional space and Word2Vec maps the words into\n",
    "                window=5,\n",
    "                min_count=3, #min frequency appeared in the corpus\n",
    "                workers=4)"
   ]
  },
  {
   "cell_type": "code",
   "execution_count": 126,
   "metadata": {
    "colab": {},
    "colab_type": "code",
    "id": "UZ0XpKJkde2h",
    "outputId": "06eb2c99-3434-4668-d890-e61ea841fbb3"
   },
   "outputs": [
    {
     "data": {
      "text/plain": [
       "(3186140, 3460040)"
      ]
     },
     "execution_count": 126,
     "metadata": {},
     "output_type": "execute_result"
    }
   ],
   "source": [
    "w2v_model2.train(data,total_examples=w2v_model2.corpus_count, epochs=10)"
   ]
  },
  {
   "cell_type": "code",
   "execution_count": 127,
   "metadata": {
    "colab": {},
    "colab_type": "code",
    "id": "60ZVS0yRde2o"
   },
   "outputs": [],
   "source": [
    "wv = w2v_model2.wv"
   ]
  },
  {
   "cell_type": "code",
   "execution_count": 128,
   "metadata": {},
   "outputs": [],
   "source": [
    "#save model to be used in deep learning step\n",
    "filename = 'jd_embedding_word2vec2.txt'\n",
    "w2v_model2.wv.save_word2vec_format(filename, binary=False)"
   ]
  },
  {
   "cell_type": "code",
   "execution_count": 129,
   "metadata": {},
   "outputs": [],
   "source": [
    "#load the word embedding as a directory of words to vectors\n",
    "\n",
    "import os\n",
    "\n",
    "embeddings_index = {}\n",
    "f = open(os.path.join('','jd_embedding_word2vec2.txt'), encoding = \"utf-8\")\n",
    "for line in f:\n",
    "    values = line.split()\n",
    "    word = values[0]\n",
    "    coefs = np.asarray(values[1:])\n",
    "    embeddings_index[word] = coefs\n",
    "f.close()"
   ]
  },
  {
   "cell_type": "code",
   "execution_count": 130,
   "metadata": {},
   "outputs": [
    {
     "name": "stdout",
     "output_type": "stream",
     "text": [
      "There are 13272 unique tokens in the dataset.\n"
     ]
    }
   ],
   "source": [
    "#Get the total_vocabulary in the corpus\n",
    "total_vocabulary = set(word for jd in data for word in jd)\n",
    "\n",
    "max_length=len(total_vocabulary)\n",
    "print('There are {} unique tokens in the dataset.'.format(len(total_vocabulary)))"
   ]
  },
  {
   "cell_type": "code",
   "execution_count": 131,
   "metadata": {},
   "outputs": [
    {
     "name": "stdout",
     "output_type": "stream",
     "text": [
      "Found 26519 unique tokens.\n",
      "Shape of the jd tensor: (963, 500)\n"
     ]
    }
   ],
   "source": [
    "#Convert the word embedding into tokenized vector. \n",
    "new_tokenizer = text.Tokenizer() \n",
    "new_tokenizer.num_words = 1000  #limit the number of words to keep most common 1000 words\n",
    "new_tokenizer.fit_on_texts(list(salary_df['combined_text']))\n",
    "list_tokenized_jd = new_tokenizer.texts_to_sequences(salary_df['combined_text'])\n",
    "\n",
    "#pad sequences\n",
    "word_index = new_tokenizer.word_index\n",
    "print('Found %s unique tokens.' % len(word_index))\n",
    "\n",
    "jd_pad = sequence.pad_sequences(list_tokenized_jd, maxlen=500, padding = 'post') \n",
    "print('Shape of the jd tensor:', jd_pad.shape)"
   ]
  },
  {
   "cell_type": "code",
   "execution_count": 132,
   "metadata": {},
   "outputs": [],
   "source": [
    "#map embeddings from word2vec model for each word to new_tokenzier.word_index and create a matrix with word vectors\n",
    "\n",
    "num_words = len(word_index)+1  #1000  + 1\n",
    "embedding_matrix = np.zeros((num_words, 100)) #embedding size = 100\n",
    "\n",
    "for word, i in word_index.items():\n",
    "    if i > num_words:\n",
    "        continue\n",
    "    embedding_vector = embeddings_index.get(word)\n",
    "    if embedding_vector is not None:\n",
    "        #words not found in embedding index will be all-zeros.\n",
    "        embedding_matrix[i] = embedding_vector"
   ]
  },
  {
   "cell_type": "code",
   "execution_count": 133,
   "metadata": {},
   "outputs": [
    {
     "name": "stdout",
     "output_type": "stream",
     "text": [
      "26520\n"
     ]
    }
   ],
   "source": [
    "print(num_words)"
   ]
  },
  {
   "cell_type": "code",
   "execution_count": 134,
   "metadata": {},
   "outputs": [],
   "source": [
    "from keras.models import Sequential\n",
    "from keras.layers import Dense, Embedding, LSTM, GRU\n",
    "from keras.layers.embeddings import Embedding\n",
    "from keras.initializers import Constant"
   ]
  },
  {
   "cell_type": "markdown",
   "metadata": {},
   "source": [
    "shall we limit the input_dim since it's too big? "
   ]
  },
  {
   "cell_type": "code",
   "execution_count": 146,
   "metadata": {},
   "outputs": [],
   "source": [
    "\n",
    "#define model\n",
    "model = Sequential()\n",
    "\n",
    "embedding_size = 100  #word2vec has a 100 dimension space\n",
    "embedding_layer = Embedding(input_dim = num_words, #input_dim: size of the vocabulary\n",
    "                    output_dim = embedding_size,  #dimension of the dense embedding\n",
    "                    embeddings_initializer = Constant(embedding_matrix),\n",
    "                    input_length = 500, #length of input sequences\n",
    "                    trainable = False)\n",
    "model.add(embedding_layer)\n",
    "#model.add(LSTM(128))\n",
    "model.add(Dense(128, activation='relu'))\n",
    "model.add(Dense(32, activation='relu'))\n",
    "model.add(Flatten())   #add Flatten layer \n",
    "model.add(Dense(6, activation='softmax'))"
   ]
  },
  {
   "cell_type": "code",
   "execution_count": 147,
   "metadata": {},
   "outputs": [
    {
     "name": "stdout",
     "output_type": "stream",
     "text": [
      "Model: \"sequential_22\"\n",
      "_________________________________________________________________\n",
      "Layer (type)                 Output Shape              Param #   \n",
      "=================================================================\n",
      "embedding_11 (Embedding)     (None, 500, 100)          2652000   \n",
      "_________________________________________________________________\n",
      "dense_46 (Dense)             (None, 500, 64)           6464      \n",
      "_________________________________________________________________\n",
      "dense_47 (Dense)             (None, 500, 32)           2080      \n",
      "_________________________________________________________________\n",
      "flatten_5 (Flatten)          (None, 16000)             0         \n",
      "_________________________________________________________________\n",
      "dense_48 (Dense)             (None, 6)                 96006     \n",
      "=================================================================\n",
      "Total params: 2,756,550\n",
      "Trainable params: 104,550\n",
      "Non-trainable params: 2,652,000\n",
      "_________________________________________________________________\n"
     ]
    }
   ],
   "source": [
    "model.summary()"
   ]
  },
  {
   "cell_type": "code",
   "execution_count": 148,
   "metadata": {},
   "outputs": [],
   "source": [
    "model.compile(loss='categorical_crossentropy', optimizer='adam', metrics=['accuracy'])"
   ]
  },
  {
   "cell_type": "code",
   "execution_count": 149,
   "metadata": {},
   "outputs": [],
   "source": [
    "X_train, X_test, y_train, y_test = train_test_split(jd_pad, y, test_size=0.1, random_state=4)"
   ]
  },
  {
   "cell_type": "code",
   "execution_count": 150,
   "metadata": {},
   "outputs": [
    {
     "name": "stdout",
     "output_type": "stream",
     "text": [
      "Train on 866 samples, validate on 97 samples\n",
      "Epoch 1/10\n",
      "866/866 [==============================] - 2s 2ms/step - loss: 1.9188 - accuracy: 0.2460 - val_loss: 1.6356 - val_accuracy: 0.3402\n",
      "Epoch 2/10\n",
      "866/866 [==============================] - 1s 1ms/step - loss: 0.7641 - accuracy: 0.8545 - val_loss: 1.6006 - val_accuracy: 0.3918\n",
      "Epoch 3/10\n",
      "866/866 [==============================] - 1s 996us/step - loss: 0.2480 - accuracy: 0.9654 - val_loss: 1.8980 - val_accuracy: 0.3814\n",
      "Epoch 4/10\n",
      "866/866 [==============================] - 1s 993us/step - loss: 0.0780 - accuracy: 0.9954 - val_loss: 2.0158 - val_accuracy: 0.3814\n",
      "Epoch 5/10\n",
      "866/866 [==============================] - 1s 1ms/step - loss: 0.0313 - accuracy: 0.9977 - val_loss: 2.0759 - val_accuracy: 0.3814\n",
      "Epoch 6/10\n",
      "866/866 [==============================] - 1s 968us/step - loss: 0.0210 - accuracy: 0.9988 - val_loss: 2.2589 - val_accuracy: 0.3711\n",
      "Epoch 7/10\n",
      "866/866 [==============================] - 1s 956us/step - loss: 0.0123 - accuracy: 0.9988 - val_loss: 2.3176 - val_accuracy: 0.3505\n",
      "Epoch 8/10\n",
      "866/866 [==============================] - 1s 862us/step - loss: 0.0087 - accuracy: 0.9988 - val_loss: 2.3525 - val_accuracy: 0.3505\n",
      "Epoch 9/10\n",
      "866/866 [==============================] - 1s 826us/step - loss: 0.0067 - accuracy: 1.0000 - val_loss: 2.4039 - val_accuracy: 0.3505\n",
      "Epoch 10/10\n",
      "866/866 [==============================] - 1s 852us/step - loss: 0.0053 - accuracy: 1.0000 - val_loss: 2.4480 - val_accuracy: 0.3505\n"
     ]
    }
   ],
   "source": [
    "#lower the learning rate since it is training too fast. Limit the input length\n",
    "\n",
    "history = model.fit(X_train, y_train, epochs=10, batch_size=32, validation_data=[X_test, y_test])"
   ]
  },
  {
   "cell_type": "markdown",
   "metadata": {},
   "source": [
    "#### Tuning the model\n",
    "\n",
    "https://blog.keras.io/using-pre-trained-word-embeddings-in-a-keras-model.html"
   ]
  },
  {
   "cell_type": "code",
   "execution_count": 161,
   "metadata": {},
   "outputs": [],
   "source": [
    "embedding_size = 100  #word2vec has a 100 dimension space\n",
    "embedding_layer = Embedding(input_dim = num_words, #input_dim: size of the vocabulary\n",
    "                    output_dim = embedding_size,  #dimension of the dense embedding\n",
    "                    embeddings_initializer = Constant(embedding_matrix),\n",
    "                    input_length = 500, #length of input sequences\n",
    "                    trainable = False)\n",
    "\n",
    "sequence_input  = Input(shape=(500,), dtype='int32')\n",
    "embedded_sequences = embedding_layer(sequence_input)\n",
    "x = Conv1D(128, 5, activation='relu')(embedded_sequences)\n",
    "x = MaxPooling1D(3)(x)\n",
    "x = Flatten()(x)\n",
    "x = Dense(64, activation='relu')(x)\n",
    "x = Dense(16, activation='relu')(x)\n",
    "preds = Dense(6, activation='softmax')(x)\n",
    "\n",
    "opt = Adam(learning_rate=0.001)\n",
    "\n",
    "model = Model(sequence_input, preds)\n",
    "model.compile(loss='categorical_crossentropy',\n",
    "              optimizer=opt,\n",
    "              metrics=['accuracy'])"
   ]
  },
  {
   "cell_type": "code",
   "execution_count": 163,
   "metadata": {},
   "outputs": [
    {
     "name": "stdout",
     "output_type": "stream",
     "text": [
      "Train on 866 samples, validate on 97 samples\n",
      "Epoch 1/100\n",
      "866/866 [==============================] - 3s 3ms/step - loss: 0.3415 - accuracy: 0.8303 - val_loss: 3.0663 - val_accuracy: 0.4124\n",
      "Epoch 2/100\n",
      "866/866 [==============================] - 3s 3ms/step - loss: 0.3274 - accuracy: 0.8406 - val_loss: 3.0057 - val_accuracy: 0.3814\n",
      "Epoch 3/100\n",
      "866/866 [==============================] - 2s 3ms/step - loss: 0.3206 - accuracy: 0.8522 - val_loss: 3.1373 - val_accuracy: 0.3711\n",
      "Epoch 4/100\n",
      "866/866 [==============================] - 3s 3ms/step - loss: 0.3153 - accuracy: 0.8580 - val_loss: 3.0982 - val_accuracy: 0.3918\n",
      "Epoch 5/100\n",
      "866/866 [==============================] - 2s 3ms/step - loss: 0.2925 - accuracy: 0.8545 - val_loss: 3.2127 - val_accuracy: 0.3711\n",
      "Epoch 6/100\n",
      "866/866 [==============================] - 2s 3ms/step - loss: 0.2875 - accuracy: 0.8580 - val_loss: 3.1557 - val_accuracy: 0.3711\n",
      "Epoch 7/100\n",
      "866/866 [==============================] - 2s 3ms/step - loss: 0.2922 - accuracy: 0.8533 - val_loss: 3.2416 - val_accuracy: 0.3918\n",
      "Epoch 8/100\n",
      "866/866 [==============================] - 2s 3ms/step - loss: 0.2581 - accuracy: 0.8707 - val_loss: 3.2466 - val_accuracy: 0.3711\n",
      "Epoch 9/100\n",
      "866/866 [==============================] - 2s 3ms/step - loss: 0.2373 - accuracy: 0.9018 - val_loss: 3.2141 - val_accuracy: 0.3814\n",
      "Epoch 10/100\n",
      "866/866 [==============================] - 2s 3ms/step - loss: 0.2268 - accuracy: 0.9157 - val_loss: 3.4325 - val_accuracy: 0.3608\n",
      "Epoch 11/100\n",
      "866/866 [==============================] - 2s 3ms/step - loss: 0.2167 - accuracy: 0.9319 - val_loss: 3.4474 - val_accuracy: 0.4330\n",
      "Epoch 12/100\n",
      "866/866 [==============================] - 2s 3ms/step - loss: 0.2077 - accuracy: 0.9249 - val_loss: 3.3549 - val_accuracy: 0.3814\n",
      "Epoch 13/100\n",
      "866/866 [==============================] - 2s 3ms/step - loss: 0.1933 - accuracy: 0.9388 - val_loss: 3.4593 - val_accuracy: 0.4227\n",
      "Epoch 14/100\n",
      "866/866 [==============================] - 2s 3ms/step - loss: 0.1731 - accuracy: 0.9353 - val_loss: 3.3237 - val_accuracy: 0.4021\n",
      "Epoch 15/100\n",
      "866/866 [==============================] - 3s 3ms/step - loss: 0.1506 - accuracy: 0.9457 - val_loss: 3.4951 - val_accuracy: 0.4330\n",
      "Epoch 16/100\n",
      "866/866 [==============================] - 3s 3ms/step - loss: 0.1288 - accuracy: 0.9573 - val_loss: 3.6544 - val_accuracy: 0.3814\n",
      "Epoch 17/100\n",
      "866/866 [==============================] - 2s 3ms/step - loss: 0.1290 - accuracy: 0.9665 - val_loss: 3.5717 - val_accuracy: 0.3711\n",
      "Epoch 18/100\n",
      "866/866 [==============================] - 3s 3ms/step - loss: 0.1146 - accuracy: 0.9734 - val_loss: 3.5994 - val_accuracy: 0.3814\n",
      "Epoch 19/100\n",
      "866/866 [==============================] - 2s 3ms/step - loss: 0.1090 - accuracy: 0.9654 - val_loss: 3.7549 - val_accuracy: 0.3711\n",
      "Epoch 20/100\n",
      "866/866 [==============================] - 2s 3ms/step - loss: 0.1063 - accuracy: 0.9711 - val_loss: 3.6280 - val_accuracy: 0.3814\n",
      "Epoch 21/100\n",
      "866/866 [==============================] - 2s 3ms/step - loss: 0.1005 - accuracy: 0.9781 - val_loss: 3.8866 - val_accuracy: 0.3711\n",
      "Epoch 22/100\n",
      "866/866 [==============================] - 2s 3ms/step - loss: 0.0969 - accuracy: 0.9711 - val_loss: 3.7503 - val_accuracy: 0.3505\n",
      "Epoch 23/100\n",
      "866/866 [==============================] - 2s 3ms/step - loss: 0.0952 - accuracy: 0.9769 - val_loss: 3.7747 - val_accuracy: 0.3918\n",
      "Epoch 24/100\n",
      "866/866 [==============================] - 2s 3ms/step - loss: 0.0928 - accuracy: 0.9711 - val_loss: 3.8336 - val_accuracy: 0.3918\n",
      "Epoch 25/100\n",
      "866/866 [==============================] - 2s 3ms/step - loss: 0.0920 - accuracy: 0.9781 - val_loss: 3.7937 - val_accuracy: 0.3918\n",
      "Epoch 26/100\n",
      "866/866 [==============================] - 2s 3ms/step - loss: 0.0910 - accuracy: 0.9781 - val_loss: 3.9000 - val_accuracy: 0.4021\n",
      "Epoch 27/100\n",
      "866/866 [==============================] - 2s 3ms/step - loss: 0.0900 - accuracy: 0.9769 - val_loss: 3.8597 - val_accuracy: 0.3918\n",
      "Epoch 28/100\n",
      "866/866 [==============================] - 2s 3ms/step - loss: 0.0901 - accuracy: 0.9792 - val_loss: 3.9559 - val_accuracy: 0.4021\n",
      "Epoch 29/100\n",
      "866/866 [==============================] - 2s 3ms/step - loss: 0.0885 - accuracy: 0.9792 - val_loss: 4.0877 - val_accuracy: 0.4021\n",
      "Epoch 30/100\n",
      "866/866 [==============================] - 2s 3ms/step - loss: 0.0884 - accuracy: 0.9700 - val_loss: 4.1416 - val_accuracy: 0.4021\n",
      "Epoch 31/100\n",
      "866/866 [==============================] - 3s 3ms/step - loss: 0.0867 - accuracy: 0.9700 - val_loss: 4.1623 - val_accuracy: 0.3814\n",
      "Epoch 32/100\n",
      "866/866 [==============================] - 2s 3ms/step - loss: 0.0840 - accuracy: 0.9711 - val_loss: 4.2185 - val_accuracy: 0.4021\n",
      "Epoch 33/100\n",
      "866/866 [==============================] - 2s 3ms/step - loss: 0.0833 - accuracy: 0.9677 - val_loss: 4.1273 - val_accuracy: 0.3402\n",
      "Epoch 34/100\n",
      "866/866 [==============================] - 3s 3ms/step - loss: 0.0877 - accuracy: 0.9746 - val_loss: 4.1669 - val_accuracy: 0.4124\n",
      "Epoch 35/100\n",
      "866/866 [==============================] - 2s 3ms/step - loss: 0.0870 - accuracy: 0.9746 - val_loss: 4.0943 - val_accuracy: 0.3814\n",
      "Epoch 36/100\n",
      "866/866 [==============================] - 3s 3ms/step - loss: 0.0858 - accuracy: 0.9688 - val_loss: 4.3453 - val_accuracy: 0.3608\n",
      "Epoch 37/100\n",
      "866/866 [==============================] - 2s 3ms/step - loss: 0.0841 - accuracy: 0.9781 - val_loss: 4.2996 - val_accuracy: 0.3608\n",
      "Epoch 38/100\n",
      "866/866 [==============================] - 2s 3ms/step - loss: 0.0803 - accuracy: 0.9792 - val_loss: 4.3553 - val_accuracy: 0.3608\n",
      "Epoch 39/100\n",
      "866/866 [==============================] - 2s 3ms/step - loss: 0.0778 - accuracy: 0.9758 - val_loss: 4.4959 - val_accuracy: 0.3711\n",
      "Epoch 40/100\n",
      "866/866 [==============================] - 2s 3ms/step - loss: 0.0764 - accuracy: 0.9804 - val_loss: 4.4006 - val_accuracy: 0.3814\n",
      "Epoch 41/100\n",
      "866/866 [==============================] - 3s 3ms/step - loss: 0.0749 - accuracy: 0.9804 - val_loss: 4.4806 - val_accuracy: 0.4021\n",
      "Epoch 42/100\n",
      "866/866 [==============================] - 3s 3ms/step - loss: 0.0745 - accuracy: 0.9804 - val_loss: 4.4791 - val_accuracy: 0.3918\n",
      "Epoch 43/100\n",
      "866/866 [==============================] - 2s 3ms/step - loss: 0.0742 - accuracy: 0.9804 - val_loss: 4.5361 - val_accuracy: 0.3711\n",
      "Epoch 44/100\n",
      "866/866 [==============================] - 2s 3ms/step - loss: 0.0740 - accuracy: 0.9804 - val_loss: 4.4316 - val_accuracy: 0.3918\n",
      "Epoch 45/100\n",
      "866/866 [==============================] - 2s 3ms/step - loss: 0.0740 - accuracy: 0.9804 - val_loss: 4.4920 - val_accuracy: 0.3814\n",
      "Epoch 46/100\n",
      "866/866 [==============================] - 2s 3ms/step - loss: 0.0747 - accuracy: 0.9804 - val_loss: 4.5391 - val_accuracy: 0.4124\n",
      "Epoch 47/100\n",
      "866/866 [==============================] - 2s 3ms/step - loss: 0.0734 - accuracy: 0.9804 - val_loss: 4.5199 - val_accuracy: 0.4021\n",
      "Epoch 48/100\n",
      "866/866 [==============================] - 2s 3ms/step - loss: 0.0732 - accuracy: 0.9804 - val_loss: 4.5527 - val_accuracy: 0.4021\n",
      "Epoch 49/100\n",
      "866/866 [==============================] - 2s 3ms/step - loss: 0.0729 - accuracy: 0.9815 - val_loss: 4.7345 - val_accuracy: 0.4433\n",
      "Epoch 50/100\n",
      "866/866 [==============================] - 2s 3ms/step - loss: 0.0888 - accuracy: 0.9734 - val_loss: 4.4874 - val_accuracy: 0.4021\n",
      "Epoch 51/100\n",
      "866/866 [==============================] - 2s 3ms/step - loss: 0.0860 - accuracy: 0.9781 - val_loss: 4.3252 - val_accuracy: 0.4330\n",
      "Epoch 52/100\n",
      "866/866 [==============================] - 2s 3ms/step - loss: 0.0993 - accuracy: 0.9723 - val_loss: 4.4659 - val_accuracy: 0.4124\n",
      "Epoch 53/100\n",
      "866/866 [==============================] - 2s 3ms/step - loss: 0.1057 - accuracy: 0.9677 - val_loss: 4.3114 - val_accuracy: 0.3608\n",
      "Epoch 54/100\n",
      "866/866 [==============================] - 2s 3ms/step - loss: 0.1436 - accuracy: 0.9584 - val_loss: 4.2939 - val_accuracy: 0.4124\n",
      "Epoch 55/100\n",
      "866/866 [==============================] - 2s 3ms/step - loss: 0.1575 - accuracy: 0.9550 - val_loss: 3.8770 - val_accuracy: 0.3918\n",
      "Epoch 56/100\n",
      "866/866 [==============================] - 2s 3ms/step - loss: 0.1435 - accuracy: 0.9550 - val_loss: 3.8216 - val_accuracy: 0.4124\n",
      "Epoch 57/100\n",
      "866/866 [==============================] - 2s 3ms/step - loss: 0.1393 - accuracy: 0.9527 - val_loss: 4.0638 - val_accuracy: 0.3918\n",
      "Epoch 58/100\n",
      "866/866 [==============================] - 2s 3ms/step - loss: 0.1069 - accuracy: 0.9688 - val_loss: 3.9049 - val_accuracy: 0.3608\n",
      "Epoch 59/100\n",
      "866/866 [==============================] - 2s 3ms/step - loss: 0.0927 - accuracy: 0.9758 - val_loss: 4.2697 - val_accuracy: 0.4433\n",
      "Epoch 60/100\n",
      "866/866 [==============================] - 2s 3ms/step - loss: 0.0878 - accuracy: 0.9746 - val_loss: 3.8504 - val_accuracy: 0.4124\n",
      "Epoch 61/100\n",
      "866/866 [==============================] - 2s 3ms/step - loss: 0.1021 - accuracy: 0.9746 - val_loss: 4.5131 - val_accuracy: 0.4330\n",
      "Epoch 62/100\n",
      "866/866 [==============================] - 2s 3ms/step - loss: 0.0777 - accuracy: 0.9792 - val_loss: 3.9556 - val_accuracy: 0.4124\n",
      "Epoch 63/100\n",
      "866/866 [==============================] - 2s 3ms/step - loss: 0.0680 - accuracy: 0.9827 - val_loss: 4.1687 - val_accuracy: 0.3918\n",
      "Epoch 64/100\n",
      "866/866 [==============================] - 2s 3ms/step - loss: 0.0642 - accuracy: 0.9861 - val_loss: 4.2859 - val_accuracy: 0.3711\n",
      "Epoch 65/100\n",
      "866/866 [==============================] - 3s 3ms/step - loss: 0.0615 - accuracy: 0.9861 - val_loss: 4.0800 - val_accuracy: 0.4021\n",
      "Epoch 66/100\n",
      "866/866 [==============================] - 2s 3ms/step - loss: 0.0619 - accuracy: 0.9850 - val_loss: 4.1279 - val_accuracy: 0.3918\n",
      "Epoch 67/100\n",
      "866/866 [==============================] - 3s 3ms/step - loss: 0.0581 - accuracy: 0.9861 - val_loss: 4.2555 - val_accuracy: 0.3608\n",
      "Epoch 68/100\n",
      "866/866 [==============================] - 2s 3ms/step - loss: 0.0571 - accuracy: 0.9861 - val_loss: 4.2951 - val_accuracy: 0.3608\n",
      "Epoch 69/100\n",
      "866/866 [==============================] - 2s 3ms/step - loss: 0.0565 - accuracy: 0.9861 - val_loss: 4.3392 - val_accuracy: 0.3711\n",
      "Epoch 70/100\n",
      "866/866 [==============================] - 2s 3ms/step - loss: 0.0560 - accuracy: 0.9873 - val_loss: 4.3669 - val_accuracy: 0.3711\n",
      "Epoch 71/100\n",
      "866/866 [==============================] - 2s 3ms/step - loss: 0.0561 - accuracy: 0.9861 - val_loss: 4.3145 - val_accuracy: 0.3711\n",
      "Epoch 72/100\n",
      "866/866 [==============================] - 2s 3ms/step - loss: 0.0556 - accuracy: 0.9873 - val_loss: 4.3193 - val_accuracy: 0.3608\n",
      "Epoch 73/100\n",
      "866/866 [==============================] - 2s 3ms/step - loss: 0.0556 - accuracy: 0.9861 - val_loss: 4.3578 - val_accuracy: 0.3711\n",
      "Epoch 74/100\n",
      "866/866 [==============================] - 2s 3ms/step - loss: 0.0552 - accuracy: 0.9873 - val_loss: 4.3508 - val_accuracy: 0.3608\n",
      "Epoch 75/100\n",
      "866/866 [==============================] - 2s 3ms/step - loss: 0.0550 - accuracy: 0.9873 - val_loss: 4.4173 - val_accuracy: 0.3711\n",
      "Epoch 76/100\n",
      "866/866 [==============================] - 2s 3ms/step - loss: 0.0551 - accuracy: 0.9861 - val_loss: 4.4362 - val_accuracy: 0.3608\n",
      "Epoch 77/100\n",
      "866/866 [==============================] - 2s 3ms/step - loss: 0.0548 - accuracy: 0.9861 - val_loss: 4.3094 - val_accuracy: 0.3814\n",
      "Epoch 78/100\n",
      "866/866 [==============================] - 2s 3ms/step - loss: 0.0547 - accuracy: 0.9873 - val_loss: 4.3101 - val_accuracy: 0.3814\n",
      "Epoch 79/100\n",
      "866/866 [==============================] - 3s 3ms/step - loss: 0.0546 - accuracy: 0.9873 - val_loss: 4.3483 - val_accuracy: 0.3918\n",
      "Epoch 80/100\n",
      "866/866 [==============================] - 2s 3ms/step - loss: 0.0544 - accuracy: 0.9873 - val_loss: 4.3970 - val_accuracy: 0.3711\n",
      "Epoch 81/100\n",
      "866/866 [==============================] - 2s 3ms/step - loss: 0.0543 - accuracy: 0.9873 - val_loss: 4.4718 - val_accuracy: 0.3608\n",
      "Epoch 82/100\n",
      "866/866 [==============================] - 2s 3ms/step - loss: 0.0542 - accuracy: 0.9873 - val_loss: 4.4892 - val_accuracy: 0.3711\n",
      "Epoch 83/100\n",
      "866/866 [==============================] - 2s 3ms/step - loss: 0.0541 - accuracy: 0.9873 - val_loss: 4.5244 - val_accuracy: 0.3608\n",
      "Epoch 84/100\n",
      "866/866 [==============================] - 2s 3ms/step - loss: 0.0539 - accuracy: 0.9873 - val_loss: 4.5377 - val_accuracy: 0.3608\n",
      "Epoch 85/100\n",
      "866/866 [==============================] - 2s 3ms/step - loss: 0.0538 - accuracy: 0.9873 - val_loss: 4.5426 - val_accuracy: 0.3608\n",
      "Epoch 86/100\n",
      "866/866 [==============================] - 2s 3ms/step - loss: 0.0536 - accuracy: 0.9873 - val_loss: 4.5711 - val_accuracy: 0.3608\n",
      "Epoch 87/100\n",
      "866/866 [==============================] - 2s 3ms/step - loss: 0.0537 - accuracy: 0.9873 - val_loss: 4.5498 - val_accuracy: 0.3918\n",
      "Epoch 88/100\n",
      "866/866 [==============================] - 2s 3ms/step - loss: 0.0537 - accuracy: 0.9861 - val_loss: 4.5817 - val_accuracy: 0.3608\n",
      "Epoch 89/100\n",
      "866/866 [==============================] - 2s 3ms/step - loss: 0.0533 - accuracy: 0.9861 - val_loss: 4.5513 - val_accuracy: 0.3608\n",
      "Epoch 90/100\n",
      "866/866 [==============================] - 2s 3ms/step - loss: 0.0532 - accuracy: 0.9873 - val_loss: 4.5025 - val_accuracy: 0.3814\n",
      "Epoch 91/100\n",
      "866/866 [==============================] - 2s 3ms/step - loss: 0.0531 - accuracy: 0.9873 - val_loss: 4.5048 - val_accuracy: 0.3918\n",
      "Epoch 92/100\n",
      "866/866 [==============================] - 2s 3ms/step - loss: 0.0530 - accuracy: 0.9873 - val_loss: 4.5247 - val_accuracy: 0.3918\n",
      "Epoch 93/100\n",
      "866/866 [==============================] - 2s 3ms/step - loss: 0.0528 - accuracy: 0.9873 - val_loss: 4.5475 - val_accuracy: 0.3814\n",
      "Epoch 94/100\n",
      "866/866 [==============================] - 2s 3ms/step - loss: 0.0527 - accuracy: 0.9873 - val_loss: 4.5800 - val_accuracy: 0.3814\n",
      "Epoch 95/100\n",
      "866/866 [==============================] - 2s 3ms/step - loss: 0.0526 - accuracy: 0.9873 - val_loss: 4.5980 - val_accuracy: 0.3711\n",
      "Epoch 96/100\n",
      "866/866 [==============================] - 2s 3ms/step - loss: 0.0525 - accuracy: 0.9873 - val_loss: 4.6100 - val_accuracy: 0.3711\n",
      "Epoch 97/100\n",
      "866/866 [==============================] - 3s 3ms/step - loss: 0.0524 - accuracy: 0.9873 - val_loss: 4.6299 - val_accuracy: 0.3711\n",
      "Epoch 98/100\n",
      "866/866 [==============================] - 2s 3ms/step - loss: 0.0523 - accuracy: 0.9873 - val_loss: 4.6311 - val_accuracy: 0.3814\n",
      "Epoch 99/100\n",
      "866/866 [==============================] - 2s 3ms/step - loss: 0.0522 - accuracy: 0.9873 - val_loss: 4.6422 - val_accuracy: 0.3814\n",
      "Epoch 100/100\n",
      "866/866 [==============================] - 2s 3ms/step - loss: 0.0521 - accuracy: 0.9873 - val_loss: 4.6497 - val_accuracy: 0.3814\n"
     ]
    },
    {
     "data": {
      "text/plain": [
       "<keras.callbacks.callbacks.History at 0x159369be0>"
      ]
     },
     "execution_count": 163,
     "metadata": {},
     "output_type": "execute_result"
    }
   ],
   "source": [
    "model.fit(X_train, y_train, validation_data=(X_test, y_test), epochs=100, batch_size=128)"
   ]
  },
  {
   "cell_type": "markdown",
   "metadata": {},
   "source": [
    "Word2Vec + MLP got a validation accuracy of 0.5258 - still not very good. "
   ]
  },
  {
   "cell_type": "markdown",
   "metadata": {},
   "source": [
    "#### Grid Search"
   ]
  },
  {
   "cell_type": "code",
   "execution_count": 157,
   "metadata": {},
   "outputs": [],
   "source": [
    "import numpy\n",
    "from sklearn.model_selection import GridSearchCV\n",
    "from keras.models import Sequential\n",
    "from keras.layers import Dense\n",
    "from keras.wrappers.scikit_learn import KerasClassifier\n",
    "\n",
    "def create_model(learn_rate=0.1):\n",
    "    # create model\n",
    "    embedding_size = 100  #word2vec has a 100 dimension space\n",
    "    embedding_layer = Embedding(input_dim = num_words, #input_dim: size of the vocabulary\n",
    "                    output_dim = embedding_size,  #dimension of the dense embedding\n",
    "                    embeddings_initializer = Constant(embedding_matrix),\n",
    "                    input_length = 500, #length of input sequences\n",
    "                    trainable = False)\n",
    "\n",
    "    sequence_input  = Input(shape=(500,), dtype='int32')\n",
    "    embedded_sequences = embedding_layer(sequence_input)\n",
    "    x = Conv1D(128, 10, activation='relu')(embedded_sequences)\n",
    "    x = MaxPooling1D(5)(x)\n",
    "    x = Flatten()(x)\n",
    "    x = Dense(128, activation='relu')(x)\n",
    "    preds = Dense(6, activation='softmax')(x)\n",
    "    \n",
    "    opt=Adam(learning_rate=learn_rate)\n",
    "\n",
    "    model = Model(sequence_input, preds)\n",
    "    \n",
    "    \n",
    "    #Compile model\n",
    "    model.compile(loss='categorical_crossentropy', optimizer=opt,\n",
    "              metrics=['accuracy'])\n",
    "    return model\n",
    "\n",
    "model = KerasClassifier(build_fn=create_model, verbose=0, epochs=20, batch_size=50)"
   ]
  },
  {
   "cell_type": "code",
   "execution_count": 158,
   "metadata": {},
   "outputs": [
    {
     "name": "stdout",
     "output_type": "stream",
     "text": [
      "Best: 0.419186 using {'learn_rate': 0.001}\n",
      "0.419186 (0.010495) with: {'learn_rate': 0.001}\n",
      "0.297982 (0.091300) with: {'learn_rate': 0.005}\n",
      "0.168589 (0.005812) with: {'learn_rate': 0.01}\n",
      "0.179018 (0.020777) with: {'learn_rate': 0.05}\n"
     ]
    }
   ],
   "source": [
    "param_grid = {\n",
    "    'learn_rate':[0.001,0.005,0.01,0.05]\n",
    "}\n",
    "\n",
    "grid = GridSearchCV(estimator=model, param_grid=param_grid, n_jobs=-1, cv=3)\n",
    "grid_result = grid.fit(X_train, y_train)\n",
    "\n",
    "# summarize results\n",
    "print(\"Best: %f using %s\" % (grid_result.best_score_, grid_result.best_params_))\n",
    "means = grid_result.cv_results_['mean_test_score']\n",
    "stds = grid_result.cv_results_['std_test_score']\n",
    "params = grid_result.cv_results_['params']\n",
    "for mean, stdev, param in zip(means, stds, params):\n",
    "    print(\"%f (%f) with: %r\" % (mean, stdev, param))"
   ]
  },
  {
   "cell_type": "markdown",
   "metadata": {},
   "source": [
    "### Try Count Vectorizer and TFIDF in Deep Learning Models with Grid Search"
   ]
  },
  {
   "cell_type": "code",
   "execution_count": 34,
   "metadata": {},
   "outputs": [],
   "source": [
    "text = salary_df['combined_text']"
   ]
  },
  {
   "cell_type": "code",
   "execution_count": 35,
   "metadata": {},
   "outputs": [],
   "source": [
    "from sklearn.feature_extraction.text import CountVectorizer\n",
    "from sklearn.feature_extraction.text import TfidfTransformer\n",
    "\n",
    "count_vectorizer = CountVectorizer(max_features = 300, max_df = 0.5, min_df = 0.03, ngram_range=(1,3), stop_words='english')\n",
    "word_count_vector = count_vectorizer.fit_transform(text)"
   ]
  },
  {
   "cell_type": "code",
   "execution_count": 36,
   "metadata": {
    "scrolled": true
   },
   "outputs": [
    {
     "data": {
      "text/plain": [
       "TfidfTransformer(norm='l2', smooth_idf=True, sublinear_tf=False, use_idf=True)"
      ]
     },
     "execution_count": 36,
     "metadata": {},
     "output_type": "execute_result"
    }
   ],
   "source": [
    "tfidf_transformer=TfidfTransformer(smooth_idf=True, use_idf=True)\n",
    "tfidf_transformer.fit(word_count_vector)"
   ]
  },
  {
   "cell_type": "code",
   "execution_count": 37,
   "metadata": {},
   "outputs": [],
   "source": [
    "df_idf = pd.DataFrame(tfidf_transformer.idf_, index=count_vectorizer.get_feature_names(), columns=['idf_weights'])"
   ]
  },
  {
   "cell_type": "code",
   "execution_count": 38,
   "metadata": {},
   "outputs": [
    {
     "data": {
      "text/html": [
       "<div>\n",
       "<style scoped>\n",
       "    .dataframe tbody tr th:only-of-type {\n",
       "        vertical-align: middle;\n",
       "    }\n",
       "\n",
       "    .dataframe tbody tr th {\n",
       "        vertical-align: top;\n",
       "    }\n",
       "\n",
       "    .dataframe thead th {\n",
       "        text-align: right;\n",
       "    }\n",
       "</style>\n",
       "<table border=\"1\" class=\"dataframe\">\n",
       "  <thead>\n",
       "    <tr style=\"text-align: right;\">\n",
       "      <th></th>\n",
       "      <th>idf_weights</th>\n",
       "    </tr>\n",
       "  </thead>\n",
       "  <tbody>\n",
       "    <tr>\n",
       "      <th>behavior</th>\n",
       "      <td>3.580632</td>\n",
       "    </tr>\n",
       "    <tr>\n",
       "      <th>clinical</th>\n",
       "      <td>3.514382</td>\n",
       "    </tr>\n",
       "    <tr>\n",
       "      <th>center</th>\n",
       "      <td>3.286124</td>\n",
       "    </tr>\n",
       "    <tr>\n",
       "      <th>social media</th>\n",
       "      <td>3.236362</td>\n",
       "    </tr>\n",
       "    <tr>\n",
       "      <th>intelligence</th>\n",
       "      <td>3.170611</td>\n",
       "    </tr>\n",
       "    <tr>\n",
       "      <th>...</th>\n",
       "      <td>...</td>\n",
       "    </tr>\n",
       "    <tr>\n",
       "      <th>friday</th>\n",
       "      <td>1.733364</td>\n",
       "    </tr>\n",
       "    <tr>\n",
       "      <th>support</th>\n",
       "      <td>1.733364</td>\n",
       "    </tr>\n",
       "    <tr>\n",
       "      <th>000</th>\n",
       "      <td>1.718359</td>\n",
       "    </tr>\n",
       "    <tr>\n",
       "      <th>analysis</th>\n",
       "      <td>1.718359</td>\n",
       "    </tr>\n",
       "    <tr>\n",
       "      <th>new</th>\n",
       "      <td>1.707776</td>\n",
       "    </tr>\n",
       "  </tbody>\n",
       "</table>\n",
       "<p>300 rows × 1 columns</p>\n",
       "</div>"
      ],
      "text/plain": [
       "              idf_weights\n",
       "behavior         3.580632\n",
       "clinical         3.514382\n",
       "center           3.286124\n",
       "social media     3.236362\n",
       "intelligence     3.170611\n",
       "...                   ...\n",
       "friday           1.733364\n",
       "support          1.733364\n",
       "000              1.718359\n",
       "analysis         1.718359\n",
       "new              1.707776\n",
       "\n",
       "[300 rows x 1 columns]"
      ]
     },
     "execution_count": 38,
     "metadata": {},
     "output_type": "execute_result"
    }
   ],
   "source": [
    "df_idf.sort_values(by=['idf_weights'], ascending=False)"
   ]
  },
  {
   "cell_type": "code",
   "execution_count": 39,
   "metadata": {},
   "outputs": [],
   "source": [
    "tfidf_mat = tfidf_transformer.transform(word_count_vector)"
   ]
  },
  {
   "cell_type": "code",
   "execution_count": 40,
   "metadata": {},
   "outputs": [
    {
     "data": {
      "text/plain": [
       "scipy.sparse.csr.csr_matrix"
      ]
     },
     "execution_count": 40,
     "metadata": {},
     "output_type": "execute_result"
    }
   ],
   "source": [
    "type(tfidf_mat)"
   ]
  },
  {
   "cell_type": "code",
   "execution_count": 41,
   "metadata": {},
   "outputs": [
    {
     "data": {
      "text/plain": [
       "<963x300 sparse matrix of type '<class 'numpy.float64'>'\n",
       "\twith 73819 stored elements in Compressed Sparse Row format>"
      ]
     },
     "execution_count": 41,
     "metadata": {},
     "output_type": "execute_result"
    }
   ],
   "source": [
    "#Each job description has 300 features, each feature is one word\n",
    "tfidf_mat"
   ]
  },
  {
   "cell_type": "code",
   "execution_count": 42,
   "metadata": {},
   "outputs": [],
   "source": [
    "#Encoding to categorical classes\n",
    "y = to_categorical(target_class.values, num_classes=6, dtype=\"float32\")"
   ]
  },
  {
   "cell_type": "code",
   "execution_count": 43,
   "metadata": {},
   "outputs": [],
   "source": [
    "#Train - Test split\n",
    "X_train, X_test, y_train, y_test = train_test_split(tfidf_mat, y, test_size=0.2)"
   ]
  },
  {
   "cell_type": "code",
   "execution_count": 44,
   "metadata": {},
   "outputs": [
    {
     "name": "stdout",
     "output_type": "stream",
     "text": [
      "WARNING:tensorflow:From /Applications/anaconda3/lib/python3.7/site-packages/tensorflow/python/ops/resource_variable_ops.py:435: colocate_with (from tensorflow.python.framework.ops) is deprecated and will be removed in a future version.\n",
      "Instructions for updating:\n",
      "Colocations handled automatically by placer.\n",
      "Model: \"sequential_1\"\n",
      "_________________________________________________________________\n",
      "Layer (type)                 Output Shape              Param #   \n",
      "=================================================================\n",
      "dense_1 (Dense)              (None, 100)               30100     \n",
      "_________________________________________________________________\n",
      "dense_2 (Dense)              (None, 64)                6464      \n",
      "_________________________________________________________________\n",
      "dropout_1 (Dropout)          (None, 64)                0         \n",
      "_________________________________________________________________\n",
      "dense_3 (Dense)              (None, 6)                 390       \n",
      "=================================================================\n",
      "Total params: 36,954\n",
      "Trainable params: 36,954\n",
      "Non-trainable params: 0\n",
      "_________________________________________________________________\n"
     ]
    }
   ],
   "source": [
    "model = Sequential()\n",
    "model.add(Dense(100, input_shape=(300,), activation='relu'))\n",
    "model.add(Dense(64, activation='relu'))\n",
    "model.add(Dropout(0.5))\n",
    "#model.add(Flatten())   #add Flatten layer \n",
    "model.add(Dense(6, activation='softmax'))\n",
    "\n",
    "opt = optimizers.Adam(learning_rate=0.001)\n",
    "#Compile model\n",
    "model.compile(loss='categorical_crossentropy', optimizer=opt,\n",
    "          metrics=['accuracy'])\n",
    "\n",
    "model.summary()"
   ]
  },
  {
   "cell_type": "code",
   "execution_count": 45,
   "metadata": {},
   "outputs": [
    {
     "name": "stdout",
     "output_type": "stream",
     "text": [
      "WARNING:tensorflow:From /Applications/anaconda3/lib/python3.7/site-packages/tensorflow/python/ops/math_ops.py:3066: to_int32 (from tensorflow.python.ops.math_ops) is deprecated and will be removed in a future version.\n",
      "Instructions for updating:\n",
      "Use tf.cast instead.\n",
      "Train on 770 samples, validate on 193 samples\n",
      "Epoch 1/40\n",
      "770/770 [==============================] - 0s 322us/step - loss: 1.7866 - accuracy: 0.1935 - val_loss: 1.7682 - val_accuracy: 0.3264\n",
      "Epoch 2/40\n",
      "770/770 [==============================] - 0s 41us/step - loss: 1.7556 - accuracy: 0.2818 - val_loss: 1.7458 - val_accuracy: 0.3575\n",
      "Epoch 3/40\n",
      "770/770 [==============================] - 0s 55us/step - loss: 1.7263 - accuracy: 0.3312 - val_loss: 1.7155 - val_accuracy: 0.4041\n",
      "Epoch 4/40\n",
      "770/770 [==============================] - 0s 41us/step - loss: 1.6879 - accuracy: 0.3649 - val_loss: 1.6736 - val_accuracy: 0.4041\n",
      "Epoch 5/40\n",
      "770/770 [==============================] - 0s 36us/step - loss: 1.6424 - accuracy: 0.3740 - val_loss: 1.6212 - val_accuracy: 0.3679\n",
      "Epoch 6/40\n",
      "770/770 [==============================] - 0s 45us/step - loss: 1.5879 - accuracy: 0.4091 - val_loss: 1.5618 - val_accuracy: 0.3938\n",
      "Epoch 7/40\n",
      "770/770 [==============================] - 0s 48us/step - loss: 1.5297 - accuracy: 0.4117 - val_loss: 1.5070 - val_accuracy: 0.4041\n",
      "Epoch 8/40\n",
      "770/770 [==============================] - 0s 37us/step - loss: 1.4679 - accuracy: 0.4519 - val_loss: 1.4465 - val_accuracy: 0.4249\n",
      "Epoch 9/40\n",
      "770/770 [==============================] - 0s 37us/step - loss: 1.4274 - accuracy: 0.4429 - val_loss: 1.4090 - val_accuracy: 0.4145\n",
      "Epoch 10/40\n",
      "770/770 [==============================] - 0s 53us/step - loss: 1.3507 - accuracy: 0.5091 - val_loss: 1.3799 - val_accuracy: 0.4352\n",
      "Epoch 11/40\n",
      "770/770 [==============================] - 0s 53us/step - loss: 1.3218 - accuracy: 0.5078 - val_loss: 1.3594 - val_accuracy: 0.4249\n",
      "Epoch 12/40\n",
      "770/770 [==============================] - 0s 43us/step - loss: 1.2743 - accuracy: 0.5351 - val_loss: 1.3344 - val_accuracy: 0.4352\n",
      "Epoch 13/40\n",
      "770/770 [==============================] - 0s 43us/step - loss: 1.2425 - accuracy: 0.5481 - val_loss: 1.3202 - val_accuracy: 0.4301\n",
      "Epoch 14/40\n",
      "770/770 [==============================] - 0s 77us/step - loss: 1.2164 - accuracy: 0.5831 - val_loss: 1.2851 - val_accuracy: 0.4456\n",
      "Epoch 15/40\n",
      "770/770 [==============================] - 0s 62us/step - loss: 1.1844 - accuracy: 0.5740 - val_loss: 1.2791 - val_accuracy: 0.4352\n",
      "Epoch 16/40\n",
      "770/770 [==============================] - 0s 59us/step - loss: 1.1405 - accuracy: 0.5844 - val_loss: 1.2607 - val_accuracy: 0.4715\n",
      "Epoch 17/40\n",
      "770/770 [==============================] - 0s 61us/step - loss: 1.0767 - accuracy: 0.6351 - val_loss: 1.2392 - val_accuracy: 0.4715\n",
      "Epoch 18/40\n",
      "770/770 [==============================] - 0s 59us/step - loss: 1.0332 - accuracy: 0.6377 - val_loss: 1.2451 - val_accuracy: 0.4715\n",
      "Epoch 19/40\n",
      "770/770 [==============================] - 0s 44us/step - loss: 1.0261 - accuracy: 0.6364 - val_loss: 1.2361 - val_accuracy: 0.4922\n",
      "Epoch 20/40\n",
      "770/770 [==============================] - 0s 43us/step - loss: 1.0100 - accuracy: 0.6338 - val_loss: 1.2308 - val_accuracy: 0.4715\n",
      "Epoch 21/40\n",
      "770/770 [==============================] - 0s 57us/step - loss: 0.9730 - accuracy: 0.6688 - val_loss: 1.2233 - val_accuracy: 0.4870\n",
      "Epoch 22/40\n",
      "770/770 [==============================] - 0s 57us/step - loss: 0.9142 - accuracy: 0.7130 - val_loss: 1.2185 - val_accuracy: 0.4819\n",
      "Epoch 23/40\n",
      "770/770 [==============================] - 0s 52us/step - loss: 0.9026 - accuracy: 0.6987 - val_loss: 1.2245 - val_accuracy: 0.5181\n",
      "Epoch 24/40\n",
      "770/770 [==============================] - 0s 56us/step - loss: 0.8732 - accuracy: 0.7156 - val_loss: 1.2184 - val_accuracy: 0.4974\n",
      "Epoch 25/40\n",
      "770/770 [==============================] - 0s 48us/step - loss: 0.8727 - accuracy: 0.7091 - val_loss: 1.2277 - val_accuracy: 0.4870\n",
      "Epoch 26/40\n",
      "770/770 [==============================] - 0s 46us/step - loss: 0.8309 - accuracy: 0.7156 - val_loss: 1.2313 - val_accuracy: 0.4922\n",
      "Epoch 27/40\n",
      "770/770 [==============================] - 0s 41us/step - loss: 0.8144 - accuracy: 0.7532 - val_loss: 1.2187 - val_accuracy: 0.4974\n",
      "Epoch 28/40\n",
      "770/770 [==============================] - 0s 49us/step - loss: 0.7848 - accuracy: 0.7325 - val_loss: 1.2174 - val_accuracy: 0.5078\n",
      "Epoch 29/40\n",
      "770/770 [==============================] - 0s 49us/step - loss: 0.7600 - accuracy: 0.7740 - val_loss: 1.2249 - val_accuracy: 0.5337\n",
      "Epoch 30/40\n",
      "770/770 [==============================] - 0s 40us/step - loss: 0.7007 - accuracy: 0.7987 - val_loss: 1.2416 - val_accuracy: 0.5130\n",
      "Epoch 31/40\n",
      "770/770 [==============================] - 0s 41us/step - loss: 0.7181 - accuracy: 0.7597 - val_loss: 1.2425 - val_accuracy: 0.5181\n",
      "Epoch 32/40\n",
      "770/770 [==============================] - 0s 41us/step - loss: 0.6792 - accuracy: 0.7922 - val_loss: 1.2563 - val_accuracy: 0.5181\n",
      "Epoch 33/40\n",
      "770/770 [==============================] - 0s 46us/step - loss: 0.6609 - accuracy: 0.8039 - val_loss: 1.2553 - val_accuracy: 0.5130\n",
      "Epoch 34/40\n",
      "770/770 [==============================] - 0s 54us/step - loss: 0.6592 - accuracy: 0.7857 - val_loss: 1.2703 - val_accuracy: 0.5078\n",
      "Epoch 35/40\n",
      "770/770 [==============================] - 0s 43us/step - loss: 0.6144 - accuracy: 0.8299 - val_loss: 1.2655 - val_accuracy: 0.5233\n",
      "Epoch 36/40\n",
      "770/770 [==============================] - 0s 43us/step - loss: 0.5927 - accuracy: 0.8221 - val_loss: 1.2717 - val_accuracy: 0.5285\n",
      "Epoch 37/40\n",
      "770/770 [==============================] - 0s 45us/step - loss: 0.5731 - accuracy: 0.8338 - val_loss: 1.2700 - val_accuracy: 0.5181\n",
      "Epoch 38/40\n",
      "770/770 [==============================] - 0s 46us/step - loss: 0.5560 - accuracy: 0.8351 - val_loss: 1.2801 - val_accuracy: 0.5181\n",
      "Epoch 00038: early stopping\n"
     ]
    }
   ],
   "source": [
    "es = EarlyStopping(monitor='val_loss', patience = 10, mode='min', verbose=1)\n",
    "\n",
    "history = model.fit(X_train, y_train,  validation_data=(X_test, y_test), epochs=40, batch_size=64, callbacks=[es])"
   ]
  },
  {
   "cell_type": "code",
   "execution_count": 49,
   "metadata": {},
   "outputs": [
    {
     "name": "stdout",
     "output_type": "stream",
     "text": [
      "Train: 0.904, Test: 0.518\n"
     ]
    },
    {
     "data": {
      "image/png": "[encoded data removed]",
      "text/plain": [
       "<Figure size 432x288 with 1 Axes>"
      ]
     },
     "metadata": {
      "needs_background": "light"
     },
     "output_type": "display_data"
    }
   ],
   "source": [
    "# evaluate the model\n",
    "_, train_acc = model.evaluate(X_train, y_train, verbose=0)\n",
    "_, test_acc = model.evaluate(X_test, y_test, verbose=0)\n",
    "print('Train: %.3f, Test: %.3f' % (train_acc, test_acc))\n",
    "# plot training history\n",
    "plt.plot(history.history['accuracy'], label='train')\n",
    "plt.plot(history.history['val_accuracy'], label='test')\n",
    "plt.title('Training and test Accuracy at each epoch', fontsize=14)\n",
    "plt.legend()\n",
    "plt.show()"
   ]
  },
  {
   "cell_type": "markdown",
   "metadata": {},
   "source": [
    "Train loss is 0.904, Test loss is 0.518"
   ]
  },
  {
   "cell_type": "code",
   "execution_count": null,
   "metadata": {},
   "outputs": [],
   "source": []
  },
  {
   "cell_type": "code",
   "execution_count": null,
   "metadata": {},
   "outputs": [],
   "source": []
  },
  {
   "cell_type": "markdown",
   "metadata": {},
   "source": [
    "#### Grid Search"
   ]
  },
  {
   "cell_type": "code",
   "execution_count": 76,
   "metadata": {},
   "outputs": [],
   "source": [
    "import numpy\n",
    "from sklearn.model_selection import GridSearchCV\n",
    "from keras.models import Sequential\n",
    "from keras.layers import Dense\n",
    "from keras.wrappers.scikit_learn import KerasClassifier\n",
    "\n",
    "def create_model(neurons=1):\n",
    "    # create model\n",
    "    model = Sequential()\n",
    "    model.add(Dense(neurons, input_shape=(300,), activation='relu'))\n",
    "    model.add(Dense(16, activation='relu'))\n",
    "    #model.add(Flatten())   #add Flatten layer \n",
    "    model.add(Dense(6, activation='softmax'))\n",
    "    \n",
    "    #Compile model\n",
    "    model.compile(loss='categorical_crossentropy', optimizer='adam',\n",
    "              metrics=['accuracy'])\n",
    "    return model\n",
    "\n",
    "model = KerasClassifier(build_fn=create_model, verbose=0, epochs=20, batch_size=50)\n"
   ]
  },
  {
   "cell_type": "code",
   "execution_count": 77,
   "metadata": {},
   "outputs": [
    {
     "name": "stdout",
     "output_type": "stream",
     "text": [
      "Best: 0.390447 using {'neurons': 64}\n",
      "0.374870 (0.033872) with: {'neurons': 32}\n",
      "0.390447 (0.030770) with: {'neurons': 64}\n",
      "0.376947 (0.019204) with: {'neurons': 128}\n",
      "0.364486 (0.022175) with: {'neurons': 256}\n"
     ]
    }
   ],
   "source": [
    "\n",
    "\n",
    "#Define the grid search parameters\n",
    "#learning_rate = [0.001,0.0001]\n",
    "\n",
    "param_grid = {\n",
    "    'neurons':[32,64,128,256]\n",
    "}\n",
    "\n",
    "grid = GridSearchCV(estimator=model, param_grid=param_grid, n_jobs=-1, cv=3)\n",
    "grid_result = grid.fit(tfidf_mat, y)\n",
    "\n",
    "# summarize results\n",
    "print(\"Best: %f using %s\" % (grid_result.best_score_, grid_result.best_params_))\n",
    "means = grid_result.cv_results_['mean_test_score']\n",
    "stds = grid_result.cv_results_['std_test_score']\n",
    "params = grid_result.cv_results_['params']\n",
    "for mean, stdev, param in zip(means, stds, params):\n",
    "    print(\"%f (%f) with: %r\" % (mean, stdev, param))"
   ]
  },
  {
   "cell_type": "markdown",
   "metadata": {},
   "source": [
    "Results from various grid search show that optimizer='Adam\",  epochs=20, activation='relu' produce a better result."
   ]
  },
  {
   "cell_type": "markdown",
   "metadata": {},
   "source": [
    "## Model 6: Mixed Input Model with City, Rate Type and Cost of Living Indexes"
   ]
  },
  {
   "cell_type": "markdown",
   "metadata": {},
   "source": [
    "Use Functional API:  https://machinelearningmastery.com/keras-functional-api-deep-learning/\n",
    "\n",
    "Multi-input full example: https://www.pyimagesearch.com/2019/02/04/keras-multiple-inputs-and-mixed-data/"
   ]
  },
  {
   "cell_type": "markdown",
   "metadata": {},
   "source": [
    "#### Explore continuous variables and categorical variables"
   ]
  },
  {
   "cell_type": "code",
   "execution_count": 64,
   "metadata": {
    "scrolled": true
   },
   "outputs": [
    {
     "data": {
      "text/html": [
       "<div>\n",
       "<style scoped>\n",
       "    .dataframe tbody tr th:only-of-type {\n",
       "        vertical-align: middle;\n",
       "    }\n",
       "\n",
       "    .dataframe tbody tr th {\n",
       "        vertical-align: top;\n",
       "    }\n",
       "\n",
       "    .dataframe thead th {\n",
       "        text-align: right;\n",
       "    }\n",
       "</style>\n",
       "<table border=\"1\" class=\"dataframe\">\n",
       "  <thead>\n",
       "    <tr style=\"text-align: right;\">\n",
       "      <th></th>\n",
       "      <th>Unnamed: 0</th>\n",
       "      <th>Title</th>\n",
       "      <th>Company</th>\n",
       "      <th>Link</th>\n",
       "      <th>Review</th>\n",
       "      <th>Salary</th>\n",
       "      <th>Description</th>\n",
       "      <th>Location2</th>\n",
       "      <th>Rate_by</th>\n",
       "      <th>low</th>\n",
       "      <th>...</th>\n",
       "      <th>City</th>\n",
       "      <th>Cost of Living Index</th>\n",
       "      <th>Rent Index</th>\n",
       "      <th>Cost of Living Plus Rent Index</th>\n",
       "      <th>Groceries Index</th>\n",
       "      <th>Restaurant Price Index</th>\n",
       "      <th>Local Purchasing Power Index</th>\n",
       "      <th>City_Bins</th>\n",
       "      <th>combined_text</th>\n",
       "      <th>Salary_Bins</th>\n",
       "    </tr>\n",
       "  </thead>\n",
       "  <tbody>\n",
       "    <tr>\n",
       "      <th>0</th>\n",
       "      <td>0</td>\n",
       "      <td>2021048 Data Scientist $215,000.00</td>\n",
       "      <td>B4CORP</td>\n",
       "      <td>https://www.indeed.com/pagead/clk?mo=r&amp;ad=-6NY...</td>\n",
       "      <td>None</td>\n",
       "      <td>Up to $215,000 a year</td>\n",
       "      <td>Position Requires a Top Secret (TS/SCI) Cleara...</td>\n",
       "      <td>Arlington, VA</td>\n",
       "      <td>Yearly</td>\n",
       "      <td>Up to $215,000 a year</td>\n",
       "      <td>...</td>\n",
       "      <td>Arlington, VA</td>\n",
       "      <td>80.159143</td>\n",
       "      <td>58.838571</td>\n",
       "      <td>69.961143</td>\n",
       "      <td>76.886286</td>\n",
       "      <td>78.608571</td>\n",
       "      <td>115.594571</td>\n",
       "      <td>medium</td>\n",
       "      <td>2021048 Data Scientist $215,000.00 Position Re...</td>\n",
       "      <td>5</td>\n",
       "    </tr>\n",
       "    <tr>\n",
       "      <th>1</th>\n",
       "      <td>1</td>\n",
       "      <td>Data Science/Data Analyst</td>\n",
       "      <td>CRAiC LLC</td>\n",
       "      <td>https://www.indeed.com/company/CRAiC-LLC/jobs/...</td>\n",
       "      <td>None</td>\n",
       "      <td>$60,000 a year</td>\n",
       "      <td>Cost Readiness Analytics (CRAiC LLC) is lookin...</td>\n",
       "      <td>Arlington, VA</td>\n",
       "      <td>Yearly</td>\n",
       "      <td>$60,000 a year</td>\n",
       "      <td>...</td>\n",
       "      <td>Arlington, VA</td>\n",
       "      <td>80.159143</td>\n",
       "      <td>58.838571</td>\n",
       "      <td>69.961143</td>\n",
       "      <td>76.886286</td>\n",
       "      <td>78.608571</td>\n",
       "      <td>115.594571</td>\n",
       "      <td>medium</td>\n",
       "      <td>Data Science/Data Analyst Cost Readiness Analy...</td>\n",
       "      <td>1</td>\n",
       "    </tr>\n",
       "    <tr>\n",
       "      <th>2</th>\n",
       "      <td>2</td>\n",
       "      <td>Data Science Intern</td>\n",
       "      <td>MilliporeSigma</td>\n",
       "      <td>https://www.indeed.com/company/Serono/jobs/Dat...</td>\n",
       "      <td>3.9</td>\n",
       "      <td>$20 - $25 an hour</td>\n",
       "      <td>Job Title: Data Science Intern\\rA career with ...</td>\n",
       "      <td>Arlington, VA</td>\n",
       "      <td>Hourly</td>\n",
       "      <td>$20</td>\n",
       "      <td>...</td>\n",
       "      <td>Arlington, VA</td>\n",
       "      <td>80.159143</td>\n",
       "      <td>58.838571</td>\n",
       "      <td>69.961143</td>\n",
       "      <td>76.886286</td>\n",
       "      <td>78.608571</td>\n",
       "      <td>115.594571</td>\n",
       "      <td>medium</td>\n",
       "      <td>Data Science Intern Job Title: Data Science In...</td>\n",
       "      <td>0</td>\n",
       "    </tr>\n",
       "    <tr>\n",
       "      <th>3</th>\n",
       "      <td>3</td>\n",
       "      <td>Jr. Data Scientist</td>\n",
       "      <td>Numero Data LLC</td>\n",
       "      <td>https://www.indeed.com/company/Numero-Data-LLC...</td>\n",
       "      <td>None</td>\n",
       "      <td>$70,000 - $85,000 a year</td>\n",
       "      <td>Ideal candidate should have a degree in a quan...</td>\n",
       "      <td>Arlington, VA</td>\n",
       "      <td>Yearly</td>\n",
       "      <td>$70,000</td>\n",
       "      <td>...</td>\n",
       "      <td>Arlington, VA</td>\n",
       "      <td>80.159143</td>\n",
       "      <td>58.838571</td>\n",
       "      <td>69.961143</td>\n",
       "      <td>76.886286</td>\n",
       "      <td>78.608571</td>\n",
       "      <td>115.594571</td>\n",
       "      <td>medium</td>\n",
       "      <td>Jr. Data Scientist Ideal candidate should have...</td>\n",
       "      <td>2</td>\n",
       "    </tr>\n",
       "    <tr>\n",
       "      <th>4</th>\n",
       "      <td>4</td>\n",
       "      <td>Business Data Quality Engineer</td>\n",
       "      <td>HRU Technical Resources</td>\n",
       "      <td>https://www.indeed.com/pagead/clk?mo=r&amp;ad=-6NY...</td>\n",
       "      <td>None</td>\n",
       "      <td>$45 - $55 an hour</td>\n",
       "      <td>Please note that this is not a corp to corp or...</td>\n",
       "      <td>Arlington, VA</td>\n",
       "      <td>Hourly</td>\n",
       "      <td>$45</td>\n",
       "      <td>...</td>\n",
       "      <td>Arlington, VA</td>\n",
       "      <td>80.159143</td>\n",
       "      <td>58.838571</td>\n",
       "      <td>69.961143</td>\n",
       "      <td>76.886286</td>\n",
       "      <td>78.608571</td>\n",
       "      <td>115.594571</td>\n",
       "      <td>medium</td>\n",
       "      <td>Business Data Quality Engineer Please note tha...</td>\n",
       "      <td>3</td>\n",
       "    </tr>\n",
       "  </tbody>\n",
       "</table>\n",
       "<p>5 rows × 26 columns</p>\n",
       "</div>"
      ],
      "text/plain": [
       "   Unnamed: 0                               Title                  Company  \\\n",
       "0           0  2021048 Data Scientist $215,000.00                   B4CORP   \n",
       "1           1           Data Science/Data Analyst                CRAiC LLC   \n",
       "2           2                 Data Science Intern           MilliporeSigma   \n",
       "3           3                  Jr. Data Scientist          Numero Data LLC   \n",
       "4           4      Business Data Quality Engineer  HRU Technical Resources   \n",
       "\n",
       "                                                Link Review  \\\n",
       "0  https://www.indeed.com/pagead/clk?mo=r&ad=-6NY...   None   \n",
       "1  https://www.indeed.com/company/CRAiC-LLC/jobs/...   None   \n",
       "2  https://www.indeed.com/company/Serono/jobs/Dat...    3.9   \n",
       "3  https://www.indeed.com/company/Numero-Data-LLC...   None   \n",
       "4  https://www.indeed.com/pagead/clk?mo=r&ad=-6NY...   None   \n",
       "\n",
       "                     Salary  \\\n",
       "0     Up to $215,000 a year   \n",
       "1            $60,000 a year   \n",
       "2         $20 - $25 an hour   \n",
       "3  $70,000 - $85,000 a year   \n",
       "4         $45 - $55 an hour   \n",
       "\n",
       "                                         Description      Location2 Rate_by  \\\n",
       "0  Position Requires a Top Secret (TS/SCI) Cleara...  Arlington, VA  Yearly   \n",
       "1  Cost Readiness Analytics (CRAiC LLC) is lookin...  Arlington, VA  Yearly   \n",
       "2  Job Title: Data Science Intern\\rA career with ...  Arlington, VA  Hourly   \n",
       "3  Ideal candidate should have a degree in a quan...  Arlington, VA  Yearly   \n",
       "4  Please note that this is not a corp to corp or...  Arlington, VA  Hourly   \n",
       "\n",
       "                     low  ...           City  Cost of Living Index  \\\n",
       "0  Up to $215,000 a year  ...  Arlington, VA             80.159143   \n",
       "1         $60,000 a year  ...  Arlington, VA             80.159143   \n",
       "2                   $20   ...  Arlington, VA             80.159143   \n",
       "3               $70,000   ...  Arlington, VA             80.159143   \n",
       "4                   $45   ...  Arlington, VA             80.159143   \n",
       "\n",
       "   Rent Index  Cost of Living Plus Rent Index  Groceries Index  \\\n",
       "0   58.838571                       69.961143        76.886286   \n",
       "1   58.838571                       69.961143        76.886286   \n",
       "2   58.838571                       69.961143        76.886286   \n",
       "3   58.838571                       69.961143        76.886286   \n",
       "4   58.838571                       69.961143        76.886286   \n",
       "\n",
       "   Restaurant Price Index Local Purchasing Power Index  City_Bins  \\\n",
       "0               78.608571                   115.594571     medium   \n",
       "1               78.608571                   115.594571     medium   \n",
       "2               78.608571                   115.594571     medium   \n",
       "3               78.608571                   115.594571     medium   \n",
       "4               78.608571                   115.594571     medium   \n",
       "\n",
       "                                       combined_text  Salary_Bins  \n",
       "0  2021048 Data Scientist $215,000.00 Position Re...            5  \n",
       "1  Data Science/Data Analyst Cost Readiness Analy...            1  \n",
       "2  Data Science Intern Job Title: Data Science In...            0  \n",
       "3  Jr. Data Scientist Ideal candidate should have...            2  \n",
       "4  Business Data Quality Engineer Please note tha...            3  \n",
       "\n",
       "[5 rows x 26 columns]"
      ]
     },
     "execution_count": 64,
     "metadata": {},
     "output_type": "execute_result"
    }
   ],
   "source": [
    "salary_df.head()"
   ]
  },
  {
   "cell_type": "code",
   "execution_count": 65,
   "metadata": {},
   "outputs": [],
   "source": [
    "from sklearn.preprocessing import StandardScaler, OneHotEncoder\n",
    "from sklearn.impute import SimpleImputer\n",
    "\n",
    "cont_features = ['Cost of Living Index','Rent Index','Cost of Living Plus Rent Index','Local Purchasing Power Index']\n",
    "X_cont_df = salary_df.loc[:, cont_features]"
   ]
  },
  {
   "cell_type": "code",
   "execution_count": 66,
   "metadata": {},
   "outputs": [
    {
     "name": "stdout",
     "output_type": "stream",
     "text": [
      "<class 'pandas.core.frame.DataFrame'>\n",
      "Int64Index: 963 entries, 0 to 962\n",
      "Data columns (total 4 columns):\n",
      "Cost of Living Index              939 non-null float64\n",
      "Rent Index                        939 non-null float64\n",
      "Cost of Living Plus Rent Index    939 non-null float64\n",
      "Local Purchasing Power Index      939 non-null float64\n",
      "dtypes: float64(4)\n",
      "memory usage: 77.6 KB\n"
     ]
    }
   ],
   "source": [
    "X_cont_df.info()"
   ]
  },
  {
   "cell_type": "code",
   "execution_count": 67,
   "metadata": {},
   "outputs": [
    {
     "data": {
      "text/html": [
       "<div>\n",
       "<style scoped>\n",
       "    .dataframe tbody tr th:only-of-type {\n",
       "        vertical-align: middle;\n",
       "    }\n",
       "\n",
       "    .dataframe tbody tr th {\n",
       "        vertical-align: top;\n",
       "    }\n",
       "\n",
       "    .dataframe thead th {\n",
       "        text-align: right;\n",
       "    }\n",
       "</style>\n",
       "<table border=\"1\" class=\"dataframe\">\n",
       "  <thead>\n",
       "    <tr style=\"text-align: right;\">\n",
       "      <th></th>\n",
       "      <th>Cost of Living Index</th>\n",
       "      <th>Rent Index</th>\n",
       "      <th>Cost of Living Plus Rent Index</th>\n",
       "      <th>Local Purchasing Power Index</th>\n",
       "    </tr>\n",
       "  </thead>\n",
       "  <tbody>\n",
       "    <tr>\n",
       "      <th>0</th>\n",
       "      <td>80.159143</td>\n",
       "      <td>58.838571</td>\n",
       "      <td>69.961143</td>\n",
       "      <td>115.594571</td>\n",
       "    </tr>\n",
       "    <tr>\n",
       "      <th>1</th>\n",
       "      <td>80.159143</td>\n",
       "      <td>58.838571</td>\n",
       "      <td>69.961143</td>\n",
       "      <td>115.594571</td>\n",
       "    </tr>\n",
       "    <tr>\n",
       "      <th>2</th>\n",
       "      <td>80.159143</td>\n",
       "      <td>58.838571</td>\n",
       "      <td>69.961143</td>\n",
       "      <td>115.594571</td>\n",
       "    </tr>\n",
       "    <tr>\n",
       "      <th>3</th>\n",
       "      <td>80.159143</td>\n",
       "      <td>58.838571</td>\n",
       "      <td>69.961143</td>\n",
       "      <td>115.594571</td>\n",
       "    </tr>\n",
       "    <tr>\n",
       "      <th>4</th>\n",
       "      <td>80.159143</td>\n",
       "      <td>58.838571</td>\n",
       "      <td>69.961143</td>\n",
       "      <td>115.594571</td>\n",
       "    </tr>\n",
       "    <tr>\n",
       "      <th>...</th>\n",
       "      <td>...</td>\n",
       "      <td>...</td>\n",
       "      <td>...</td>\n",
       "      <td>...</td>\n",
       "    </tr>\n",
       "    <tr>\n",
       "      <th>958</th>\n",
       "      <td>87.740000</td>\n",
       "      <td>78.180000</td>\n",
       "      <td>83.170000</td>\n",
       "      <td>130.250000</td>\n",
       "    </tr>\n",
       "    <tr>\n",
       "      <th>959</th>\n",
       "      <td>87.740000</td>\n",
       "      <td>78.180000</td>\n",
       "      <td>83.170000</td>\n",
       "      <td>130.250000</td>\n",
       "    </tr>\n",
       "    <tr>\n",
       "      <th>960</th>\n",
       "      <td>87.740000</td>\n",
       "      <td>78.180000</td>\n",
       "      <td>83.170000</td>\n",
       "      <td>130.250000</td>\n",
       "    </tr>\n",
       "    <tr>\n",
       "      <th>961</th>\n",
       "      <td>87.740000</td>\n",
       "      <td>78.180000</td>\n",
       "      <td>83.170000</td>\n",
       "      <td>130.250000</td>\n",
       "    </tr>\n",
       "    <tr>\n",
       "      <th>962</th>\n",
       "      <td>87.740000</td>\n",
       "      <td>78.180000</td>\n",
       "      <td>83.170000</td>\n",
       "      <td>130.250000</td>\n",
       "    </tr>\n",
       "  </tbody>\n",
       "</table>\n",
       "<p>963 rows × 4 columns</p>\n",
       "</div>"
      ],
      "text/plain": [
       "     Cost of Living Index  Rent Index  Cost of Living Plus Rent Index  \\\n",
       "0               80.159143   58.838571                       69.961143   \n",
       "1               80.159143   58.838571                       69.961143   \n",
       "2               80.159143   58.838571                       69.961143   \n",
       "3               80.159143   58.838571                       69.961143   \n",
       "4               80.159143   58.838571                       69.961143   \n",
       "..                    ...         ...                             ...   \n",
       "958             87.740000   78.180000                       83.170000   \n",
       "959             87.740000   78.180000                       83.170000   \n",
       "960             87.740000   78.180000                       83.170000   \n",
       "961             87.740000   78.180000                       83.170000   \n",
       "962             87.740000   78.180000                       83.170000   \n",
       "\n",
       "     Local Purchasing Power Index  \n",
       "0                      115.594571  \n",
       "1                      115.594571  \n",
       "2                      115.594571  \n",
       "3                      115.594571  \n",
       "4                      115.594571  \n",
       "..                            ...  \n",
       "958                    130.250000  \n",
       "959                    130.250000  \n",
       "960                    130.250000  \n",
       "961                    130.250000  \n",
       "962                    130.250000  \n",
       "\n",
       "[963 rows x 4 columns]"
      ]
     },
     "execution_count": 67,
     "metadata": {},
     "output_type": "execute_result"
    }
   ],
   "source": [
    "X_cont_df"
   ]
  },
  {
   "cell_type": "code",
   "execution_count": 68,
   "metadata": {
    "scrolled": true
   },
   "outputs": [
    {
     "data": {
      "image/png": "[encoded data removed]",
      "text/plain": [
       "<Figure size 576x432 with 2 Axes>"
      ]
     },
     "metadata": {},
     "output_type": "display_data"
    }
   ],
   "source": [
    "#Look at the correlation among continous variables\n",
    "import numpy as np\n",
    "np.random.seed(0)\n",
    "import seaborn as sns\n",
    "sns.set()\n",
    "plt.figure(figsize=(8,6))\n",
    "ax = sns.heatmap(X_cont_df.corr())\n",
    "plt.title(\"Correlation Matrix\")\n",
    "plt.show()"
   ]
  },
  {
   "cell_type": "markdown",
   "metadata": {},
   "source": [
    "Looks like Cost of Living Index largely correlates with Rent Index and negatively correlates with Local Purchasing Power Index. We will keep Cost of Living Plus Rent Index and Local Purchasing Power Index in this model. "
   ]
  },
  {
   "cell_type": "code",
   "execution_count": 69,
   "metadata": {},
   "outputs": [],
   "source": [
    "#Keep Cost of Living Plus Rent Index, Local Purchasing Power and Fill missing values with the mean\n",
    "\n",
    "cont_imp = SimpleImputer(strategy='mean')\n",
    "cont_imp.fit(X_cont_df[['Cost of Living Plus Rent Index','Local Purchasing Power Index']])\n",
    "X_cont = cont_imp.transform(X_cont_df[['Cost of Living Plus Rent Index','Local Purchasing Power Index']])\n",
    "\n",
    "#Standardized inputs\n",
    "\n",
    "sc=StandardScaler()\n",
    "sc.fit(X_cont)\n",
    "X_cont_scaled = sc.transform(X_cont)\n",
    "\n",
    "#Continous Features Dataframe\n",
    "cont_scaled_df = pd.DataFrame(X_cont_scaled, columns = ['Cost of Living Plus Rent Index','Local Purchasing Power Index'])"
   ]
  },
  {
   "cell_type": "code",
   "execution_count": 70,
   "metadata": {},
   "outputs": [],
   "source": [
    "#Try unscaled Index\n",
    "con_unscaled_df = pd.DataFrame(X_cont_df, columns = ['Cost of Living Plus Rent Index','Local Purchasing Power Index'])"
   ]
  },
  {
   "cell_type": "code",
   "execution_count": 72,
   "metadata": {},
   "outputs": [
    {
     "name": "stdout",
     "output_type": "stream",
     "text": [
      "<class 'pandas.core.frame.DataFrame'>\n",
      "Int64Index: 963 entries, 0 to 962\n",
      "Data columns (total 2 columns):\n",
      "Cost of Living Plus Rent Index    939 non-null float64\n",
      "Local Purchasing Power Index      939 non-null float64\n",
      "dtypes: float64(2)\n",
      "memory usage: 62.6 KB\n"
     ]
    }
   ],
   "source": [
    "con_unscaled_df.info()"
   ]
  },
  {
   "cell_type": "code",
   "execution_count": 25,
   "metadata": {},
   "outputs": [],
   "source": [
    "#salary_df['City_Bins'] = salary_df['City_Bins'].astype('category')"
   ]
  },
  {
   "cell_type": "code",
   "execution_count": 73,
   "metadata": {},
   "outputs": [],
   "source": [
    "#Categorical Features\n",
    "\n",
    "cat_features=['Rate_by','City_Bins']\n",
    "X_cat = salary_df.loc[:, cat_features]\n",
    "\n",
    "# Replace NaNs with 'missing'\n",
    "cat_imp = SimpleImputer(strategy='constant', fill_value='missing')\n",
    "cat_imp.fit(X_cat)\n",
    "X_cat = cat_imp.transform(X_cat)\n",
    "\n",
    "#Encode Categorical Features\n",
    "ohe = OneHotEncoder(handle_unknown='ignore')\n",
    "ohe.fit(X_cat)\n",
    "X_cat_ohe = ohe.transform(X_cat)\n",
    "\n",
    "#Create categorical features dataframe\n",
    "cat_df = pd.DataFrame(X_cat_ohe.todense(), columns=ohe.get_feature_names(input_features=cat_features))"
   ]
  },
  {
   "cell_type": "code",
   "execution_count": 74,
   "metadata": {},
   "outputs": [
    {
     "data": {
      "text/html": [
       "<div>\n",
       "<style scoped>\n",
       "    .dataframe tbody tr th:only-of-type {\n",
       "        vertical-align: middle;\n",
       "    }\n",
       "\n",
       "    .dataframe tbody tr th {\n",
       "        vertical-align: top;\n",
       "    }\n",
       "\n",
       "    .dataframe thead th {\n",
       "        text-align: right;\n",
       "    }\n",
       "</style>\n",
       "<table border=\"1\" class=\"dataframe\">\n",
       "  <thead>\n",
       "    <tr style=\"text-align: right;\">\n",
       "      <th></th>\n",
       "      <th>Rate_by_Daily</th>\n",
       "      <th>Rate_by_Hourly</th>\n",
       "      <th>Rate_by_Monthly</th>\n",
       "      <th>Rate_by_Yearly</th>\n",
       "      <th>City_Bins_high</th>\n",
       "      <th>City_Bins_low</th>\n",
       "      <th>City_Bins_medium</th>\n",
       "      <th>City_Bins_missing</th>\n",
       "    </tr>\n",
       "  </thead>\n",
       "  <tbody>\n",
       "    <tr>\n",
       "      <th>count</th>\n",
       "      <td>963.000000</td>\n",
       "      <td>963.000000</td>\n",
       "      <td>963.000000</td>\n",
       "      <td>963.000000</td>\n",
       "      <td>963.000000</td>\n",
       "      <td>963.000000</td>\n",
       "      <td>963.000000</td>\n",
       "      <td>963.000000</td>\n",
       "    </tr>\n",
       "    <tr>\n",
       "      <th>mean</th>\n",
       "      <td>0.001038</td>\n",
       "      <td>0.305296</td>\n",
       "      <td>0.032191</td>\n",
       "      <td>0.661475</td>\n",
       "      <td>0.305296</td>\n",
       "      <td>0.376947</td>\n",
       "      <td>0.292835</td>\n",
       "      <td>0.024922</td>\n",
       "    </tr>\n",
       "    <tr>\n",
       "      <th>std</th>\n",
       "      <td>0.032225</td>\n",
       "      <td>0.460772</td>\n",
       "      <td>0.176599</td>\n",
       "      <td>0.473454</td>\n",
       "      <td>0.460772</td>\n",
       "      <td>0.484873</td>\n",
       "      <td>0.455300</td>\n",
       "      <td>0.155969</td>\n",
       "    </tr>\n",
       "    <tr>\n",
       "      <th>min</th>\n",
       "      <td>0.000000</td>\n",
       "      <td>0.000000</td>\n",
       "      <td>0.000000</td>\n",
       "      <td>0.000000</td>\n",
       "      <td>0.000000</td>\n",
       "      <td>0.000000</td>\n",
       "      <td>0.000000</td>\n",
       "      <td>0.000000</td>\n",
       "    </tr>\n",
       "    <tr>\n",
       "      <th>25%</th>\n",
       "      <td>0.000000</td>\n",
       "      <td>0.000000</td>\n",
       "      <td>0.000000</td>\n",
       "      <td>0.000000</td>\n",
       "      <td>0.000000</td>\n",
       "      <td>0.000000</td>\n",
       "      <td>0.000000</td>\n",
       "      <td>0.000000</td>\n",
       "    </tr>\n",
       "    <tr>\n",
       "      <th>50%</th>\n",
       "      <td>0.000000</td>\n",
       "      <td>0.000000</td>\n",
       "      <td>0.000000</td>\n",
       "      <td>1.000000</td>\n",
       "      <td>0.000000</td>\n",
       "      <td>0.000000</td>\n",
       "      <td>0.000000</td>\n",
       "      <td>0.000000</td>\n",
       "    </tr>\n",
       "    <tr>\n",
       "      <th>75%</th>\n",
       "      <td>0.000000</td>\n",
       "      <td>1.000000</td>\n",
       "      <td>0.000000</td>\n",
       "      <td>1.000000</td>\n",
       "      <td>1.000000</td>\n",
       "      <td>1.000000</td>\n",
       "      <td>1.000000</td>\n",
       "      <td>0.000000</td>\n",
       "    </tr>\n",
       "    <tr>\n",
       "      <th>max</th>\n",
       "      <td>1.000000</td>\n",
       "      <td>1.000000</td>\n",
       "      <td>1.000000</td>\n",
       "      <td>1.000000</td>\n",
       "      <td>1.000000</td>\n",
       "      <td>1.000000</td>\n",
       "      <td>1.000000</td>\n",
       "      <td>1.000000</td>\n",
       "    </tr>\n",
       "  </tbody>\n",
       "</table>\n",
       "</div>"
      ],
      "text/plain": [
       "       Rate_by_Daily  Rate_by_Hourly  Rate_by_Monthly  Rate_by_Yearly  \\\n",
       "count     963.000000      963.000000       963.000000      963.000000   \n",
       "mean        0.001038        0.305296         0.032191        0.661475   \n",
       "std         0.032225        0.460772         0.176599        0.473454   \n",
       "min         0.000000        0.000000         0.000000        0.000000   \n",
       "25%         0.000000        0.000000         0.000000        0.000000   \n",
       "50%         0.000000        0.000000         0.000000        1.000000   \n",
       "75%         0.000000        1.000000         0.000000        1.000000   \n",
       "max         1.000000        1.000000         1.000000        1.000000   \n",
       "\n",
       "       City_Bins_high  City_Bins_low  City_Bins_medium  City_Bins_missing  \n",
       "count      963.000000     963.000000        963.000000         963.000000  \n",
       "mean         0.305296       0.376947          0.292835           0.024922  \n",
       "std          0.460772       0.484873          0.455300           0.155969  \n",
       "min          0.000000       0.000000          0.000000           0.000000  \n",
       "25%          0.000000       0.000000          0.000000           0.000000  \n",
       "50%          0.000000       0.000000          0.000000           0.000000  \n",
       "75%          1.000000       1.000000          1.000000           0.000000  \n",
       "max          1.000000       1.000000          1.000000           1.000000  "
      ]
     },
     "execution_count": 74,
     "metadata": {},
     "output_type": "execute_result"
    }
   ],
   "source": [
    "cat_df.describe()"
   ]
  },
  {
   "cell_type": "code",
   "execution_count": 75,
   "metadata": {},
   "outputs": [],
   "source": [
    "#cat_df['City_Bins']= salary_df['City_Bins']\n",
    "#drop Rate_by_Daily and City_Bins_missing since too many zeros\n",
    "cat_df_clean = cat_df.drop(['Rate_by_Daily','City_Bins_missing'], axis=1)"
   ]
  },
  {
   "cell_type": "markdown",
   "metadata": {},
   "source": [
    "Combine contious and categorical variables into one dataframe"
   ]
  },
  {
   "cell_type": "code",
   "execution_count": 76,
   "metadata": {},
   "outputs": [],
   "source": [
    "#Other_inputs = pd.concat([cont_scaled_df, cat_df], axis=1)\n",
    "Other_inputs = pd.concat([cont_scaled_df, cat_df_clean], axis=1)"
   ]
  },
  {
   "cell_type": "code",
   "execution_count": 77,
   "metadata": {},
   "outputs": [
    {
     "name": "stdout",
     "output_type": "stream",
     "text": [
      "<class 'pandas.core.frame.DataFrame'>\n",
      "RangeIndex: 963 entries, 0 to 962\n",
      "Data columns (total 8 columns):\n",
      "Cost of Living Plus Rent Index    963 non-null float64\n",
      "Local Purchasing Power Index      963 non-null float64\n",
      "Rate_by_Hourly                    963 non-null float64\n",
      "Rate_by_Monthly                   963 non-null float64\n",
      "Rate_by_Yearly                    963 non-null float64\n",
      "City_Bins_high                    963 non-null float64\n",
      "City_Bins_low                     963 non-null float64\n",
      "City_Bins_medium                  963 non-null float64\n",
      "dtypes: float64(8)\n",
      "memory usage: 60.3 KB\n"
     ]
    }
   ],
   "source": [
    "Other_inputs.info()"
   ]
  },
  {
   "cell_type": "code",
   "execution_count": null,
   "metadata": {},
   "outputs": [],
   "source": [
    "#Text inputs - embedding layer\n",
    "tokenizer = text.Tokenizer() \n",
    "tokenizer.num_words = 1000  #limit the number of words to keep most common 1000 words\n",
    "tokenizer.fit_on_texts(list(salary_df['combined_text']))\n",
    "list_tokenized_jd = tokenizer.texts_to_sequences(salary_df['combined_text'])\n",
    "\n",
    "X_t = sequence.pad_sequences(list_tokenized_jd, maxlen=500, padding = 'post') "
   ]
  },
  {
   "cell_type": "code",
   "execution_count": 165,
   "metadata": {},
   "outputs": [],
   "source": [
    "y = to_categorical(target_class.values, num_classes=6, dtype=\"float32\")"
   ]
  },
  {
   "cell_type": "code",
   "execution_count": 166,
   "metadata": {},
   "outputs": [],
   "source": [
    "#Train Test split on text inputs use Keras embedding layer\n",
    "\n",
    "X_train, X_test, y_train, y_test = train_test_split(X_t, y, test_size=0.1, random_state=4)"
   ]
  },
  {
   "cell_type": "code",
   "execution_count": 167,
   "metadata": {},
   "outputs": [],
   "source": [
    "#Train Test split on other inputs\n",
    "\n",
    "X2_train, X2_test, y_train, y_test = train_test_split(Other_inputs, y, test_size=0.1, random_state=4)"
   ]
  },
  {
   "cell_type": "code",
   "execution_count": 168,
   "metadata": {},
   "outputs": [
    {
     "data": {
      "text/plain": [
       "(866, 8)"
      ]
     },
     "execution_count": 168,
     "metadata": {},
     "output_type": "execute_result"
    }
   ],
   "source": [
    "X2_train.shape"
   ]
  },
  {
   "cell_type": "code",
   "execution_count": 169,
   "metadata": {},
   "outputs": [
    {
     "data": {
      "text/plain": [
       "(866, 500)"
      ]
     },
     "execution_count": 169,
     "metadata": {},
     "output_type": "execute_result"
    }
   ],
   "source": [
    "X_train.shape"
   ]
  },
  {
   "cell_type": "code",
   "execution_count": 170,
   "metadata": {},
   "outputs": [
    {
     "data": {
      "text/plain": [
       "(866, 6)"
      ]
     },
     "execution_count": 170,
     "metadata": {},
     "output_type": "execute_result"
    }
   ],
   "source": [
    "y_train.shape"
   ]
  },
  {
   "cell_type": "code",
   "execution_count": 171,
   "metadata": {
    "scrolled": true
   },
   "outputs": [
    {
     "data": {
      "text/plain": [
       "0      5\n",
       "1      1\n",
       "2      0\n",
       "3      2\n",
       "4      3\n",
       "      ..\n",
       "958    3\n",
       "959    3\n",
       "960    3\n",
       "961    2\n",
       "962    2\n",
       "Name: Salary_Bins, Length: 963, dtype: category\n",
       "Categories (6, int64): [0, 1, 2, 3, 4, 5]"
      ]
     },
     "execution_count": 171,
     "metadata": {},
     "output_type": "execute_result"
    }
   ],
   "source": [
    "target_class"
   ]
  },
  {
   "cell_type": "markdown",
   "metadata": {},
   "source": [
    "### Put them together"
   ]
  },
  {
   "cell_type": "code",
   "execution_count": 172,
   "metadata": {},
   "outputs": [],
   "source": [
    "from keras.models import Sequential\n",
    "from keras.layers.normalization import BatchNormalization\n",
    "from keras.layers.convolutional import Conv2D\n",
    "from keras.layers.convolutional import MaxPooling2D\n",
    "from keras.layers.core import Activation\n",
    "from keras.layers.core import Dropout\n",
    "from keras.layers.core import Dense\n",
    "from keras.layers import Flatten\n",
    "from keras.layers import Input\n",
    "from keras.models import Model\n",
    "from keras.layers import concatenate\n",
    "from keras.optimizers import Adam"
   ]
  },
  {
   "cell_type": "code",
   "execution_count": 173,
   "metadata": {
    "colab": {},
    "colab_type": "code",
    "id": "UpLPFthfde5J"
   },
   "outputs": [],
   "source": [
    "# define two sets of inputs\n",
    "inputA = Input(shape=(8,)) #non-words input\n",
    "inputB = Input(shape=(500,))  #word vectors \n",
    "\n",
    "# the first branch operates on the first input\n",
    "#hiddenA1 = Dense(16, activation=\"relu\")(inputA)\n",
    "#hiddenA2 = Dense(16, activation=\"relu\")(hiddenA1)\n",
    "outputA = Dense(4, activation=\"relu\")(inputA)\n",
    "modelA = Model(inputs=inputA, outputs=outputA)\n",
    "\n",
    "# the second branch opreates on the second input\n",
    "embedB1 =  Embedding(input_dim = 1000, output_dim = 32, input_length = 500)(inputB) #each word onto a 32 length real valued vector\n",
    "convB1 = Conv1D(filters=32, kernel_size = 3, padding='same', activation='relu')(embedB1)\n",
    "poolB1 = MaxPooling1D(pool_size=2)(convB1)\n",
    "LSTMB1 = LSTM(128, return_sequences=True)(poolB1)\n",
    "hiddenB1 = Dense(100, activation='relu')(LSTMB1)\n",
    "dropB1 = Dropout(0.5)(hiddenB1)\n",
    "flat = Flatten()(dropB1)\n",
    "outputB = Dense(128, activation='relu')(flat)\n",
    "modelB = Model(inputs=inputB, outputs=outputB)\n",
    "\n",
    "# combine the output of the two branches\n",
    "combined = concatenate([modelA.output, modelB.output])\n",
    "# apply a FC layer and then a regression prediction on the\n",
    "# combined outputs\n",
    "z = Dense(16, activation=\"relu\")(combined)\n",
    "z = Dense(6, activation=\"softmax\")(z)\n",
    "# our model will accept the inputs of the two branches and\n",
    "# then output a single value\n",
    "model = Model(inputs=[modelA.input, modelB.input], outputs=z)"
   ]
  },
  {
   "cell_type": "code",
   "execution_count": 174,
   "metadata": {},
   "outputs": [
    {
     "name": "stdout",
     "output_type": "stream",
     "text": [
      "Model: \"model_4\"\n",
      "__________________________________________________________________________________________________\n",
      "Layer (type)                    Output Shape         Param #     Connected to                     \n",
      "==================================================================================================\n",
      "input_5 (InputLayer)            (None, 500)          0                                            \n",
      "__________________________________________________________________________________________________\n",
      "embedding_8 (Embedding)         (None, 500, 32)      32000       input_5[0][0]                    \n",
      "__________________________________________________________________________________________________\n",
      "conv1d_11 (Conv1D)              (None, 500, 32)      3104        embedding_8[0][0]                \n",
      "__________________________________________________________________________________________________\n",
      "max_pooling1d_11 (MaxPooling1D) (None, 250, 32)      0           conv1d_11[0][0]                  \n",
      "__________________________________________________________________________________________________\n",
      "lstm_6 (LSTM)                   (None, 250, 128)     82432       max_pooling1d_11[0][0]           \n",
      "__________________________________________________________________________________________________\n",
      "dense_14 (Dense)                (None, 250, 100)     12900       lstm_6[0][0]                     \n",
      "__________________________________________________________________________________________________\n",
      "dropout_3 (Dropout)             (None, 250, 100)     0           dense_14[0][0]                   \n",
      "__________________________________________________________________________________________________\n",
      "input_4 (InputLayer)            (None, 8)            0                                            \n",
      "__________________________________________________________________________________________________\n",
      "flatten_7 (Flatten)             (None, 25000)        0           dropout_3[0][0]                  \n",
      "__________________________________________________________________________________________________\n",
      "dense_13 (Dense)                (None, 2)            18          input_4[0][0]                    \n",
      "__________________________________________________________________________________________________\n",
      "dense_15 (Dense)                (None, 128)          3200128     flatten_7[0][0]                  \n",
      "__________________________________________________________________________________________________\n",
      "concatenate_1 (Concatenate)     (None, 130)          0           dense_13[0][0]                   \n",
      "                                                                 dense_15[0][0]                   \n",
      "__________________________________________________________________________________________________\n",
      "dense_16 (Dense)                (None, 16)           2096        concatenate_1[0][0]              \n",
      "__________________________________________________________________________________________________\n",
      "dense_17 (Dense)                (None, 6)            102         dense_16[0][0]                   \n",
      "==================================================================================================\n",
      "Total params: 3,332,780\n",
      "Trainable params: 3,332,780\n",
      "Non-trainable params: 0\n",
      "__________________________________________________________________________________________________\n"
     ]
    }
   ],
   "source": [
    "model.summary()"
   ]
  },
  {
   "cell_type": "code",
   "execution_count": 176,
   "metadata": {
    "colab": {},
    "colab_type": "code",
    "id": "ehW6a2HGde5O"
   },
   "outputs": [
    {
     "name": "stdout",
     "output_type": "stream",
     "text": [
      "Train on 866 samples, validate on 97 samples\n",
      "Epoch 1/40\n",
      "866/866 [==============================] - 6s 7ms/step - loss: 1.3559 - accuracy: 0.4908 - val_loss: 1.8045 - val_accuracy: 0.3918\n",
      "Epoch 2/40\n",
      "866/866 [==============================] - 5s 5ms/step - loss: 1.0848 - accuracy: 0.5589 - val_loss: 1.6868 - val_accuracy: 0.3711\n",
      "Epoch 3/40\n",
      "866/866 [==============================] - 5s 5ms/step - loss: 0.9230 - accuracy: 0.6443 - val_loss: 2.0205 - val_accuracy: 0.3814\n",
      "Epoch 4/40\n",
      "866/866 [==============================] - 5s 5ms/step - loss: 0.7673 - accuracy: 0.7206 - val_loss: 2.7269 - val_accuracy: 0.4124\n",
      "Epoch 5/40\n",
      "866/866 [==============================] - 5s 5ms/step - loss: 0.6674 - accuracy: 0.7506 - val_loss: 2.3498 - val_accuracy: 0.4124\n",
      "Epoch 6/40\n",
      "866/866 [==============================] - 5s 5ms/step - loss: 0.5904 - accuracy: 0.7760 - val_loss: 2.9971 - val_accuracy: 0.4330\n",
      "Epoch 7/40\n",
      "866/866 [==============================] - 5s 6ms/step - loss: 0.4852 - accuracy: 0.8210 - val_loss: 3.0341 - val_accuracy: 0.4021\n",
      "Epoch 8/40\n",
      "866/866 [==============================] - 5s 6ms/step - loss: 0.4319 - accuracy: 0.8487 - val_loss: 2.9734 - val_accuracy: 0.4227\n",
      "Epoch 9/40\n",
      "866/866 [==============================] - 5s 5ms/step - loss: 0.3808 - accuracy: 0.8845 - val_loss: 4.3127 - val_accuracy: 0.4536\n",
      "Epoch 10/40\n",
      "866/866 [==============================] - 5s 5ms/step - loss: 0.3045 - accuracy: 0.9099 - val_loss: 3.5683 - val_accuracy: 0.4639\n",
      "Epoch 11/40\n",
      "866/866 [==============================] - 5s 5ms/step - loss: 0.2599 - accuracy: 0.9122 - val_loss: 4.1240 - val_accuracy: 0.4227\n",
      "Epoch 12/40\n",
      "866/866 [==============================] - 5s 5ms/step - loss: 0.2129 - accuracy: 0.9388 - val_loss: 3.7800 - val_accuracy: 0.4330\n",
      "Epoch 00012: early stopping\n"
     ]
    }
   ],
   "source": [
    "\n",
    "opt = Adam(lr=1e-3, decay=1e-3/200)\n",
    "model.compile(loss = 'categorical_crossentropy', metrics=['accuracy'], optimizer=opt)\n",
    "\n",
    "es = EarlyStopping(monitor='val_loss', patience = 10, mode='min', verbose=1)\n",
    "\n",
    "history = model.fit([X2_train,X_train], y_train, validation_data = ([X2_test, X_test], y_test), epochs=40, batch_size=128, callbacks=[es])\n"
   ]
  },
  {
   "cell_type": "markdown",
   "metadata": {},
   "source": [
    "### Try Word2Vec Embedding in Mixed Input Model"
   ]
  },
  {
   "cell_type": "code",
   "execution_count": 177,
   "metadata": {},
   "outputs": [],
   "source": [
    "#X_train, X_test using pad sequences from Word2Vec model\n",
    "\n",
    "X_train, X_test, y_train, y_test = train_test_split(jd_pad, y, test_size=0.1, random_state=4)"
   ]
  },
  {
   "cell_type": "code",
   "execution_count": 179,
   "metadata": {},
   "outputs": [],
   "source": [
    "# define two sets of inputs\n",
    "inputA = Input(shape=(8,)) #non-words input\n",
    "inputB = Input(shape=(500,))  #word vectors \n",
    "\n",
    "# the first branch operates on the first input\n",
    "#hiddenA1 = Dense(16, activation=\"relu\")(inputA)\n",
    "#hiddenA2 = Dense(16, activation=\"relu\")(hiddenA1)\n",
    "outputA = Dense(4, activation=\"relu\")(inputA)\n",
    "modelA = Model(inputs=inputA, outputs=outputA)\n",
    "\n",
    "# the second branch opreates on the second input\n",
    "\n",
    "#Word2Vec Embedding layer\n",
    "embedding_size = 100  #word2vec has a 100 dimension space\n",
    "embedding_layer = Embedding(input_dim = num_words, #input_dim: size of the vocabulary\n",
    "                    output_dim = embedding_size,  #dimension of the dense embedding\n",
    "                    embeddings_initializer = Constant(embedding_matrix),\n",
    "                    input_length = 500, #length of input sequences\n",
    "                    trainable = False)\n",
    "\n",
    "\n",
    "embedded_sequences = embedding_layer(inputB)\n",
    "#embedB1 =  Embedding(input_dim = 1000, output_dim = 32, input_length = 500)(inputB) #each word onto a 32 length real valued vector\n",
    "convB1 = Conv1D(filters=32, kernel_size = 3, padding='same', activation='relu')(embedded_sequences)\n",
    "poolB1 = MaxPooling1D(pool_size=2)(convB1)\n",
    "LSTMB1 = LSTM(128, return_sequences=True)(poolB1)\n",
    "dropB1 = Dropout(0.5)(poolB1)\n",
    "hiddenB1 = Dense(100, activation='relu')(dropB1)\n",
    "dropB2 = Dropout(0.5)(hiddenB1)\n",
    "flat = Flatten()(dropB2)\n",
    "outputB = Dense(128, activation='relu')(flat)\n",
    "modelB = Model(inputs=inputB, outputs=outputB)\n",
    "\n",
    "# combine the output of the two branches\n",
    "combined = concatenate([modelA.output, modelB.output])\n",
    "# apply a FC layer and then a regression prediction on the\n",
    "# combined outputs\n",
    "z = Dense(64, activation=\"relu\")(combined)\n",
    "z = Dense(32, activation=\"relu\")(z)\n",
    "z = Dense(6, activation=\"softmax\")(z)\n",
    "# our model will accept the inputs of the two branches and\n",
    "# then output a single value\n",
    "model = Model(inputs=[modelA.input, modelB.input], outputs=z)"
   ]
  },
  {
   "cell_type": "code",
   "execution_count": 180,
   "metadata": {},
   "outputs": [
    {
     "name": "stdout",
     "output_type": "stream",
     "text": [
      "Model: \"model_9\"\n",
      "__________________________________________________________________________________________________\n",
      "Layer (type)                    Output Shape         Param #     Connected to                     \n",
      "==================================================================================================\n",
      "input_10 (InputLayer)           (None, 500)          0                                            \n",
      "__________________________________________________________________________________________________\n",
      "embedding_10 (Embedding)        (None, 500, 100)     2652000     input_10[0][0]                   \n",
      "__________________________________________________________________________________________________\n",
      "conv1d_13 (Conv1D)              (None, 500, 32)      9632        embedding_10[0][0]               \n",
      "__________________________________________________________________________________________________\n",
      "max_pooling1d_13 (MaxPooling1D) (None, 250, 32)      0           conv1d_13[0][0]                  \n",
      "__________________________________________________________________________________________________\n",
      "dropout_6 (Dropout)             (None, 250, 32)      0           max_pooling1d_13[0][0]           \n",
      "__________________________________________________________________________________________________\n",
      "dense_22 (Dense)                (None, 250, 100)     3300        dropout_6[0][0]                  \n",
      "__________________________________________________________________________________________________\n",
      "dropout_7 (Dropout)             (None, 250, 100)     0           dense_22[0][0]                   \n",
      "__________________________________________________________________________________________________\n",
      "input_9 (InputLayer)            (None, 8)            0                                            \n",
      "__________________________________________________________________________________________________\n",
      "flatten_9 (Flatten)             (None, 25000)        0           dropout_7[0][0]                  \n",
      "__________________________________________________________________________________________________\n",
      "dense_21 (Dense)                (None, 4)            36          input_9[0][0]                    \n",
      "__________________________________________________________________________________________________\n",
      "dense_23 (Dense)                (None, 128)          3200128     flatten_9[0][0]                  \n",
      "__________________________________________________________________________________________________\n",
      "concatenate_2 (Concatenate)     (None, 132)          0           dense_21[0][0]                   \n",
      "                                                                 dense_23[0][0]                   \n",
      "__________________________________________________________________________________________________\n",
      "dense_24 (Dense)                (None, 64)           8512        concatenate_2[0][0]              \n",
      "__________________________________________________________________________________________________\n",
      "dense_25 (Dense)                (None, 32)           2080        dense_24[0][0]                   \n",
      "__________________________________________________________________________________________________\n",
      "dense_26 (Dense)                (None, 6)            198         dense_25[0][0]                   \n",
      "==================================================================================================\n",
      "Total params: 5,875,886\n",
      "Trainable params: 3,223,886\n",
      "Non-trainable params: 2,652,000\n",
      "__________________________________________________________________________________________________\n"
     ]
    }
   ],
   "source": [
    "model.summary()"
   ]
  },
  {
   "cell_type": "code",
   "execution_count": 183,
   "metadata": {},
   "outputs": [
    {
     "name": "stdout",
     "output_type": "stream",
     "text": [
      "Train on 866 samples, validate on 97 samples\n",
      "Epoch 1/40\n",
      "866/866 [==============================] - 2s 3ms/step - loss: 1.8434 - accuracy: 0.1744 - val_loss: 1.7935 - val_accuracy: 0.1856\n",
      "Epoch 2/40\n",
      "866/866 [==============================] - 2s 2ms/step - loss: 1.7875 - accuracy: 0.2125 - val_loss: 1.7746 - val_accuracy: 0.2474\n",
      "Epoch 3/40\n",
      "866/866 [==============================] - 2s 2ms/step - loss: 1.7552 - accuracy: 0.2529 - val_loss: 1.7660 - val_accuracy: 0.2268\n",
      "Epoch 4/40\n",
      "866/866 [==============================] - 2s 2ms/step - loss: 1.7289 - accuracy: 0.2483 - val_loss: 1.7403 - val_accuracy: 0.2784\n",
      "Epoch 5/40\n",
      "866/866 [==============================] - 2s 2ms/step - loss: 1.7012 - accuracy: 0.2968 - val_loss: 1.7506 - val_accuracy: 0.2990\n",
      "Epoch 6/40\n",
      "866/866 [==============================] - 2s 2ms/step - loss: 1.6694 - accuracy: 0.2991 - val_loss: 1.7042 - val_accuracy: 0.3196\n",
      "Epoch 7/40\n",
      "866/866 [==============================] - 2s 2ms/step - loss: 1.6168 - accuracy: 0.3464 - val_loss: 1.7028 - val_accuracy: 0.2577\n",
      "Epoch 8/40\n",
      "866/866 [==============================] - 2s 2ms/step - loss: 1.6064 - accuracy: 0.3591 - val_loss: 1.6715 - val_accuracy: 0.3093\n",
      "Epoch 9/40\n",
      "866/866 [==============================] - 2s 2ms/step - loss: 1.5051 - accuracy: 0.4145 - val_loss: 1.6844 - val_accuracy: 0.3505\n",
      "Epoch 10/40\n",
      "866/866 [==============================] - 2s 2ms/step - loss: 1.4609 - accuracy: 0.4400 - val_loss: 1.6489 - val_accuracy: 0.3093\n",
      "Epoch 11/40\n",
      "866/866 [==============================] - 2s 2ms/step - loss: 1.5135 - accuracy: 0.4099 - val_loss: 1.6254 - val_accuracy: 0.3505\n",
      "Epoch 12/40\n",
      "866/866 [==============================] - 1s 2ms/step - loss: 1.4219 - accuracy: 0.4527 - val_loss: 1.6001 - val_accuracy: 0.3814\n",
      "Epoch 13/40\n",
      "866/866 [==============================] - 2s 2ms/step - loss: 1.3285 - accuracy: 0.5092 - val_loss: 1.6141 - val_accuracy: 0.3608\n",
      "Epoch 14/40\n",
      "866/866 [==============================] - 2s 2ms/step - loss: 1.3067 - accuracy: 0.5104 - val_loss: 1.6200 - val_accuracy: 0.3093\n",
      "Epoch 15/40\n",
      "866/866 [==============================] - 2s 2ms/step - loss: 1.2805 - accuracy: 0.5323 - val_loss: 1.6689 - val_accuracy: 0.2577\n",
      "Epoch 16/40\n",
      "866/866 [==============================] - 2s 2ms/step - loss: 1.2489 - accuracy: 0.5312 - val_loss: 1.5890 - val_accuracy: 0.3608\n",
      "Epoch 17/40\n",
      "866/866 [==============================] - 2s 2ms/step - loss: 1.2078 - accuracy: 0.5612 - val_loss: 1.5230 - val_accuracy: 0.4330\n",
      "Epoch 18/40\n",
      "866/866 [==============================] - 2s 2ms/step - loss: 1.1008 - accuracy: 0.5912 - val_loss: 1.5369 - val_accuracy: 0.3608\n",
      "Epoch 19/40\n",
      "866/866 [==============================] - 2s 2ms/step - loss: 1.1429 - accuracy: 0.5589 - val_loss: 1.6621 - val_accuracy: 0.3402\n",
      "Epoch 20/40\n",
      "866/866 [==============================] - 2s 2ms/step - loss: 1.1246 - accuracy: 0.5901 - val_loss: 1.5539 - val_accuracy: 0.3505\n",
      "Epoch 21/40\n",
      "866/866 [==============================] - 2s 2ms/step - loss: 1.0190 - accuracy: 0.6201 - val_loss: 1.5700 - val_accuracy: 0.3918\n",
      "Epoch 22/40\n",
      "866/866 [==============================] - 2s 2ms/step - loss: 0.9594 - accuracy: 0.6790 - val_loss: 1.5544 - val_accuracy: 0.4021\n",
      "Epoch 23/40\n",
      "866/866 [==============================] - 2s 2ms/step - loss: 1.0218 - accuracy: 0.6386 - val_loss: 1.5388 - val_accuracy: 0.4021\n",
      "Epoch 24/40\n",
      "866/866 [==============================] - 2s 2ms/step - loss: 0.9932 - accuracy: 0.6501 - val_loss: 1.5127 - val_accuracy: 0.4330\n",
      "Epoch 25/40\n",
      "866/866 [==============================] - 2s 2ms/step - loss: 0.9247 - accuracy: 0.6605 - val_loss: 1.4798 - val_accuracy: 0.4433\n",
      "Epoch 26/40\n",
      "866/866 [==============================] - 2s 2ms/step - loss: 0.8984 - accuracy: 0.6848 - val_loss: 1.4777 - val_accuracy: 0.4433\n",
      "Epoch 27/40\n",
      "866/866 [==============================] - 2s 2ms/step - loss: 0.8228 - accuracy: 0.7206 - val_loss: 1.5112 - val_accuracy: 0.3608\n",
      "Epoch 28/40\n",
      "866/866 [==============================] - 2s 2ms/step - loss: 0.7956 - accuracy: 0.7148 - val_loss: 1.7503 - val_accuracy: 0.3711\n",
      "Epoch 29/40\n",
      "866/866 [==============================] - 2s 2ms/step - loss: 0.8483 - accuracy: 0.6905 - val_loss: 1.6575 - val_accuracy: 0.3918\n",
      "Epoch 30/40\n",
      "866/866 [==============================] - 2s 2ms/step - loss: 0.7856 - accuracy: 0.7217 - val_loss: 1.6503 - val_accuracy: 0.3814\n",
      "Epoch 31/40\n",
      "866/866 [==============================] - 2s 2ms/step - loss: 0.8345 - accuracy: 0.7102 - val_loss: 1.4842 - val_accuracy: 0.4124\n",
      "Epoch 32/40\n",
      "866/866 [==============================] - 2s 2ms/step - loss: 0.7086 - accuracy: 0.7667 - val_loss: 1.6357 - val_accuracy: 0.4124\n",
      "Epoch 33/40\n",
      "866/866 [==============================] - 1s 2ms/step - loss: 0.6974 - accuracy: 0.7667 - val_loss: 1.5167 - val_accuracy: 0.4021\n",
      "Epoch 34/40\n",
      "866/866 [==============================] - 1s 2ms/step - loss: 0.6180 - accuracy: 0.7991 - val_loss: 1.7042 - val_accuracy: 0.3711\n",
      "Epoch 35/40\n",
      "866/866 [==============================] - 2s 2ms/step - loss: 0.7309 - accuracy: 0.7413 - val_loss: 1.5102 - val_accuracy: 0.4021\n",
      "Epoch 36/40\n",
      "866/866 [==============================] - 2s 2ms/step - loss: 0.6248 - accuracy: 0.8025 - val_loss: 1.4790 - val_accuracy: 0.4433\n",
      "Epoch 00036: early stopping\n"
     ]
    }
   ],
   "source": [
    "opt = RMSprop(lr=1e-4)\n",
    "model.compile(loss = 'categorical_crossentropy', metrics=['accuracy'], optimizer=opt)\n",
    "\n",
    "es = EarlyStopping(monitor='val_loss', patience = 10, mode='min', verbose=1)\n",
    "\n",
    "history = model.fit([X2_train,X_train], y_train, validation_data = ([X2_test, X_test], y_test), epochs=40, batch_size=128, callbacks=[es])\n"
   ]
  },
  {
   "cell_type": "markdown",
   "metadata": {},
   "source": [
    "Word2Vec was not able to improve the performance =  ="
   ]
  },
  {
   "cell_type": "markdown",
   "metadata": {},
   "source": []
  },
  {
   "cell_type": "markdown",
   "metadata": {},
   "source": [
    "## Model 7: Use Job Title along with City, Cost of Living Index in Classification Models \n",
    "\n",
    "Model 1-5 uses job description and job title as the combined text in the text classification model. However, due to the large number of words in one job description, using the whole text may not be the best way to extract information as we can see many unrelevant words show up even with TF-IDF. Now we are going to use Title as a separate set of features to predict salary. "
   ]
  },
  {
   "cell_type": "markdown",
   "metadata": {},
   "source": [
    "### Explore Title"
   ]
  },
  {
   "cell_type": "code",
   "execution_count": 58,
   "metadata": {},
   "outputs": [
    {
     "name": "stdout",
     "output_type": "stream",
     "text": [
      "<class 'pandas.core.frame.DataFrame'>\n",
      "Int64Index: 963 entries, 0 to 962\n",
      "Data columns (total 26 columns):\n",
      "Unnamed: 0                        963 non-null int64\n",
      "Title                             963 non-null object\n",
      "Company                           963 non-null object\n",
      "Link                              963 non-null object\n",
      "Review                            963 non-null object\n",
      "Salary                            963 non-null object\n",
      "Description                       963 non-null object\n",
      "Location2                         958 non-null object\n",
      "Rate_by                           963 non-null object\n",
      "low                               963 non-null object\n",
      "high                              762 non-null object\n",
      "min                               963 non-null float64\n",
      "max                               963 non-null float64\n",
      "adjusted_salary                   963 non-null float64\n",
      "adjusted_yearly_salary            963 non-null float64\n",
      "Rank                              939 non-null float64\n",
      "City                              939 non-null object\n",
      "Cost of Living Index              939 non-null float64\n",
      "Rent Index                        939 non-null float64\n",
      "Cost of Living Plus Rent Index    939 non-null float64\n",
      "Groceries Index                   939 non-null float64\n",
      "Restaurant Price Index            939 non-null float64\n",
      "Local Purchasing Power Index      939 non-null float64\n",
      "City_Bins                         939 non-null object\n",
      "combined_text                     963 non-null object\n",
      "Salary_Bins                       963 non-null int64\n",
      "dtypes: float64(11), int64(2), object(13)\n",
      "memory usage: 203.1+ KB\n"
     ]
    }
   ],
   "source": [
    "salary_df.info()"
   ]
  },
  {
   "cell_type": "code",
   "execution_count": 87,
   "metadata": {},
   "outputs": [],
   "source": [
    "#Drop NA values\n",
    "salary_df_new = salary_df.dropna(axis = 0, subset = ['City_Bins'])"
   ]
  },
  {
   "cell_type": "code",
   "execution_count": 88,
   "metadata": {},
   "outputs": [
    {
     "name": "stdout",
     "output_type": "stream",
     "text": [
      "<class 'pandas.core.frame.DataFrame'>\n",
      "Int64Index: 939 entries, 0 to 962\n",
      "Data columns (total 26 columns):\n",
      "Unnamed: 0                        939 non-null int64\n",
      "Title                             939 non-null object\n",
      "Company                           939 non-null object\n",
      "Link                              939 non-null object\n",
      "Review                            939 non-null object\n",
      "Salary                            939 non-null object\n",
      "Description                       939 non-null object\n",
      "Location2                         939 non-null object\n",
      "Rate_by                           939 non-null object\n",
      "low                               939 non-null object\n",
      "high                              743 non-null object\n",
      "min                               939 non-null float64\n",
      "max                               939 non-null float64\n",
      "adjusted_salary                   939 non-null float64\n",
      "adjusted_yearly_salary            939 non-null float64\n",
      "Rank                              939 non-null float64\n",
      "City                              939 non-null object\n",
      "Cost of Living Index              939 non-null float64\n",
      "Rent Index                        939 non-null float64\n",
      "Cost of Living Plus Rent Index    939 non-null float64\n",
      "Groceries Index                   939 non-null float64\n",
      "Restaurant Price Index            939 non-null float64\n",
      "Local Purchasing Power Index      939 non-null float64\n",
      "City_Bins                         939 non-null object\n",
      "combined_text                     939 non-null object\n",
      "Salary_Bins                       939 non-null int64\n",
      "dtypes: float64(11), int64(2), object(13)\n",
      "memory usage: 198.1+ KB\n"
     ]
    }
   ],
   "source": [
    "salary_df_new.info()"
   ]
  },
  {
   "cell_type": "code",
   "execution_count": 89,
   "metadata": {},
   "outputs": [
    {
     "data": {
      "text/plain": [
       "array(['2021048 Data Scientist $215,000.00', 'Data Science/Data Analyst',\n",
       "       'Data Science Intern', 'Jr. Data Scientist',\n",
       "       'Business Data Quality Engineer', 'Data Scientist',\n",
       "       'Machine Learning / C++ Engineer (DoD Clearance Required)',\n",
       "       'Undergraduate Internship/Co-op Program - Data Scientist',\n",
       "       'Data Science Community Lead', 'Data Analyst/Data Scientist',\n",
       "       'Self-employed Hardware/ Data Centre Field Engineer',\n",
       "       'DATA SCIENCE & TAGGING ANALYST', 'Data Engineer',\n",
       "       'HPC / Computational Data Scientist with Clearance',\n",
       "       'Operations Research Analyst (Data Scientist)',\n",
       "       'Social Science Analyst', 'Data Center Engineer',\n",
       "       'Data Scientist II', 'Graduate Studies Program - Data Scientist',\n",
       "       'Machine Learning Data Engineer',\n",
       "       '2021049 Data Scientist $100,000.00', 'Principal Data Scientist',\n",
       "       'Data Center Technician/Customer Engineer',\n",
       "       'Experienced Data Scientist (locals only)',\n",
       "       'Systems Engineer / Data Analyst (TS/SCI w/POLY)',\n",
       "       'Data Scientist (TS/SCI w/CI POLY) / D2P20',\n",
       "       'Analyst & Data Scientist - CDC Contact Tracing',\n",
       "       'Data Science Capabilities Expert',\n",
       "       'Big Data Analyst (TS/SCI w/POLY)',\n",
       "       'Big Data Systems Engineer (TS/SCI w/Poly)',\n",
       "       'Human Resources Analyst', 'Office Coordinator',\n",
       "       'Marketing Associate', 'Senior Business Analyst',\n",
       "       'Digital Marketing Specialist', 'National Development Director',\n",
       "       'Jr. Business Analyst',\n",
       "       'Upcoming Opportunities for a Director SAP SAC / S4 Reporting...',\n",
       "       'Financial Analyst', 'IT Financial Analyst',\n",
       "       'Data Analyst (W2 Contract | No C2C)', 'Data Specialist - ATL',\n",
       "       'Data and Reporting Analyst',\n",
       "       'DHS/OIT-Gateway Help Desk Analyst-(IT Business Analyst 2) -0...',\n",
       "       'Sponsor Funded Professiona | Full Stack Engineer II',\n",
       "       'Business Development Representative',\n",
       "       'Data Loss Prevention Analyst', 'Azure Data Engineer',\n",
       "       'Outside Sales Representative', 'Business Analyst',\n",
       "       'Healthcare Data Analyst', 'Senior Media Buyer- REMOTE',\n",
       "       \"Marketing Manager (5+ years' HVACR experience required)\",\n",
       "       'Evaluation Specialists / Data Analysts', 'Website Programmer',\n",
       "       'Security Solutions Engineer',\n",
       "       'Performance and Optimization Engineer',\n",
       "       'Entry Level Business Analyst',\n",
       "       'Business Analyst - Strategy Consulting', 'IT Business Analyst',\n",
       "       'Jr . Business Analyst', 'Business & IT Analyst',\n",
       "       'Operations Analyst', 'Payroll Business Analyst',\n",
       "       'Business Intelligence Manager',\n",
       "       'Sales and Use Tax Business Analyst', 'Business Analyst, Spectrum',\n",
       "       'Senior Programmer Analyst - Business Solutions',\n",
       "       'SQL SSAS/ SSIS Developer', 'Business Systems Programmer Analyst',\n",
       "       'Inside Sales support Analyst - Account Manager',\n",
       "       'Senior Consultant - Power BI Data Analyst',\n",
       "       'Email Development Operations Analyst',\n",
       "       'SUPPORT SERVICES DIVISION MANAGER', 'Senior Data Scientist',\n",
       "       'Clinical Research AI Analyst',\n",
       "       'Artificial Intelligence Researcher',\n",
       "       'Artificial Intelligence Engineer',\n",
       "       'Statistician / Economist - Public Health Research',\n",
       "       'DPS - FIN - CAPPS Financial Senior Data Analyst',\n",
       "       'Data Analyst/Business Analyst_0745', 'Business Analyst 2',\n",
       "       'DPS - ICT - Criminal Intelligence Analyst I',\n",
       "       'Chief Lending Officer (CLO)', 'Marketing Coordinator',\n",
       "       'Senior Pega Business Analyst', 'Business Analyst (Mid Level)',\n",
       "       'Technical Architect, HHSC', 'SEO Specialist', 'Lab Analyst',\n",
       "       'Special Education Data Support Analyst (Data Analyst IV)',\n",
       "       'Account Executive', 'Strategic Initiatives Analyst',\n",
       "       'Digital Marketer', 'Model Risk Analyst (Reporting & Governance)',\n",
       "       'Data Analyst', 'Pay Per Click Specialist',\n",
       "       'Sales Engineer - Workforce Management',\n",
       "       'Analyst for Educator Preparation Improvement (Data Analyst I...',\n",
       "       'Call Center Agent (3rd Shift)',\n",
       "       'SQL Data Analyst - Local Candidates only',\n",
       "       'Big Data Hadoop Instructor', 'Business Analyst III', 'Webmaster',\n",
       "       'Digital Marketing Manager',\n",
       "       'Data Analyst with Winbatch Exp (w2 only)',\n",
       "       'Technical architect - (Data analytics or Dataware housing pr...',\n",
       "       'Infection Prevention RN Supervisor',\n",
       "       'Board Certified Behavior Analyst - Must be licensed in Texas',\n",
       "       'Lead Electrical Estimator', 'Digital Media Coordinator',\n",
       "       'Asset Protection Coordinator', 'Lab Supervisor',\n",
       "       'Analyst II, Data Science',\n",
       "       'Senior Data Solutions Analyst, GRM Data Operations',\n",
       "       'Digital Analyst', 'Opioid Surveillance Epidemiologist',\n",
       "       'Senior Product Manager- Remote based out of Boston MA',\n",
       "       'Marketing / Front End Developer',\n",
       "       'Senior Computer Vision Engineer For Surgical Robotics Compan...',\n",
       "       'Public Affairs Specialist', 'Sales Administrator',\n",
       "       'Sr Business Analyst ( FIX, SWIFT. Trade)',\n",
       "       'Associate Product Manager', 'Data Quality Analyst',\n",
       "       'Senior Actuarial Manager', 'Associate Business Systems Analyst',\n",
       "       'Education Data Analyst (ESC)',\n",
       "       'Social Media, E-newsletters and Website Content Management',\n",
       "       'Business System Analyst', 'Applications Administrator',\n",
       "       'Business intelligence Developer',\n",
       "       'Urgent Need! - IT Architect - Remote start, then Cambridge,...',\n",
       "       'Social Media Strategist',\n",
       "       'Coordinator, Media & Technology - Office of Public Health Pr...',\n",
       "       'Senior Software Architect - Population Health Management',\n",
       "       'Statistical Process Control Development Engineer',\n",
       "       'Behavior Technician',\n",
       "       'Senior Director I, Product Research, New Mobility Products',\n",
       "       'Accounting Clerk', 'Commercial Marketing Analytics',\n",
       "       'Data Analytics/Digital Marketing Analyst',\n",
       "       'Analyst/Senior Analyst, Advanced Analytics',\n",
       "       'Senior Analyst - Digital Marketing',\n",
       "       'Data Engineer/Senior Data Engineer - Data & Analytics Engine...',\n",
       "       'Boston Healthcare Software Startup - Server Software Enginee...',\n",
       "       'DATA TOOLS ENGINEER',\n",
       "       'Assistant Director/Director, Office of Data Science',\n",
       "       'Director II, Data Science - GRM Actuarial',\n",
       "       'Staff Data Engineer/Data Architect', 'Lead Data Engineer',\n",
       "       'NLP Expert in Machine Learning', 'Staff Data Engineer',\n",
       "       'Senior Software Engineer | Machine Learning | Boston',\n",
       "       'Sr. Data Scientist/ NLP Engineer',\n",
       "       'Lead Machine Learning Engineer', 'Bioinformatics Data Scientist',\n",
       "       'Data Engineer, Retail Analytics',\n",
       "       'Senior Director I, Data Science - GRS Predictive Analytics',\n",
       "       'Data Brick Engineer', 'Senior Big Data Engineer - Health-tech',\n",
       "       'Lead Software Engineer - Health-tech data',\n",
       "       'Senior Machine Learning Engineer', 'Lead Data Scientist',\n",
       "       'Machine Learning Engineer',\n",
       "       'Entry level Business Analyst/Software Eng',\n",
       "       'Surveillance and Evaluation Data Manager',\n",
       "       'UI BENEFITS CALL CENTER REPRESENTATIVE - CDE', 'Program Director',\n",
       "       'Supply Chain Planning Analyst',\n",
       "       'Work From Home - Part Time Controller / Accountant',\n",
       "       'Laboratory Technologist',\n",
       "       'Mail Machine Inserter Operator (Production)',\n",
       "       'Applied Behavior Analysis Therapist / Registered Behavior Te...',\n",
       "       'Marketing Intern', 'High School Guidance Counselor',\n",
       "       'Behavior Technician For Children with Autism',\n",
       "       'Registered Behavior Technician (RBT) / Applied Behavior Anal...',\n",
       "       'Business/Data Analyst', 'ABA Therapist', 'Development Associate',\n",
       "       'Home Builder Accountant (work from home near Charlotte, NC)',\n",
       "       'Quality Control Technician', 'Sr. Accountant', 'Design Engineer',\n",
       "       'Search Engine Optimization Lead', 'Usability Researcher',\n",
       "       'Machine/Deep Learning Research Scientist',\n",
       "       'QA Tester (Avaya/ IVR/ Cyara)', 'F.O.G. COMPLIANCE OFFICER',\n",
       "       'Sr. Reimbursement Specialist 1354',\n",
       "       'Board Certified Behavior Analyst (BCBA-D/BCBA)',\n",
       "       'Surety Underwriting Specialist', 'Senior Buyer (Procurement)',\n",
       "       '2nd Shift Metrology/Quality Technician',\n",
       "       'Virtual Open House-Call Center Agents! - Tues 5/19 at 11am',\n",
       "       'SQL Data Analysis Expert', 'Data Analyst II',\n",
       "       'ERP Systems/Data Analyst',\n",
       "       'Virtual Open House-Call Center Agents! - Tues 5/19 at 11am!',\n",
       "       'ERP Analyst', 'Finance Manager',\n",
       "       'Business Analyst with Treasury domain background',\n",
       "       'Chemist/Lab Technician', 'Account Support Administrator',\n",
       "       'SQL Developer', 'Sr. Reimbursement Analyst',\n",
       "       'Senior Behavior Analyst (BCBA w. LP / LPA Certification)',\n",
       "       'Inventory Project Manager', 'Analytics Consultant',\n",
       "       'Contracts Attorney', 'Data Analytics Instructor',\n",
       "       'Marketing Analyst', 'Director of Consulting',\n",
       "       'Customer Service Call Center Manager- Join our winning team!',\n",
       "       'Communications Manager',\n",
       "       'Technical Product Manager (Healthcare Tech Startup)',\n",
       "       'Applications Analyst',\n",
       "       'Marketing Manager (healthcare tech startup)',\n",
       "       'Junior Data Engineer w/ ETL',\n",
       "       'Marketing Automation Specialist - Infusionsoft / Keap - Cont...',\n",
       "       'Senior Software Engineer',\n",
       "       'Cloud Security Engineer - Azure, DevOps, HIPAA Compliance',\n",
       "       'DevOps Security Engineer - Azure',\n",
       "       'Visual & UX/UI Designer (healthcare tech startup)',\n",
       "       'MDS Director RN', 'VP Sales & Marketing',\n",
       "       'Big Data/Cloud Architect', 'Marketing and Social Media Manager',\n",
       "       'Management Associate',\n",
       "       'Sr. Data Analyst - Analytics, Marketing, CPG', 'IAM Engineer',\n",
       "       'Content Writer - Work From Home', 'Remote Wholesale Underwriter',\n",
       "       'Content and Design Specialist', 'Paid Search Specialist',\n",
       "       'Remote Marketing Specialist', 'Commercial Analytics Manager',\n",
       "       'Full Stack Data Engineer- SQL/Power BI/ETL/C#',\n",
       "       'Data Security Engineer - Information Technology',\n",
       "       'Sr. Data Engineer-Data Architecture,Design for Big Data,Anal...',\n",
       "       'Big Data Engineer, COBOL, PySpark',\n",
       "       'Senior Data Analytics Process Engineer', 'Hadoop Data Engineer',\n",
       "       'Cloud Data Engineer', 'Senior Data Engineer',\n",
       "       'Credit Risk Analyst', 'Data Engineer(only W2)',\n",
       "       'Senior Cloud Data Engineer',\n",
       "       'Principal Project Engineer - Streamlined Project Delivery an...',\n",
       "       'Sr. SOC Analyst', 'Web Designer',\n",
       "       'Drug Testing Technician (TXDAL002)', 'Digital Media Manager',\n",
       "       'SAP Business Analyst', 'Senior QC Analyst: Data Integrity SME',\n",
       "       'Data Warehouse team Lead - W2 candidates',\n",
       "       'VP of Sales - Health Plan Experience - Remote Role',\n",
       "       'Sales Associate', 'Data Analyst/Statistician Position #1119',\n",
       "       'Senior Python Developer',\n",
       "       'DORA/Public Utilities Commission: Analyst VI',\n",
       "       'Director of Operations', 'Digital Communications Manager',\n",
       "       'ETL Analyst- $50/hr- 10 mo CTH- Broomfield CO',\n",
       "       'Staff Software Engineer',\n",
       "       'CBD/Hemp National Sales Account Executive', 'District Manager',\n",
       "       'PURCHASING AGENT I', 'Digital Communications Specialist',\n",
       "       'National Account Executive', 'DevOps Developer',\n",
       "       'Inside Sales & Customer Service (Hemp/CBD)',\n",
       "       'Marketing and Brand Manager', 'Remote Sales Representative',\n",
       "       'BCBA or RBT', 'Accountant IV: Projects', 'Lead Software Engineer',\n",
       "       'Data Center Engineer with a Top Secret clearance',\n",
       "       'Data Scientist/Machine Learning Engineer',\n",
       "       'Python Data Analyst (NumPy Modbus IEC61850)',\n",
       "       'REMOTE Sr . Database Engineer ( Iot Data Management DDS)',\n",
       "       'Big Data Engineer',\n",
       "       'Sr. VCP6-DCV Certified Engineer (VMware Data Center Aerospac...',\n",
       "       'Data Scientist - Finance & Business Operations Specialist',\n",
       "       'Associate Research Analyst', 'Chemist', 'Chemist II (PhD)',\n",
       "       'Digital Marketing Analyst (Content and Graphics)',\n",
       "       'Database Analyst', 'Quality Audit Administrator',\n",
       "       'Principal Administrative Analyst',\n",
       "       'Research Analyst (Public Utilities Regulatory Authority)',\n",
       "       'Hydrologist, GS-1315-07/09 (RG-TC)', 'Data Analyst Lead',\n",
       "       'Data Modeler/Data Analyst', 'Business Analyst - Healthcare',\n",
       "       'Credit Analyst and Data Coordinator', 'Behavior Technician (ABA)',\n",
       "       'Accounting Careers Trainee (Revenue Examiner 1)',\n",
       "       'Senior Systems Analyst', 'Sr Marketing Analyst',\n",
       "       'Insurance Solutions Analyst', 'Lead Data Analyst',\n",
       "       'Commissions Analyst',\n",
       "       'Procurement Policy Development Coordinator',\n",
       "       'Clinical Genomics Technologist / Geneticist / Genomics Lab S...',\n",
       "       'Student Trainee (Hydrology) GS-1399-09 CI-BL',\n",
       "       'Board Certified Behavior Analyst -BCBA',\n",
       "       'Junior Bid Data Engineer', 'Sr. Hadoop Data Engineer',\n",
       "       'Chemist 6 + Month Contract $27.40', 'Project Manager',\n",
       "       'Compensation/HRIS Specialist', 'Public Health Section Chief',\n",
       "       'Fusion Center Intelligence Director',\n",
       "       'ABA/Behavioral Therapist - FT',\n",
       "       'Clinical Associate-Applied Behavioral Analysis',\n",
       "       'Environmental Protection Assistant Division Director',\n",
       "       'Manager Of Research And Planning', 'Behavior Tech',\n",
       "       'Director Advanced Analytics', 'FARO Arm Inspector',\n",
       "       '6th Grade Science Teacher', 'Licensed Vocational Nurse (LVN)',\n",
       "       'Graphic Artist & Content Manager', 'Telephone Sales',\n",
       "       'Facebook Community Manager',\n",
       "       \"Sr. Pricing Analyst [SQL or Tableau Req'd] for a Nationwide...\",\n",
       "       'Software Architect', 'Principal Software Engineer',\n",
       "       'Temporary Assembly Team Member (AM Shift)',\n",
       "       'Temporary Assembly Team Member (PM Shift)',\n",
       "       'Director of Marketing ($110,000-$125,000)',\n",
       "       'Marketing Manager ($77,000 - $97,000)',\n",
       "       'Sr Project Accountant ($110M+ distinguished architectural fi...',\n",
       "       'Category Buyer (Chinese Speaking)',\n",
       "       'Director of Digital Marketing', 'Web Developer',\n",
       "       'Director of Corporate Marketing', 'Social Media Manager',\n",
       "       'Product Manager', 'Category Management Analyst - Sales',\n",
       "       'Bookkeeper', 'Facebook Ads Specialist',\n",
       "       'Tag Management Implementation Engineer',\n",
       "       'National Sales Director - Equipment Finance (Relo Assist Ava...',\n",
       "       'Amazon Marketing Specialist', 'Senior Financial Analyst',\n",
       "       'Junior Product Manager',\n",
       "       'Social Marketing Assistant (Social - Podcast - YouTube - Ema...',\n",
       "       'Online Marketing Assistant', 'Marketing Assistant',\n",
       "       'Sponsorship pitch deck creator',\n",
       "       'Director Paid Digital Advertising [Virtual/Job Share]',\n",
       "       'Technology Assistant/Infusionsoft Expert (2+ Yrs Exp. Requir...',\n",
       "       'Compliance Administrator',\n",
       "       'School Climate Evaluation and Data Analyst',\n",
       "       'Digital Marketing Representative', 'Senior Systems Administrator',\n",
       "       'Systems Administrator', 'Business Analyst (SCADA Systems) - 1485',\n",
       "       'Controller', 'Senior Engineer/Architect',\n",
       "       'Enterprise Risk Manager',\n",
       "       'Supervisory Survey Statistician (Regional Survey Manager), G...',\n",
       "       'Sr. E-Commerce Manager _ÑÐ Bilingual Chinese',\n",
       "       'Software Developer ( Back End )', 'Cost Accountant',\n",
       "       'Marketing Manager', 'Web Desginer - UI Desginer',\n",
       "       'Director of Digital Media', 'Senior SEO Manager',\n",
       "       'Google Adwords (PPC) & Social Advertising Specialist (Onsite...',\n",
       "       'Operations Analyst - Work from Home',\n",
       "       'Regional Operations Analyst',\n",
       "       'SaaS/ERP Enterprise Blockchain IT Sales Representative',\n",
       "       'Senior Director of Post-Secondary Pathways',\n",
       "       'Machined Parts Sales for Aerospace, Automotive, Medical OEM...',\n",
       "       'Business Intelligence Consultant',\n",
       "       'AVP - Workday Lead / Project Manager',\n",
       "       'FULL-STACK Blockchain Engineer (JS, C++, Node.js, React, Blo...',\n",
       "       'Director of Growth & Customer Acquisition',\n",
       "       'Senior BI Reporting Analyst', 'Vice President of Sales',\n",
       "       'Social Media Specialist',\n",
       "       'Part Manufacturing Estimator and Fulfillment Coordinator',\n",
       "       'Radar Telemetry Data Analyst', 'Accounting Manager',\n",
       "       'Nurse Supervisor Case Management RN',\n",
       "       'Nurse Supervisor Utilization Review RN',\n",
       "       'Salesforce Business Analyst/Administrator', 'Program Analyst',\n",
       "       'Salesforce Center of Excellence Business Analyst',\n",
       "       'Sr. Salesforce Business Analyst (CPQ,ERP)',\n",
       "       'Business Intelligence Consultant for NYC Investment Bank',\n",
       "       'Senior Data Analyst M/WBE, Enterprise Data Services',\n",
       "       'Business Analyst- Archer, Compliance/Risk',\n",
       "       'AML - Data Remediation Analyst',\n",
       "       'Entry Level Data Analyst Position', 'Senior Data Analyst',\n",
       "       'Junior Business Analyst', 'Data Collector and Service Analyst',\n",
       "       'Temporary Data Analyst', 'Junior Level Business Analyst',\n",
       "       'Business Intelligence/Analytics Manager',\n",
       "       'Business Analyst- Risk Management experience',\n",
       "       'Temporary Data Analyst - Portuguese', 'Management Analyst',\n",
       "       'Business Intelligence Analyst',\n",
       "       'Business Analyst with Insurance and P&C exp',\n",
       "       'Full-time job opportunity for (BA/ DA/ SAS) with Immigration Support',\n",
       "       'Senior Data Analyst _ÑÐ Team Lead', 'Compliance Data Analyst',\n",
       "       'Lead Data Insights Analyst',\n",
       "       'Business Analyst - Digital Channels',\n",
       "       'Technical Business Analyst', 'Program Associate',\n",
       "       'HR Operations Analyst', 'Biostatistician',\n",
       "       'Director of Research and Evaluation, I/DD',\n",
       "       'Ad Operations Specialist',\n",
       "       'Full-time job opportunity for Business Analyst with Immigrat...',\n",
       "       'Playlist Curator', 'SAP FICO Functional Consultant',\n",
       "       'Marketing Manager - Education', 'Auditor',\n",
       "       'VP Sports Sponsorship Research & Analytics',\n",
       "       'MBA Summer Associate - Business Analyst - Remote',\n",
       "       'Business Development Analyst',\n",
       "       'Digital/Paid Social Media Planner',\n",
       "       'Full-time job opportunity for Data Analyst with Immigration...',\n",
       "       'Business Analyst / Regulatory Reporting',\n",
       "       '2020 ONLINE SUMMER CONSUMER MARKETING INTERNSHIP (UNPAID)',\n",
       "       'Head of Growth Marketing - D2C', 'External Affairs Coordinator',\n",
       "       'Data Engineer FT - (Informatica ETL) NYC',\n",
       "       'Jr Software Data Engineer',\n",
       "       'Data Engineer (w/ Healthcare Domain experience)',\n",
       "       'Data Science Online Course Instructor (Part-Time, Contract)',\n",
       "       'System/data Engineer with Etrading and Capital Markets exper...',\n",
       "       'Software Data Engineer', 'Sr. Data Scientist',\n",
       "       'Machine Learning Engineer Position',\n",
       "       'Data Scientist Intern (Unpaid)', 'Cloud/Data Engineer',\n",
       "       'Mathematical Scientist', 'Decision Scientist',\n",
       "       'Machine Learning and Artificial Intelligence Researcher',\n",
       "       'Data Scientist, Analytics - Payment Risk',\n",
       "       'Machine Learning Developer',\n",
       "       'Machine Learning Intern, Instruction Assistant',\n",
       "       'Marketing Analyst Intern', 'AI / Machine Learning Engineer',\n",
       "       'Machine learning Apache engineer',\n",
       "       'Sr. Research Engineer \\x8a\\x97\\x96 Machine Learning/Image Processing',\n",
       "       'Enginner-Automation/ Instrumentation-11 (Associate)',\n",
       "       'Insurance Agent - work from home, great sales opportunity',\n",
       "       'Data Engineer - Python, ELK is a plus',\n",
       "       'Sales Representative - Anti-Corrosive Protective Coatings',\n",
       "       'Care Manager', 'RN Care Manager', 'Network Engineer',\n",
       "       'Accounts Payable Supervisor',\n",
       "       'Python Developer _ÑÐ ELK/Machine Learning',\n",
       "       'Email Marketing Manager', 'Recruiter',\n",
       "       'Mortgage Quality Control Specialist',\n",
       "       'Board Certified Behavior Analyst (BCBA)',\n",
       "       'Accounts Payable Manager', 'SAP BW/BO/BW on HANA Developer',\n",
       "       'Healthcare Data Analyst(Remote)-only w2',\n",
       "       'Business Analyst _ÑÐ Compliance, Operations',\n",
       "       'Content Marketing Manager - Healthcare App',\n",
       "       'Data Warehouse Manager', 'Cyber Security Engineer',\n",
       "       'RWD Business Analyst with Pharma Exp. need in West Point, PA',\n",
       "       'Drafter II',\n",
       "       'Business Analyst _ÑÐ Compliance, Process Management and Operat...',\n",
       "       'Cisco Data Engineer', 'Sr. Data Engineer',\n",
       "       'Supervisory Economist or Supervisory Statistician (Economics...',\n",
       "       'Sr. Business Systems Analyst - Finance Analytics',\n",
       "       'Data Modeler/Architect', 'Operations and Policy Analyst',\n",
       "       'Ethernet Marketing Business Operations lead',\n",
       "       'Medical Records Technician- Multnomah County,OR',\n",
       "       'PPC/SEM/Google Adwords/', 'Business Analyst 3',\n",
       "       'Senior Internal Auditor', 'Social Media / Marketing Manager',\n",
       "       'Business Systems Analyst',\n",
       "       'Marketing & Creative Design Strategist',\n",
       "       'Security Solutions Architect', 'Warehouse Supervisor',\n",
       "       'Social Media Marketing Manager',\n",
       "       'Vice President of Operations _ÑÐ High-Growth, Global, SaaS/Tel...',\n",
       "       'Now Seeking Account Resolution Specialists',\n",
       "       'Supervisory IT Specialist', 'Senior Technical Recruiter',\n",
       "       'Remote Full Stack Engineer', 'Research Health Science Specialist',\n",
       "       'Social Media Coordinator', 'Process Quality Engineer',\n",
       "       '(Part-Time) Behavior Technician - ABA Therapy',\n",
       "       'Chief Development Officer',\n",
       "       '3PL Business Development & Sales Manager',\n",
       "       'Pharmacist - Informatics Program Manager (ADPAC)',\n",
       "       'Research Study Coordinator', 'Research Coordinator',\n",
       "       '342-1 Business Analyst IV (Insurance)',\n",
       "       'Lead Medical Support Assistant',\n",
       "       'Informatica Data Warehouse Engineer',\n",
       "       'Big Data Engineer - Deloitte (Remote / Contract)',\n",
       "       'Data Analyst, Data Warehouse', 'Data Analyst Intern',\n",
       "       'Data Science Technical Writer - PhD or Graduates Preferred',\n",
       "       'Back-End Engineer (Data Engineer)',\n",
       "       'Python with ETL/Data Science Back Ground Needed',\n",
       "       'Infrastructure Data Engineer',\n",
       "       'Clinical Contract Associate II (Data Science)',\n",
       "       'AWS/ Machine Learning Engineer',\n",
       "       'Lead Data Scientist (Machine Learning)',\n",
       "       'Data Science Intern (Unpaid)',\n",
       "       'Senior Data Scientist(Healthcare)',\n",
       "       'Staff Machine Learning Engineer',\n",
       "       'Data Management & Integration Engineer',\n",
       "       'SENIOR DATA INFRASTRUCTURE ENGINEER',\n",
       "       'Tech Lead - Machine Learning',\n",
       "       'Data Warehouse Test Engineer - REMOTE',\n",
       "       'Sr. Data/Infrastructure Engineer', 'Sr. Genomics Data Engineer',\n",
       "       'Technical Writer (Machine Learning)',\n",
       "       'Senior Data Engineer - Scala',\n",
       "       'Senior NLP Machine Learning Engineer',\n",
       "       'Data Warehouse Support Engineer - REMOTE',\n",
       "       'Lecturer - Data Science - School of Information',\n",
       "       'Data Warehouse Analyst/Business Analyst',\n",
       "       'Data Engineer lead / Jr.Architect', 'Data Science Engineer',\n",
       "       'Senior Data Analyst- Product',\n",
       "       'Business Systems Analyst - Workday Payroll',\n",
       "       'Business Systems Analyst with Pharma Domain',\n",
       "       'Business Analyst - only local', 'Senior Business Systems Analyst',\n",
       "       'Sr. Business Systems Analyst', 'Business Systems Analyst 3',\n",
       "       'Business Analyst with molecular biology',\n",
       "       'Business Analyst ( Digital Sales & Marketing )',\n",
       "       'FINANCIAL ANALYST (12 MONTH REGISTER) (SENIOR BUSINESS APPRA...',\n",
       "       '1053 Business Analyst Epic Willow', 'IS Business Analyst',\n",
       "       'Contract Business Systems Analyst 3',\n",
       "       'Business Systems Analyst, Presidential Correspondence',\n",
       "       'Pharmaceutical Business Systems Analyst',\n",
       "       'Business Continuity Analyst', 'IS Business Analyst-Senior',\n",
       "       'IS Business Analyst II-Limited Term (Open)',\n",
       "       'JD Edwards Supply Chain MFG Business Analyst',\n",
       "       'Business Analyst Manager', 'Global Legal Operations Analyst',\n",
       "       '1052 Business Analyst:Epic Inpatient Clinical Documentation',\n",
       "       'Business Systems Analyst (SAP Human Resources/Payroll)',\n",
       "       '9976 Technology Expert 1 - Epic willow Business Analyst',\n",
       "       '122 HEALTHCARE ANALYTICS - Senior Business Intelligence Anal...',\n",
       "       'Oracle Fusion Order Management and Supply Chain BSA',\n",
       "       'Business Analyst - Pharma experience - Master data managemen...',\n",
       "       '11749-IT- Business Analyst - Senior',\n",
       "       '11637- IT- Business Analyst - Senior',\n",
       "       'Analyst, Clinical Biospecimen Management Technology Operatio...',\n",
       "       'Associate IT Consultant / Web Developer',\n",
       "       'HR Operations & Technology Analyst',\n",
       "       'College Business Analyst - Associate, Academic and Instituti...',\n",
       "       'IS Business Analyst-Senior, Budget System Functional Analyst',\n",
       "       'Global Security Operations Center (GSOC) Analyst - Full Time',\n",
       "       'Senior Business Analyst (Criminal Justice)',\n",
       "       'Senior Functional Analyst, PeopleSoft Financials (FSCM)',\n",
       "       'Sr. Analyst, Commercial Business Intelligence',\n",
       "       'Financial Aid Business Analyst - Administrative Analyst/Spec...',\n",
       "       'E - Commerce Manager', 'Forensic Accountant',\n",
       "       'Digital Business Analyst - only local',\n",
       "       'Senior Natural Language AI & Machine Learing Engineer',\n",
       "       'IBM Sterling Connect Direct Consultant', 'Azure DevOps Engineer',\n",
       "       'IT Sales Manager',\n",
       "       'Data Engineering With Java Development experience',\n",
       "       'Cyber Risk Senior Associate', 'Analytics Consultant V',\n",
       "       'Product Manager (Growth)', 'HR Data Analyst',\n",
       "       'Technical Product Manager', 'Tableau Developer',\n",
       "       'Warehouse Associate', 'VP Finance', 'Creative Director',\n",
       "       'QA Automation Engineer', 'Software Engineer',\n",
       "       'Senior DevOps Engineer', 'DevOps Engineer (Predictions Engine)',\n",
       "       'Customer Support and Business Operations (Enterprise SaaS St...',\n",
       "       'Hadoop Security', 'Total Customer Experience Analyst',\n",
       "       'Software Engineer (Microservices)', 'Retail Buyer/Category Buyer',\n",
       "       'Marketing and Social Media Coordinator',\n",
       "       'Business Intelligence Associate: Operations Insights',\n",
       "       'Back End Engineer', 'Health care Actuary',\n",
       "       'Hospital Senior Actuarial Associate',\n",
       "       'DevOps Engineer (Python, Hive, Kubernetes, Docker)',\n",
       "       'UX Researcher / Designer Intern (Summer)', 'Fraud Risk Analyst',\n",
       "       'Hadoop Admin (Security Support)',\n",
       "       'Administrative Officer, Clinical Practice & Professional Dev...',\n",
       "       'Administrative Support Assistant, Clinical Practice & Profes...',\n",
       "       'Laboratory Unit Manager - Genetic Counselor',\n",
       "       'Business Intelligence Director', 'Senior Financial Analyst (FT)',\n",
       "       'Python Engineer', 'Microsoft Business Intelligence Consultant',\n",
       "       'Loss Prevention Officer', 'Analyst',\n",
       "       'Microsoft Power BI - Technical Product Manager',\n",
       "       'Digital Marketing Strategist',\n",
       "       'Medical Records Technician - King County, WA',\n",
       "       'Back-end Engineer', 'SSAS Developers (W2 role) (USC, GC)',\n",
       "       'Cloud DevOps Engineer (Azure)', 'Power BI Designer',\n",
       "       'Systems Administrator & Webmaster, Part-time, Remote',\n",
       "       'Government Relations Administrator',\n",
       "       'Digital Marketing Manager Position', 'Impact Assistant',\n",
       "       'Community Manager and Customer Support',\n",
       "       'Sales Hunter (Business Development Specialist)',\n",
       "       'Android Developer', 'Cloud Software Engineer', 'DevOps Engineer',\n",
       "       'Experienced Mental Health Clinical Referral Coordinator',\n",
       "       'Senior Cloud Engineer', 'Senior Security Engineer',\n",
       "       'Senior Staff Cloud Engineer', 'Data Engineer/Analytics',\n",
       "       'Software Engineer with Kusto Redmond, WA Locals only',\n",
       "       'Cloud Engineer/Developer',\n",
       "       'Epidemiologist II - Analytics &Informatics COVID',\n",
       "       'Account Manager - Customer Success Team',\n",
       "       'Senior Technical Writer', 'HRIS Business Analyst',\n",
       "       'Business Analyst - TA0R076', 'Sr. Business Intelligence Analyst',\n",
       "       'Digital Business Analyst',\n",
       "       'Certified Business Analyst \\x8a\\x97\\x96 IT Security and Industrial Cont...',\n",
       "       'Data Scientist / Data Analytics', 'Data Visualization Engineer',\n",
       "       'Jr Data Analyst',\n",
       "       'Immediate Interview for Data Scientist in Seattle, WA Area',\n",
       "       'Azure Security Data Engineer',\n",
       "       'Sr Global Strategy Engineer - Data Center Infrastructure',\n",
       "       'Data Engineer with Full Stack (Cosmos and C#)',\n",
       "       'Business Development Manager', 'Employee Relations Specialist',\n",
       "       'SOC Analyst', 'Data Engineering II', 'IR Day Shift',\n",
       "       'Security Engineer', 'FDP Analyst',\n",
       "       'Junior MS Access/ VBA Developer'], dtype=object)"
      ]
     },
     "execution_count": 89,
     "metadata": {},
     "output_type": "execute_result"
    }
   ],
   "source": [
    "salary_df_new['Title'].unique()"
   ]
  },
  {
   "cell_type": "code",
   "execution_count": 90,
   "metadata": {},
   "outputs": [],
   "source": [
    "salary_df_new = salary_df_new.reset_index(drop=True)"
   ]
  },
  {
   "cell_type": "code",
   "execution_count": 91,
   "metadata": {},
   "outputs": [
    {
     "data": {
      "text/html": [
       "<div>\n",
       "<style scoped>\n",
       "    .dataframe tbody tr th:only-of-type {\n",
       "        vertical-align: middle;\n",
       "    }\n",
       "\n",
       "    .dataframe tbody tr th {\n",
       "        vertical-align: top;\n",
       "    }\n",
       "\n",
       "    .dataframe thead th {\n",
       "        text-align: right;\n",
       "    }\n",
       "</style>\n",
       "<table border=\"1\" class=\"dataframe\">\n",
       "  <thead>\n",
       "    <tr style=\"text-align: right;\">\n",
       "      <th></th>\n",
       "      <th>Unnamed: 0</th>\n",
       "      <th>Title</th>\n",
       "      <th>Company</th>\n",
       "      <th>Link</th>\n",
       "      <th>Review</th>\n",
       "      <th>Salary</th>\n",
       "      <th>Description</th>\n",
       "      <th>Location2</th>\n",
       "      <th>Rate_by</th>\n",
       "      <th>low</th>\n",
       "      <th>...</th>\n",
       "      <th>City</th>\n",
       "      <th>Cost of Living Index</th>\n",
       "      <th>Rent Index</th>\n",
       "      <th>Cost of Living Plus Rent Index</th>\n",
       "      <th>Groceries Index</th>\n",
       "      <th>Restaurant Price Index</th>\n",
       "      <th>Local Purchasing Power Index</th>\n",
       "      <th>City_Bins</th>\n",
       "      <th>combined_text</th>\n",
       "      <th>Salary_Bins</th>\n",
       "    </tr>\n",
       "  </thead>\n",
       "  <tbody>\n",
       "    <tr>\n",
       "      <th>0</th>\n",
       "      <td>0</td>\n",
       "      <td>2021048 Data Scientist $215,000.00</td>\n",
       "      <td>B4CORP</td>\n",
       "      <td>https://www.indeed.com/pagead/clk?mo=r&amp;ad=-6NY...</td>\n",
       "      <td>None</td>\n",
       "      <td>Up to $215,000 a year</td>\n",
       "      <td>Position Requires a Top Secret (TS/SCI) Cleara...</td>\n",
       "      <td>Arlington, VA</td>\n",
       "      <td>Yearly</td>\n",
       "      <td>Up to $215,000 a year</td>\n",
       "      <td>...</td>\n",
       "      <td>Arlington, VA</td>\n",
       "      <td>80.159143</td>\n",
       "      <td>58.838571</td>\n",
       "      <td>69.961143</td>\n",
       "      <td>76.886286</td>\n",
       "      <td>78.608571</td>\n",
       "      <td>115.594571</td>\n",
       "      <td>medium</td>\n",
       "      <td>2021048 Data Scientist $215,000.00 Position Re...</td>\n",
       "      <td>5</td>\n",
       "    </tr>\n",
       "    <tr>\n",
       "      <th>1</th>\n",
       "      <td>1</td>\n",
       "      <td>Data Science/Data Analyst</td>\n",
       "      <td>CRAiC LLC</td>\n",
       "      <td>https://www.indeed.com/company/CRAiC-LLC/jobs/...</td>\n",
       "      <td>None</td>\n",
       "      <td>$60,000 a year</td>\n",
       "      <td>Cost Readiness Analytics (CRAiC LLC) is lookin...</td>\n",
       "      <td>Arlington, VA</td>\n",
       "      <td>Yearly</td>\n",
       "      <td>$60,000 a year</td>\n",
       "      <td>...</td>\n",
       "      <td>Arlington, VA</td>\n",
       "      <td>80.159143</td>\n",
       "      <td>58.838571</td>\n",
       "      <td>69.961143</td>\n",
       "      <td>76.886286</td>\n",
       "      <td>78.608571</td>\n",
       "      <td>115.594571</td>\n",
       "      <td>medium</td>\n",
       "      <td>Data Science/Data Analyst Cost Readiness Analy...</td>\n",
       "      <td>1</td>\n",
       "    </tr>\n",
       "    <tr>\n",
       "      <th>2</th>\n",
       "      <td>2</td>\n",
       "      <td>Data Science Intern</td>\n",
       "      <td>MilliporeSigma</td>\n",
       "      <td>https://www.indeed.com/company/Serono/jobs/Dat...</td>\n",
       "      <td>3.9</td>\n",
       "      <td>$20 - $25 an hour</td>\n",
       "      <td>Job Title: Data Science Intern\\rA career with ...</td>\n",
       "      <td>Arlington, VA</td>\n",
       "      <td>Hourly</td>\n",
       "      <td>$20</td>\n",
       "      <td>...</td>\n",
       "      <td>Arlington, VA</td>\n",
       "      <td>80.159143</td>\n",
       "      <td>58.838571</td>\n",
       "      <td>69.961143</td>\n",
       "      <td>76.886286</td>\n",
       "      <td>78.608571</td>\n",
       "      <td>115.594571</td>\n",
       "      <td>medium</td>\n",
       "      <td>Data Science Intern Job Title: Data Science In...</td>\n",
       "      <td>0</td>\n",
       "    </tr>\n",
       "    <tr>\n",
       "      <th>3</th>\n",
       "      <td>3</td>\n",
       "      <td>Jr. Data Scientist</td>\n",
       "      <td>Numero Data LLC</td>\n",
       "      <td>https://www.indeed.com/company/Numero-Data-LLC...</td>\n",
       "      <td>None</td>\n",
       "      <td>$70,000 - $85,000 a year</td>\n",
       "      <td>Ideal candidate should have a degree in a quan...</td>\n",
       "      <td>Arlington, VA</td>\n",
       "      <td>Yearly</td>\n",
       "      <td>$70,000</td>\n",
       "      <td>...</td>\n",
       "      <td>Arlington, VA</td>\n",
       "      <td>80.159143</td>\n",
       "      <td>58.838571</td>\n",
       "      <td>69.961143</td>\n",
       "      <td>76.886286</td>\n",
       "      <td>78.608571</td>\n",
       "      <td>115.594571</td>\n",
       "      <td>medium</td>\n",
       "      <td>Jr. Data Scientist Ideal candidate should have...</td>\n",
       "      <td>2</td>\n",
       "    </tr>\n",
       "    <tr>\n",
       "      <th>4</th>\n",
       "      <td>4</td>\n",
       "      <td>Business Data Quality Engineer</td>\n",
       "      <td>HRU Technical Resources</td>\n",
       "      <td>https://www.indeed.com/pagead/clk?mo=r&amp;ad=-6NY...</td>\n",
       "      <td>None</td>\n",
       "      <td>$45 - $55 an hour</td>\n",
       "      <td>Please note that this is not a corp to corp or...</td>\n",
       "      <td>Arlington, VA</td>\n",
       "      <td>Hourly</td>\n",
       "      <td>$45</td>\n",
       "      <td>...</td>\n",
       "      <td>Arlington, VA</td>\n",
       "      <td>80.159143</td>\n",
       "      <td>58.838571</td>\n",
       "      <td>69.961143</td>\n",
       "      <td>76.886286</td>\n",
       "      <td>78.608571</td>\n",
       "      <td>115.594571</td>\n",
       "      <td>medium</td>\n",
       "      <td>Business Data Quality Engineer Please note tha...</td>\n",
       "      <td>3</td>\n",
       "    </tr>\n",
       "    <tr>\n",
       "      <th>...</th>\n",
       "      <td>...</td>\n",
       "      <td>...</td>\n",
       "      <td>...</td>\n",
       "      <td>...</td>\n",
       "      <td>...</td>\n",
       "      <td>...</td>\n",
       "      <td>...</td>\n",
       "      <td>...</td>\n",
       "      <td>...</td>\n",
       "      <td>...</td>\n",
       "      <td>...</td>\n",
       "      <td>...</td>\n",
       "      <td>...</td>\n",
       "      <td>...</td>\n",
       "      <td>...</td>\n",
       "      <td>...</td>\n",
       "      <td>...</td>\n",
       "      <td>...</td>\n",
       "      <td>...</td>\n",
       "      <td>...</td>\n",
       "      <td>...</td>\n",
       "    </tr>\n",
       "    <tr>\n",
       "      <th>934</th>\n",
       "      <td>958</td>\n",
       "      <td>Data Engineering II</td>\n",
       "      <td>Pueo Business Solutions</td>\n",
       "      <td>https://www.indeed.com/rc/clk?jk=90a6c966f45f8...</td>\n",
       "      <td>5</td>\n",
       "      <td>$108,000 - $118,000 a year</td>\n",
       "      <td>Data Engineering II\\rSalary: $108K-$118K\\rClea...</td>\n",
       "      <td>Washington, DC</td>\n",
       "      <td>Yearly</td>\n",
       "      <td>$108,000</td>\n",
       "      <td>...</td>\n",
       "      <td>Washington, DC</td>\n",
       "      <td>87.740000</td>\n",
       "      <td>78.180000</td>\n",
       "      <td>83.170000</td>\n",
       "      <td>86.440000</td>\n",
       "      <td>87.480000</td>\n",
       "      <td>130.250000</td>\n",
       "      <td>high</td>\n",
       "      <td>Data Engineering II Data Engineering II\\rSalar...</td>\n",
       "      <td>3</td>\n",
       "    </tr>\n",
       "    <tr>\n",
       "      <th>935</th>\n",
       "      <td>959</td>\n",
       "      <td>IR Day Shift</td>\n",
       "      <td>Pueo Business Solutions</td>\n",
       "      <td>https://www.indeed.com/rc/clk?jk=e4416ec0bed30...</td>\n",
       "      <td>5</td>\n",
       "      <td>$89,000 - $99,000 a year</td>\n",
       "      <td>Tier 2 IR Day Shift\\rSalary Range: $89K-$99K\\r...</td>\n",
       "      <td>Washington, DC</td>\n",
       "      <td>Yearly</td>\n",
       "      <td>$89,000</td>\n",
       "      <td>...</td>\n",
       "      <td>Washington, DC</td>\n",
       "      <td>87.740000</td>\n",
       "      <td>78.180000</td>\n",
       "      <td>83.170000</td>\n",
       "      <td>86.440000</td>\n",
       "      <td>87.480000</td>\n",
       "      <td>130.250000</td>\n",
       "      <td>high</td>\n",
       "      <td>IR Day Shift Tier 2 IR Day Shift\\rSalary Range...</td>\n",
       "      <td>3</td>\n",
       "    </tr>\n",
       "    <tr>\n",
       "      <th>936</th>\n",
       "      <td>960</td>\n",
       "      <td>Security Engineer</td>\n",
       "      <td>Pueo Business Solutions</td>\n",
       "      <td>https://www.indeed.com/rc/clk?jk=c06c7f39a6074...</td>\n",
       "      <td>5</td>\n",
       "      <td>$89,000 - $99,000 a year</td>\n",
       "      <td>Security Engineer\\rSalary Range: $89K-$99K\\rCl...</td>\n",
       "      <td>Washington, DC</td>\n",
       "      <td>Yearly</td>\n",
       "      <td>$89,000</td>\n",
       "      <td>...</td>\n",
       "      <td>Washington, DC</td>\n",
       "      <td>87.740000</td>\n",
       "      <td>78.180000</td>\n",
       "      <td>83.170000</td>\n",
       "      <td>86.440000</td>\n",
       "      <td>87.480000</td>\n",
       "      <td>130.250000</td>\n",
       "      <td>high</td>\n",
       "      <td>Security Engineer Security Engineer\\rSalary Ra...</td>\n",
       "      <td>3</td>\n",
       "    </tr>\n",
       "    <tr>\n",
       "      <th>937</th>\n",
       "      <td>961</td>\n",
       "      <td>FDP Analyst</td>\n",
       "      <td>GC Associates USA</td>\n",
       "      <td>https://www.indeed.com/rc/clk?jk=84a4b28b5c409...</td>\n",
       "      <td>None</td>\n",
       "      <td>$80,000 - $90,000 a year</td>\n",
       "      <td>Position Title: FDP Analyst\\rCustomer: HQDA, G...</td>\n",
       "      <td>Washington, DC</td>\n",
       "      <td>Yearly</td>\n",
       "      <td>$80,000</td>\n",
       "      <td>...</td>\n",
       "      <td>Washington, DC</td>\n",
       "      <td>87.740000</td>\n",
       "      <td>78.180000</td>\n",
       "      <td>83.170000</td>\n",
       "      <td>86.440000</td>\n",
       "      <td>87.480000</td>\n",
       "      <td>130.250000</td>\n",
       "      <td>high</td>\n",
       "      <td>FDP Analyst Position Title: FDP Analyst\\rCusto...</td>\n",
       "      <td>2</td>\n",
       "    </tr>\n",
       "    <tr>\n",
       "      <th>938</th>\n",
       "      <td>962</td>\n",
       "      <td>Junior MS Access/ VBA Developer</td>\n",
       "      <td>Empirical Concepts, Inc.</td>\n",
       "      <td>https://www.indeed.com/rc/clk?jk=916afc6c9b4a4...</td>\n",
       "      <td>None</td>\n",
       "      <td>$70,000 - $90,000 a year</td>\n",
       "      <td>If you want an accounting career with more opp...</td>\n",
       "      <td>Washington, DC</td>\n",
       "      <td>Yearly</td>\n",
       "      <td>$70,000</td>\n",
       "      <td>...</td>\n",
       "      <td>Washington, DC</td>\n",
       "      <td>87.740000</td>\n",
       "      <td>78.180000</td>\n",
       "      <td>83.170000</td>\n",
       "      <td>86.440000</td>\n",
       "      <td>87.480000</td>\n",
       "      <td>130.250000</td>\n",
       "      <td>high</td>\n",
       "      <td>Junior MS Access/ VBA Developer If you want an...</td>\n",
       "      <td>2</td>\n",
       "    </tr>\n",
       "  </tbody>\n",
       "</table>\n",
       "<p>939 rows × 26 columns</p>\n",
       "</div>"
      ],
      "text/plain": [
       "     Unnamed: 0                               Title                   Company  \\\n",
       "0             0  2021048 Data Scientist $215,000.00                    B4CORP   \n",
       "1             1           Data Science/Data Analyst                 CRAiC LLC   \n",
       "2             2                 Data Science Intern            MilliporeSigma   \n",
       "3             3                  Jr. Data Scientist           Numero Data LLC   \n",
       "4             4      Business Data Quality Engineer   HRU Technical Resources   \n",
       "..          ...                                 ...                       ...   \n",
       "934         958                 Data Engineering II   Pueo Business Solutions   \n",
       "935         959                        IR Day Shift   Pueo Business Solutions   \n",
       "936         960                   Security Engineer   Pueo Business Solutions   \n",
       "937         961                         FDP Analyst         GC Associates USA   \n",
       "938         962     Junior MS Access/ VBA Developer  Empirical Concepts, Inc.   \n",
       "\n",
       "                                                  Link Review  \\\n",
       "0    https://www.indeed.com/pagead/clk?mo=r&ad=-6NY...   None   \n",
       "1    https://www.indeed.com/company/CRAiC-LLC/jobs/...   None   \n",
       "2    https://www.indeed.com/company/Serono/jobs/Dat...    3.9   \n",
       "3    https://www.indeed.com/company/Numero-Data-LLC...   None   \n",
       "4    https://www.indeed.com/pagead/clk?mo=r&ad=-6NY...   None   \n",
       "..                                                 ...    ...   \n",
       "934  https://www.indeed.com/rc/clk?jk=90a6c966f45f8...      5   \n",
       "935  https://www.indeed.com/rc/clk?jk=e4416ec0bed30...      5   \n",
       "936  https://www.indeed.com/rc/clk?jk=c06c7f39a6074...      5   \n",
       "937  https://www.indeed.com/rc/clk?jk=84a4b28b5c409...   None   \n",
       "938  https://www.indeed.com/rc/clk?jk=916afc6c9b4a4...   None   \n",
       "\n",
       "                         Salary  \\\n",
       "0         Up to $215,000 a year   \n",
       "1                $60,000 a year   \n",
       "2             $20 - $25 an hour   \n",
       "3      $70,000 - $85,000 a year   \n",
       "4             $45 - $55 an hour   \n",
       "..                          ...   \n",
       "934  $108,000 - $118,000 a year   \n",
       "935    $89,000 - $99,000 a year   \n",
       "936    $89,000 - $99,000 a year   \n",
       "937    $80,000 - $90,000 a year   \n",
       "938    $70,000 - $90,000 a year   \n",
       "\n",
       "                                           Description       Location2  \\\n",
       "0    Position Requires a Top Secret (TS/SCI) Cleara...   Arlington, VA   \n",
       "1    Cost Readiness Analytics (CRAiC LLC) is lookin...   Arlington, VA   \n",
       "2    Job Title: Data Science Intern\\rA career with ...   Arlington, VA   \n",
       "3    Ideal candidate should have a degree in a quan...   Arlington, VA   \n",
       "4    Please note that this is not a corp to corp or...   Arlington, VA   \n",
       "..                                                 ...             ...   \n",
       "934  Data Engineering II\\rSalary: $108K-$118K\\rClea...  Washington, DC   \n",
       "935  Tier 2 IR Day Shift\\rSalary Range: $89K-$99K\\r...  Washington, DC   \n",
       "936  Security Engineer\\rSalary Range: $89K-$99K\\rCl...  Washington, DC   \n",
       "937  Position Title: FDP Analyst\\rCustomer: HQDA, G...  Washington, DC   \n",
       "938  If you want an accounting career with more opp...  Washington, DC   \n",
       "\n",
       "    Rate_by                    low  ...            City  Cost of Living Index  \\\n",
       "0    Yearly  Up to $215,000 a year  ...   Arlington, VA             80.159143   \n",
       "1    Yearly         $60,000 a year  ...   Arlington, VA             80.159143   \n",
       "2    Hourly                   $20   ...   Arlington, VA             80.159143   \n",
       "3    Yearly               $70,000   ...   Arlington, VA             80.159143   \n",
       "4    Hourly                   $45   ...   Arlington, VA             80.159143   \n",
       "..      ...                    ...  ...             ...                   ...   \n",
       "934  Yearly              $108,000   ...  Washington, DC             87.740000   \n",
       "935  Yearly               $89,000   ...  Washington, DC             87.740000   \n",
       "936  Yearly               $89,000   ...  Washington, DC             87.740000   \n",
       "937  Yearly               $80,000   ...  Washington, DC             87.740000   \n",
       "938  Yearly               $70,000   ...  Washington, DC             87.740000   \n",
       "\n",
       "     Rent Index  Cost of Living Plus Rent Index  Groceries Index  \\\n",
       "0     58.838571                       69.961143        76.886286   \n",
       "1     58.838571                       69.961143        76.886286   \n",
       "2     58.838571                       69.961143        76.886286   \n",
       "3     58.838571                       69.961143        76.886286   \n",
       "4     58.838571                       69.961143        76.886286   \n",
       "..          ...                             ...              ...   \n",
       "934   78.180000                       83.170000        86.440000   \n",
       "935   78.180000                       83.170000        86.440000   \n",
       "936   78.180000                       83.170000        86.440000   \n",
       "937   78.180000                       83.170000        86.440000   \n",
       "938   78.180000                       83.170000        86.440000   \n",
       "\n",
       "     Restaurant Price Index Local Purchasing Power Index  City_Bins  \\\n",
       "0                 78.608571                   115.594571     medium   \n",
       "1                 78.608571                   115.594571     medium   \n",
       "2                 78.608571                   115.594571     medium   \n",
       "3                 78.608571                   115.594571     medium   \n",
       "4                 78.608571                   115.594571     medium   \n",
       "..                      ...                          ...        ...   \n",
       "934               87.480000                   130.250000       high   \n",
       "935               87.480000                   130.250000       high   \n",
       "936               87.480000                   130.250000       high   \n",
       "937               87.480000                   130.250000       high   \n",
       "938               87.480000                   130.250000       high   \n",
       "\n",
       "                                         combined_text  Salary_Bins  \n",
       "0    2021048 Data Scientist $215,000.00 Position Re...            5  \n",
       "1    Data Science/Data Analyst Cost Readiness Analy...            1  \n",
       "2    Data Science Intern Job Title: Data Science In...            0  \n",
       "3    Jr. Data Scientist Ideal candidate should have...            2  \n",
       "4    Business Data Quality Engineer Please note tha...            3  \n",
       "..                                                 ...          ...  \n",
       "934  Data Engineering II Data Engineering II\\rSalar...            3  \n",
       "935  IR Day Shift Tier 2 IR Day Shift\\rSalary Range...            3  \n",
       "936  Security Engineer Security Engineer\\rSalary Ra...            3  \n",
       "937  FDP Analyst Position Title: FDP Analyst\\rCusto...            2  \n",
       "938  Junior MS Access/ VBA Developer If you want an...            2  \n",
       "\n",
       "[939 rows x 26 columns]"
      ]
     },
     "execution_count": 91,
     "metadata": {},
     "output_type": "execute_result"
    }
   ],
   "source": [
    "salary_df_new"
   ]
  },
  {
   "cell_type": "code",
   "execution_count": 93,
   "metadata": {},
   "outputs": [],
   "source": [
    "salary_df_new = salary_df_new.drop(['Unnamed: 0'], axis=1)"
   ]
  },
  {
   "cell_type": "code",
   "execution_count": 94,
   "metadata": {},
   "outputs": [],
   "source": [
    "from sklearn.model_selection import train_test_split"
   ]
  },
  {
   "cell_type": "code",
   "execution_count": 95,
   "metadata": {},
   "outputs": [],
   "source": [
    "job_title = salary_df_new['Title']"
   ]
  },
  {
   "cell_type": "code",
   "execution_count": 104,
   "metadata": {},
   "outputs": [],
   "source": [
    "#use count vectorizer to examine title\n",
    "\n",
    "from sklearn.feature_extraction.text import CountVectorizer\n",
    "\n",
    "cv = CountVectorizer(stop_words='english', ngram_range=(1,3), max_df=0.3, min_df=0.03)"
   ]
  },
  {
   "cell_type": "code",
   "execution_count": 105,
   "metadata": {},
   "outputs": [],
   "source": [
    "#fitting count vectorizer to job title\n",
    "\n",
    "cv.fit(job_title)\n",
    "\n",
    "title_words = pd.DataFrame(cv.transform(job_title).todense(), columns=cv.get_feature_names())"
   ]
  },
  {
   "cell_type": "code",
   "execution_count": 106,
   "metadata": {},
   "outputs": [
    {
     "data": {
      "text/html": [
       "<div>\n",
       "<style scoped>\n",
       "    .dataframe tbody tr th:only-of-type {\n",
       "        vertical-align: middle;\n",
       "    }\n",
       "\n",
       "    .dataframe tbody tr th {\n",
       "        vertical-align: top;\n",
       "    }\n",
       "\n",
       "    .dataframe thead th {\n",
       "        text-align: right;\n",
       "    }\n",
       "</style>\n",
       "<table border=\"1\" class=\"dataframe\">\n",
       "  <thead>\n",
       "    <tr style=\"text-align: right;\">\n",
       "      <th></th>\n",
       "      <th>analyst</th>\n",
       "      <th>analytics</th>\n",
       "      <th>business</th>\n",
       "      <th>business analyst</th>\n",
       "      <th>data</th>\n",
       "      <th>data analyst</th>\n",
       "      <th>data engineer</th>\n",
       "      <th>data scientist</th>\n",
       "      <th>digital</th>\n",
       "      <th>director</th>\n",
       "      <th>...</th>\n",
       "      <th>marketing</th>\n",
       "      <th>sales</th>\n",
       "      <th>science</th>\n",
       "      <th>scientist</th>\n",
       "      <th>senior</th>\n",
       "      <th>senior data</th>\n",
       "      <th>software</th>\n",
       "      <th>software engineer</th>\n",
       "      <th>specialist</th>\n",
       "      <th>systems</th>\n",
       "    </tr>\n",
       "  </thead>\n",
       "  <tbody>\n",
       "    <tr>\n",
       "      <th>count</th>\n",
       "      <td>939.000000</td>\n",
       "      <td>939.000000</td>\n",
       "      <td>939.000000</td>\n",
       "      <td>939.000000</td>\n",
       "      <td>939.000000</td>\n",
       "      <td>939.000000</td>\n",
       "      <td>939.000000</td>\n",
       "      <td>939.000000</td>\n",
       "      <td>939.000000</td>\n",
       "      <td>939.000000</td>\n",
       "      <td>...</td>\n",
       "      <td>939.000000</td>\n",
       "      <td>939.000000</td>\n",
       "      <td>939.000000</td>\n",
       "      <td>939.000000</td>\n",
       "      <td>939.000000</td>\n",
       "      <td>939.000000</td>\n",
       "      <td>939.000000</td>\n",
       "      <td>939.000000</td>\n",
       "      <td>939.000000</td>\n",
       "      <td>939.000000</td>\n",
       "    </tr>\n",
       "    <tr>\n",
       "      <th>mean</th>\n",
       "      <td>0.299255</td>\n",
       "      <td>0.033014</td>\n",
       "      <td>0.153355</td>\n",
       "      <td>0.103301</td>\n",
       "      <td>0.310969</td>\n",
       "      <td>0.057508</td>\n",
       "      <td>0.085197</td>\n",
       "      <td>0.071353</td>\n",
       "      <td>0.036209</td>\n",
       "      <td>0.040469</td>\n",
       "      <td>...</td>\n",
       "      <td>0.083067</td>\n",
       "      <td>0.040469</td>\n",
       "      <td>0.033014</td>\n",
       "      <td>0.074547</td>\n",
       "      <td>0.123536</td>\n",
       "      <td>0.034079</td>\n",
       "      <td>0.044728</td>\n",
       "      <td>0.031949</td>\n",
       "      <td>0.033014</td>\n",
       "      <td>0.033014</td>\n",
       "    </tr>\n",
       "    <tr>\n",
       "      <th>std</th>\n",
       "      <td>0.474184</td>\n",
       "      <td>0.178768</td>\n",
       "      <td>0.360521</td>\n",
       "      <td>0.304514</td>\n",
       "      <td>0.509187</td>\n",
       "      <td>0.232935</td>\n",
       "      <td>0.290548</td>\n",
       "      <td>0.257550</td>\n",
       "      <td>0.186909</td>\n",
       "      <td>0.207694</td>\n",
       "      <td>...</td>\n",
       "      <td>0.276131</td>\n",
       "      <td>0.197161</td>\n",
       "      <td>0.178768</td>\n",
       "      <td>0.262800</td>\n",
       "      <td>0.329226</td>\n",
       "      <td>0.181528</td>\n",
       "      <td>0.216882</td>\n",
       "      <td>0.175958</td>\n",
       "      <td>0.178768</td>\n",
       "      <td>0.178768</td>\n",
       "    </tr>\n",
       "    <tr>\n",
       "      <th>min</th>\n",
       "      <td>0.000000</td>\n",
       "      <td>0.000000</td>\n",
       "      <td>0.000000</td>\n",
       "      <td>0.000000</td>\n",
       "      <td>0.000000</td>\n",
       "      <td>0.000000</td>\n",
       "      <td>0.000000</td>\n",
       "      <td>0.000000</td>\n",
       "      <td>0.000000</td>\n",
       "      <td>0.000000</td>\n",
       "      <td>...</td>\n",
       "      <td>0.000000</td>\n",
       "      <td>0.000000</td>\n",
       "      <td>0.000000</td>\n",
       "      <td>0.000000</td>\n",
       "      <td>0.000000</td>\n",
       "      <td>0.000000</td>\n",
       "      <td>0.000000</td>\n",
       "      <td>0.000000</td>\n",
       "      <td>0.000000</td>\n",
       "      <td>0.000000</td>\n",
       "    </tr>\n",
       "    <tr>\n",
       "      <th>25%</th>\n",
       "      <td>0.000000</td>\n",
       "      <td>0.000000</td>\n",
       "      <td>0.000000</td>\n",
       "      <td>0.000000</td>\n",
       "      <td>0.000000</td>\n",
       "      <td>0.000000</td>\n",
       "      <td>0.000000</td>\n",
       "      <td>0.000000</td>\n",
       "      <td>0.000000</td>\n",
       "      <td>0.000000</td>\n",
       "      <td>...</td>\n",
       "      <td>0.000000</td>\n",
       "      <td>0.000000</td>\n",
       "      <td>0.000000</td>\n",
       "      <td>0.000000</td>\n",
       "      <td>0.000000</td>\n",
       "      <td>0.000000</td>\n",
       "      <td>0.000000</td>\n",
       "      <td>0.000000</td>\n",
       "      <td>0.000000</td>\n",
       "      <td>0.000000</td>\n",
       "    </tr>\n",
       "    <tr>\n",
       "      <th>50%</th>\n",
       "      <td>0.000000</td>\n",
       "      <td>0.000000</td>\n",
       "      <td>0.000000</td>\n",
       "      <td>0.000000</td>\n",
       "      <td>0.000000</td>\n",
       "      <td>0.000000</td>\n",
       "      <td>0.000000</td>\n",
       "      <td>0.000000</td>\n",
       "      <td>0.000000</td>\n",
       "      <td>0.000000</td>\n",
       "      <td>...</td>\n",
       "      <td>0.000000</td>\n",
       "      <td>0.000000</td>\n",
       "      <td>0.000000</td>\n",
       "      <td>0.000000</td>\n",
       "      <td>0.000000</td>\n",
       "      <td>0.000000</td>\n",
       "      <td>0.000000</td>\n",
       "      <td>0.000000</td>\n",
       "      <td>0.000000</td>\n",
       "      <td>0.000000</td>\n",
       "    </tr>\n",
       "    <tr>\n",
       "      <th>75%</th>\n",
       "      <td>1.000000</td>\n",
       "      <td>0.000000</td>\n",
       "      <td>0.000000</td>\n",
       "      <td>0.000000</td>\n",
       "      <td>1.000000</td>\n",
       "      <td>0.000000</td>\n",
       "      <td>0.000000</td>\n",
       "      <td>0.000000</td>\n",
       "      <td>0.000000</td>\n",
       "      <td>0.000000</td>\n",
       "      <td>...</td>\n",
       "      <td>0.000000</td>\n",
       "      <td>0.000000</td>\n",
       "      <td>0.000000</td>\n",
       "      <td>0.000000</td>\n",
       "      <td>0.000000</td>\n",
       "      <td>0.000000</td>\n",
       "      <td>0.000000</td>\n",
       "      <td>0.000000</td>\n",
       "      <td>0.000000</td>\n",
       "      <td>0.000000</td>\n",
       "    </tr>\n",
       "    <tr>\n",
       "      <th>max</th>\n",
       "      <td>2.000000</td>\n",
       "      <td>1.000000</td>\n",
       "      <td>1.000000</td>\n",
       "      <td>1.000000</td>\n",
       "      <td>3.000000</td>\n",
       "      <td>1.000000</td>\n",
       "      <td>2.000000</td>\n",
       "      <td>1.000000</td>\n",
       "      <td>1.000000</td>\n",
       "      <td>2.000000</td>\n",
       "      <td>...</td>\n",
       "      <td>1.000000</td>\n",
       "      <td>1.000000</td>\n",
       "      <td>1.000000</td>\n",
       "      <td>1.000000</td>\n",
       "      <td>1.000000</td>\n",
       "      <td>1.000000</td>\n",
       "      <td>2.000000</td>\n",
       "      <td>1.000000</td>\n",
       "      <td>1.000000</td>\n",
       "      <td>1.000000</td>\n",
       "    </tr>\n",
       "  </tbody>\n",
       "</table>\n",
       "<p>8 rows × 25 columns</p>\n",
       "</div>"
      ],
      "text/plain": [
       "          analyst   analytics    business  business analyst        data  \\\n",
       "count  939.000000  939.000000  939.000000        939.000000  939.000000   \n",
       "mean     0.299255    0.033014    0.153355          0.103301    0.310969   \n",
       "std      0.474184    0.178768    0.360521          0.304514    0.509187   \n",
       "min      0.000000    0.000000    0.000000          0.000000    0.000000   \n",
       "25%      0.000000    0.000000    0.000000          0.000000    0.000000   \n",
       "50%      0.000000    0.000000    0.000000          0.000000    0.000000   \n",
       "75%      1.000000    0.000000    0.000000          0.000000    1.000000   \n",
       "max      2.000000    1.000000    1.000000          1.000000    3.000000   \n",
       "\n",
       "       data analyst  data engineer  data scientist     digital    director  \\\n",
       "count    939.000000     939.000000      939.000000  939.000000  939.000000   \n",
       "mean       0.057508       0.085197        0.071353    0.036209    0.040469   \n",
       "std        0.232935       0.290548        0.257550    0.186909    0.207694   \n",
       "min        0.000000       0.000000        0.000000    0.000000    0.000000   \n",
       "25%        0.000000       0.000000        0.000000    0.000000    0.000000   \n",
       "50%        0.000000       0.000000        0.000000    0.000000    0.000000   \n",
       "75%        0.000000       0.000000        0.000000    0.000000    0.000000   \n",
       "max        1.000000       2.000000        1.000000    1.000000    2.000000   \n",
       "\n",
       "       ...   marketing       sales     science   scientist      senior  \\\n",
       "count  ...  939.000000  939.000000  939.000000  939.000000  939.000000   \n",
       "mean   ...    0.083067    0.040469    0.033014    0.074547    0.123536   \n",
       "std    ...    0.276131    0.197161    0.178768    0.262800    0.329226   \n",
       "min    ...    0.000000    0.000000    0.000000    0.000000    0.000000   \n",
       "25%    ...    0.000000    0.000000    0.000000    0.000000    0.000000   \n",
       "50%    ...    0.000000    0.000000    0.000000    0.000000    0.000000   \n",
       "75%    ...    0.000000    0.000000    0.000000    0.000000    0.000000   \n",
       "max    ...    1.000000    1.000000    1.000000    1.000000    1.000000   \n",
       "\n",
       "       senior data    software  software engineer  specialist     systems  \n",
       "count   939.000000  939.000000         939.000000  939.000000  939.000000  \n",
       "mean      0.034079    0.044728           0.031949    0.033014    0.033014  \n",
       "std       0.181528    0.216882           0.175958    0.178768    0.178768  \n",
       "min       0.000000    0.000000           0.000000    0.000000    0.000000  \n",
       "25%       0.000000    0.000000           0.000000    0.000000    0.000000  \n",
       "50%       0.000000    0.000000           0.000000    0.000000    0.000000  \n",
       "75%       0.000000    0.000000           0.000000    0.000000    0.000000  \n",
       "max       1.000000    2.000000           1.000000    1.000000    1.000000  \n",
       "\n",
       "[8 rows x 25 columns]"
      ]
     },
     "execution_count": 106,
     "metadata": {},
     "output_type": "execute_result"
    }
   ],
   "source": [
    "title_words.describe()"
   ]
  },
  {
   "cell_type": "code",
   "execution_count": null,
   "metadata": {},
   "outputs": [],
   "source": []
  },
  {
   "cell_type": "code",
   "execution_count": 110,
   "metadata": {},
   "outputs": [],
   "source": [
    "#One-hot encoding of categorical feature City_Bins\n",
    "from sklearn.preprocessing import LabelEncoder\n",
    "\n",
    "labelencoder = LabelEncoder()\n",
    "\n",
    "salary_df_new['City_cat']=labelencoder.fit_transform(salary_df_new['City_Bins'])"
   ]
  },
  {
   "cell_type": "code",
   "execution_count": 111,
   "metadata": {},
   "outputs": [
    {
     "data": {
      "text/plain": [
       "0      2\n",
       "1      2\n",
       "2      2\n",
       "3      2\n",
       "4      2\n",
       "      ..\n",
       "934    0\n",
       "935    0\n",
       "936    0\n",
       "937    0\n",
       "938    0\n",
       "Name: City_cat, Length: 939, dtype: int64"
      ]
     },
     "execution_count": 111,
     "metadata": {},
     "output_type": "execute_result"
    }
   ],
   "source": [
    "salary_df_new['City_cat']"
   ]
  },
  {
   "cell_type": "code",
   "execution_count": 112,
   "metadata": {},
   "outputs": [],
   "source": [
    "#Construct model dataset\n",
    "X = pd.concat([title_words, salary_df_new['City_cat'], salary_df_new['Cost of Living Plus Rent Index']], axis=1)\n",
    "y = salary_df_new['Salary_Bins'].astype('category')"
   ]
  },
  {
   "cell_type": "code",
   "execution_count": 113,
   "metadata": {},
   "outputs": [],
   "source": [
    "#Train-Test Split\n",
    "X_train, X_test, y_train, y_test = train_test_split(X, y, test_size=0.1, random_state=4)"
   ]
  },
  {
   "cell_type": "code",
   "execution_count": 114,
   "metadata": {
    "scrolled": true
   },
   "outputs": [
    {
     "data": {
      "text/html": [
       "<div>\n",
       "<style scoped>\n",
       "    .dataframe tbody tr th:only-of-type {\n",
       "        vertical-align: middle;\n",
       "    }\n",
       "\n",
       "    .dataframe tbody tr th {\n",
       "        vertical-align: top;\n",
       "    }\n",
       "\n",
       "    .dataframe thead th {\n",
       "        text-align: right;\n",
       "    }\n",
       "</style>\n",
       "<table border=\"1\" class=\"dataframe\">\n",
       "  <thead>\n",
       "    <tr style=\"text-align: right;\">\n",
       "      <th></th>\n",
       "      <th>analyst</th>\n",
       "      <th>analytics</th>\n",
       "      <th>business</th>\n",
       "      <th>business analyst</th>\n",
       "      <th>data</th>\n",
       "      <th>data analyst</th>\n",
       "      <th>data engineer</th>\n",
       "      <th>data scientist</th>\n",
       "      <th>digital</th>\n",
       "      <th>director</th>\n",
       "      <th>...</th>\n",
       "      <th>sales</th>\n",
       "      <th>science</th>\n",
       "      <th>scientist</th>\n",
       "      <th>senior</th>\n",
       "      <th>senior data</th>\n",
       "      <th>software</th>\n",
       "      <th>software engineer</th>\n",
       "      <th>specialist</th>\n",
       "      <th>systems</th>\n",
       "      <th>Salary_Bins</th>\n",
       "    </tr>\n",
       "  </thead>\n",
       "  <tbody>\n",
       "    <tr>\n",
       "      <th>0</th>\n",
       "      <td>0</td>\n",
       "      <td>0</td>\n",
       "      <td>0</td>\n",
       "      <td>0</td>\n",
       "      <td>1</td>\n",
       "      <td>0</td>\n",
       "      <td>0</td>\n",
       "      <td>1</td>\n",
       "      <td>0</td>\n",
       "      <td>0</td>\n",
       "      <td>...</td>\n",
       "      <td>0</td>\n",
       "      <td>0</td>\n",
       "      <td>1</td>\n",
       "      <td>0</td>\n",
       "      <td>0</td>\n",
       "      <td>0</td>\n",
       "      <td>0</td>\n",
       "      <td>0</td>\n",
       "      <td>0</td>\n",
       "      <td>5</td>\n",
       "    </tr>\n",
       "    <tr>\n",
       "      <th>1</th>\n",
       "      <td>1</td>\n",
       "      <td>0</td>\n",
       "      <td>0</td>\n",
       "      <td>0</td>\n",
       "      <td>2</td>\n",
       "      <td>1</td>\n",
       "      <td>0</td>\n",
       "      <td>0</td>\n",
       "      <td>0</td>\n",
       "      <td>0</td>\n",
       "      <td>...</td>\n",
       "      <td>0</td>\n",
       "      <td>1</td>\n",
       "      <td>0</td>\n",
       "      <td>0</td>\n",
       "      <td>0</td>\n",
       "      <td>0</td>\n",
       "      <td>0</td>\n",
       "      <td>0</td>\n",
       "      <td>0</td>\n",
       "      <td>1</td>\n",
       "    </tr>\n",
       "    <tr>\n",
       "      <th>2</th>\n",
       "      <td>0</td>\n",
       "      <td>0</td>\n",
       "      <td>0</td>\n",
       "      <td>0</td>\n",
       "      <td>1</td>\n",
       "      <td>0</td>\n",
       "      <td>0</td>\n",
       "      <td>0</td>\n",
       "      <td>0</td>\n",
       "      <td>0</td>\n",
       "      <td>...</td>\n",
       "      <td>0</td>\n",
       "      <td>1</td>\n",
       "      <td>0</td>\n",
       "      <td>0</td>\n",
       "      <td>0</td>\n",
       "      <td>0</td>\n",
       "      <td>0</td>\n",
       "      <td>0</td>\n",
       "      <td>0</td>\n",
       "      <td>0</td>\n",
       "    </tr>\n",
       "    <tr>\n",
       "      <th>3</th>\n",
       "      <td>0</td>\n",
       "      <td>0</td>\n",
       "      <td>0</td>\n",
       "      <td>0</td>\n",
       "      <td>1</td>\n",
       "      <td>0</td>\n",
       "      <td>0</td>\n",
       "      <td>1</td>\n",
       "      <td>0</td>\n",
       "      <td>0</td>\n",
       "      <td>...</td>\n",
       "      <td>0</td>\n",
       "      <td>0</td>\n",
       "      <td>1</td>\n",
       "      <td>0</td>\n",
       "      <td>0</td>\n",
       "      <td>0</td>\n",
       "      <td>0</td>\n",
       "      <td>0</td>\n",
       "      <td>0</td>\n",
       "      <td>2</td>\n",
       "    </tr>\n",
       "    <tr>\n",
       "      <th>4</th>\n",
       "      <td>0</td>\n",
       "      <td>0</td>\n",
       "      <td>1</td>\n",
       "      <td>0</td>\n",
       "      <td>1</td>\n",
       "      <td>0</td>\n",
       "      <td>0</td>\n",
       "      <td>0</td>\n",
       "      <td>0</td>\n",
       "      <td>0</td>\n",
       "      <td>...</td>\n",
       "      <td>0</td>\n",
       "      <td>0</td>\n",
       "      <td>0</td>\n",
       "      <td>0</td>\n",
       "      <td>0</td>\n",
       "      <td>0</td>\n",
       "      <td>0</td>\n",
       "      <td>0</td>\n",
       "      <td>0</td>\n",
       "      <td>3</td>\n",
       "    </tr>\n",
       "  </tbody>\n",
       "</table>\n",
       "<p>5 rows × 26 columns</p>\n",
       "</div>"
      ],
      "text/plain": [
       "   analyst  analytics  business  business analyst  data  data analyst  \\\n",
       "0        0          0         0                 0     1             0   \n",
       "1        1          0         0                 0     2             1   \n",
       "2        0          0         0                 0     1             0   \n",
       "3        0          0         0                 0     1             0   \n",
       "4        0          0         1                 0     1             0   \n",
       "\n",
       "   data engineer  data scientist  digital  director  ...  sales  science  \\\n",
       "0              0               1        0         0  ...      0        0   \n",
       "1              0               0        0         0  ...      0        1   \n",
       "2              0               0        0         0  ...      0        1   \n",
       "3              0               1        0         0  ...      0        0   \n",
       "4              0               0        0         0  ...      0        0   \n",
       "\n",
       "   scientist  senior  senior data  software  software engineer  specialist  \\\n",
       "0          1       0            0         0                  0           0   \n",
       "1          0       0            0         0                  0           0   \n",
       "2          0       0            0         0                  0           0   \n",
       "3          1       0            0         0                  0           0   \n",
       "4          0       0            0         0                  0           0   \n",
       "\n",
       "   systems  Salary_Bins  \n",
       "0        0            5  \n",
       "1        0            1  \n",
       "2        0            0  \n",
       "3        0            2  \n",
       "4        0            3  \n",
       "\n",
       "[5 rows x 26 columns]"
      ]
     },
     "execution_count": 114,
     "metadata": {},
     "output_type": "execute_result"
    }
   ],
   "source": [
    "#Add City Bins and Local Purchase Power Index\n",
    "word_observe = pd.concat([title_words, y], axis=1)\n",
    "\n",
    "word_observe.head()"
   ]
  },
  {
   "cell_type": "code",
   "execution_count": 117,
   "metadata": {},
   "outputs": [],
   "source": [
    "table=pd.pivot_table(word_observe, index=['Salary_Bins'])"
   ]
  },
  {
   "cell_type": "code",
   "execution_count": 118,
   "metadata": {},
   "outputs": [
    {
     "data": {
      "text/html": [
       "<div>\n",
       "<style scoped>\n",
       "    .dataframe tbody tr th:only-of-type {\n",
       "        vertical-align: middle;\n",
       "    }\n",
       "\n",
       "    .dataframe tbody tr th {\n",
       "        vertical-align: top;\n",
       "    }\n",
       "\n",
       "    .dataframe thead th {\n",
       "        text-align: right;\n",
       "    }\n",
       "</style>\n",
       "<table border=\"1\" class=\"dataframe\">\n",
       "  <thead>\n",
       "    <tr style=\"text-align: right;\">\n",
       "      <th></th>\n",
       "      <th>analyst</th>\n",
       "      <th>analytics</th>\n",
       "      <th>business</th>\n",
       "      <th>business analyst</th>\n",
       "      <th>data</th>\n",
       "      <th>data analyst</th>\n",
       "      <th>data engineer</th>\n",
       "      <th>data scientist</th>\n",
       "      <th>digital</th>\n",
       "      <th>director</th>\n",
       "      <th>...</th>\n",
       "      <th>marketing</th>\n",
       "      <th>sales</th>\n",
       "      <th>science</th>\n",
       "      <th>scientist</th>\n",
       "      <th>senior</th>\n",
       "      <th>senior data</th>\n",
       "      <th>software</th>\n",
       "      <th>software engineer</th>\n",
       "      <th>specialist</th>\n",
       "      <th>systems</th>\n",
       "    </tr>\n",
       "    <tr>\n",
       "      <th>Salary_Bins</th>\n",
       "      <th></th>\n",
       "      <th></th>\n",
       "      <th></th>\n",
       "      <th></th>\n",
       "      <th></th>\n",
       "      <th></th>\n",
       "      <th></th>\n",
       "      <th></th>\n",
       "      <th></th>\n",
       "      <th></th>\n",
       "      <th></th>\n",
       "      <th></th>\n",
       "      <th></th>\n",
       "      <th></th>\n",
       "      <th></th>\n",
       "      <th></th>\n",
       "      <th></th>\n",
       "      <th></th>\n",
       "      <th></th>\n",
       "      <th></th>\n",
       "      <th></th>\n",
       "    </tr>\n",
       "  </thead>\n",
       "  <tbody>\n",
       "    <tr>\n",
       "      <th>0</th>\n",
       "      <td>0.164179</td>\n",
       "      <td>0.000000</td>\n",
       "      <td>0.037313</td>\n",
       "      <td>0.022388</td>\n",
       "      <td>0.141791</td>\n",
       "      <td>0.029851</td>\n",
       "      <td>0.000000</td>\n",
       "      <td>0.022388</td>\n",
       "      <td>0.067164</td>\n",
       "      <td>0.007463</td>\n",
       "      <td>...</td>\n",
       "      <td>0.208955</td>\n",
       "      <td>0.029851</td>\n",
       "      <td>0.044776</td>\n",
       "      <td>0.022388</td>\n",
       "      <td>0.022388</td>\n",
       "      <td>0.007463</td>\n",
       "      <td>0.007463</td>\n",
       "      <td>0.000000</td>\n",
       "      <td>0.067164</td>\n",
       "      <td>0.007463</td>\n",
       "    </tr>\n",
       "    <tr>\n",
       "      <th>1</th>\n",
       "      <td>0.400000</td>\n",
       "      <td>0.010811</td>\n",
       "      <td>0.189189</td>\n",
       "      <td>0.162162</td>\n",
       "      <td>0.172973</td>\n",
       "      <td>0.059459</td>\n",
       "      <td>0.010811</td>\n",
       "      <td>0.059459</td>\n",
       "      <td>0.027027</td>\n",
       "      <td>0.027027</td>\n",
       "      <td>...</td>\n",
       "      <td>0.102703</td>\n",
       "      <td>0.043243</td>\n",
       "      <td>0.021622</td>\n",
       "      <td>0.064865</td>\n",
       "      <td>0.037838</td>\n",
       "      <td>0.005405</td>\n",
       "      <td>0.005405</td>\n",
       "      <td>0.000000</td>\n",
       "      <td>0.070270</td>\n",
       "      <td>0.000000</td>\n",
       "    </tr>\n",
       "    <tr>\n",
       "      <th>2</th>\n",
       "      <td>0.500000</td>\n",
       "      <td>0.033333</td>\n",
       "      <td>0.206667</td>\n",
       "      <td>0.140000</td>\n",
       "      <td>0.293333</td>\n",
       "      <td>0.140000</td>\n",
       "      <td>0.033333</td>\n",
       "      <td>0.053333</td>\n",
       "      <td>0.086667</td>\n",
       "      <td>0.026667</td>\n",
       "      <td>...</td>\n",
       "      <td>0.093333</td>\n",
       "      <td>0.066667</td>\n",
       "      <td>0.000000</td>\n",
       "      <td>0.053333</td>\n",
       "      <td>0.086667</td>\n",
       "      <td>0.026667</td>\n",
       "      <td>0.000000</td>\n",
       "      <td>0.000000</td>\n",
       "      <td>0.033333</td>\n",
       "      <td>0.046667</td>\n",
       "    </tr>\n",
       "    <tr>\n",
       "      <th>3</th>\n",
       "      <td>0.308140</td>\n",
       "      <td>0.046512</td>\n",
       "      <td>0.180233</td>\n",
       "      <td>0.098837</td>\n",
       "      <td>0.389535</td>\n",
       "      <td>0.069767</td>\n",
       "      <td>0.127907</td>\n",
       "      <td>0.069767</td>\n",
       "      <td>0.040698</td>\n",
       "      <td>0.040698</td>\n",
       "      <td>...</td>\n",
       "      <td>0.040698</td>\n",
       "      <td>0.023256</td>\n",
       "      <td>0.029070</td>\n",
       "      <td>0.069767</td>\n",
       "      <td>0.151163</td>\n",
       "      <td>0.029070</td>\n",
       "      <td>0.034884</td>\n",
       "      <td>0.017442</td>\n",
       "      <td>0.011628</td>\n",
       "      <td>0.087209</td>\n",
       "    </tr>\n",
       "    <tr>\n",
       "      <th>4</th>\n",
       "      <td>0.260870</td>\n",
       "      <td>0.062112</td>\n",
       "      <td>0.192547</td>\n",
       "      <td>0.124224</td>\n",
       "      <td>0.453416</td>\n",
       "      <td>0.018634</td>\n",
       "      <td>0.180124</td>\n",
       "      <td>0.105590</td>\n",
       "      <td>0.000000</td>\n",
       "      <td>0.043478</td>\n",
       "      <td>...</td>\n",
       "      <td>0.049689</td>\n",
       "      <td>0.037267</td>\n",
       "      <td>0.049689</td>\n",
       "      <td>0.111801</td>\n",
       "      <td>0.180124</td>\n",
       "      <td>0.043478</td>\n",
       "      <td>0.062112</td>\n",
       "      <td>0.031056</td>\n",
       "      <td>0.012422</td>\n",
       "      <td>0.031056</td>\n",
       "    </tr>\n",
       "    <tr>\n",
       "      <th>5</th>\n",
       "      <td>0.109489</td>\n",
       "      <td>0.043796</td>\n",
       "      <td>0.080292</td>\n",
       "      <td>0.043796</td>\n",
       "      <td>0.416058</td>\n",
       "      <td>0.021898</td>\n",
       "      <td>0.160584</td>\n",
       "      <td>0.116788</td>\n",
       "      <td>0.000000</td>\n",
       "      <td>0.102190</td>\n",
       "      <td>...</td>\n",
       "      <td>0.014599</td>\n",
       "      <td>0.043796</td>\n",
       "      <td>0.058394</td>\n",
       "      <td>0.124088</td>\n",
       "      <td>0.277372</td>\n",
       "      <td>0.102190</td>\n",
       "      <td>0.175182</td>\n",
       "      <td>0.160584</td>\n",
       "      <td>0.000000</td>\n",
       "      <td>0.021898</td>\n",
       "    </tr>\n",
       "  </tbody>\n",
       "</table>\n",
       "<p>6 rows × 25 columns</p>\n",
       "</div>"
      ],
      "text/plain": [
       "              analyst  analytics  business  business analyst      data  \\\n",
       "Salary_Bins                                                              \n",
       "0            0.164179   0.000000  0.037313          0.022388  0.141791   \n",
       "1            0.400000   0.010811  0.189189          0.162162  0.172973   \n",
       "2            0.500000   0.033333  0.206667          0.140000  0.293333   \n",
       "3            0.308140   0.046512  0.180233          0.098837  0.389535   \n",
       "4            0.260870   0.062112  0.192547          0.124224  0.453416   \n",
       "5            0.109489   0.043796  0.080292          0.043796  0.416058   \n",
       "\n",
       "             data analyst  data engineer  data scientist   digital  director  \\\n",
       "Salary_Bins                                                                    \n",
       "0                0.029851       0.000000        0.022388  0.067164  0.007463   \n",
       "1                0.059459       0.010811        0.059459  0.027027  0.027027   \n",
       "2                0.140000       0.033333        0.053333  0.086667  0.026667   \n",
       "3                0.069767       0.127907        0.069767  0.040698  0.040698   \n",
       "4                0.018634       0.180124        0.105590  0.000000  0.043478   \n",
       "5                0.021898       0.160584        0.116788  0.000000  0.102190   \n",
       "\n",
       "             ...  marketing     sales   science  scientist    senior  \\\n",
       "Salary_Bins  ...                                                       \n",
       "0            ...   0.208955  0.029851  0.044776   0.022388  0.022388   \n",
       "1            ...   0.102703  0.043243  0.021622   0.064865  0.037838   \n",
       "2            ...   0.093333  0.066667  0.000000   0.053333  0.086667   \n",
       "3            ...   0.040698  0.023256  0.029070   0.069767  0.151163   \n",
       "4            ...   0.049689  0.037267  0.049689   0.111801  0.180124   \n",
       "5            ...   0.014599  0.043796  0.058394   0.124088  0.277372   \n",
       "\n",
       "             senior data  software  software engineer  specialist   systems  \n",
       "Salary_Bins                                                                  \n",
       "0               0.007463  0.007463           0.000000    0.067164  0.007463  \n",
       "1               0.005405  0.005405           0.000000    0.070270  0.000000  \n",
       "2               0.026667  0.000000           0.000000    0.033333  0.046667  \n",
       "3               0.029070  0.034884           0.017442    0.011628  0.087209  \n",
       "4               0.043478  0.062112           0.031056    0.012422  0.031056  \n",
       "5               0.102190  0.175182           0.160584    0.000000  0.021898  \n",
       "\n",
       "[6 rows x 25 columns]"
      ]
     },
     "execution_count": 118,
     "metadata": {},
     "output_type": "execute_result"
    }
   ],
   "source": [
    "table"
   ]
  },
  {
   "cell_type": "markdown",
   "metadata": {},
   "source": [
    "From the distribution above, we can tell some words appear more for higher salary bin than others."
   ]
  },
  {
   "cell_type": "code",
   "execution_count": 124,
   "metadata": {},
   "outputs": [
    {
     "data": {
      "text/plain": [
       "<matplotlib.axes._subplots.AxesSubplot at 0x13edb0e80>"
      ]
     },
     "execution_count": 124,
     "metadata": {},
     "output_type": "execute_result"
    },
    {
     "data": {
      "image/png": "[encoded data removed]",
      "text/plain": [
       "<Figure size 432x288 with 1 Axes>"
      ]
     },
     "metadata": {
      "needs_background": "light"
     },
     "output_type": "display_data"
    }
   ],
   "source": [
    "#'Word' digital mostly appear in lower bins\n",
    "table['digital'].plot.bar()"
   ]
  },
  {
   "cell_type": "code",
   "execution_count": 125,
   "metadata": {},
   "outputs": [
    {
     "data": {
      "text/plain": [
       "<matplotlib.axes._subplots.AxesSubplot at 0x142a08b70>"
      ]
     },
     "execution_count": 125,
     "metadata": {},
     "output_type": "execute_result"
    },
    {
     "data": {
      "image/png": "[encoded data removed]",
      "text/plain": [
       "<Figure size 432x288 with 1 Axes>"
      ]
     },
     "metadata": {
      "needs_background": "light"
     },
     "output_type": "display_data"
    }
   ],
   "source": [
    "#'Word' director mostly appear in higher bins\n",
    "table['director'].plot.bar()"
   ]
  },
  {
   "cell_type": "code",
   "execution_count": 129,
   "metadata": {},
   "outputs": [
    {
     "data": {
      "text/plain": [
       "<matplotlib.axes._subplots.AxesSubplot at 0x110615a90>"
      ]
     },
     "execution_count": 129,
     "metadata": {},
     "output_type": "execute_result"
    },
    {
     "data": {
      "image/png": "[encoded data removed]",
      "text/plain": [
       "<Figure size 432x288 with 1 Axes>"
      ]
     },
     "metadata": {
      "needs_background": "light"
     },
     "output_type": "display_data"
    }
   ],
   "source": [
    "#Word 'soft engineer' mostly appear in lower bins\n",
    "table['software engineer'].plot.bar()"
   ]
  },
  {
   "cell_type": "markdown",
   "metadata": {},
   "source": [
    "#How to use the frequency as features in the model?"
   ]
  },
  {
   "cell_type": "code",
   "execution_count": 115,
   "metadata": {},
   "outputs": [
    {
     "name": "stdout",
     "output_type": "stream",
     "text": [
      "0 Bin most common words:\n",
      "marketing           28.0\n",
      "analyst             22.0\n",
      "data                19.0\n",
      "manager             15.0\n",
      "specialist           9.0\n",
      "digital              9.0\n",
      "science              6.0\n",
      "business             5.0\n",
      "engineer             4.0\n",
      "sales                4.0\n",
      "data analyst         4.0\n",
      "business analyst     3.0\n",
      "senior               3.0\n",
      "scientist            3.0\n",
      "data scientist       3.0\n",
      "machine              2.0\n",
      "director             1.0\n",
      "learning             1.0\n",
      "systems              1.0\n",
      "machine learning     1.0\n",
      "dtype: float64\n",
      "1 Bin most common words:\n",
      "Salary_Bins         185.0\n",
      "analyst              74.0\n",
      "business             35.0\n",
      "data                 32.0\n",
      "business analyst     30.0\n",
      "manager              20.0\n",
      "marketing            19.0\n",
      "specialist           13.0\n",
      "scientist            12.0\n",
      "data analyst         11.0\n",
      "data scientist       11.0\n",
      "sales                 8.0\n",
      "engineer              8.0\n",
      "senior                7.0\n",
      "director              5.0\n",
      "digital               5.0\n",
      "science               4.0\n",
      "data engineer         2.0\n",
      "analytics             2.0\n",
      "learning              1.0\n",
      "dtype: float64\n",
      "2 Bin most common words:\n",
      "Salary_Bins         300.0\n",
      "analyst              75.0\n",
      "data                 44.0\n",
      "business             31.0\n",
      "engineer             22.0\n",
      "business analyst     21.0\n",
      "data analyst         21.0\n",
      "manager              18.0\n",
      "marketing            14.0\n",
      "digital              13.0\n",
      "senior               13.0\n",
      "sales                10.0\n",
      "scientist             8.0\n",
      "data scientist        8.0\n",
      "systems               7.0\n",
      "learning              6.0\n",
      "machine               6.0\n",
      "machine learning      6.0\n",
      "data engineer         5.0\n",
      "analytics             5.0\n",
      "dtype: float64\n",
      "3 Bin most common words:\n",
      "Salary_Bins         516.0\n",
      "data                 67.0\n",
      "analyst              53.0\n",
      "engineer             49.0\n",
      "business             31.0\n",
      "senior               26.0\n",
      "data engineer        22.0\n",
      "business analyst     17.0\n",
      "systems              15.0\n",
      "data scientist       12.0\n",
      "scientist            12.0\n",
      "manager              12.0\n",
      "data analyst         12.0\n",
      "analytics             8.0\n",
      "marketing             7.0\n",
      "director              7.0\n",
      "digital               7.0\n",
      "learning              6.0\n",
      "machine               6.0\n",
      "software              6.0\n",
      "dtype: float64\n",
      "4 Bin most common words:\n",
      "Salary_Bins         644.0\n",
      "data                 73.0\n",
      "engineer             50.0\n",
      "analyst              42.0\n",
      "business             31.0\n",
      "senior               29.0\n",
      "data engineer        29.0\n",
      "business analyst     20.0\n",
      "scientist            18.0\n",
      "data scientist       17.0\n",
      "software             10.0\n",
      "analytics            10.0\n",
      "manager              10.0\n",
      "science               8.0\n",
      "marketing             8.0\n",
      "senior data           7.0\n",
      "director              7.0\n",
      "machine               6.0\n",
      "sales                 6.0\n",
      "learning              5.0\n",
      "dtype: float64\n",
      "5 Bin most common words:\n",
      "Salary_Bins          685.0\n",
      "engineer              68.0\n",
      "data                  57.0\n",
      "senior                38.0\n",
      "software              24.0\n",
      "software engineer     22.0\n",
      "data engineer         22.0\n",
      "scientist             17.0\n",
      "data scientist        16.0\n",
      "machine learning      15.0\n",
      "learning              15.0\n",
      "machine               15.0\n",
      "analyst               15.0\n",
      "director              14.0\n",
      "senior data           14.0\n",
      "business              11.0\n",
      "science                8.0\n",
      "sales                  6.0\n",
      "business analyst       6.0\n",
      "analytics              6.0\n",
      "dtype: float64\n"
     ]
    }
   ],
   "source": [
    "#Looks \n",
    "for i in range(0,6):\n",
    "    word_count = word_observe[word_observe['Salary_Bins']==i].sum(axis=0)\n",
    "    print(i, \"Bin most common words:\")\n",
    "    cw = word_count.sort_values(ascending=False).head(20)\n",
    "    print(cw)"
   ]
  },
  {
   "cell_type": "code",
   "execution_count": null,
   "metadata": {},
   "outputs": [],
   "source": []
  },
  {
   "cell_type": "markdown",
   "metadata": {},
   "source": [
    "### Random Forest as base model\n"
   ]
  },
  {
   "cell_type": "code",
   "execution_count": 126,
   "metadata": {},
   "outputs": [],
   "source": [
    "from sklearn.ensemble import RandomForestClassifier\n",
    "from sklearn.svm import SVC\n",
    "from sklearn.linear_model import SGDClassifier\n",
    "from sklearn.pipeline import Pipeline\n",
    "from sklearn.model_selection import cross_val_score\n",
    "from sklearn.model_selection import GridSearchCV\n",
    "from sklearn.metrics import confusion_matrix\n",
    "\n",
    "from pprint import pprint\n",
    "from time import time\n",
    "import logging"
   ]
  },
  {
   "cell_type": "code",
   "execution_count": 127,
   "metadata": {},
   "outputs": [
    {
     "data": {
      "text/plain": [
       "GridSearchCV(cv=None, error_score=nan,\n",
       "             estimator=RandomForestClassifier(bootstrap=True, ccp_alpha=0.0,\n",
       "                                              class_weight=None,\n",
       "                                              criterion='gini', max_depth=None,\n",
       "                                              max_features='auto',\n",
       "                                              max_leaf_nodes=None,\n",
       "                                              max_samples=None,\n",
       "                                              min_impurity_decrease=0.0,\n",
       "                                              min_impurity_split=None,\n",
       "                                              min_samples_leaf=1,\n",
       "                                              min_samples_split=2,\n",
       "                                              min_weight_fraction_leaf=0.0,\n",
       "                                              n_estimators=100, n_jobs=None,\n",
       "                                              oob_score=False,\n",
       "                                              random_state=None, verbose=0,\n",
       "                                              warm_start=False),\n",
       "             iid='deprecated', n_jobs=None,\n",
       "             param_grid={'criterion': ('gini', 'entropy'),\n",
       "                         'max_features': ('auto', 'sqrt', 'log2'),\n",
       "                         'max_samples': (None, 0.5, 0.8, 1),\n",
       "                         'min_samples_split': (2, 6, 8)},\n",
       "             pre_dispatch='2*n_jobs', refit=True, return_train_score=False,\n",
       "             scoring=None, verbose=0)"
      ]
     },
     "execution_count": 127,
     "metadata": {},
     "output_type": "execute_result"
    }
   ],
   "source": [
    "#Inititate RF classifier\n",
    "rf = RandomForestClassifier()\n",
    "parameters = {\n",
    "    'criterion':(\"gini\",\"entropy\"),\n",
    "    'min_samples_split':(2,6,8),\n",
    "    'max_features':(\"auto\",\"sqrt\",\"log2\"),\n",
    "    'max_samples':(None, 0.5,0.8,1) \n",
    "    \n",
    "}\n",
    "\n",
    "clf = GridSearchCV(rf, parameters)\n",
    "clf.fit(X_train, y_train)"
   ]
  },
  {
   "cell_type": "code",
   "execution_count": 89,
   "metadata": {},
   "outputs": [
    {
     "data": {
      "text/plain": [
       "{'bootstrap': True,\n",
       " 'ccp_alpha': 0.0,\n",
       " 'class_weight': None,\n",
       " 'criterion': 'gini',\n",
       " 'max_depth': None,\n",
       " 'max_features': 'auto',\n",
       " 'max_leaf_nodes': None,\n",
       " 'max_samples': 0.8,\n",
       " 'min_impurity_decrease': 0.0,\n",
       " 'min_impurity_split': None,\n",
       " 'min_samples_leaf': 1,\n",
       " 'min_samples_split': 2,\n",
       " 'min_weight_fraction_leaf': 0.0,\n",
       " 'n_estimators': 100,\n",
       " 'n_jobs': None,\n",
       " 'oob_score': False,\n",
       " 'random_state': None,\n",
       " 'verbose': 0,\n",
       " 'warm_start': False}"
      ]
     },
     "execution_count": 89,
     "metadata": {},
     "output_type": "execute_result"
    }
   ],
   "source": [
    "clf.best_estimator_.get_params()"
   ]
  },
  {
   "cell_type": "code",
   "execution_count": 91,
   "metadata": {},
   "outputs": [
    {
     "data": {
      "text/plain": [
       "0.3829787234042553"
      ]
     },
     "execution_count": 91,
     "metadata": {},
     "output_type": "execute_result"
    }
   ],
   "source": [
    "clf.score(X_test, y_test)"
   ]
  },
  {
   "cell_type": "code",
   "execution_count": 92,
   "metadata": {
    "scrolled": true
   },
   "outputs": [
    {
     "data": {
      "text/plain": [
       "0.3928994082840237"
      ]
     },
     "execution_count": 92,
     "metadata": {},
     "output_type": "execute_result"
    }
   ],
   "source": [
    "clf.best_score_"
   ]
  },
  {
   "cell_type": "code",
   "execution_count": 96,
   "metadata": {},
   "outputs": [],
   "source": [
    "#Check feature importance of the best performing model\n",
    "\n",
    "rf = RandomForestClassifier(criterion='gini', max_samples=0.8)\n",
    "rf.fit(X_train, y_train)\n",
    "\n",
    "importances = rf.feature_importances_"
   ]
  },
  {
   "cell_type": "code",
   "execution_count": 97,
   "metadata": {},
   "outputs": [
    {
     "data": {
      "text/plain": [
       "array([0.04536015, 0.02325264, 0.02836942, 0.01211934, 0.05216111,\n",
       "       0.01320237, 0.01966278, 0.01038868, 0.02008677, 0.02811157,\n",
       "       0.04238933, 0.00569282, 0.00647361, 0.00639306, 0.03426544,\n",
       "       0.03645556, 0.03319433, 0.0156367 , 0.01195255, 0.04467765,\n",
       "       0.01079407, 0.0193588 , 0.01437405, 0.01851068, 0.02181357,\n",
       "       0.07510111, 0.35020183])"
      ]
     },
     "execution_count": 97,
     "metadata": {},
     "output_type": "execute_result"
    }
   ],
   "source": [
    "importances"
   ]
  },
  {
   "cell_type": "code",
   "execution_count": 98,
   "metadata": {},
   "outputs": [
    {
     "data": {
      "text/html": [
       "<div>\n",
       "<style scoped>\n",
       "    .dataframe tbody tr th:only-of-type {\n",
       "        vertical-align: middle;\n",
       "    }\n",
       "\n",
       "    .dataframe tbody tr th {\n",
       "        vertical-align: top;\n",
       "    }\n",
       "\n",
       "    .dataframe thead th {\n",
       "        text-align: right;\n",
       "    }\n",
       "</style>\n",
       "<table border=\"1\" class=\"dataframe\">\n",
       "  <thead>\n",
       "    <tr style=\"text-align: right;\">\n",
       "      <th></th>\n",
       "      <th>analyst</th>\n",
       "      <th>analytics</th>\n",
       "      <th>business</th>\n",
       "      <th>business analyst</th>\n",
       "      <th>data</th>\n",
       "      <th>data analyst</th>\n",
       "      <th>data engineer</th>\n",
       "      <th>data scientist</th>\n",
       "      <th>digital</th>\n",
       "      <th>director</th>\n",
       "      <th>...</th>\n",
       "      <th>science</th>\n",
       "      <th>scientist</th>\n",
       "      <th>senior</th>\n",
       "      <th>senior data</th>\n",
       "      <th>software</th>\n",
       "      <th>software engineer</th>\n",
       "      <th>specialist</th>\n",
       "      <th>systems</th>\n",
       "      <th>City_cat</th>\n",
       "      <th>Cost of Living Plus Rent Index</th>\n",
       "    </tr>\n",
       "  </thead>\n",
       "  <tbody>\n",
       "    <tr>\n",
       "      <th>495</th>\n",
       "      <td>0</td>\n",
       "      <td>0</td>\n",
       "      <td>0</td>\n",
       "      <td>0</td>\n",
       "      <td>0</td>\n",
       "      <td>0</td>\n",
       "      <td>0</td>\n",
       "      <td>0</td>\n",
       "      <td>0</td>\n",
       "      <td>0</td>\n",
       "      <td>...</td>\n",
       "      <td>0</td>\n",
       "      <td>0</td>\n",
       "      <td>0</td>\n",
       "      <td>0</td>\n",
       "      <td>1</td>\n",
       "      <td>1</td>\n",
       "      <td>0</td>\n",
       "      <td>0</td>\n",
       "      <td>1</td>\n",
       "      <td>74.800000</td>\n",
       "    </tr>\n",
       "    <tr>\n",
       "      <th>379</th>\n",
       "      <td>1</td>\n",
       "      <td>0</td>\n",
       "      <td>0</td>\n",
       "      <td>0</td>\n",
       "      <td>0</td>\n",
       "      <td>0</td>\n",
       "      <td>0</td>\n",
       "      <td>0</td>\n",
       "      <td>0</td>\n",
       "      <td>0</td>\n",
       "      <td>...</td>\n",
       "      <td>0</td>\n",
       "      <td>0</td>\n",
       "      <td>0</td>\n",
       "      <td>0</td>\n",
       "      <td>0</td>\n",
       "      <td>0</td>\n",
       "      <td>0</td>\n",
       "      <td>0</td>\n",
       "      <td>1</td>\n",
       "      <td>59.399889</td>\n",
       "    </tr>\n",
       "    <tr>\n",
       "      <th>67</th>\n",
       "      <td>0</td>\n",
       "      <td>0</td>\n",
       "      <td>0</td>\n",
       "      <td>0</td>\n",
       "      <td>0</td>\n",
       "      <td>0</td>\n",
       "      <td>0</td>\n",
       "      <td>0</td>\n",
       "      <td>0</td>\n",
       "      <td>0</td>\n",
       "      <td>...</td>\n",
       "      <td>0</td>\n",
       "      <td>0</td>\n",
       "      <td>1</td>\n",
       "      <td>0</td>\n",
       "      <td>0</td>\n",
       "      <td>0</td>\n",
       "      <td>0</td>\n",
       "      <td>0</td>\n",
       "      <td>1</td>\n",
       "      <td>60.940000</td>\n",
       "    </tr>\n",
       "    <tr>\n",
       "      <th>672</th>\n",
       "      <td>0</td>\n",
       "      <td>0</td>\n",
       "      <td>0</td>\n",
       "      <td>0</td>\n",
       "      <td>0</td>\n",
       "      <td>0</td>\n",
       "      <td>0</td>\n",
       "      <td>0</td>\n",
       "      <td>0</td>\n",
       "      <td>0</td>\n",
       "      <td>...</td>\n",
       "      <td>0</td>\n",
       "      <td>0</td>\n",
       "      <td>1</td>\n",
       "      <td>0</td>\n",
       "      <td>0</td>\n",
       "      <td>0</td>\n",
       "      <td>0</td>\n",
       "      <td>0</td>\n",
       "      <td>2</td>\n",
       "      <td>64.660000</td>\n",
       "    </tr>\n",
       "    <tr>\n",
       "      <th>337</th>\n",
       "      <td>1</td>\n",
       "      <td>0</td>\n",
       "      <td>0</td>\n",
       "      <td>0</td>\n",
       "      <td>0</td>\n",
       "      <td>0</td>\n",
       "      <td>0</td>\n",
       "      <td>0</td>\n",
       "      <td>0</td>\n",
       "      <td>0</td>\n",
       "      <td>...</td>\n",
       "      <td>0</td>\n",
       "      <td>0</td>\n",
       "      <td>0</td>\n",
       "      <td>0</td>\n",
       "      <td>0</td>\n",
       "      <td>0</td>\n",
       "      <td>0</td>\n",
       "      <td>0</td>\n",
       "      <td>1</td>\n",
       "      <td>63.110000</td>\n",
       "    </tr>\n",
       "  </tbody>\n",
       "</table>\n",
       "<p>5 rows × 27 columns</p>\n",
       "</div>"
      ],
      "text/plain": [
       "     analyst  analytics  business  business analyst  data  data analyst  \\\n",
       "495        0          0         0                 0     0             0   \n",
       "379        1          0         0                 0     0             0   \n",
       "67         0          0         0                 0     0             0   \n",
       "672        0          0         0                 0     0             0   \n",
       "337        1          0         0                 0     0             0   \n",
       "\n",
       "     data engineer  data scientist  digital  director  ...  science  \\\n",
       "495              0               0        0         0  ...        0   \n",
       "379              0               0        0         0  ...        0   \n",
       "67               0               0        0         0  ...        0   \n",
       "672              0               0        0         0  ...        0   \n",
       "337              0               0        0         0  ...        0   \n",
       "\n",
       "     scientist  senior  senior data  software  software engineer  specialist  \\\n",
       "495          0       0            0         1                  1           0   \n",
       "379          0       0            0         0                  0           0   \n",
       "67           0       1            0         0                  0           0   \n",
       "672          0       1            0         0                  0           0   \n",
       "337          0       0            0         0                  0           0   \n",
       "\n",
       "     systems  City_cat  Cost of Living Plus Rent Index  \n",
       "495        0         1                       74.800000  \n",
       "379        0         1                       59.399889  \n",
       "67         0         1                       60.940000  \n",
       "672        0         2                       64.660000  \n",
       "337        0         1                       63.110000  \n",
       "\n",
       "[5 rows x 27 columns]"
      ]
     },
     "execution_count": 98,
     "metadata": {},
     "output_type": "execute_result"
    }
   ],
   "source": [
    "X_train.head()"
   ]
  },
  {
   "cell_type": "code",
   "execution_count": 112,
   "metadata": {},
   "outputs": [
    {
     "name": "stdout",
     "output_type": "stream",
     "text": [
      "Best parameter (CV score = 0.388):\n",
      "{'pca__n_components': 25, 'rf__criterion': 'entropy', 'rf__min_samples_split': 2}\n"
     ]
    }
   ],
   "source": [
    "#PCA in the pipeline\n",
    "from sklearn.decomposition import PCA\n",
    "\n",
    "pca = PCA()\n",
    "rf = RandomForestClassifier(criterion='gini', max_samples=0.8)\n",
    "\n",
    "pipe = Pipeline(steps=[('pca', pca), ('rf', rf)])\n",
    "\n",
    "param  = {\n",
    "    'pca__n_components':[3,5,10,15,20,25],\n",
    "    'rf__criterion':(\"gini\",\"entropy\"),\n",
    "    'rf__min_samples_split':(2,6,8),\n",
    "}\n",
    "\n",
    "search = GridSearchCV(pipe, param, n_jobs=-1)\n",
    "search.fit(X_train, y_train)\n",
    "\n",
    "print(\"Best parameter (CV score = %0.3f):\" % search.best_score_)\n",
    "print(search.best_params_)"
   ]
  },
  {
   "cell_type": "markdown",
   "metadata": {},
   "source": [
    "### XGBoost"
   ]
  },
  {
   "cell_type": "code",
   "execution_count": 114,
   "metadata": {},
   "outputs": [],
   "source": [
    "from sklearn.ensemble import GradientBoostingClassifier"
   ]
  },
  {
   "cell_type": "code",
   "execution_count": 115,
   "metadata": {},
   "outputs": [
    {
     "name": "stdout",
     "output_type": "stream",
     "text": [
      "Best parameter (CV score = 0.387):\n",
      "{'pca__n_components': 15, 'xgb__learning_rate': 0.1, 'xgb__loss': 'deviance', 'xgb__subsample': 1.0}\n"
     ]
    }
   ],
   "source": [
    "pca = PCA()\n",
    "XGB = GradientBoostingClassifier(random_state=4)\n",
    "\n",
    "pipe = Pipeline(steps=[('pca', pca), ('xgb', XGB)])\n",
    "\n",
    "param  = {\n",
    "    'pca__n_components':[3,5,10,15,20,25],\n",
    "    'xgb__loss':(\"deviance\",\"exponential\"),\n",
    "    'xgb__learning_rate':(0.1, 0.01, 0.001),\n",
    "    'xgb__subsample':(0.3,0.5,1.0),\n",
    "}\n",
    "\n",
    "search = GridSearchCV(pipe, param, n_jobs=-1)\n",
    "search.fit(X_train, y_train)\n",
    "\n",
    "print(\"Best parameter (CV score = %0.3f):\" % search.best_score_)\n",
    "print(search.best_params_)"
   ]
  },
  {
   "cell_type": "markdown",
   "metadata": {},
   "source": [
    "# Conclusion"
   ]
  },
  {
   "cell_type": "markdown",
   "metadata": {},
   "source": [
    "Among 7 models we built, Model 2 performs the best with a test accuracy of 0.71. We will use this model for deployment. \n",
    "\n",
    "- Model 1: Word2Vec Embedding + Classification Models (Random Forest/SGD) \n",
    "- Model 2: Count Vectorizer + TF-IDF Transformation + Classification Models (Random Forest/SGD/SVM)\n",
    "- Model 3: Pre-trained GloVe Embedding + Classification Models (Random Forest/SGD)\n",
    "- Model 4: Word Embeddings + Simple Neural Network Model\n",
    "- Model 5: Pre-trained GloVe Embedding + Deep Neural Network Model\n",
    "- Model 6: Mixed Input Network Model with City, Rate Type, and Cost of Living Indexes\n",
    "- Model 7: Just use Job Title, City, Cost of Living Indexes + Classification\n",
    "\n",
    "For next steps:\n",
    "1. Job salary range can change from time to time depends on economic situation and job market. Therefore the model needs to be constantly trained with refreshed data to produce up to date results. Most of the positions were pulled in late May 2020 when COVID19 impacted North America so the salary range during this period of time may not reflect the \"normal\". \n",
    "\n",
    "2. We scrapped the full job description from Indeed as there is no standard way to parse out company detail, skills requirements and benefits so there are noises within the job description text to extract features. \n",
    "\n",
    "3. The size of the salary labeled data is small. In the future, scrape more data with salary to enhance the model."
   ]
  },
  {
   "cell_type": "code",
   "execution_count": null,
   "metadata": {},
   "outputs": [],
   "source": []
  }
 ],
 "metadata": {
  "colab": {
   "name": "Salary_Modeling_5.31.ipynb",
   "provenance": []
  },
  "kernelspec": {
   "display_name": "Python 3",
   "language": "python",
   "name": "python3"
  },
  "language_info": {
   "codemirror_mode": {
    "name": "ipython",
    "version": 3
   },
   "file_extension": ".py",
   "mimetype": "text/x-python",
   "name": "python",
   "nbconvert_exporter": "python",
   "pygments_lexer": "ipython3",
   "version": "3.7.1"
  },
  "toc": {
   "base_numbering": 1,
   "nav_menu": {},
   "number_sections": true,
   "sideBar": true,
   "skip_h1_title": false,
   "title_cell": "Table of Contents",
   "title_sidebar": "Contents",
   "toc_cell": true,
   "toc_position": {
    "height": "calc(100% - 180px)",
    "left": "10px",
    "top": "150px",
    "width": "265.969px"
   },
   "toc_section_display": true,
   "toc_window_display": true
  },
  "varInspector": {
   "cols": {
    "lenName": "20",
    "lenType": 16,
    "lenVar": 40
   },
   "kernels_config": {
    "python": {
     "delete_cmd_postfix": "",
     "delete_cmd_prefix": "del ",
     "library": "var_list.py",
     "varRefreshCmd": "print(var_dic_list())"
    },
    "r": {
     "delete_cmd_postfix": ") ",
     "delete_cmd_prefix": "rm(",
     "library": "var_list.r",
     "varRefreshCmd": "cat(var_dic_list()) "
    }
   },
   "position": {
    "height": "208px",
    "left": "797px",
    "right": "20px",
    "top": "-57px",
    "width": "282px"
   },
   "types_to_exclude": [
    "module",
    "function",
    "builtin_function_or_method",
    "instance",
    "_Feature"
   ],
   "window_display": true
  }
 },
 "nbformat": 4,
 "nbformat_minor": 1
}
